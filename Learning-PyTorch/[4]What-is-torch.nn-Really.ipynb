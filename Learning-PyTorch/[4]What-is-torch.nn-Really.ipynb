{
 "cells": [
  {
   "cell_type": "code",
   "execution_count": 1,
   "metadata": {},
   "outputs": [],
   "source": [
    "import numpy as np\n",
    "import torch\n",
    "import torch.nn as nn\n",
    "import torch.nn.functional as F\n",
    "import torch.optim as optim"
   ]
  },
  {
   "cell_type": "markdown",
   "metadata": {},
   "source": [
    "# Load Data"
   ]
  },
  {
   "cell_type": "code",
   "execution_count": 2,
   "metadata": {},
   "outputs": [
    {
     "output_type": "stream",
     "name": "stdout",
     "text": "(50000, 784) (50000,)\n"
    }
   ],
   "source": [
    "# Data Source: http://deeplearning.net/data/mnist/\n",
    "import pickle\n",
    "import gzip\n",
    "\n",
    "with gzip.open(\"data/mnist.pkl.gz\", \"rb\") as f:\n",
    "    ((x_train, y_train), (x_valid, y_valid), _) = pickle.load(f, encoding=\"latin-1\")\n",
    "    \n",
    "print(x_train.shape, y_train.shape)"
   ]
  },
  {
   "cell_type": "code",
   "execution_count": 3,
   "metadata": {},
   "outputs": [
    {
     "output_type": "stream",
     "name": "stdout",
     "text": "5\n"
    },
    {
     "output_type": "display_data",
     "data": {
      "text/plain": "<Figure size 432x288 with 1 Axes>",
      "image/svg+xml": "<?xml version=\"1.0\" encoding=\"utf-8\" standalone=\"no\"?>\r\n<!DOCTYPE svg PUBLIC \"-//W3C//DTD SVG 1.1//EN\"\r\n  \"http://www.w3.org/Graphics/SVG/1.1/DTD/svg11.dtd\">\r\n<!-- Created with matplotlib (https://matplotlib.org/) -->\r\n<svg height=\"248.518125pt\" version=\"1.1\" viewBox=\"0 0 251.565 248.518125\" width=\"251.565pt\" xmlns=\"http://www.w3.org/2000/svg\" xmlns:xlink=\"http://www.w3.org/1999/xlink\">\r\n <defs>\r\n  <style type=\"text/css\">\r\n*{stroke-linecap:butt;stroke-linejoin:round;}\r\n  </style>\r\n </defs>\r\n <g id=\"figure_1\">\r\n  <g id=\"patch_1\">\r\n   <path d=\"M 0 248.518125 \r\nL 251.565 248.518125 \r\nL 251.565 0 \r\nL 0 0 \r\nz\r\n\" style=\"fill:none;\"/>\r\n  </g>\r\n  <g id=\"axes_1\">\r\n   <g id=\"patch_2\">\r\n    <path d=\"M 26.925 224.64 \r\nL 244.365 224.64 \r\nL 244.365 7.2 \r\nL 26.925 7.2 \r\nz\r\n\" style=\"fill:#ffffff;\"/>\r\n   </g>\r\n   <g clip-path=\"url(#pebe05d691a)\">\r\n    <image height=\"218\" id=\"image3c339c9da0\" transform=\"scale(1 -1)translate(0 -218)\" width=\"218\" x=\"26.925\" xlink:href=\"data:image/png;base64,\r\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\" y=\"-6.64\"/>\r\n   </g>\r\n   <g id=\"matplotlib.axis_1\">\r\n    <g id=\"xtick_1\">\r\n     <g id=\"line2d_1\">\r\n      <defs>\r\n       <path d=\"M 0 0 \r\nL 0 3.5 \r\n\" id=\"mea2dc863a6\" style=\"stroke:#000000;stroke-width:0.8;\"/>\r\n      </defs>\r\n      <g>\r\n       <use style=\"stroke:#000000;stroke-width:0.8;\" x=\"30.807857\" xlink:href=\"#mea2dc863a6\" y=\"224.64\"/>\r\n      </g>\r\n     </g>\r\n     <g id=\"text_1\">\r\n      <!-- 0 -->\r\n      <defs>\r\n       <path d=\"M 31.78125 66.40625 \r\nQ 24.171875 66.40625 20.328125 58.90625 \r\nQ 16.5 51.421875 16.5 36.375 \r\nQ 16.5 21.390625 20.328125 13.890625 \r\nQ 24.171875 6.390625 31.78125 6.390625 \r\nQ 39.453125 6.390625 43.28125 13.890625 \r\nQ 47.125 21.390625 47.125 36.375 \r\nQ 47.125 51.421875 43.28125 58.90625 \r\nQ 39.453125 66.40625 31.78125 66.40625 \r\nz\r\nM 31.78125 74.21875 \r\nQ 44.046875 74.21875 50.515625 64.515625 \r\nQ 56.984375 54.828125 56.984375 36.375 \r\nQ 56.984375 17.96875 50.515625 8.265625 \r\nQ 44.046875 -1.421875 31.78125 -1.421875 \r\nQ 19.53125 -1.421875 13.0625 8.265625 \r\nQ 6.59375 17.96875 6.59375 36.375 \r\nQ 6.59375 54.828125 13.0625 64.515625 \r\nQ 19.53125 74.21875 31.78125 74.21875 \r\nz\r\n\" id=\"DejaVuSans-48\"/>\r\n      </defs>\r\n      <g transform=\"translate(27.626607 239.238437)scale(0.1 -0.1)\">\r\n       <use xlink:href=\"#DejaVuSans-48\"/>\r\n      </g>\r\n     </g>\r\n    </g>\r\n    <g id=\"xtick_2\">\r\n     <g id=\"line2d_2\">\r\n      <g>\r\n       <use style=\"stroke:#000000;stroke-width:0.8;\" x=\"69.636429\" xlink:href=\"#mea2dc863a6\" y=\"224.64\"/>\r\n      </g>\r\n     </g>\r\n     <g id=\"text_2\">\r\n      <!-- 5 -->\r\n      <defs>\r\n       <path d=\"M 10.796875 72.90625 \r\nL 49.515625 72.90625 \r\nL 49.515625 64.59375 \r\nL 19.828125 64.59375 \r\nL 19.828125 46.734375 \r\nQ 21.96875 47.46875 24.109375 47.828125 \r\nQ 26.265625 48.1875 28.421875 48.1875 \r\nQ 40.625 48.1875 47.75 41.5 \r\nQ 54.890625 34.8125 54.890625 23.390625 \r\nQ 54.890625 11.625 47.5625 5.09375 \r\nQ 40.234375 -1.421875 26.90625 -1.421875 \r\nQ 22.3125 -1.421875 17.546875 -0.640625 \r\nQ 12.796875 0.140625 7.71875 1.703125 \r\nL 7.71875 11.625 \r\nQ 12.109375 9.234375 16.796875 8.0625 \r\nQ 21.484375 6.890625 26.703125 6.890625 \r\nQ 35.15625 6.890625 40.078125 11.328125 \r\nQ 45.015625 15.765625 45.015625 23.390625 \r\nQ 45.015625 31 40.078125 35.4375 \r\nQ 35.15625 39.890625 26.703125 39.890625 \r\nQ 22.75 39.890625 18.8125 39.015625 \r\nQ 14.890625 38.140625 10.796875 36.28125 \r\nz\r\n\" id=\"DejaVuSans-53\"/>\r\n      </defs>\r\n      <g transform=\"translate(66.455179 239.238437)scale(0.1 -0.1)\">\r\n       <use xlink:href=\"#DejaVuSans-53\"/>\r\n      </g>\r\n     </g>\r\n    </g>\r\n    <g id=\"xtick_3\">\r\n     <g id=\"line2d_3\">\r\n      <g>\r\n       <use style=\"stroke:#000000;stroke-width:0.8;\" x=\"108.465\" xlink:href=\"#mea2dc863a6\" y=\"224.64\"/>\r\n      </g>\r\n     </g>\r\n     <g id=\"text_3\">\r\n      <!-- 10 -->\r\n      <defs>\r\n       <path d=\"M 12.40625 8.296875 \r\nL 28.515625 8.296875 \r\nL 28.515625 63.921875 \r\nL 10.984375 60.40625 \r\nL 10.984375 69.390625 \r\nL 28.421875 72.90625 \r\nL 38.28125 72.90625 \r\nL 38.28125 8.296875 \r\nL 54.390625 8.296875 \r\nL 54.390625 0 \r\nL 12.40625 0 \r\nz\r\n\" id=\"DejaVuSans-49\"/>\r\n      </defs>\r\n      <g transform=\"translate(102.1025 239.238437)scale(0.1 -0.1)\">\r\n       <use xlink:href=\"#DejaVuSans-49\"/>\r\n       <use x=\"63.623047\" xlink:href=\"#DejaVuSans-48\"/>\r\n      </g>\r\n     </g>\r\n    </g>\r\n    <g id=\"xtick_4\">\r\n     <g id=\"line2d_4\">\r\n      <g>\r\n       <use style=\"stroke:#000000;stroke-width:0.8;\" x=\"147.293571\" xlink:href=\"#mea2dc863a6\" y=\"224.64\"/>\r\n      </g>\r\n     </g>\r\n     <g id=\"text_4\">\r\n      <!-- 15 -->\r\n      <g transform=\"translate(140.931071 239.238437)scale(0.1 -0.1)\">\r\n       <use xlink:href=\"#DejaVuSans-49\"/>\r\n       <use x=\"63.623047\" xlink:href=\"#DejaVuSans-53\"/>\r\n      </g>\r\n     </g>\r\n    </g>\r\n    <g id=\"xtick_5\">\r\n     <g id=\"line2d_5\">\r\n      <g>\r\n       <use style=\"stroke:#000000;stroke-width:0.8;\" x=\"186.122143\" xlink:href=\"#mea2dc863a6\" y=\"224.64\"/>\r\n      </g>\r\n     </g>\r\n     <g id=\"text_5\">\r\n      <!-- 20 -->\r\n      <defs>\r\n       <path d=\"M 19.1875 8.296875 \r\nL 53.609375 8.296875 \r\nL 53.609375 0 \r\nL 7.328125 0 \r\nL 7.328125 8.296875 \r\nQ 12.9375 14.109375 22.625 23.890625 \r\nQ 32.328125 33.6875 34.8125 36.53125 \r\nQ 39.546875 41.84375 41.421875 45.53125 \r\nQ 43.3125 49.21875 43.3125 52.78125 \r\nQ 43.3125 58.59375 39.234375 62.25 \r\nQ 35.15625 65.921875 28.609375 65.921875 \r\nQ 23.96875 65.921875 18.8125 64.3125 \r\nQ 13.671875 62.703125 7.8125 59.421875 \r\nL 7.8125 69.390625 \r\nQ 13.765625 71.78125 18.9375 73 \r\nQ 24.125 74.21875 28.421875 74.21875 \r\nQ 39.75 74.21875 46.484375 68.546875 \r\nQ 53.21875 62.890625 53.21875 53.421875 \r\nQ 53.21875 48.921875 51.53125 44.890625 \r\nQ 49.859375 40.875 45.40625 35.40625 \r\nQ 44.1875 33.984375 37.640625 27.21875 \r\nQ 31.109375 20.453125 19.1875 8.296875 \r\nz\r\n\" id=\"DejaVuSans-50\"/>\r\n      </defs>\r\n      <g transform=\"translate(179.759643 239.238437)scale(0.1 -0.1)\">\r\n       <use xlink:href=\"#DejaVuSans-50\"/>\r\n       <use x=\"63.623047\" xlink:href=\"#DejaVuSans-48\"/>\r\n      </g>\r\n     </g>\r\n    </g>\r\n    <g id=\"xtick_6\">\r\n     <g id=\"line2d_6\">\r\n      <g>\r\n       <use style=\"stroke:#000000;stroke-width:0.8;\" x=\"224.950714\" xlink:href=\"#mea2dc863a6\" y=\"224.64\"/>\r\n      </g>\r\n     </g>\r\n     <g id=\"text_6\">\r\n      <!-- 25 -->\r\n      <g transform=\"translate(218.588214 239.238437)scale(0.1 -0.1)\">\r\n       <use xlink:href=\"#DejaVuSans-50\"/>\r\n       <use x=\"63.623047\" xlink:href=\"#DejaVuSans-53\"/>\r\n      </g>\r\n     </g>\r\n    </g>\r\n   </g>\r\n   <g id=\"matplotlib.axis_2\">\r\n    <g id=\"ytick_1\">\r\n     <g id=\"line2d_7\">\r\n      <defs>\r\n       <path d=\"M 0 0 \r\nL -3.5 0 \r\n\" id=\"ma82ce4da81\" style=\"stroke:#000000;stroke-width:0.8;\"/>\r\n      </defs>\r\n      <g>\r\n       <use style=\"stroke:#000000;stroke-width:0.8;\" x=\"26.925\" xlink:href=\"#ma82ce4da81\" y=\"11.082857\"/>\r\n      </g>\r\n     </g>\r\n     <g id=\"text_7\">\r\n      <!-- 0 -->\r\n      <g transform=\"translate(13.5625 14.882076)scale(0.1 -0.1)\">\r\n       <use xlink:href=\"#DejaVuSans-48\"/>\r\n      </g>\r\n     </g>\r\n    </g>\r\n    <g id=\"ytick_2\">\r\n     <g id=\"line2d_8\">\r\n      <g>\r\n       <use style=\"stroke:#000000;stroke-width:0.8;\" x=\"26.925\" xlink:href=\"#ma82ce4da81\" y=\"49.911429\"/>\r\n      </g>\r\n     </g>\r\n     <g id=\"text_8\">\r\n      <!-- 5 -->\r\n      <g transform=\"translate(13.5625 53.710647)scale(0.1 -0.1)\">\r\n       <use xlink:href=\"#DejaVuSans-53\"/>\r\n      </g>\r\n     </g>\r\n    </g>\r\n    <g id=\"ytick_3\">\r\n     <g id=\"line2d_9\">\r\n      <g>\r\n       <use style=\"stroke:#000000;stroke-width:0.8;\" x=\"26.925\" xlink:href=\"#ma82ce4da81\" y=\"88.74\"/>\r\n      </g>\r\n     </g>\r\n     <g id=\"text_9\">\r\n      <!-- 10 -->\r\n      <g transform=\"translate(7.2 92.539219)scale(0.1 -0.1)\">\r\n       <use xlink:href=\"#DejaVuSans-49\"/>\r\n       <use x=\"63.623047\" xlink:href=\"#DejaVuSans-48\"/>\r\n      </g>\r\n     </g>\r\n    </g>\r\n    <g id=\"ytick_4\">\r\n     <g id=\"line2d_10\">\r\n      <g>\r\n       <use style=\"stroke:#000000;stroke-width:0.8;\" x=\"26.925\" xlink:href=\"#ma82ce4da81\" y=\"127.568571\"/>\r\n      </g>\r\n     </g>\r\n     <g id=\"text_10\">\r\n      <!-- 15 -->\r\n      <g transform=\"translate(7.2 131.36779)scale(0.1 -0.1)\">\r\n       <use xlink:href=\"#DejaVuSans-49\"/>\r\n       <use x=\"63.623047\" xlink:href=\"#DejaVuSans-53\"/>\r\n      </g>\r\n     </g>\r\n    </g>\r\n    <g id=\"ytick_5\">\r\n     <g id=\"line2d_11\">\r\n      <g>\r\n       <use style=\"stroke:#000000;stroke-width:0.8;\" x=\"26.925\" xlink:href=\"#ma82ce4da81\" y=\"166.397143\"/>\r\n      </g>\r\n     </g>\r\n     <g id=\"text_11\">\r\n      <!-- 20 -->\r\n      <g transform=\"translate(7.2 170.196362)scale(0.1 -0.1)\">\r\n       <use xlink:href=\"#DejaVuSans-50\"/>\r\n       <use x=\"63.623047\" xlink:href=\"#DejaVuSans-48\"/>\r\n      </g>\r\n     </g>\r\n    </g>\r\n    <g id=\"ytick_6\">\r\n     <g id=\"line2d_12\">\r\n      <g>\r\n       <use style=\"stroke:#000000;stroke-width:0.8;\" x=\"26.925\" xlink:href=\"#ma82ce4da81\" y=\"205.225714\"/>\r\n      </g>\r\n     </g>\r\n     <g id=\"text_12\">\r\n      <!-- 25 -->\r\n      <g transform=\"translate(7.2 209.024933)scale(0.1 -0.1)\">\r\n       <use xlink:href=\"#DejaVuSans-50\"/>\r\n       <use x=\"63.623047\" xlink:href=\"#DejaVuSans-53\"/>\r\n      </g>\r\n     </g>\r\n    </g>\r\n   </g>\r\n   <g id=\"patch_3\">\r\n    <path d=\"M 26.925 224.64 \r\nL 26.925 7.2 \r\n\" style=\"fill:none;stroke:#000000;stroke-linecap:square;stroke-linejoin:miter;stroke-width:0.8;\"/>\r\n   </g>\r\n   <g id=\"patch_4\">\r\n    <path d=\"M 244.365 224.64 \r\nL 244.365 7.2 \r\n\" style=\"fill:none;stroke:#000000;stroke-linecap:square;stroke-linejoin:miter;stroke-width:0.8;\"/>\r\n   </g>\r\n   <g id=\"patch_5\">\r\n    <path d=\"M 26.925 224.64 \r\nL 244.365 224.64 \r\n\" style=\"fill:none;stroke:#000000;stroke-linecap:square;stroke-linejoin:miter;stroke-width:0.8;\"/>\r\n   </g>\r\n   <g id=\"patch_6\">\r\n    <path d=\"M 26.925 7.2 \r\nL 244.365 7.2 \r\n\" style=\"fill:none;stroke:#000000;stroke-linecap:square;stroke-linejoin:miter;stroke-width:0.8;\"/>\r\n   </g>\r\n  </g>\r\n </g>\r\n <defs>\r\n  <clipPath id=\"pebe05d691a\">\r\n   <rect height=\"217.44\" width=\"217.44\" x=\"26.925\" y=\"7.2\"/>\r\n  </clipPath>\r\n </defs>\r\n</svg>\r\n",
      "image/png": "[encoded data removed]"
     },
     "metadata": {
      "needs_background": "light"
     }
    }
   ],
   "source": [
    "import matplotlib.pyplot as plt\n",
    "%matplotlib inline\n",
    "\n",
    "plt.imshow(x_train[0].reshape((28, 28)), cmap='gray')\n",
    "print(y_train[0])"
   ]
  },
  {
   "cell_type": "code",
   "execution_count": 4,
   "metadata": {},
   "outputs": [
    {
     "output_type": "stream",
     "name": "stdout",
     "text": "torch.Size([50000, 784]) torch.Size([50000])\n"
    }
   ],
   "source": [
    "x_train, y_train, x_valid, y_valid = map(torch.from_numpy, (x_train, y_train, x_valid, y_valid))\n",
    "print(x_train.shape, y_train.shape)"
   ]
  },
  {
   "cell_type": "markdown",
   "metadata": {},
   "source": [
    "# Neural Network with torch.nn"
   ]
  },
  {
   "cell_type": "code",
   "execution_count": 5,
   "metadata": {},
   "outputs": [],
   "source": [
    "class MnistLogistic(nn.Module):\n",
    "    def __init__(self):\n",
    "        super(MnistLogistic, self).__init__()\n",
    "        self.fc = nn.Linear(784, 10)\n",
    "\n",
    "    def forward(self, x):\n",
    "        return self.fc(x)"
   ]
  },
  {
   "cell_type": "code",
   "execution_count": 6,
   "metadata": {},
   "outputs": [
    {
     "output_type": "stream",
     "name": "stdout",
     "text": "torch.Size([64, 10]) torch.Size([64])\ntensor(2.2839, grad_fn=<NllLossBackward>)\ntensor(0.2283, grad_fn=<NllLossBackward>)\n"
    }
   ],
   "source": [
    "lr = 0.5\n",
    "epochs = 2\n",
    "batch_size = 64\n",
    "N = x_train.shape[0]\n",
    "\n",
    "model = MnistLogistic()\n",
    "optimizer = optim.SGD(model.parameters(), lr=lr)\n",
    "# Equivalent to log_softmax -> NLLLoss\n",
    "loss_fn = nn.CrossEntropyLoss()\n",
    "\n",
    "x0 = x_train[:batch_size]\n",
    "y0 = y_train[:batch_size]\n",
    "\n",
    "print(model(x0).shape, y0.shape)\n",
    "# The loss before training\n",
    "print(loss_fn(model(x0), y0))\n",
    "\n",
    "for epoch in range(epochs):\n",
    "    for i in range((N - 1) // batch_size + 1):\n",
    "        start_i = i * batch_size\n",
    "        end_i = (i+1) * batch_size\n",
    "        x = x_train[start_i:end_i]\n",
    "        y = y_train[start_i:end_i]\n",
    "        \n",
    "        # Forward pass + Calculate loss\n",
    "        loss = loss_fn(model(x), y)\n",
    "\n",
    "        # Backward propagation\n",
    "        optimizer.zero_grad()\n",
    "        loss.backward()\n",
    "\n",
    "        # Update weights\n",
    "        optimizer.step()\n",
    "\n",
    "# The loss after training\n",
    "# Compare the loss w.r.t. the same batch\n",
    "print(loss_fn(model(x0), y0))"
   ]
  },
  {
   "cell_type": "markdown",
   "metadata": {},
   "source": [
    "# Refactor using Dataset and DataLoader\n",
    "Use validation set. "
   ]
  },
  {
   "cell_type": "code",
   "execution_count": 7,
   "metadata": {},
   "outputs": [
    {
     "output_type": "stream",
     "name": "stdout",
     "text": "-1 0.1286\n0 0.9112\n1 0.9178\n2 0.9204\n3 0.9218\n4 0.9231\n"
    }
   ],
   "source": [
    "from torch.utils.data import TensorDataset, DataLoader\n",
    "train_dataset = TensorDataset(x_train, y_train)\n",
    "train_dataloader = DataLoader(train_dataset, batch_size=batch_size)\n",
    "valid_dataset = TensorDataset(x_valid, y_valid)\n",
    "valid_dataloader = DataLoader(valid_dataset, batch_size=batch_size*2)\n",
    "\n",
    "lr = 0.5\n",
    "epochs = 5\n",
    "batch_size = 64\n",
    "N = x_train.shape[0]\n",
    "N_valid = x_valid.shape[0]\n",
    "\n",
    "model = MnistLogistic()\n",
    "optimizer = optim.SGD(model.parameters(), lr=lr)\n",
    "# Equivalent to log_softmax -> NLLLoss\n",
    "loss_fn = nn.CrossEntropyLoss()\n",
    "\n",
    "# The accuracy before training\n",
    "model.eval()\n",
    "with torch.no_grad():\n",
    "    valid_true = sum([(torch.argmax(model(x), dim=1) == y).sum().item() for x, y in valid_dataloader])\n",
    "print(-1, valid_true / N_valid)\n",
    "model.train()\n",
    "\n",
    "for epoch in range(epochs):\n",
    "    # Avoid explicit indexing now...\n",
    "    for x, y in train_dataloader:\n",
    "        # Forward pass + Calculate loss\n",
    "        loss = loss_fn(model(x), y)\n",
    "\n",
    "        # Backward propagation\n",
    "        optimizer.zero_grad()\n",
    "        loss.backward()\n",
    "\n",
    "        # Update weights\n",
    "        optimizer.step()\n",
    "\n",
    "    # The accuracy during & after training\n",
    "    model.eval()\n",
    "    with torch.no_grad():\n",
    "        valid_true = sum([(torch.argmax(model(x), dim=1) == y).sum().item() for x, y in valid_dataloader])\n",
    "    print(epoch, valid_true / N_valid)\n",
    "    model.train()"
   ]
  },
  {
   "cell_type": "markdown",
   "metadata": {},
   "source": [
    "# Switch to CNN"
   ]
  },
  {
   "cell_type": "code",
   "execution_count": 8,
   "metadata": {},
   "outputs": [],
   "source": [
    "class MnistCNN(nn.Module):\n",
    "    def __init__(self):\n",
    "        super(MnistCNN, self).__init__()\n",
    "        # 1 input channels, 16 output channels\n",
    "        # Image shape: 28*28 -> 14*14\n",
    "        self.conv1 = nn.Conv2d(1, 16, kernel_size=3, stride=2, padding=1)\n",
    "        # 16 input channels, 16 output channels\n",
    "        # Image shape: 14*14 -> 7*7\n",
    "        self.conv2 = nn.Conv2d(16, 16, kernel_size=3, stride=2, padding=1)\n",
    "        # 16 input channels, 10 output channels\n",
    "        # Image shape: 7*7 -> 4*4\n",
    "        self.conv3 = nn.Conv2d(16, 10, kernel_size=3, stride=2, padding=1)\n",
    "\n",
    "    def forward(self, x):\n",
    "        x = x.view(-1, 1, 28, 28)\n",
    "        x = F.relu(self.conv1(x))\n",
    "        x = F.relu(self.conv2(x))\n",
    "        x = F.relu(self.conv3(x))\n",
    "        # Image shape: 7*7 -> 1*1\n",
    "        x = F.avg_pool2d(x, 4)\n",
    "        return x.view(-1, x.size(1))"
   ]
  },
  {
   "cell_type": "code",
   "execution_count": 9,
   "metadata": {},
   "outputs": [
    {
     "output_type": "stream",
     "name": "stdout",
     "text": "-1 0.0971\n0 0.8306\n1 0.9179\n2 0.9296\n3 0.9385\n4 0.9458\n"
    }
   ],
   "source": [
    "from torch.utils.data import TensorDataset, DataLoader\n",
    "train_dataset = TensorDataset(x_train, y_train)\n",
    "train_dataloader = DataLoader(train_dataset, batch_size=batch_size)\n",
    "valid_dataset = TensorDataset(x_valid, y_valid)\n",
    "valid_dataloader = DataLoader(valid_dataset, batch_size=batch_size*2)\n",
    "\n",
    "lr = 0.05\n",
    "epochs = 5\n",
    "batch_size = 64\n",
    "N = x_train.shape[0]\n",
    "N_valid = x_valid.shape[0]\n",
    "\n",
    "model = MnistCNN()\n",
    "optimizer = optim.SGD(model.parameters(), lr=lr, momentum=0.9)\n",
    "# Equivalent to log_softmax -> NLLLoss\n",
    "loss_fn = nn.CrossEntropyLoss()\n",
    "\n",
    "# The accuracy before training\n",
    "model.eval()\n",
    "with torch.no_grad():\n",
    "    valid_true = sum([(torch.argmax(model(x), dim=1) == y).sum().item() for x, y in valid_dataloader])\n",
    "print(-1, valid_true / N_valid)\n",
    "model.train()\n",
    "\n",
    "for epoch in range(epochs):\n",
    "    # Avoid explicit indexing now...\n",
    "    for x, y in train_dataloader:\n",
    "        # Forward pass + Calculate loss\n",
    "        loss = loss_fn(model(x), y)\n",
    "\n",
    "        # Backward propagation\n",
    "        optimizer.zero_grad()\n",
    "        loss.backward()\n",
    "\n",
    "        # Update weights\n",
    "        optimizer.step()\n",
    "\n",
    "    # The accuracy during & after training\n",
    "    model.eval()\n",
    "    with torch.no_grad():\n",
    "        valid_true = sum([(torch.argmax(model(x), dim=1) == y).sum().item() for x, y in valid_dataloader])\n",
    "    print(epoch, valid_true / N_valid)\n",
    "    model.train()"
   ]
  },
  {
   "cell_type": "markdown",
   "metadata": {},
   "source": [
    "# nn.Sequential"
   ]
  },
  {
   "cell_type": "code",
   "execution_count": 10,
   "metadata": {},
   "outputs": [],
   "source": [
    "class Lambda(nn.Module):\n",
    "    \"\"\"\n",
    "    This is a wrapper class, transforming a Python-function to a PyTorch layer. \n",
    "    \"\"\"\n",
    "    def __init__(self, func):\n",
    "        super(Lambda, self).__init__()\n",
    "        self.func = func\n",
    "\n",
    "    def forward(self, x):\n",
    "        return self.func(x)"
   ]
  },
  {
   "cell_type": "code",
   "execution_count": 11,
   "metadata": {},
   "outputs": [
    {
     "output_type": "stream",
     "name": "stdout",
     "text": "-1 0.1064\n0 0.8652\n1 0.9167\n2 0.9176\n3 0.9199\n4 0.9307\n"
    }
   ],
   "source": [
    "from torch.utils.data import TensorDataset, DataLoader\n",
    "train_dataset = TensorDataset(x_train, y_train)\n",
    "train_dataloader = DataLoader(train_dataset, batch_size=batch_size)\n",
    "valid_dataset = TensorDataset(x_valid, y_valid)\n",
    "valid_dataloader = DataLoader(valid_dataset, batch_size=batch_size*2)\n",
    "\n",
    "lr = 0.05\n",
    "epochs = 5\n",
    "batch_size = 64\n",
    "N = x_train.shape[0]\n",
    "N_valid = x_valid.shape[0]\n",
    "\n",
    "model = nn.Sequential(\n",
    "    Lambda(lambda x: x.view(-1, 1, 28, 28)), \n",
    "    nn.Conv2d(1, 16, kernel_size=3, stride=2, padding=1), \n",
    "    nn.ReLU(), \n",
    "    nn.Conv2d(16, 16, kernel_size=3, stride=2, padding=1), \n",
    "    nn.ReLU(), \n",
    "    nn.Conv2d(16, 10, kernel_size=3, stride=2, padding=1), \n",
    "    nn.ReLU(), \n",
    "    nn.AvgPool2d(4), \n",
    "    Lambda(lambda x: x.view(-1, 10)), \n",
    ")\n",
    "optimizer = optim.SGD(model.parameters(), lr=lr, momentum=0.9)\n",
    "# Equivalent to log_softmax -> NLLLoss\n",
    "loss_fn = nn.CrossEntropyLoss()\n",
    "\n",
    "# The accuracy before training\n",
    "model.eval()\n",
    "with torch.no_grad():\n",
    "    valid_true = sum([(torch.argmax(model(x), dim=1) == y).sum().item() for x, y in valid_dataloader])\n",
    "print(-1, valid_true / N_valid)\n",
    "model.train()\n",
    "\n",
    "for epoch in range(epochs):\n",
    "    # Avoid explicit indexing now...\n",
    "    for x, y in train_dataloader:\n",
    "        # Forward pass + Calculate loss\n",
    "        loss = loss_fn(model(x), y)\n",
    "\n",
    "        # Backward propagation\n",
    "        optimizer.zero_grad()\n",
    "        loss.backward()\n",
    "\n",
    "        # Update weights\n",
    "        optimizer.step()\n",
    "\n",
    "    # The accuracy during & after training\n",
    "    model.eval()\n",
    "    with torch.no_grad():\n",
    "        valid_true = sum([(torch.argmax(model(x), dim=1) == y).sum().item() for x, y in valid_dataloader])\n",
    "    print(epoch, valid_true / N_valid)\n",
    "    model.train()"
   ]
  },
  {
   "cell_type": "code",
   "execution_count": null,
   "metadata": {},
   "outputs": [],
   "source": []
  }
 ],
 "metadata": {
  "language_info": {
   "codemirror_mode": {
    "name": "ipython",
    "version": 3
   },
   "file_extension": ".py",
   "mimetype": "text/x-python",
   "name": "python",
   "nbconvert_exporter": "python",
   "pygments_lexer": "ipython3",
   "version": "3.7.6-final"
  },
  "orig_nbformat": 2,
  "kernelspec": {
   "name": "python3",
   "display_name": "Python 3"
  }
 },
 "nbformat": 4,
 "nbformat_minor": 2
}