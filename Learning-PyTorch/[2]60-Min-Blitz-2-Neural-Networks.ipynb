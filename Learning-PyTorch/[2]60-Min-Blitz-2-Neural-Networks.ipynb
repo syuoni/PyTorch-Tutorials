{
 "cells": [
  {
   "cell_type": "code",
   "execution_count": 1,
   "metadata": {},
   "outputs": [],
   "source": [
    "import numpy as np\n",
    "import torch\n",
    "import torch.nn as nn\n",
    "import torch.nn.functional as F\n",
    "import torch.optim as optim"
   ]
  },
  {
   "cell_type": "markdown",
   "metadata": {},
   "source": [
    "# Network defination and backprop"
   ]
  },
  {
   "cell_type": "code",
   "execution_count": 2,
   "metadata": {},
   "outputs": [
    {
     "output_type": "execute_result",
     "data": {
      "text/plain": "Net(\n  (conv1): Conv2d(1, 6, kernel_size=(5, 5), stride=(1, 1))\n  (conv2): Conv2d(6, 16, kernel_size=(5, 5), stride=(1, 1))\n  (fc1): Linear(in_features=400, out_features=120, bias=True)\n  (fc2): Linear(in_features=120, out_features=84, bias=True)\n  (fc3): Linear(in_features=84, out_features=10, bias=True)\n)"
     },
     "metadata": {},
     "execution_count": 2
    }
   ],
   "source": [
    "# Define the network\n",
    "\n",
    "class Net(nn.Module):\n",
    "    def __init__(self):\n",
    "        super(Net, self).__init__()\n",
    "        # 1 input channel, 6 output channel, 5*5 convolution kernel\n",
    "        # Kernel_size could be a tuple, or integer if it is a square\n",
    "        self.conv1 = nn.Conv2d(1, 6, 5)\n",
    "        # 6 input channel, 16 output channel, 5*5 convolution kernel\n",
    "        self.conv2 = nn.Conv2d(6, 16, 5)\n",
    "        # Affine operation: y = Wx + b\n",
    "        # fc = full connect\n",
    "        # 16*5*5 input, 120 output\n",
    "        # ((32-4)/2-4)/2 = 5, so it is image of 5*5 size after last pooling layer\n",
    "        self.fc1 = nn.Linear(16*5*5, 120)\n",
    "        self.fc2 = nn.Linear(120, 84)\n",
    "        self.fc3 = nn.Linear(84, 10)\n",
    "    \n",
    "    def forward(self, x):\n",
    "        x = F.relu(self.conv1(x))\n",
    "        # Max pooling over 2*2 window\n",
    "        x = F.max_pool2d(x, 2)\n",
    "        \n",
    "        x = F.relu(self.conv2(x))\n",
    "        x = F.max_pool2d(x, 2)\n",
    "        \n",
    "        # Flatten x into batch_size * flat_n_feat\n",
    "        x = x.view(-1, self.num_flat_features(x))\n",
    "        x = F.relu(self.fc1(x))\n",
    "        x = F.relu(self.fc2(x))\n",
    "        x = self.fc3(x)\n",
    "        return x        \n",
    "    \n",
    "    # TODO: ??\n",
    "    def num_flat_features(self, x):\n",
    "        size = x.size()[1:]\n",
    "        return int(np.product(size))\n",
    "    \n",
    "# Construct the network\n",
    "net = Net()\n",
    "net"
   ]
  },
  {
   "cell_type": "code",
   "execution_count": 3,
   "metadata": {},
   "outputs": [
    {
     "output_type": "stream",
     "name": "stdout",
     "text": "10\ntorch.Size([6, 1, 5, 5])\ntorch.Size([6])\ntorch.Size([16, 6, 5, 5])\ntorch.Size([16])\ntorch.Size([120, 400])\ntorch.Size([120])\ntorch.Size([84, 120])\ntorch.Size([84])\ntorch.Size([10, 84])\ntorch.Size([10])\n"
    }
   ],
   "source": [
    "# Learnable parameters\n",
    "params = list(net.parameters())\n",
    "print(len(params))\n",
    "\n",
    "for param in params:\n",
    "    print(param.size())"
   ]
  },
  {
   "cell_type": "code",
   "execution_count": 4,
   "metadata": {},
   "outputs": [
    {
     "output_type": "stream",
     "name": "stdout",
     "text": "tensor([[-0.0912, -0.1518,  0.0410, -0.0116, -0.0917,  0.0082,  0.1388, -0.0461,\n         -0.1010,  0.1316]], grad_fn=<AddmmBackward>)\n"
    }
   ],
   "source": [
    "# Forward propagation\n",
    "in1 = torch.randn(1, 1, 32, 32)\n",
    "# DO NOT use net.forward(in1)??\n",
    "out1 = net(in1)\n",
    "print(out1)"
   ]
  },
  {
   "cell_type": "code",
   "execution_count": 5,
   "metadata": {},
   "outputs": [
    {
     "output_type": "stream",
     "name": "stdout",
     "text": "tensor([[0., 1., 2., 3., 4., 5., 6., 7., 8., 9.]])\ntensor(28.4180, grad_fn=<MseLossBackward>)\ntensor(28.4180, grad_fn=<MeanBackward0>)\n"
    }
   ],
   "source": [
    "# Calculate the loss\n",
    "target1 = torch.arange(0, 10, dtype=torch.float)\n",
    "target1 = target1.view(1, -1)  # make it the same shape as output\n",
    "print(target1)\n",
    "\n",
    "criterion = nn.MSELoss()\n",
    "loss = criterion(out1, target1)\n",
    "print(loss)\n",
    "print(((out1-target1)**2).mean())"
   ]
  },
  {
   "cell_type": "code",
   "execution_count": 6,
   "metadata": {},
   "outputs": [
    {
     "output_type": "stream",
     "name": "stdout",
     "text": "tensor([[-0.1039, -0.1612,  0.0296, -0.0100, -0.0754, -0.0049,  0.1191, -0.0511,\n         -0.0804,  0.1147],\n        [-0.1082, -0.1440,  0.0647, -0.0139, -0.0959, -0.0063,  0.1050, -0.0368,\n         -0.0989,  0.1224],\n        [-0.1257, -0.1556,  0.0479,  0.0027, -0.0748,  0.0019,  0.1226, -0.0430,\n         -0.1048,  0.1313],\n        [-0.1247, -0.1521,  0.0348,  0.0128, -0.0766,  0.0066,  0.1466, -0.0360,\n         -0.0897,  0.1426]], grad_fn=<AddmmBackward>)\n"
    }
   ],
   "source": [
    "# Forward propagation in minibatch \n",
    "# Input-shape: (minibatch size, channel size, fig height, fig width)\n",
    "in2 = torch.randn(4, 1, 32, 32)\n",
    "out2 = net(in2)\n",
    "print(out2)"
   ]
  },
  {
   "cell_type": "code",
   "execution_count": 7,
   "metadata": {},
   "outputs": [
    {
     "output_type": "stream",
     "name": "stdout",
     "text": "tensor([[ 0.,  1.,  2.,  3.,  4.,  5.,  6.,  7.,  8.,  9.],\n        [10., 11., 12., 13., 14., 15., 16., 17., 18., 19.],\n        [20., 21., 22., 23., 24., 25., 26., 27., 28., 29.],\n        [30., 31., 32., 33., 34., 35., 36., 37., 38., 39.]])\ntensor(513.9254, grad_fn=<MseLossBackward>)\n"
    }
   ],
   "source": [
    "# Calculate the loss\n",
    "target2 = torch.arange(0, 40, dtype=torch.float).view(4, -1)\n",
    "print(target2)\n",
    "\n",
    "criterion = nn.MSELoss()\n",
    "loss = criterion(out2, target2)\n",
    "print(loss)"
   ]
  },
  {
   "cell_type": "code",
   "execution_count": 8,
   "metadata": {},
   "outputs": [
    {
     "output_type": "stream",
     "name": "stdout",
     "text": "<MseLossBackward object at 0x00000277E4BCF988>\n<AddmmBackward object at 0x00000277E4BCF9C8>\n<AccumulateGrad object at 0x00000277E4BCF988>\n"
    }
   ],
   "source": [
    "# Show the loss functions...\n",
    "# MSELoss\n",
    "print(loss.grad_fn)\n",
    "# Linear\n",
    "print(loss.grad_fn.next_functions[0][0])\n",
    "# ReLU\n",
    "print(loss.grad_fn.next_functions[0][0].next_functions[0][0])"
   ]
  },
  {
   "cell_type": "code",
   "execution_count": 9,
   "metadata": {},
   "outputs": [
    {
     "output_type": "stream",
     "name": "stdout",
     "text": "conv1.bias.grad before backward\nNone\nconv1.bias.grad after backward\ntensor([-0.1260,  0.0394,  0.1569, -0.1026, -0.3775,  0.2092])\n"
    }
   ],
   "source": [
    "# Backward propagation \n",
    "# Zeros the gradient buffers of all parameters\n",
    "net.zero_grad()\n",
    "print('conv1.bias.grad before backward')\n",
    "print(net.conv1.bias.grad)\n",
    "\n",
    "loss.backward()\n",
    "print('conv1.bias.grad after backward')\n",
    "print(net.conv1.bias.grad)"
   ]
  },
  {
   "cell_type": "code",
   "execution_count": 10,
   "metadata": {},
   "outputs": [],
   "source": [
    "# Update weights\n",
    "# SGD implemented by Python\n",
    "learning_rate = 0.01\n",
    "for param in net.parameters():\n",
    "    param.data.sub_(param.grad.data * learning_rate)"
   ]
  },
  {
   "cell_type": "code",
   "execution_count": 11,
   "metadata": {},
   "outputs": [],
   "source": [
    "# torch implemetation\n",
    "optimizer = optim.SGD(net.parameters(), lr=learning_rate)\n",
    "optimizer.step()"
   ]
  },
  {
   "cell_type": "markdown",
   "metadata": {},
   "source": [
    "# Example: LeNet "
   ]
  },
  {
   "cell_type": "code",
   "execution_count": 12,
   "metadata": {},
   "outputs": [],
   "source": [
    "import torchvision\n",
    "import torchvision.transforms as transforms\n",
    "import matplotlib.pyplot as plt\n",
    "import time\n",
    "%matplotlib inline"
   ]
  },
  {
   "cell_type": "code",
   "execution_count": 13,
   "metadata": {},
   "outputs": [
    {
     "output_type": "stream",
     "name": "stdout",
     "text": "Files already downloaded and verified\nFiles already downloaded and verified\n"
    }
   ],
   "source": [
    "transform = transforms.Compose([transforms.ToTensor(), \n",
    "                                transforms.Normalize((0.5, 0.5, 0.5), (0.5, 0.5, 0.5))])\n",
    "\n",
    "trainset = torchvision.datasets.CIFAR10(root='./data', train=True, download=True, transform=transform)\n",
    "trainloader = torch.utils.data.DataLoader(trainset, batch_size=4, shuffle=True, num_workers=2)\n",
    "\n",
    "testset = torchvision.datasets.CIFAR10(root='./data', train=False, download=True, transform=transform)\n",
    "testloader = torch.utils.data.DataLoader(testset, batch_size=4, shuffle=False, num_workers=2)\n",
    "\n",
    "classes = ('plane', 'car', 'bird', 'cat', 'deer', 'dog', 'frog', 'horse', 'ship', 'truck')"
   ]
  },
  {
   "cell_type": "code",
   "execution_count": 14,
   "metadata": {},
   "outputs": [
    {
     "output_type": "execute_result",
     "data": {
      "text/plain": "Net(\n  (conv1): Conv2d(3, 200, kernel_size=(5, 5), stride=(1, 1))\n  (conv2): Conv2d(200, 16, kernel_size=(5, 5), stride=(1, 1))\n  (fc1): Linear(in_features=400, out_features=120, bias=True)\n  (fc2): Linear(in_features=120, out_features=84, bias=True)\n  (fc3): Linear(in_features=84, out_features=10, bias=True)\n)"
     },
     "metadata": {},
     "execution_count": 14
    }
   ],
   "source": [
    "class Net(nn.Module):\n",
    "    def __init__(self):\n",
    "        super(Net, self).__init__()\n",
    "        self.conv1 = nn.Conv2d(3, 200, 5)\n",
    "        self.conv2 = nn.Conv2d(200, 16, 5)\n",
    "        self.fc1 = nn.Linear(16*5*5, 120)\n",
    "        self.fc2 = nn.Linear(120, 84)\n",
    "        self.fc3 = nn.Linear(84, 10)\n",
    "    \n",
    "    def forward(self, x):\n",
    "        x = F.relu(self.conv1(x))\n",
    "        x = F.max_pool2d(x, 2)\n",
    "        \n",
    "        x = F.relu(self.conv2(x))\n",
    "        x = F.max_pool2d(x, 2)\n",
    "        \n",
    "        x = x.view(-1, 16*5*5)\n",
    "        x = F.relu(self.fc1(x))\n",
    "        x = F.relu(self.fc2(x))\n",
    "        x = self.fc3(x)\n",
    "        return x\n",
    "\n",
    "net = Net()\n",
    "net"
   ]
  },
  {
   "cell_type": "code",
   "execution_count": 15,
   "metadata": {},
   "outputs": [
    {
     "output_type": "stream",
     "name": "stdout",
     "text": "device: cpu\n"
    },
    {
     "output_type": "execute_result",
     "data": {
      "text/plain": "Net(\n  (conv1): Conv2d(3, 200, kernel_size=(5, 5), stride=(1, 1))\n  (conv2): Conv2d(200, 16, kernel_size=(5, 5), stride=(1, 1))\n  (fc1): Linear(in_features=400, out_features=120, bias=True)\n  (fc2): Linear(in_features=120, out_features=84, bias=True)\n  (fc3): Linear(in_features=84, out_features=10, bias=True)\n)"
     },
     "metadata": {},
     "execution_count": 15
    }
   ],
   "source": [
    "device = torch.device(\"cuda:0\" if torch.cuda.is_available() else \"cpu\")\n",
    "\n",
    "print('device:', device)\n",
    "net.to(device)\n",
    "net"
   ]
  },
  {
   "cell_type": "code",
   "execution_count": 16,
   "metadata": {},
   "outputs": [],
   "source": [
    "criterion = nn.CrossEntropyLoss()\n",
    "optimizer = optim.SGD(net.parameters(), lr=0.001, momentum=0.9)"
   ]
  },
  {
   "cell_type": "code",
   "execution_count": 17,
   "metadata": {},
   "outputs": [
    {
     "output_type": "stream",
     "name": "stdout",
     "text": "[1,  2000] loss: 2.043\n[1,  4000] loss: 1.671\n[1,  6000] loss: 1.507\n[1,  8000] loss: 1.447\n[1, 10000] loss: 1.385\n[1, 12000] loss: 1.357\n[2,  2000] loss: 1.249\n[2,  4000] loss: 1.244\n[2,  6000] loss: 1.203\n[2,  8000] loss: 1.175\n[2, 10000] loss: 1.161\n[2, 12000] loss: 1.148\nTraining time: 864.667662\n"
    }
   ],
   "source": [
    "t0 = time.time()\n",
    "for epoch in range(2):\n",
    "    running_loss = 0.0\n",
    "    for i, data in enumerate(trainloader, 0):\n",
    "        ins, labels = data\n",
    "        ins, labels = ins.to(device), labels.to(device)\n",
    "\n",
    "        # zero the parameter gradients\n",
    "        optimizer.zero_grad()\n",
    "\n",
    "        # forward + backward + optimize\n",
    "        outs = net(ins)\n",
    "        loss = criterion(outs, labels)\n",
    "        loss.backward()\n",
    "        optimizer.step()\n",
    "        \n",
    "        # print statistics\n",
    "        running_loss += loss.item()\n",
    "        if (i+1) % 2000 == 0:\n",
    "            print('[%d, %5d] loss: %.3f' % (epoch+1, i+1, running_loss/2000))\n",
    "            running_loss = 0.0\n",
    "\n",
    "t1 = time.time()\n",
    "print('Training time: %f' % (t1-t0))"
   ]
  },
  {
   "cell_type": "code",
   "execution_count": 18,
   "metadata": {},
   "outputs": [
    {
     "output_type": "stream",
     "name": "stdout",
     "text": "frog\n"
    },
    {
     "output_type": "execute_result",
     "data": {
      "text/plain": "<matplotlib.image.AxesImage at 0x27780190848>"
     },
     "metadata": {},
     "execution_count": 18
    },
    {
     "output_type": "display_data",
     "data": {
      "text/plain": "<Figure size 432x288 with 1 Axes>",
      "image/svg+xml": "<?xml version=\"1.0\" encoding=\"utf-8\" standalone=\"no\"?>\r\n<!DOCTYPE svg PUBLIC \"-//W3C//DTD SVG 1.1//EN\"\r\n  \"http://www.w3.org/Graphics/SVG/1.1/DTD/svg11.dtd\">\r\n<!-- Created with matplotlib (https://matplotlib.org/) -->\r\n<svg height=\"248.919844pt\" version=\"1.1\" viewBox=\"0 0 251.565 248.919844\" width=\"251.565pt\" xmlns=\"http://www.w3.org/2000/svg\" xmlns:xlink=\"http://www.w3.org/1999/xlink\">\r\n <defs>\r\n  <style type=\"text/css\">\r\n*{stroke-linecap:butt;stroke-linejoin:round;}\r\n  </style>\r\n </defs>\r\n <g id=\"figure_1\">\r\n  <g id=\"patch_1\">\r\n   <path d=\"M 0 248.919844 \r\nL 251.565 248.919844 \r\nL 251.565 0 \r\nL 0 0 \r\nz\r\n\" style=\"fill:none;\"/>\r\n  </g>\r\n  <g id=\"axes_1\">\r\n   <g id=\"patch_2\">\r\n    <path d=\"M 26.925 225.041719 \r\nL 244.365 225.041719 \r\nL 244.365 7.601719 \r\nL 26.925 7.601719 \r\nz\r\n\" style=\"fill:#ffffff;\"/>\r\n   </g>\r\n   <g clip-path=\"url(#p1f1833bf02)\">\r\n    <image height=\"218\" id=\"image40e4471a89\" transform=\"scale(1 -1)translate(0 -218)\" width=\"218\" x=\"26.925\" xlink:href=\"data:image/png;base64,\r\niVBORw0KGgoAAAANSUhEUgAAANoAAADaCAYAAADAHVzbAAAABHNCSVQICAgIfAhkiAAAFT9JREFUeJztnUmPZFdahr8bcWOOyIjMyDkrM2twlYdy2eWpysZ0q3HjdkuIbgmExAaBWLDnL7CHJRI/gQUsWogFrQbcTbtVpjyWa64cqjIzcoycYh4vC7bnuSvrrN5neT6dyBsn7ptXes933xP87T/ejgy4tPwKlcwsdI4ORn2csVbbxNrdh8+wdrLXxlom776OMD/COa9f4e9VLWaxNhp3sLb1YI/n7Zw7x29ffxPnfPXwBdZKV3JYGzZSWKs9OnGOv/PjN3BOI9zBWjLTxVqhOIe1b++5v1sy1cQ5leI81trn/LsUK0OshYkAa88fHjrHR70SzhkMBlhLYEUI8b0hoQnhAQlNCA9IaEJ4QEITwgMSmhAeCCfKM1hsN3tYS6bHzvHMBNvLOydsge+33NazmVl2uoi1dDrpHO+dsdW6+bSGtVrAlu/bN65gzbpsI7c67rXaa7EtPcjwlsZRzHZHLprC2vGB2z6/f4e3Es4ybpvbzGz6Mv+fXrlYxppF7h2lvW3+zcqvuH9nM7PCPG/lNDsNrKXPK1j78Pot53ijwWtfnE1jTU80ITwgoQnhAQlNCA9IaEJ4QEITwgMSmhAeCFNJtuPHY2zst6++uOsc7xpb1vkptnx/8v7vYy2I3Pa4mdk3X3zhHF9ZrOKcpVm2dZutFtaiBFu7iysx2yTHbvt5GPL3CvO89luP+BoHx3yNyZH7OjYfPsI5nQxvd2Tz3FE/WOLrr1bdWxDPN45wTv34FGvlDD8vggRb7qU8bxncfGvFOf7pb933vZnZsy3evtITTQgPSGhCeEBCE8IDEpoQHpDQhPBAOOhxM2wiRobZvDu3Ym2dMyaK5+yWVbPsVrZOuOF4MnJf5LVZdh0LRXabWufcRHtY5zyUeo0dxKOG2+2bG/DnVaY5m+JFn+dFPf7RwpTbCSzlOSelWuZ1nInJBUkl2a0sT7j/3vLiNM5pdzhPJDcocC3N+SozE7zGk5NuN35ihl3ddtudX2OmJ5oQXpDQhPCAhCaEByQ0ITwgoQnhAQlNCA+E6UwGi/e+e4i1kbkt5tkqNw4PYzIyzp/HRGCnuDG0mJ1wjqfP2NbNh2xZv32Vc0HqXW5s3bz/HdaWlq45x9fXd/k63mWr+53f49p//uI+1lott73/2uWXcM6f//WfYa0ZExf+5OAO1g4O687xuSrb4x1jC98yvEV1dsJ5Ivce7/Nnnruvf/2Qf7Ngiq9RTzQhPCChCeEBCU0ID0hoQnhAQhPCAxKaEB4Imz223Jtd90mVZmbpjNtyjwZsp/ZjuvdnctztPV+cxNrgzG0Jnzzl0yh3HnCHfi/H8y6/sYy1l5dfw9rGU/c67m3w2jcucubGzfcWsfZsg990+M0v153jiefHOKfePMDaq7f4d5m78i7W8kHeOX7va96a+ObpU6zVY+7TJi+xZbqcl3N45F7HpWXe/jlJxLwJw5chhPi+kNCE8ICEJoQHJDQhPCChCeEBCU0ID4T3nz3DYnfMITAzE25rdzrn7qY3Mztq84mO6RH7sJUin/hZLrmt7i/vbOKcvWMO0hnEdILn0/wWQSrme+cT7q2LP/7Dj3BOs8W/SzTmgJirr3Fn/5d33JHVh8dnOOfv/+GfsPbDjy9jrVjm7Zqw717/YMRr32zwmxODmC2ZmRkOEHr9+k2sNWqbzvHTM76OZoa3tvREE8IDEpoQHpDQhPCAhCaEByQ0ITwgoQnhgXCQYEsyX3F3WZuZRZF7Xi7gjuiZMnd7T08tcC3NYTqdHbfVPTvDWwJXX1vF2vKli1ibmuPwlS8efI61+wfuEzU/3+CO9GDM2x25ovs0SjOzcpnXcabq/r/aa/ObAgtFPsl0/wnn4e8meWtoCU5+LXBOlJUzfC+Ged52yU5wSNPkPJ85sP3U/d1aY9ZLkOVtIz3RhPCAhCaEByQ0ITwgoQnhAQlNCA9IaEJ4IOwPuKN+oshWfaXkts9PHhzhnNr9LaylX2bLvTzN12hgt/7wo/dxyuTsBaxlUhWsNXsNrB3ubmPNRu55FxaXcMpEnrvOj55zAE8UcgDSVMG9Vq2IbemzQ+7sjwa8Vqsv8e+ZNrePX2W33fphzH0F62tm1u9yZ//Dpw+wlim77+9EkrcZ9jqbWNMTTQgPSGhCeEBCE8IDEpoQHpDQhPBAOFflrIsSuFT/j9sJrO+wS5U95hMdp8/YwUonY5pGy+6MjGvX3sA5z56xQ1g74BMd7z3+FmsbMad35tNu9zYdkzHR6XM2ReOUXcfBkD+zDC5yJpPEOa0uZ3+MInaDv/uSM0+KBbdz9/FffoJzumws2skR33OTMxyfXsxyw/ST/efO8XqL3c+Fy3zarZ5oQnhAQhPCAxKaEB6Q0ITwgIQmhAckNCE8EAYJts4LJQ5xaB65m1dbHW7irGb58zpdzsgoRZz/sbTgzsgYx3zeoMWR2l//7/9g7cmGO/vDzGyyynkik1X39ZPNbWZWhsh1M7Ps5Zew1h/2sDaGaPL7T9ZwTjrg7I+LV7g5uwex32ZmUwX3Vs5ydRbnbB/uYO38YVy+Cm9dpBe4lhu7t6KKI96iqoz5N9MTTQgPSGhCeEBCE8IDEpoQHpDQhPCAhCaEB8J2j09ZPD7nic0zt0XeH3FHdxSj69PWMdYqQ7b3Mxn39sSjB/dxzme/+Rpru5vrWLu6wm86LC7NY60EJ5b2erxWvQ7b9NGQO+ozSa5NlEvO8bi8lrVNznlp1zexNjPP0eTvvX7ROR4GvCXQ6vA2Q+eY31g43+ObuDjB203ljPtNh6jDWzJb93gLQk80ITwgoQnhAQlNCA9IaEJ4QEITwgMSmhAeCP7o767hcY+NFieinENU9OQBa3eqzjbsVInzoCsV7orOpNwnOrYa3NEdJvhvVafZvs273XEzM+t22ao/PXGvY3WKw2EqFe5kz2b5QnIlPuFy/9Bt1b/Y4e79VpffdGjFbUGMuDP+pdXLzvG5ef6dv1nn+O71U1777CyvR7bEJ50O++77ePsFhzClEvyd9UQTwgMSmhAekNCE8ICEJoQHJDQhPCChCeGBMJtira0fccZ7euzubg4iDvt56ZI7J9/MzEZNLDUanEPfhHn9Dlu+165ew9o44m2B7a19rJUn+LulQ7fFHI24077fZet8efllrI0ifhtjdfmic7zX47U/PuWs+WFMR30w4k78Uzjf4DRxiHOiq3z6bLrDf+v4mO/hSsTW/+xi1Tm+c8K/2VmDfzM90YTwgIQmhAckNCE8IKEJ4QEJTQgPhD+4fQuL+4fsRtVrded4ucA5DJkEx4V3Y5pXw4CbP9s9t0uYzrCjVD9jJy0KuPG5ODGHtSDJjcq9gft7lzOchTJOcPT0rz/7HGu5An/m9beuOsfrZ/y79NhIsyCmOTuVYSewC3HtE5MxuSuvcsPx4Qaf4Bocs/s8GrCTmc27m8tvvOleQzOzBw83saYnmhAekNCE8ICEJoQHJDQhPCChCeEBCU0ID4SZJNuwf/NXf4G1f/3nXzjHV5rcaFrpsnVeq7tPEDUzC6CB2cys33E30Z6c8XWMQt4usAT/rUyRtwy2t7gh9hzs88XVKzgnSvI1popsdZcmp7B2eupe470DzobpdrjJujrLEelBEJM1cuj+zP2nbNMvLvCJqqNdfl4sJVawdnjAMfRrrQPn+Cc/u41z6vC9zPREE8ILEpoQHpDQhPCAhCaEByQ0ITwgoQnhgXD/oIbFq9McS/3zn/6Bc/zZLz/lP5biVvBMljvBoz5HLafz7i73cYq3LSzJ/19GEddO4JRTM7P+mK9xctbd9T8c89+am2brfBzxOp6dsmX9/Lnbsh7xrotlYuLH6xB1bma2tMJ2fB62a9b2OW77rRKfSnrQYlu9d8Td+906zzt+7n475ewWr/2FOT7lVE80ITwgoQnhAQlNCA9IaEJ4QEITwgMSmhAeCI0zYOzZxj2svXvhhnP8/AJ3lh9tbGAtU2U7e+cJR3GPI3eISo9dXTvdcZ9WamZWyLGdHVbY2h3FWPXjwG1nR0P+vEqWo9W36nxCZ+OEv1vC3HHWhRT/rcVl9+mcZmbfPfgSa3vbHIBEy9/gy7BHj+9j7bTN3/n8mGvtY45Pp8NM7/z2Cc5ZeY3Dm/REE8IDEpoQHpDQhPCAhCaEByQ0ITwgoQnhgbDb49z1ksWE0Tx0W8wr88s4Z+vhU6ylx9xtny/xdeztujuwg5hrtz7/f8kW2WMeDznwZ2aKtzVu3HzdOd6o87bFN1/dxVq7xb9ZIcNnHzThFNE3blzHOa0eW+D9mGD+/QaHLdVa7tcF2jm+B7a33G8emJlVsrz2ex1+myFmR8YycIbEkzW29wsLvKekJ5oQHpDQhPCAhCaEByQ0ITwgoQnhgXAck44dtNll+/xXnznHK3k+cTLMcgdzP+L8iaFxqEUi4c7qSAX8t7J5zicJIna+CgWOC2833BkTZmabj791X0ea/8/VD/ewlo/JV2k12e1LZd0N2PMXOBvm8RNuBC9MzmBtfYfzOEoQ7309pim32+f7Y2+Xa4OIs1y6I86AGZvbQczk+De7cfMVrOmJJoQHJDQhPCChCeEBCU0ID0hoQnhAQhPCA2EyyTZ4+/Qca+OO2/rvj7gJtTjBuSD9HM/rjdkqHrtjMKwb0/AaGlv4o4j3O45jIqRTabb+d7bcDdhBTCN1LsOfl47JeenFfO9DyBP54u4dnNOMCV9pD9keL8yWsTbIutdxbsm9/WBmdnYKP7SZ1Tb4tNXX37mKtQePucm9VnPf+x+97W4QNzObX+LmZj3RhPCAhCaEByQ0ITwgoQnhAQlNCA9IaEJ4ICyV2IYddthyT+bgRMcRZ3V0mnwhUcSe9UR1mj+z47Zh2wO+9jDNuSDdEdvZ4xFbzMmIa6OBO+Mjl+O1qsxMYa0Zc6rn9CzPS3XdWzLrL7hD39L8pkA7ZitnGHJt9ZL7GmdjtgQmJ/ge2HrG21ClOe7e/2D1Vax9cddt/d94m7cL2jE3uJ5oQnhAQhPCAxKaEB6Q0ITwgIQmhAckNCE8EKZTHCFdjwmq6aTd8xo17nBfKcKWgJk1O2yrZ3Ic+JMuuYN7Tltsgaf5MiwM2M6OxhwSFKTYRqagoEHM5+0e8fXbkNe4e8TR2cOE+42AQcBbE+OY/8XjmDc/8hlejyurq87xr+9w3HY2U8Xa7fffxFpunteqOT7B2uyKewvo17/7b5yztDCPNT3RhPCAhCaEByQ0ITwgoQnhAQlNCA9IaEJ4INx6/gKLyQr74FHZHaSy8zV3go/6nOWfK8S8KVDh/wfFaXcn+FqNA1vGEZ+YmQ3Z3s/F1EYx5wMEYJ/3Yt4wGA55a2Uiw7Z6IsWhPr2BO3ioPYw5gCFk6z9X4jCaQoy9v36/5hzfWuMu/LNzPlPgybNdrH34c+76v3iDtwxG0Ypz/Nu7fH+nUhw+pSeaEB6Q0ITwgIQmhAckNCE8IKEJ4QEJTQgPhBuPjrD49k8WsLaV23eOn8d0/AeHnNVeHrEtfdxi23dobms6M8U57pNVDrCpbfARuWc93haoFGOCduDMgXHA2x1wYrCZmbUTMd37MVsXh+fuNySCDK9HKR+Toc87Gra75rbwzcwSafc1Tlf5aN2DOr+V0OHjBqwfs03S6nKYztyC+42RP/nTH+GcYoaPGtYTTQgPSGhCeEBCE8IDEpoQHpDQhPBA2KyxdTSss4NVmne7hIk5jtvu1LiWDbiBeXPHfVKlmVlp2m3PvffuFZzz/AE3HJ8ccaNvNuaozZMYRzLddjtfee5RtjDkz0uU2UmzJP/v7BTcDcLDPtt2WxubWOv32EVOxdimEzn3ffD6rQs458Ib3LC7vrWDtfsxv/VBk+/9229ddI4Xs7M4p9s+xZqeaEJ4QEITwgMSmhAekNCE8ICEJoQHJDQhPBC26tzY2jnmmO7qlDuLYaLCdupZja3zWp0bPPsB28g//vgTmMTXvvPCfZqjmVkv5lTPRIYbn0cJXseg6G58Hsc0Dmdjmnk/+OQm1qoQZW1mNoLTTPMZtqwHA95K2Iyx/ve2ONK8drDnHO9nuHn8+k13hoeZ2c2P+OTOZoct/ESC77lS1n2vhsZ7MpVSif8WVoQQ3xsSmhAekNCE8ICEJoQHJDQhPCChCeGBsLnPFmdjj7MpVpfcpzZWJ91ZImZmx0nO4xiHrPm3brG1W6m6LffPf8VR52HANuw40cDaaUy3+swS2+o5iC9pH3KHfu+ctws++923WPvpBT79Mltw/9ZRgtc+GfL3WlzhdVxe4fyMYeR+s6IT8f12dMrZNpkhv31wYe4y1mYql7C2v+2O/m63eItqCu5FMz3RhPCChCaEByQ0ITwgoQnhAQlNCA9IaEJ4IEwMuIX8yT2OdV58xW2NLixywMrjGHu/OMPhPKsvc2T12sZj5/ijh3zto0bMaZqT7ihoM7PMJK/V8grP295yW8WFJIf9hDGni+6u8ToOz/jtgw7sJvz7v32Kc/pdvsbmGW9BhAG/PRGk3Nc4CPhvVRd5uyBI8/NiNOKtkMsr81gzOI31g1v85kS3y9sMeqIJ4QEJTQgPSGhCeEBCE8IDEpoQHpDQhPBAOIrYst7bZhv5aN8dpJLPc0Z6Ks/27fwyh9EkknyNDx9vu/9WhrvOU0l3WI6Z2dw8X/8o4jcdRjGnR5JVvLq8hFP6J/xx3VPu+s8N+eTRi8tXneP/snMf55we8tqPh/x7plPcid8fuQNzLr/K5yV0Y85E2D7Ywloix/OiLt8H7fOWc/zCAp+CG2T58/REE8IDEpoQHpDQhPCAhCaEByQ0ITwQvHyzilbJKMmNoaVL7ibg2Ul3VLiZWTrmoMrKMruE7G2ZPbi75hyPeuyWtdvs2i3NcQNzuciNvo0On/YYBO4lLme5EXkYY2I+WdvF2uQMu6a3br3tHD+scSPy4R7/aL0256tks3zvtKC7+bTDXzpfheAVM6s3OIY+VeHrX77IjcqTxYpz/PaHHD9+3OGcGj3RhPCAhCaEByQ0ITwgoQnhAQlNCA9IaEJ4IAzybIPPzbD9WTvbcY43jtmifTnGTk2GnLdwsssG/8UVd6Nsq+M+VdLMbOeIr3FikZtywwTb4Ht1bqLNF9zR2ZNVbqQeZ9xNrWZm06M5vo4aN4L/x3/ddY7/6Ac/wznv//A61p4+/QZr977iWnPs/q27Ad8DnQ6vx+qrnP2xeIm3O4qFSawtTF90jqfzvF1wcsRrryeaEB6Q0ITwgIQmhAckNCE8IKEJ4QEJTQgP/B/DrQwnkWM7BgAAAABJRU5ErkJggg==\" y=\"-7.041719\"/>\r\n   </g>\r\n   <g id=\"matplotlib.axis_1\">\r\n    <g id=\"xtick_1\">\r\n     <g id=\"line2d_1\">\r\n      <defs>\r\n       <path d=\"M 0 0 \r\nL 0 3.5 \r\n\" id=\"m93e9eee569\" style=\"stroke:#000000;stroke-width:0.8;\"/>\r\n      </defs>\r\n      <g>\r\n       <use style=\"stroke:#000000;stroke-width:0.8;\" x=\"30.3225\" xlink:href=\"#m93e9eee569\" y=\"225.041719\"/>\r\n      </g>\r\n     </g>\r\n     <g id=\"text_1\">\r\n      <!-- 0 -->\r\n      <defs>\r\n       <path d=\"M 31.78125 66.40625 \r\nQ 24.171875 66.40625 20.328125 58.90625 \r\nQ 16.5 51.421875 16.5 36.375 \r\nQ 16.5 21.390625 20.328125 13.890625 \r\nQ 24.171875 6.390625 31.78125 6.390625 \r\nQ 39.453125 6.390625 43.28125 13.890625 \r\nQ 47.125 21.390625 47.125 36.375 \r\nQ 47.125 51.421875 43.28125 58.90625 \r\nQ 39.453125 66.40625 31.78125 66.40625 \r\nz\r\nM 31.78125 74.21875 \r\nQ 44.046875 74.21875 50.515625 64.515625 \r\nQ 56.984375 54.828125 56.984375 36.375 \r\nQ 56.984375 17.96875 50.515625 8.265625 \r\nQ 44.046875 -1.421875 31.78125 -1.421875 \r\nQ 19.53125 -1.421875 13.0625 8.265625 \r\nQ 6.59375 17.96875 6.59375 36.375 \r\nQ 6.59375 54.828125 13.0625 64.515625 \r\nQ 19.53125 74.21875 31.78125 74.21875 \r\nz\r\n\" id=\"DejaVuSans-48\"/>\r\n      </defs>\r\n      <g transform=\"translate(27.14125 239.640156)scale(0.1 -0.1)\">\r\n       <use xlink:href=\"#DejaVuSans-48\"/>\r\n      </g>\r\n     </g>\r\n    </g>\r\n    <g id=\"xtick_2\">\r\n     <g id=\"line2d_2\">\r\n      <g>\r\n       <use style=\"stroke:#000000;stroke-width:0.8;\" x=\"64.2975\" xlink:href=\"#m93e9eee569\" y=\"225.041719\"/>\r\n      </g>\r\n     </g>\r\n     <g id=\"text_2\">\r\n      <!-- 5 -->\r\n      <defs>\r\n       <path d=\"M 10.796875 72.90625 \r\nL 49.515625 72.90625 \r\nL 49.515625 64.59375 \r\nL 19.828125 64.59375 \r\nL 19.828125 46.734375 \r\nQ 21.96875 47.46875 24.109375 47.828125 \r\nQ 26.265625 48.1875 28.421875 48.1875 \r\nQ 40.625 48.1875 47.75 41.5 \r\nQ 54.890625 34.8125 54.890625 23.390625 \r\nQ 54.890625 11.625 47.5625 5.09375 \r\nQ 40.234375 -1.421875 26.90625 -1.421875 \r\nQ 22.3125 -1.421875 17.546875 -0.640625 \r\nQ 12.796875 0.140625 7.71875 1.703125 \r\nL 7.71875 11.625 \r\nQ 12.109375 9.234375 16.796875 8.0625 \r\nQ 21.484375 6.890625 26.703125 6.890625 \r\nQ 35.15625 6.890625 40.078125 11.328125 \r\nQ 45.015625 15.765625 45.015625 23.390625 \r\nQ 45.015625 31 40.078125 35.4375 \r\nQ 35.15625 39.890625 26.703125 39.890625 \r\nQ 22.75 39.890625 18.8125 39.015625 \r\nQ 14.890625 38.140625 10.796875 36.28125 \r\nz\r\n\" id=\"DejaVuSans-53\"/>\r\n      </defs>\r\n      <g transform=\"translate(61.11625 239.640156)scale(0.1 -0.1)\">\r\n       <use xlink:href=\"#DejaVuSans-53\"/>\r\n      </g>\r\n     </g>\r\n    </g>\r\n    <g id=\"xtick_3\">\r\n     <g id=\"line2d_3\">\r\n      <g>\r\n       <use style=\"stroke:#000000;stroke-width:0.8;\" x=\"98.2725\" xlink:href=\"#m93e9eee569\" y=\"225.041719\"/>\r\n      </g>\r\n     </g>\r\n     <g id=\"text_3\">\r\n      <!-- 10 -->\r\n      <defs>\r\n       <path d=\"M 12.40625 8.296875 \r\nL 28.515625 8.296875 \r\nL 28.515625 63.921875 \r\nL 10.984375 60.40625 \r\nL 10.984375 69.390625 \r\nL 28.421875 72.90625 \r\nL 38.28125 72.90625 \r\nL 38.28125 8.296875 \r\nL 54.390625 8.296875 \r\nL 54.390625 0 \r\nL 12.40625 0 \r\nz\r\n\" id=\"DejaVuSans-49\"/>\r\n      </defs>\r\n      <g transform=\"translate(91.91 239.640156)scale(0.1 -0.1)\">\r\n       <use xlink:href=\"#DejaVuSans-49\"/>\r\n       <use x=\"63.623047\" xlink:href=\"#DejaVuSans-48\"/>\r\n      </g>\r\n     </g>\r\n    </g>\r\n    <g id=\"xtick_4\">\r\n     <g id=\"line2d_4\">\r\n      <g>\r\n       <use style=\"stroke:#000000;stroke-width:0.8;\" x=\"132.2475\" xlink:href=\"#m93e9eee569\" y=\"225.041719\"/>\r\n      </g>\r\n     </g>\r\n     <g id=\"text_4\">\r\n      <!-- 15 -->\r\n      <g transform=\"translate(125.885 239.640156)scale(0.1 -0.1)\">\r\n       <use xlink:href=\"#DejaVuSans-49\"/>\r\n       <use x=\"63.623047\" xlink:href=\"#DejaVuSans-53\"/>\r\n      </g>\r\n     </g>\r\n    </g>\r\n    <g id=\"xtick_5\">\r\n     <g id=\"line2d_5\">\r\n      <g>\r\n       <use style=\"stroke:#000000;stroke-width:0.8;\" x=\"166.2225\" xlink:href=\"#m93e9eee569\" y=\"225.041719\"/>\r\n      </g>\r\n     </g>\r\n     <g id=\"text_5\">\r\n      <!-- 20 -->\r\n      <defs>\r\n       <path d=\"M 19.1875 8.296875 \r\nL 53.609375 8.296875 \r\nL 53.609375 0 \r\nL 7.328125 0 \r\nL 7.328125 8.296875 \r\nQ 12.9375 14.109375 22.625 23.890625 \r\nQ 32.328125 33.6875 34.8125 36.53125 \r\nQ 39.546875 41.84375 41.421875 45.53125 \r\nQ 43.3125 49.21875 43.3125 52.78125 \r\nQ 43.3125 58.59375 39.234375 62.25 \r\nQ 35.15625 65.921875 28.609375 65.921875 \r\nQ 23.96875 65.921875 18.8125 64.3125 \r\nQ 13.671875 62.703125 7.8125 59.421875 \r\nL 7.8125 69.390625 \r\nQ 13.765625 71.78125 18.9375 73 \r\nQ 24.125 74.21875 28.421875 74.21875 \r\nQ 39.75 74.21875 46.484375 68.546875 \r\nQ 53.21875 62.890625 53.21875 53.421875 \r\nQ 53.21875 48.921875 51.53125 44.890625 \r\nQ 49.859375 40.875 45.40625 35.40625 \r\nQ 44.1875 33.984375 37.640625 27.21875 \r\nQ 31.109375 20.453125 19.1875 8.296875 \r\nz\r\n\" id=\"DejaVuSans-50\"/>\r\n      </defs>\r\n      <g transform=\"translate(159.86 239.640156)scale(0.1 -0.1)\">\r\n       <use xlink:href=\"#DejaVuSans-50\"/>\r\n       <use x=\"63.623047\" xlink:href=\"#DejaVuSans-48\"/>\r\n      </g>\r\n     </g>\r\n    </g>\r\n    <g id=\"xtick_6\">\r\n     <g id=\"line2d_6\">\r\n      <g>\r\n       <use style=\"stroke:#000000;stroke-width:0.8;\" x=\"200.1975\" xlink:href=\"#m93e9eee569\" y=\"225.041719\"/>\r\n      </g>\r\n     </g>\r\n     <g id=\"text_6\">\r\n      <!-- 25 -->\r\n      <g transform=\"translate(193.835 239.640156)scale(0.1 -0.1)\">\r\n       <use xlink:href=\"#DejaVuSans-50\"/>\r\n       <use x=\"63.623047\" xlink:href=\"#DejaVuSans-53\"/>\r\n      </g>\r\n     </g>\r\n    </g>\r\n    <g id=\"xtick_7\">\r\n     <g id=\"line2d_7\">\r\n      <g>\r\n       <use style=\"stroke:#000000;stroke-width:0.8;\" x=\"234.1725\" xlink:href=\"#m93e9eee569\" y=\"225.041719\"/>\r\n      </g>\r\n     </g>\r\n     <g id=\"text_7\">\r\n      <!-- 30 -->\r\n      <defs>\r\n       <path d=\"M 40.578125 39.3125 \r\nQ 47.65625 37.796875 51.625 33 \r\nQ 55.609375 28.21875 55.609375 21.1875 \r\nQ 55.609375 10.40625 48.1875 4.484375 \r\nQ 40.765625 -1.421875 27.09375 -1.421875 \r\nQ 22.515625 -1.421875 17.65625 -0.515625 \r\nQ 12.796875 0.390625 7.625 2.203125 \r\nL 7.625 11.71875 \r\nQ 11.71875 9.328125 16.59375 8.109375 \r\nQ 21.484375 6.890625 26.8125 6.890625 \r\nQ 36.078125 6.890625 40.9375 10.546875 \r\nQ 45.796875 14.203125 45.796875 21.1875 \r\nQ 45.796875 27.640625 41.28125 31.265625 \r\nQ 36.765625 34.90625 28.71875 34.90625 \r\nL 20.21875 34.90625 \r\nL 20.21875 43.015625 \r\nL 29.109375 43.015625 \r\nQ 36.375 43.015625 40.234375 45.921875 \r\nQ 44.09375 48.828125 44.09375 54.296875 \r\nQ 44.09375 59.90625 40.109375 62.90625 \r\nQ 36.140625 65.921875 28.71875 65.921875 \r\nQ 24.65625 65.921875 20.015625 65.03125 \r\nQ 15.375 64.15625 9.8125 62.3125 \r\nL 9.8125 71.09375 \r\nQ 15.4375 72.65625 20.34375 73.4375 \r\nQ 25.25 74.21875 29.59375 74.21875 \r\nQ 40.828125 74.21875 47.359375 69.109375 \r\nQ 53.90625 64.015625 53.90625 55.328125 \r\nQ 53.90625 49.265625 50.4375 45.09375 \r\nQ 46.96875 40.921875 40.578125 39.3125 \r\nz\r\n\" id=\"DejaVuSans-51\"/>\r\n      </defs>\r\n      <g transform=\"translate(227.81 239.640156)scale(0.1 -0.1)\">\r\n       <use xlink:href=\"#DejaVuSans-51\"/>\r\n       <use x=\"63.623047\" xlink:href=\"#DejaVuSans-48\"/>\r\n      </g>\r\n     </g>\r\n    </g>\r\n   </g>\r\n   <g id=\"matplotlib.axis_2\">\r\n    <g id=\"ytick_1\">\r\n     <g id=\"line2d_8\">\r\n      <defs>\r\n       <path d=\"M 0 0 \r\nL -3.5 0 \r\n\" id=\"mc084675109\" style=\"stroke:#000000;stroke-width:0.8;\"/>\r\n      </defs>\r\n      <g>\r\n       <use style=\"stroke:#000000;stroke-width:0.8;\" x=\"26.925\" xlink:href=\"#mc084675109\" y=\"10.999219\"/>\r\n      </g>\r\n     </g>\r\n     <g id=\"text_8\">\r\n      <!-- 0 -->\r\n      <g transform=\"translate(13.5625 14.798437)scale(0.1 -0.1)\">\r\n       <use xlink:href=\"#DejaVuSans-48\"/>\r\n      </g>\r\n     </g>\r\n    </g>\r\n    <g id=\"ytick_2\">\r\n     <g id=\"line2d_9\">\r\n      <g>\r\n       <use style=\"stroke:#000000;stroke-width:0.8;\" x=\"26.925\" xlink:href=\"#mc084675109\" y=\"44.974219\"/>\r\n      </g>\r\n     </g>\r\n     <g id=\"text_9\">\r\n      <!-- 5 -->\r\n      <g transform=\"translate(13.5625 48.773437)scale(0.1 -0.1)\">\r\n       <use xlink:href=\"#DejaVuSans-53\"/>\r\n      </g>\r\n     </g>\r\n    </g>\r\n    <g id=\"ytick_3\">\r\n     <g id=\"line2d_10\">\r\n      <g>\r\n       <use style=\"stroke:#000000;stroke-width:0.8;\" x=\"26.925\" xlink:href=\"#mc084675109\" y=\"78.949219\"/>\r\n      </g>\r\n     </g>\r\n     <g id=\"text_10\">\r\n      <!-- 10 -->\r\n      <g transform=\"translate(7.2 82.748437)scale(0.1 -0.1)\">\r\n       <use xlink:href=\"#DejaVuSans-49\"/>\r\n       <use x=\"63.623047\" xlink:href=\"#DejaVuSans-48\"/>\r\n      </g>\r\n     </g>\r\n    </g>\r\n    <g id=\"ytick_4\">\r\n     <g id=\"line2d_11\">\r\n      <g>\r\n       <use style=\"stroke:#000000;stroke-width:0.8;\" x=\"26.925\" xlink:href=\"#mc084675109\" y=\"112.924219\"/>\r\n      </g>\r\n     </g>\r\n     <g id=\"text_11\">\r\n      <!-- 15 -->\r\n      <g transform=\"translate(7.2 116.723437)scale(0.1 -0.1)\">\r\n       <use xlink:href=\"#DejaVuSans-49\"/>\r\n       <use x=\"63.623047\" xlink:href=\"#DejaVuSans-53\"/>\r\n      </g>\r\n     </g>\r\n    </g>\r\n    <g id=\"ytick_5\">\r\n     <g id=\"line2d_12\">\r\n      <g>\r\n       <use style=\"stroke:#000000;stroke-width:0.8;\" x=\"26.925\" xlink:href=\"#mc084675109\" y=\"146.899219\"/>\r\n      </g>\r\n     </g>\r\n     <g id=\"text_12\">\r\n      <!-- 20 -->\r\n      <g transform=\"translate(7.2 150.698437)scale(0.1 -0.1)\">\r\n       <use xlink:href=\"#DejaVuSans-50\"/>\r\n       <use x=\"63.623047\" xlink:href=\"#DejaVuSans-48\"/>\r\n      </g>\r\n     </g>\r\n    </g>\r\n    <g id=\"ytick_6\">\r\n     <g id=\"line2d_13\">\r\n      <g>\r\n       <use style=\"stroke:#000000;stroke-width:0.8;\" x=\"26.925\" xlink:href=\"#mc084675109\" y=\"180.874219\"/>\r\n      </g>\r\n     </g>\r\n     <g id=\"text_13\">\r\n      <!-- 25 -->\r\n      <g transform=\"translate(7.2 184.673437)scale(0.1 -0.1)\">\r\n       <use xlink:href=\"#DejaVuSans-50\"/>\r\n       <use x=\"63.623047\" xlink:href=\"#DejaVuSans-53\"/>\r\n      </g>\r\n     </g>\r\n    </g>\r\n    <g id=\"ytick_7\">\r\n     <g id=\"line2d_14\">\r\n      <g>\r\n       <use style=\"stroke:#000000;stroke-width:0.8;\" x=\"26.925\" xlink:href=\"#mc084675109\" y=\"214.849219\"/>\r\n      </g>\r\n     </g>\r\n     <g id=\"text_14\">\r\n      <!-- 30 -->\r\n      <g transform=\"translate(7.2 218.648437)scale(0.1 -0.1)\">\r\n       <use xlink:href=\"#DejaVuSans-51\"/>\r\n       <use x=\"63.623047\" xlink:href=\"#DejaVuSans-48\"/>\r\n      </g>\r\n     </g>\r\n    </g>\r\n   </g>\r\n   <g id=\"patch_3\">\r\n    <path d=\"M 26.925 225.041719 \r\nL 26.925 7.601719 \r\n\" style=\"fill:none;stroke:#000000;stroke-linecap:square;stroke-linejoin:miter;stroke-width:0.8;\"/>\r\n   </g>\r\n   <g id=\"patch_4\">\r\n    <path d=\"M 244.365 225.041719 \r\nL 244.365 7.601719 \r\n\" style=\"fill:none;stroke:#000000;stroke-linecap:square;stroke-linejoin:miter;stroke-width:0.8;\"/>\r\n   </g>\r\n   <g id=\"patch_5\">\r\n    <path d=\"M 26.925 225.041719 \r\nL 244.365 225.041719 \r\n\" style=\"fill:none;stroke:#000000;stroke-linecap:square;stroke-linejoin:miter;stroke-width:0.8;\"/>\r\n   </g>\r\n   <g id=\"patch_6\">\r\n    <path d=\"M 26.925 7.601719 \r\nL 244.365 7.601719 \r\n\" style=\"fill:none;stroke:#000000;stroke-linecap:square;stroke-linejoin:miter;stroke-width:0.8;\"/>\r\n   </g>\r\n  </g>\r\n </g>\r\n <defs>\r\n  <clipPath id=\"p1f1833bf02\">\r\n   <rect height=\"217.44\" width=\"217.44\" x=\"26.925\" y=\"7.601719\"/>\r\n  </clipPath>\r\n </defs>\r\n</svg>\r\n",
      "image/png": "[encoded data removed]"
     },
     "metadata": {
      "needs_background": "light"
     }
    }
   ],
   "source": [
    "# Get some random training images and show\n",
    "dataiter = iter(trainloader)\n",
    "images, labels = dataiter.next()\n",
    "\n",
    "i = 0\n",
    "print(classes[labels[i]])\n",
    "img = images[0].numpy() # unnormalize to 0~1\n",
    "img = np.transpose(img / 2 + 0.5, (1, 2, 0))\n",
    "plt.imshow(img)"
   ]
  },
  {
   "cell_type": "code",
   "execution_count": 19,
   "metadata": {},
   "outputs": [
    {
     "output_type": "stream",
     "name": "stdout",
     "text": "GroundTruth: \n['frog', 'cat', 'frog', 'car']\nPredicted: \n['frog', 'dog', 'frog', 'car']\n"
    }
   ],
   "source": [
    "print('GroundTruth: ')\n",
    "print([classes[labels[i]] for i in range(4)])\n",
    "\n",
    "outs = net(images.to(device))\n",
    "_, predicted = torch.max(outs, 1)\n",
    "print('Predicted: ')\n",
    "print([classes[predicted[i]] for i in range(4)])"
   ]
  },
  {
   "cell_type": "code",
   "execution_count": null,
   "metadata": {},
   "outputs": [],
   "source": []
  }
 ],
 "metadata": {
  "kernelspec": {
   "display_name": "Python 3",
   "language": "python",
   "name": "python3"
  },
  "language_info": {
   "codemirror_mode": {
    "name": "ipython",
    "version": 3
   },
   "file_extension": ".py",
   "mimetype": "text/x-python",
   "name": "python",
   "nbconvert_exporter": "python",
   "pygments_lexer": "ipython3",
   "version": "3.7.6-final"
  }
 },
 "nbformat": 4,
 "nbformat_minor": 2
}