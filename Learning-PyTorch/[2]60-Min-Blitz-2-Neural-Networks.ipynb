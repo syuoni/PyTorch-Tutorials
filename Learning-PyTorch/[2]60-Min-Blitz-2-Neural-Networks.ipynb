{
 "cells": [
  {
   "cell_type": "code",
   "execution_count": 1,
   "metadata": {},
   "outputs": [],
   "source": [
    "import numpy as np\n",
    "import torch\n",
    "import torch.nn as nn\n",
    "import torch.nn.functional as F\n",
    "import torch.optim as optim"
   ]
  },
  {
   "cell_type": "markdown",
   "metadata": {},
   "source": [
    "# Network defination and backprop"
   ]
  },
  {
   "cell_type": "code",
   "execution_count": 2,
   "metadata": {},
   "outputs": [
    {
     "output_type": "execute_result",
     "data": {
      "text/plain": "Net(\n  (conv1): Conv2d(1, 6, kernel_size=(5, 5), stride=(1, 1))\n  (conv2): Conv2d(6, 16, kernel_size=(5, 5), stride=(1, 1))\n  (fc1): Linear(in_features=400, out_features=120, bias=True)\n  (fc2): Linear(in_features=120, out_features=84, bias=True)\n  (fc3): Linear(in_features=84, out_features=10, bias=True)\n)"
     },
     "metadata": {},
     "execution_count": 2
    }
   ],
   "source": [
    "# Define the network\n",
    "\n",
    "class Net(nn.Module):\n",
    "    def __init__(self):\n",
    "        super(Net, self).__init__()\n",
    "        # 1 input channel, 6 output channel, 5*5 convolution kernel\n",
    "        # Kernel_size could be a tuple, or integer if it is a square\n",
    "        self.conv1 = nn.Conv2d(1, 6, 5)\n",
    "        # 6 input channel, 16 output channel, 5*5 convolution kernel\n",
    "        self.conv2 = nn.Conv2d(6, 16, 5)\n",
    "        # Affine operation: y = Wx + b\n",
    "        # fc = full connect\n",
    "        # 16*5*5 input, 120 output\n",
    "        # ((32-4)/2-4)/2 = 5, so it is image of 5*5 size after last pooling layer\n",
    "        self.fc1 = nn.Linear(16*5*5, 120)\n",
    "        self.fc2 = nn.Linear(120, 84)\n",
    "        self.fc3 = nn.Linear(84, 10)\n",
    "    \n",
    "    def forward(self, x):\n",
    "        x = F.relu(self.conv1(x))\n",
    "        # Max pooling over 2*2 window\n",
    "        x = F.max_pool2d(x, 2)\n",
    "        \n",
    "        x = F.relu(self.conv2(x))\n",
    "        x = F.max_pool2d(x, 2)\n",
    "        \n",
    "        # Flatten x into batch_size * flat_n_feat\n",
    "        x = x.view(-1, self.num_flat_features(x))\n",
    "        x = F.relu(self.fc1(x))\n",
    "        x = F.relu(self.fc2(x))\n",
    "        x = self.fc3(x)\n",
    "        return x        \n",
    "    \n",
    "    # TODO: ??\n",
    "    def num_flat_features(self, x):\n",
    "        size = x.size()[1:]\n",
    "        return int(np.product(size))\n",
    "    \n",
    "# Construct the network\n",
    "net = Net()\n",
    "net"
   ]
  },
  {
   "cell_type": "code",
   "execution_count": 3,
   "metadata": {},
   "outputs": [
    {
     "output_type": "stream",
     "name": "stdout",
     "text": "10\ntorch.Size([6, 1, 5, 5])\ntorch.Size([6])\ntorch.Size([16, 6, 5, 5])\ntorch.Size([16])\ntorch.Size([120, 400])\ntorch.Size([120])\ntorch.Size([84, 120])\ntorch.Size([84])\ntorch.Size([10, 84])\ntorch.Size([10])\n"
    }
   ],
   "source": [
    "# Learnable parameters\n",
    "params = list(net.parameters())\n",
    "print(len(params))\n",
    "\n",
    "for param in params:\n",
    "    print(param.size())"
   ]
  },
  {
   "cell_type": "code",
   "execution_count": 4,
   "metadata": {},
   "outputs": [
    {
     "output_type": "stream",
     "name": "stdout",
     "text": "tensor([[-0.0428, -0.0568,  0.0064,  0.0140,  0.0073,  0.0571,  0.0093,  0.0284,\n          0.1521, -0.0845]], grad_fn=<AddmmBackward>)\n"
    }
   ],
   "source": [
    "# Forward propagation\n",
    "in1 = torch.randn(1, 1, 32, 32)\n",
    "# DO NOT use net.forward(in1)??\n",
    "out1 = net(in1)\n",
    "print(out1)"
   ]
  },
  {
   "cell_type": "code",
   "execution_count": 5,
   "metadata": {},
   "outputs": [
    {
     "output_type": "stream",
     "name": "stdout",
     "text": "tensor([[0., 1., 2., 3., 4., 5., 6., 7., 8., 9.]])\ntensor(28.2991, grad_fn=<MseLossBackward>)\ntensor(28.2991, grad_fn=<MeanBackward0>)\n"
    }
   ],
   "source": [
    "# Calculate the loss\n",
    "target1 = torch.arange(0, 10, dtype=torch.float)\n",
    "target1 = target1.view(1, -1)  # make it the same shape as output\n",
    "print(target1)\n",
    "\n",
    "criterion = nn.MSELoss()\n",
    "loss = criterion(out1, target1)\n",
    "print(loss)\n",
    "print(((out1-target1)**2).mean())"
   ]
  },
  {
   "cell_type": "code",
   "execution_count": 6,
   "metadata": {},
   "outputs": [
    {
     "output_type": "stream",
     "name": "stdout",
     "text": "tensor([[-0.0334, -0.0805,  0.0149,  0.0181,  0.0413,  0.0549,  0.0153,  0.0489,\n          0.1636, -0.0782],\n        [-0.0353, -0.0987,  0.0254,  0.0334,  0.0381,  0.0758,  0.0075,  0.0235,\n          0.1486, -0.0884],\n        [-0.0242, -0.0823,  0.0157,  0.0212,  0.0159,  0.0560, -0.0135,  0.0513,\n          0.1514, -0.0741],\n        [-0.0456, -0.0816,  0.0156,  0.0116,  0.0608,  0.0640, -0.0023,  0.0328,\n          0.1238, -0.0889]], grad_fn=<AddmmBackward>)\n"
    }
   ],
   "source": [
    "# Forward propagation in minibatch \n",
    "# Input-shape: (minibatch size, channel size, fig height, fig width)\n",
    "in2 = torch.randn(4, 1, 32, 32)\n",
    "out2 = net(in2)\n",
    "print(out2)"
   ]
  },
  {
   "cell_type": "code",
   "execution_count": 7,
   "metadata": {},
   "outputs": [
    {
     "output_type": "stream",
     "name": "stdout",
     "text": "tensor([[ 0.,  1.,  2.,  3.,  4.,  5.,  6.,  7.,  8.,  9.],\n        [10., 11., 12., 13., 14., 15., 16., 17., 18., 19.],\n        [20., 21., 22., 23., 24., 25., 26., 27., 28., 29.],\n        [30., 31., 32., 33., 34., 35., 36., 37., 38., 39.]])\ntensor(512.9468, grad_fn=<MseLossBackward>)\n"
    }
   ],
   "source": [
    "# Calculate the loss\n",
    "target2 = torch.arange(0, 40, dtype=torch.float).view(4, -1)\n",
    "print(target2)\n",
    "\n",
    "criterion = nn.MSELoss()\n",
    "loss = criterion(out2, target2)\n",
    "print(loss)"
   ]
  },
  {
   "cell_type": "code",
   "execution_count": 8,
   "metadata": {},
   "outputs": [
    {
     "output_type": "stream",
     "name": "stdout",
     "text": "<MseLossBackward object at 0x000002427E330BC8>\n<AddmmBackward object at 0x000002427E330908>\n<AccumulateGrad object at 0x000002427E330BC8>\n"
    }
   ],
   "source": [
    "# Show the loss functions...\n",
    "# MSELoss\n",
    "print(loss.grad_fn)\n",
    "# Linear\n",
    "print(loss.grad_fn.next_functions[0][0])\n",
    "# ReLU\n",
    "print(loss.grad_fn.next_functions[0][0].next_functions[0][0])"
   ]
  },
  {
   "cell_type": "code",
   "execution_count": 9,
   "metadata": {},
   "outputs": [
    {
     "output_type": "stream",
     "name": "stdout",
     "text": "conv1.bias.grad before backward\nNone\nconv1.bias.grad after backward\ntensor([-0.3353,  0.0195,  0.0134, -0.0449,  0.0821,  0.1292])\n"
    }
   ],
   "source": [
    "# Backward propagation \n",
    "# Zeros the gradient buffers of all parameters\n",
    "net.zero_grad()\n",
    "print('conv1.bias.grad before backward')\n",
    "print(net.conv1.bias.grad)\n",
    "\n",
    "loss.backward()\n",
    "print('conv1.bias.grad after backward')\n",
    "print(net.conv1.bias.grad)"
   ]
  },
  {
   "cell_type": "code",
   "execution_count": 10,
   "metadata": {},
   "outputs": [],
   "source": [
    "# Update weights\n",
    "# SGD implemented by Python\n",
    "learning_rate = 0.01\n",
    "for param in net.parameters():\n",
    "    param.data.sub_(param.grad.data * learning_rate)"
   ]
  },
  {
   "cell_type": "code",
   "execution_count": 11,
   "metadata": {},
   "outputs": [],
   "source": [
    "# torch implemetation\n",
    "optimizer = optim.SGD(net.parameters(), lr=learning_rate)\n",
    "optimizer.step()"
   ]
  },
  {
   "cell_type": "markdown",
   "metadata": {},
   "source": [
    "# Example: LeNet "
   ]
  },
  {
   "cell_type": "code",
   "execution_count": 12,
   "metadata": {},
   "outputs": [],
   "source": [
    "import torchvision\n",
    "import torchvision.transforms as transforms\n",
    "import matplotlib.pyplot as plt\n",
    "import time\n",
    "%matplotlib inline"
   ]
  },
  {
   "cell_type": "code",
   "execution_count": 13,
   "metadata": {},
   "outputs": [
    {
     "output_type": "stream",
     "name": "stderr",
     "text": "0it [00:00, ?it/s]Downloading https://www.cs.toronto.edu/~kriz/cifar-10-python.tar.gz to ./data\\cifar-10-python.tar.gz\n100%|█████████▉| 170434560/170498071 [01:27<00:00, 2164629.19it/s]Extracting ./data\\cifar-10-python.tar.gz to ./data\nFiles already downloaded and verified\n"
    }
   ],
   "source": [
    "transform = transforms.Compose([transforms.ToTensor(), \n",
    "                                transforms.Normalize((0.5, 0.5, 0.5), (0.5, 0.5, 0.5))])\n",
    "\n",
    "trainset = torchvision.datasets.CIFAR10(root='./data', train=True, download=True, transform=transform)\n",
    "trainloader = torch.utils.data.DataLoader(trainset, batch_size=4, shuffle=True, num_workers=2)\n",
    "\n",
    "testset = torchvision.datasets.CIFAR10(root='./data', train=False, download=True, transform=transform)\n",
    "testloader = torch.utils.data.DataLoader(testset, batch_size=4, shuffle=False, num_workers=2)\n",
    "\n",
    "classes = ('plane', 'car', 'bird', 'cat', 'deer', 'dog', 'frog', 'horse', 'ship', 'truck')"
   ]
  },
  {
   "cell_type": "code",
   "execution_count": 14,
   "metadata": {},
   "outputs": [
    {
     "output_type": "execute_result",
     "data": {
      "text/plain": "Net(\n  (conv1): Conv2d(3, 200, kernel_size=(5, 5), stride=(1, 1))\n  (conv2): Conv2d(200, 16, kernel_size=(5, 5), stride=(1, 1))\n  (fc1): Linear(in_features=400, out_features=120, bias=True)\n  (fc2): Linear(in_features=120, out_features=84, bias=True)\n  (fc3): Linear(in_features=84, out_features=10, bias=True)\n)"
     },
     "metadata": {},
     "execution_count": 14
    }
   ],
   "source": [
    "class Net(nn.Module):\n",
    "    def __init__(self):\n",
    "        super(Net, self).__init__()\n",
    "        self.conv1 = nn.Conv2d(3, 200, 5)\n",
    "        self.conv2 = nn.Conv2d(200, 16, 5)\n",
    "        self.fc1 = nn.Linear(16*5*5, 120)\n",
    "        self.fc2 = nn.Linear(120, 84)\n",
    "        self.fc3 = nn.Linear(84, 10)\n",
    "    \n",
    "    def forward(self, x):\n",
    "        x = F.relu(self.conv1(x))\n",
    "        x = F.max_pool2d(x, 2)\n",
    "        \n",
    "        x = F.relu(self.conv2(x))\n",
    "        x = F.max_pool2d(x, 2)\n",
    "        \n",
    "        x = x.view(-1, 16*5*5)\n",
    "        x = F.relu(self.fc1(x))\n",
    "        x = F.relu(self.fc2(x))\n",
    "        x = self.fc3(x)\n",
    "        return x\n",
    "\n",
    "net = Net()\n",
    "net"
   ]
  },
  {
   "cell_type": "code",
   "execution_count": 15,
   "metadata": {},
   "outputs": [
    {
     "output_type": "stream",
     "name": "stdout",
     "text": "device: cpu\n"
    },
    {
     "output_type": "execute_result",
     "data": {
      "text/plain": "Net(\n  (conv1): Conv2d(3, 200, kernel_size=(5, 5), stride=(1, 1))\n  (conv2): Conv2d(200, 16, kernel_size=(5, 5), stride=(1, 1))\n  (fc1): Linear(in_features=400, out_features=120, bias=True)\n  (fc2): Linear(in_features=120, out_features=84, bias=True)\n  (fc3): Linear(in_features=84, out_features=10, bias=True)\n)"
     },
     "metadata": {},
     "execution_count": 15
    }
   ],
   "source": [
    "device = torch.device(\"cuda:0\" if torch.cuda.is_available() else \"cpu\")\n",
    "\n",
    "print('device:', device)\n",
    "net.to(device)\n",
    "net"
   ]
  },
  {
   "cell_type": "code",
   "execution_count": 16,
   "metadata": {},
   "outputs": [],
   "source": [
    "criterion = nn.CrossEntropyLoss()\n",
    "optimizer = optim.SGD(net.parameters(), lr=0.001, momentum=0.9)"
   ]
  },
  {
   "cell_type": "code",
   "execution_count": 17,
   "metadata": {},
   "outputs": [
    {
     "output_type": "stream",
     "name": "stderr",
     "text": "170500096it [01:40, 2164629.19it/s][1,  2000] loss: 2.030\n[1,  4000] loss: 1.657\n[1,  6000] loss: 1.519\n[1,  8000] loss: 1.443\n[1, 10000] loss: 1.363\n[1, 12000] loss: 1.327\n[2,  2000] loss: 1.237\n[2,  4000] loss: 1.219\n[2,  6000] loss: 1.193\n[2,  8000] loss: 1.153\n[2, 10000] loss: 1.129\n[2, 12000] loss: 1.101\nTraining time: 452.469777\n"
    }
   ],
   "source": [
    "t0 = time.time()\n",
    "for epoch in range(2):\n",
    "    running_loss = 0.0\n",
    "    for i, data in enumerate(trainloader, 0):\n",
    "        ins, labels = data\n",
    "        ins, labels = ins.to(device), labels.to(device)\n",
    "\n",
    "        # zero the parameter gradients\n",
    "        optimizer.zero_grad()\n",
    "\n",
    "        # forward + backward + optimize\n",
    "        outs = net(ins)\n",
    "        loss = criterion(outs, labels)\n",
    "        loss.backward()\n",
    "        optimizer.step()\n",
    "        \n",
    "        # print statistics\n",
    "        running_loss += loss.item()\n",
    "        if (i+1) % 2000 == 0:\n",
    "            print('[%d, %5d] loss: %.3f' % (epoch+1, i+1, running_loss/2000))\n",
    "            running_loss = 0.0\n",
    "\n",
    "t1 = time.time()\n",
    "print('Training time: %f' % (t1-t0))"
   ]
  },
  {
   "cell_type": "code",
   "execution_count": 18,
   "metadata": {},
   "outputs": [
    {
     "output_type": "stream",
     "name": "stdout",
     "text": "frog\n"
    },
    {
     "output_type": "execute_result",
     "data": {
      "text/plain": "<matplotlib.image.AxesImage at 0x24203863348>"
     },
     "metadata": {},
     "execution_count": 18
    },
    {
     "output_type": "display_data",
     "data": {
      "text/plain": "<Figure size 432x288 with 1 Axes>",
      "image/svg+xml": "<?xml version=\"1.0\" encoding=\"utf-8\" standalone=\"no\"?>\r\n<!DOCTYPE svg PUBLIC \"-//W3C//DTD SVG 1.1//EN\"\r\n  \"http://www.w3.org/Graphics/SVG/1.1/DTD/svg11.dtd\">\r\n<!-- Created with matplotlib (https://matplotlib.org/) -->\r\n<svg height=\"248.919844pt\" version=\"1.1\" viewBox=\"0 0 251.565 248.919844\" width=\"251.565pt\" xmlns=\"http://www.w3.org/2000/svg\" xmlns:xlink=\"http://www.w3.org/1999/xlink\">\r\n <defs>\r\n  <style type=\"text/css\">\r\n*{stroke-linecap:butt;stroke-linejoin:round;}\r\n  </style>\r\n </defs>\r\n <g id=\"figure_1\">\r\n  <g id=\"patch_1\">\r\n   <path d=\"M 0 248.919844 \r\nL 251.565 248.919844 \r\nL 251.565 0 \r\nL 0 0 \r\nz\r\n\" style=\"fill:none;\"/>\r\n  </g>\r\n  <g id=\"axes_1\">\r\n   <g id=\"patch_2\">\r\n    <path d=\"M 26.925 225.041719 \r\nL 244.365 225.041719 \r\nL 244.365 7.601719 \r\nL 26.925 7.601719 \r\nz\r\n\" style=\"fill:#ffffff;\"/>\r\n   </g>\r\n   <g clip-path=\"url(#pfdeafc7c09)\">\r\n    <image height=\"218\" id=\"image0246002e6f\" transform=\"scale(1 -1)translate(0 -218)\" width=\"218\" x=\"26.925\" xlink:href=\"data:image/png;base64,\r\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\" y=\"-7.041719\"/>\r\n   </g>\r\n   <g id=\"matplotlib.axis_1\">\r\n    <g id=\"xtick_1\">\r\n     <g id=\"line2d_1\">\r\n      <defs>\r\n       <path d=\"M 0 0 \r\nL 0 3.5 \r\n\" id=\"m9789d383be\" style=\"stroke:#000000;stroke-width:0.8;\"/>\r\n      </defs>\r\n      <g>\r\n       <use style=\"stroke:#000000;stroke-width:0.8;\" x=\"30.3225\" xlink:href=\"#m9789d383be\" y=\"225.041719\"/>\r\n      </g>\r\n     </g>\r\n     <g id=\"text_1\">\r\n      <!-- 0 -->\r\n      <defs>\r\n       <path d=\"M 31.78125 66.40625 \r\nQ 24.171875 66.40625 20.328125 58.90625 \r\nQ 16.5 51.421875 16.5 36.375 \r\nQ 16.5 21.390625 20.328125 13.890625 \r\nQ 24.171875 6.390625 31.78125 6.390625 \r\nQ 39.453125 6.390625 43.28125 13.890625 \r\nQ 47.125 21.390625 47.125 36.375 \r\nQ 47.125 51.421875 43.28125 58.90625 \r\nQ 39.453125 66.40625 31.78125 66.40625 \r\nz\r\nM 31.78125 74.21875 \r\nQ 44.046875 74.21875 50.515625 64.515625 \r\nQ 56.984375 54.828125 56.984375 36.375 \r\nQ 56.984375 17.96875 50.515625 8.265625 \r\nQ 44.046875 -1.421875 31.78125 -1.421875 \r\nQ 19.53125 -1.421875 13.0625 8.265625 \r\nQ 6.59375 17.96875 6.59375 36.375 \r\nQ 6.59375 54.828125 13.0625 64.515625 \r\nQ 19.53125 74.21875 31.78125 74.21875 \r\nz\r\n\" id=\"DejaVuSans-48\"/>\r\n      </defs>\r\n      <g transform=\"translate(27.14125 239.640156)scale(0.1 -0.1)\">\r\n       <use xlink:href=\"#DejaVuSans-48\"/>\r\n      </g>\r\n     </g>\r\n    </g>\r\n    <g id=\"xtick_2\">\r\n     <g id=\"line2d_2\">\r\n      <g>\r\n       <use style=\"stroke:#000000;stroke-width:0.8;\" x=\"64.2975\" xlink:href=\"#m9789d383be\" y=\"225.041719\"/>\r\n      </g>\r\n     </g>\r\n     <g id=\"text_2\">\r\n      <!-- 5 -->\r\n      <defs>\r\n       <path d=\"M 10.796875 72.90625 \r\nL 49.515625 72.90625 \r\nL 49.515625 64.59375 \r\nL 19.828125 64.59375 \r\nL 19.828125 46.734375 \r\nQ 21.96875 47.46875 24.109375 47.828125 \r\nQ 26.265625 48.1875 28.421875 48.1875 \r\nQ 40.625 48.1875 47.75 41.5 \r\nQ 54.890625 34.8125 54.890625 23.390625 \r\nQ 54.890625 11.625 47.5625 5.09375 \r\nQ 40.234375 -1.421875 26.90625 -1.421875 \r\nQ 22.3125 -1.421875 17.546875 -0.640625 \r\nQ 12.796875 0.140625 7.71875 1.703125 \r\nL 7.71875 11.625 \r\nQ 12.109375 9.234375 16.796875 8.0625 \r\nQ 21.484375 6.890625 26.703125 6.890625 \r\nQ 35.15625 6.890625 40.078125 11.328125 \r\nQ 45.015625 15.765625 45.015625 23.390625 \r\nQ 45.015625 31 40.078125 35.4375 \r\nQ 35.15625 39.890625 26.703125 39.890625 \r\nQ 22.75 39.890625 18.8125 39.015625 \r\nQ 14.890625 38.140625 10.796875 36.28125 \r\nz\r\n\" id=\"DejaVuSans-53\"/>\r\n      </defs>\r\n      <g transform=\"translate(61.11625 239.640156)scale(0.1 -0.1)\">\r\n       <use xlink:href=\"#DejaVuSans-53\"/>\r\n      </g>\r\n     </g>\r\n    </g>\r\n    <g id=\"xtick_3\">\r\n     <g id=\"line2d_3\">\r\n      <g>\r\n       <use style=\"stroke:#000000;stroke-width:0.8;\" x=\"98.2725\" xlink:href=\"#m9789d383be\" y=\"225.041719\"/>\r\n      </g>\r\n     </g>\r\n     <g id=\"text_3\">\r\n      <!-- 10 -->\r\n      <defs>\r\n       <path d=\"M 12.40625 8.296875 \r\nL 28.515625 8.296875 \r\nL 28.515625 63.921875 \r\nL 10.984375 60.40625 \r\nL 10.984375 69.390625 \r\nL 28.421875 72.90625 \r\nL 38.28125 72.90625 \r\nL 38.28125 8.296875 \r\nL 54.390625 8.296875 \r\nL 54.390625 0 \r\nL 12.40625 0 \r\nz\r\n\" id=\"DejaVuSans-49\"/>\r\n      </defs>\r\n      <g transform=\"translate(91.91 239.640156)scale(0.1 -0.1)\">\r\n       <use xlink:href=\"#DejaVuSans-49\"/>\r\n       <use x=\"63.623047\" xlink:href=\"#DejaVuSans-48\"/>\r\n      </g>\r\n     </g>\r\n    </g>\r\n    <g id=\"xtick_4\">\r\n     <g id=\"line2d_4\">\r\n      <g>\r\n       <use style=\"stroke:#000000;stroke-width:0.8;\" x=\"132.2475\" xlink:href=\"#m9789d383be\" y=\"225.041719\"/>\r\n      </g>\r\n     </g>\r\n     <g id=\"text_4\">\r\n      <!-- 15 -->\r\n      <g transform=\"translate(125.885 239.640156)scale(0.1 -0.1)\">\r\n       <use xlink:href=\"#DejaVuSans-49\"/>\r\n       <use x=\"63.623047\" xlink:href=\"#DejaVuSans-53\"/>\r\n      </g>\r\n     </g>\r\n    </g>\r\n    <g id=\"xtick_5\">\r\n     <g id=\"line2d_5\">\r\n      <g>\r\n       <use style=\"stroke:#000000;stroke-width:0.8;\" x=\"166.2225\" xlink:href=\"#m9789d383be\" y=\"225.041719\"/>\r\n      </g>\r\n     </g>\r\n     <g id=\"text_5\">\r\n      <!-- 20 -->\r\n      <defs>\r\n       <path d=\"M 19.1875 8.296875 \r\nL 53.609375 8.296875 \r\nL 53.609375 0 \r\nL 7.328125 0 \r\nL 7.328125 8.296875 \r\nQ 12.9375 14.109375 22.625 23.890625 \r\nQ 32.328125 33.6875 34.8125 36.53125 \r\nQ 39.546875 41.84375 41.421875 45.53125 \r\nQ 43.3125 49.21875 43.3125 52.78125 \r\nQ 43.3125 58.59375 39.234375 62.25 \r\nQ 35.15625 65.921875 28.609375 65.921875 \r\nQ 23.96875 65.921875 18.8125 64.3125 \r\nQ 13.671875 62.703125 7.8125 59.421875 \r\nL 7.8125 69.390625 \r\nQ 13.765625 71.78125 18.9375 73 \r\nQ 24.125 74.21875 28.421875 74.21875 \r\nQ 39.75 74.21875 46.484375 68.546875 \r\nQ 53.21875 62.890625 53.21875 53.421875 \r\nQ 53.21875 48.921875 51.53125 44.890625 \r\nQ 49.859375 40.875 45.40625 35.40625 \r\nQ 44.1875 33.984375 37.640625 27.21875 \r\nQ 31.109375 20.453125 19.1875 8.296875 \r\nz\r\n\" id=\"DejaVuSans-50\"/>\r\n      </defs>\r\n      <g transform=\"translate(159.86 239.640156)scale(0.1 -0.1)\">\r\n       <use xlink:href=\"#DejaVuSans-50\"/>\r\n       <use x=\"63.623047\" xlink:href=\"#DejaVuSans-48\"/>\r\n      </g>\r\n     </g>\r\n    </g>\r\n    <g id=\"xtick_6\">\r\n     <g id=\"line2d_6\">\r\n      <g>\r\n       <use style=\"stroke:#000000;stroke-width:0.8;\" x=\"200.1975\" xlink:href=\"#m9789d383be\" y=\"225.041719\"/>\r\n      </g>\r\n     </g>\r\n     <g id=\"text_6\">\r\n      <!-- 25 -->\r\n      <g transform=\"translate(193.835 239.640156)scale(0.1 -0.1)\">\r\n       <use xlink:href=\"#DejaVuSans-50\"/>\r\n       <use x=\"63.623047\" xlink:href=\"#DejaVuSans-53\"/>\r\n      </g>\r\n     </g>\r\n    </g>\r\n    <g id=\"xtick_7\">\r\n     <g id=\"line2d_7\">\r\n      <g>\r\n       <use style=\"stroke:#000000;stroke-width:0.8;\" x=\"234.1725\" xlink:href=\"#m9789d383be\" y=\"225.041719\"/>\r\n      </g>\r\n     </g>\r\n     <g id=\"text_7\">\r\n      <!-- 30 -->\r\n      <defs>\r\n       <path d=\"M 40.578125 39.3125 \r\nQ 47.65625 37.796875 51.625 33 \r\nQ 55.609375 28.21875 55.609375 21.1875 \r\nQ 55.609375 10.40625 48.1875 4.484375 \r\nQ 40.765625 -1.421875 27.09375 -1.421875 \r\nQ 22.515625 -1.421875 17.65625 -0.515625 \r\nQ 12.796875 0.390625 7.625 2.203125 \r\nL 7.625 11.71875 \r\nQ 11.71875 9.328125 16.59375 8.109375 \r\nQ 21.484375 6.890625 26.8125 6.890625 \r\nQ 36.078125 6.890625 40.9375 10.546875 \r\nQ 45.796875 14.203125 45.796875 21.1875 \r\nQ 45.796875 27.640625 41.28125 31.265625 \r\nQ 36.765625 34.90625 28.71875 34.90625 \r\nL 20.21875 34.90625 \r\nL 20.21875 43.015625 \r\nL 29.109375 43.015625 \r\nQ 36.375 43.015625 40.234375 45.921875 \r\nQ 44.09375 48.828125 44.09375 54.296875 \r\nQ 44.09375 59.90625 40.109375 62.90625 \r\nQ 36.140625 65.921875 28.71875 65.921875 \r\nQ 24.65625 65.921875 20.015625 65.03125 \r\nQ 15.375 64.15625 9.8125 62.3125 \r\nL 9.8125 71.09375 \r\nQ 15.4375 72.65625 20.34375 73.4375 \r\nQ 25.25 74.21875 29.59375 74.21875 \r\nQ 40.828125 74.21875 47.359375 69.109375 \r\nQ 53.90625 64.015625 53.90625 55.328125 \r\nQ 53.90625 49.265625 50.4375 45.09375 \r\nQ 46.96875 40.921875 40.578125 39.3125 \r\nz\r\n\" id=\"DejaVuSans-51\"/>\r\n      </defs>\r\n      <g transform=\"translate(227.81 239.640156)scale(0.1 -0.1)\">\r\n       <use xlink:href=\"#DejaVuSans-51\"/>\r\n       <use x=\"63.623047\" xlink:href=\"#DejaVuSans-48\"/>\r\n      </g>\r\n     </g>\r\n    </g>\r\n   </g>\r\n   <g id=\"matplotlib.axis_2\">\r\n    <g id=\"ytick_1\">\r\n     <g id=\"line2d_8\">\r\n      <defs>\r\n       <path d=\"M 0 0 \r\nL -3.5 0 \r\n\" id=\"m2e2764f2f3\" style=\"stroke:#000000;stroke-width:0.8;\"/>\r\n      </defs>\r\n      <g>\r\n       <use style=\"stroke:#000000;stroke-width:0.8;\" x=\"26.925\" xlink:href=\"#m2e2764f2f3\" y=\"10.999219\"/>\r\n      </g>\r\n     </g>\r\n     <g id=\"text_8\">\r\n      <!-- 0 -->\r\n      <g transform=\"translate(13.5625 14.798437)scale(0.1 -0.1)\">\r\n       <use xlink:href=\"#DejaVuSans-48\"/>\r\n      </g>\r\n     </g>\r\n    </g>\r\n    <g id=\"ytick_2\">\r\n     <g id=\"line2d_9\">\r\n      <g>\r\n       <use style=\"stroke:#000000;stroke-width:0.8;\" x=\"26.925\" xlink:href=\"#m2e2764f2f3\" y=\"44.974219\"/>\r\n      </g>\r\n     </g>\r\n     <g id=\"text_9\">\r\n      <!-- 5 -->\r\n      <g transform=\"translate(13.5625 48.773437)scale(0.1 -0.1)\">\r\n       <use xlink:href=\"#DejaVuSans-53\"/>\r\n      </g>\r\n     </g>\r\n    </g>\r\n    <g id=\"ytick_3\">\r\n     <g id=\"line2d_10\">\r\n      <g>\r\n       <use style=\"stroke:#000000;stroke-width:0.8;\" x=\"26.925\" xlink:href=\"#m2e2764f2f3\" y=\"78.949219\"/>\r\n      </g>\r\n     </g>\r\n     <g id=\"text_10\">\r\n      <!-- 10 -->\r\n      <g transform=\"translate(7.2 82.748437)scale(0.1 -0.1)\">\r\n       <use xlink:href=\"#DejaVuSans-49\"/>\r\n       <use x=\"63.623047\" xlink:href=\"#DejaVuSans-48\"/>\r\n      </g>\r\n     </g>\r\n    </g>\r\n    <g id=\"ytick_4\">\r\n     <g id=\"line2d_11\">\r\n      <g>\r\n       <use style=\"stroke:#000000;stroke-width:0.8;\" x=\"26.925\" xlink:href=\"#m2e2764f2f3\" y=\"112.924219\"/>\r\n      </g>\r\n     </g>\r\n     <g id=\"text_11\">\r\n      <!-- 15 -->\r\n      <g transform=\"translate(7.2 116.723437)scale(0.1 -0.1)\">\r\n       <use xlink:href=\"#DejaVuSans-49\"/>\r\n       <use x=\"63.623047\" xlink:href=\"#DejaVuSans-53\"/>\r\n      </g>\r\n     </g>\r\n    </g>\r\n    <g id=\"ytick_5\">\r\n     <g id=\"line2d_12\">\r\n      <g>\r\n       <use style=\"stroke:#000000;stroke-width:0.8;\" x=\"26.925\" xlink:href=\"#m2e2764f2f3\" y=\"146.899219\"/>\r\n      </g>\r\n     </g>\r\n     <g id=\"text_12\">\r\n      <!-- 20 -->\r\n      <g transform=\"translate(7.2 150.698437)scale(0.1 -0.1)\">\r\n       <use xlink:href=\"#DejaVuSans-50\"/>\r\n       <use x=\"63.623047\" xlink:href=\"#DejaVuSans-48\"/>\r\n      </g>\r\n     </g>\r\n    </g>\r\n    <g id=\"ytick_6\">\r\n     <g id=\"line2d_13\">\r\n      <g>\r\n       <use style=\"stroke:#000000;stroke-width:0.8;\" x=\"26.925\" xlink:href=\"#m2e2764f2f3\" y=\"180.874219\"/>\r\n      </g>\r\n     </g>\r\n     <g id=\"text_13\">\r\n      <!-- 25 -->\r\n      <g transform=\"translate(7.2 184.673437)scale(0.1 -0.1)\">\r\n       <use xlink:href=\"#DejaVuSans-50\"/>\r\n       <use x=\"63.623047\" xlink:href=\"#DejaVuSans-53\"/>\r\n      </g>\r\n     </g>\r\n    </g>\r\n    <g id=\"ytick_7\">\r\n     <g id=\"line2d_14\">\r\n      <g>\r\n       <use style=\"stroke:#000000;stroke-width:0.8;\" x=\"26.925\" xlink:href=\"#m2e2764f2f3\" y=\"214.849219\"/>\r\n      </g>\r\n     </g>\r\n     <g id=\"text_14\">\r\n      <!-- 30 -->\r\n      <g transform=\"translate(7.2 218.648437)scale(0.1 -0.1)\">\r\n       <use xlink:href=\"#DejaVuSans-51\"/>\r\n       <use x=\"63.623047\" xlink:href=\"#DejaVuSans-48\"/>\r\n      </g>\r\n     </g>\r\n    </g>\r\n   </g>\r\n   <g id=\"patch_3\">\r\n    <path d=\"M 26.925 225.041719 \r\nL 26.925 7.601719 \r\n\" style=\"fill:none;stroke:#000000;stroke-linecap:square;stroke-linejoin:miter;stroke-width:0.8;\"/>\r\n   </g>\r\n   <g id=\"patch_4\">\r\n    <path d=\"M 244.365 225.041719 \r\nL 244.365 7.601719 \r\n\" style=\"fill:none;stroke:#000000;stroke-linecap:square;stroke-linejoin:miter;stroke-width:0.8;\"/>\r\n   </g>\r\n   <g id=\"patch_5\">\r\n    <path d=\"M 26.925 225.041719 \r\nL 244.365 225.041719 \r\n\" style=\"fill:none;stroke:#000000;stroke-linecap:square;stroke-linejoin:miter;stroke-width:0.8;\"/>\r\n   </g>\r\n   <g id=\"patch_6\">\r\n    <path d=\"M 26.925 7.601719 \r\nL 244.365 7.601719 \r\n\" style=\"fill:none;stroke:#000000;stroke-linecap:square;stroke-linejoin:miter;stroke-width:0.8;\"/>\r\n   </g>\r\n  </g>\r\n </g>\r\n <defs>\r\n  <clipPath id=\"pfdeafc7c09\">\r\n   <rect height=\"217.44\" width=\"217.44\" x=\"26.925\" y=\"7.601719\"/>\r\n  </clipPath>\r\n </defs>\r\n</svg>\r\n",
      "image/png": "[encoded data removed]"
     },
     "metadata": {
      "needs_background": "light"
     }
    }
   ],
   "source": [
    "# Get some random training images and show\n",
    "dataiter = iter(trainloader)\n",
    "images, labels = dataiter.next()\n",
    "\n",
    "i = 0\n",
    "print(classes[labels[i]])\n",
    "img = images[0].numpy() # unnormalize to 0~1\n",
    "img = np.transpose(img / 2 + 0.5, (1, 2, 0))\n",
    "plt.imshow(img)"
   ]
  },
  {
   "cell_type": "code",
   "execution_count": 19,
   "metadata": {},
   "outputs": [
    {
     "output_type": "stream",
     "name": "stdout",
     "text": "GroundTruth: \n['frog', 'dog', 'deer', 'plane']\nPredicted: \n['cat', 'bird', 'deer', 'bird']\n"
    }
   ],
   "source": [
    "print('GroundTruth: ')\n",
    "print([classes[labels[i]] for i in range(4)])\n",
    "\n",
    "outs = net(images.to(device))\n",
    "_, predicted = torch.max(outs, 1)\n",
    "print('Predicted: ')\n",
    "print([classes[predicted[i]] for i in range(4)])"
   ]
  },
  {
   "cell_type": "code",
   "execution_count": null,
   "metadata": {},
   "outputs": [],
   "source": []
  }
 ],
 "metadata": {
  "kernelspec": {
   "display_name": "Python 3",
   "language": "python",
   "name": "python3"
  },
  "language_info": {
   "codemirror_mode": {
    "name": "ipython",
    "version": 3
   },
   "file_extension": ".py",
   "mimetype": "text/x-python",
   "name": "python",
   "nbconvert_exporter": "python",
   "pygments_lexer": "ipython3",
   "version": "3.7.6-final"
  }
 },
 "nbformat": 4,
 "nbformat_minor": 2
}