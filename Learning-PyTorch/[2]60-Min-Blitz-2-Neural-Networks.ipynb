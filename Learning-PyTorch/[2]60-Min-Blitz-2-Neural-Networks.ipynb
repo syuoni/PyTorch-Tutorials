{
 "cells": [
  {
   "cell_type": "code",
   "execution_count": 1,
   "metadata": {},
   "outputs": [],
   "source": [
    "import random\n",
    "import numpy as np\n",
    "import torch\n",
    "import torch.nn as nn\n",
    "import torch.nn.functional as F\n",
    "import torch.optim as optim\n",
    "\n",
    "SEED = 515\n",
    "random.seed(SEED)\n",
    "np.random.seed(SEED)\n",
    "torch.manual_seed(SEED)\n",
    "torch.backends.cudnn.deterministic = True"
   ]
  },
  {
   "cell_type": "markdown",
   "metadata": {},
   "source": [
    "# Network defination and backprop"
   ]
  },
  {
   "cell_type": "code",
   "execution_count": 2,
   "metadata": {},
   "outputs": [],
   "source": [
    "class Net(nn.Module):\n",
    "    def __init__(self):\n",
    "        super(Net, self).__init__()\n",
    "        # 1 input channel, 6 output channel, 5*5 convolution kernel\n",
    "        # `kernel_size` could be a tuple, or integer if it is a square\n",
    "        self.conv1 = nn.Conv2d(1, 6, kernel_size=5)\n",
    "        # 6 input channel, 16 output channel, 5*5 convolution kernel\n",
    "        self.conv2 = nn.Conv2d(6, 16, kernel_size=5)\n",
    "        # Affine operation: y = xW + b\n",
    "        # `fc` stands for \"full connection\". \n",
    "        # 16*5*5 input, 120 output\n",
    "        # ((32-4)/2-4)/2 = 5, so it is image of 5*5 size after last pooling layer\n",
    "        self.fc1 = nn.Linear(16*5*5, 120)\n",
    "        self.fc2 = nn.Linear(120, 84)\n",
    "        self.fc3 = nn.Linear(84, 10)\n",
    "    \n",
    "    def forward(self, x):\n",
    "        # x: (batch, channel, height, width)\n",
    "        x = F.relu(self.conv1(x))\n",
    "        # Max pooling over 2*2 window\n",
    "        x = F.max_pool2d(x, 2)\n",
    "        \n",
    "        x = F.relu(self.conv2(x))\n",
    "        x = F.max_pool2d(x, 2)\n",
    "        \n",
    "        # x: (batch, channel, height, width) -> (batch, features)\n",
    "        x = x.view(x.size(0), -1)\n",
    "        x = F.relu(self.fc1(x))\n",
    "        x = F.relu(self.fc2(x))\n",
    "        x = self.fc3(x)\n",
    "        return x"
   ]
  },
  {
   "cell_type": "code",
   "execution_count": 3,
   "metadata": {},
   "outputs": [
    {
     "output_type": "execute_result",
     "data": {
      "text/plain": "Net(\n  (conv1): Conv2d(1, 6, kernel_size=(5, 5), stride=(1, 1))\n  (conv2): Conv2d(6, 16, kernel_size=(5, 5), stride=(1, 1))\n  (fc1): Linear(in_features=400, out_features=120, bias=True)\n  (fc2): Linear(in_features=120, out_features=84, bias=True)\n  (fc3): Linear(in_features=84, out_features=10, bias=True)\n)"
     },
     "metadata": {},
     "execution_count": 3
    }
   ],
   "source": [
    "# Instance the network\n",
    "net = Net()\n",
    "net"
   ]
  },
  {
   "cell_type": "code",
   "execution_count": 4,
   "metadata": {
    "tags": []
   },
   "outputs": [
    {
     "output_type": "stream",
     "name": "stdout",
     "text": "10\ntorch.Size([6, 1, 5, 5])\ntorch.Size([6])\ntorch.Size([16, 6, 5, 5])\ntorch.Size([16])\ntorch.Size([120, 400])\ntorch.Size([120])\ntorch.Size([84, 120])\ntorch.Size([84])\ntorch.Size([10, 84])\ntorch.Size([10])\n"
    }
   ],
   "source": [
    "# Learnable parameters\n",
    "params = list(net.parameters())\n",
    "print(len(params))\n",
    "\n",
    "for param in params:\n",
    "    print(param.size())"
   ]
  },
  {
   "cell_type": "code",
   "execution_count": 5,
   "metadata": {
    "tags": []
   },
   "outputs": [
    {
     "output_type": "stream",
     "name": "stdout",
     "text": "tensor([[-0.0528,  0.1306,  0.0023,  0.0178,  0.0009,  0.0774,  0.0978,  0.1136,\n          0.0105, -0.1209]], grad_fn=<AddmmBackward>)\n"
    }
   ],
   "source": [
    "# Forward propagation\n",
    "in1 = torch.randn(1, 1, 32, 32)\n",
    "# DO NOT use net.forward(in1)??\n",
    "out1 = net(in1)\n",
    "print(out1)"
   ]
  },
  {
   "cell_type": "code",
   "execution_count": 6,
   "metadata": {
    "tags": []
   },
   "outputs": [
    {
     "output_type": "stream",
     "name": "stdout",
     "text": "tensor([[0., 1., 2., 3., 4., 5., 6., 7., 8., 9.]])\ntensor(28.3150, grad_fn=<MseLossBackward>)\ntensor(28.3150, grad_fn=<MeanBackward0>)\n"
    }
   ],
   "source": [
    "# Calculate the loss\n",
    "target1 = torch.arange(0, 10, dtype=torch.float)\n",
    "target1 = target1.view(1, -1)  # make it the same shape as output\n",
    "print(target1)\n",
    "\n",
    "criterion = nn.MSELoss()\n",
    "loss = criterion(out1, target1)\n",
    "print(loss)\n",
    "print(((out1-target1)**2).mean())"
   ]
  },
  {
   "cell_type": "code",
   "execution_count": 7,
   "metadata": {
    "tags": []
   },
   "outputs": [
    {
     "output_type": "stream",
     "name": "stdout",
     "text": "tensor([[-0.0748,  0.1370,  0.0183,  0.0339,  0.0045,  0.0758,  0.1119,  0.1128,\n          0.0014, -0.1048],\n        [-0.0663,  0.1442,  0.0243,  0.0220, -0.0126,  0.0765,  0.1006,  0.0988,\n          0.0168, -0.1192],\n        [-0.0694,  0.1366,  0.0144,  0.0245, -0.0010,  0.0803,  0.1015,  0.1120,\n         -0.0065, -0.1085],\n        [-0.0637,  0.1548,  0.0035,  0.0008,  0.0088,  0.0575,  0.0946,  0.0868,\n          0.0088, -0.1052]], grad_fn=<AddmmBackward>)\n"
    }
   ],
   "source": [
    "# Forward propagation in minibatch \n",
    "# Input-shape: (minibatch size, channel size, fig height, fig width)\n",
    "in2 = torch.randn(4, 1, 32, 32)\n",
    "out2 = net(in2)\n",
    "print(out2)"
   ]
  },
  {
   "cell_type": "code",
   "execution_count": 8,
   "metadata": {
    "tags": []
   },
   "outputs": [
    {
     "output_type": "stream",
     "name": "stdout",
     "text": "tensor([[ 0.,  1.,  2.,  3.,  4.,  5.,  6.,  7.,  8.,  9.],\n        [10., 11., 12., 13., 14., 15., 16., 17., 18., 19.],\n        [20., 21., 22., 23., 24., 25., 26., 27., 28., 29.],\n        [30., 31., 32., 33., 34., 35., 36., 37., 38., 39.]])\ntensor(512.5129, grad_fn=<MseLossBackward>)\n"
    }
   ],
   "source": [
    "# Calculate the loss\n",
    "target2 = torch.arange(0, 40, dtype=torch.float).view(4, -1)\n",
    "print(target2)\n",
    "\n",
    "criterion = nn.MSELoss()\n",
    "loss = criterion(out2, target2)\n",
    "print(loss)"
   ]
  },
  {
   "cell_type": "code",
   "execution_count": 9,
   "metadata": {
    "tags": []
   },
   "outputs": [
    {
     "output_type": "stream",
     "name": "stdout",
     "text": "<MseLossBackward object at 0x7fbdc435f700>\n<AddmmBackward object at 0x7fbdc435f9a0>\n<AccumulateGrad object at 0x7fbdc435f700>\n"
    }
   ],
   "source": [
    "# Show the loss functions...\n",
    "# MSELoss\n",
    "print(loss.grad_fn)\n",
    "# Linear\n",
    "print(loss.grad_fn.next_functions[0][0])\n",
    "# ReLU\n",
    "print(loss.grad_fn.next_functions[0][0].next_functions[0][0])"
   ]
  },
  {
   "cell_type": "code",
   "execution_count": 10,
   "metadata": {
    "tags": []
   },
   "outputs": [
    {
     "output_type": "stream",
     "name": "stdout",
     "text": "conv1.bias.grad before backward\nNone\nconv1.bias.grad after backward\ntensor([ 0.0232, -0.2331, -0.2596,  0.4052, -0.2512, -0.3117])\n"
    }
   ],
   "source": [
    "# Backward propagation \n",
    "# Zeros the gradient buffers of all parameters\n",
    "net.zero_grad()\n",
    "print('conv1.bias.grad before backward')\n",
    "print(net.conv1.bias.grad)\n",
    "\n",
    "loss.backward()\n",
    "print('conv1.bias.grad after backward')\n",
    "print(net.conv1.bias.grad)"
   ]
  },
  {
   "cell_type": "code",
   "execution_count": 11,
   "metadata": {},
   "outputs": [],
   "source": [
    "# Update weights\n",
    "# SGD implemented by Python\n",
    "learning_rate = 0.01\n",
    "for param in net.parameters():\n",
    "    param.data.sub_(param.grad.data * learning_rate)"
   ]
  },
  {
   "cell_type": "code",
   "execution_count": 12,
   "metadata": {},
   "outputs": [],
   "source": [
    "# torch implemetation\n",
    "optimizer = optim.SGD(net.parameters(), lr=learning_rate)\n",
    "optimizer.step()"
   ]
  },
  {
   "cell_type": "markdown",
   "metadata": {},
   "source": [
    "# Example: LeNet "
   ]
  },
  {
   "cell_type": "code",
   "execution_count": 13,
   "metadata": {},
   "outputs": [],
   "source": [
    "import torchvision\n",
    "import torchvision.transforms as transforms\n",
    "import time\n",
    "import matplotlib.pyplot as plt\n",
    "%matplotlib inline"
   ]
  },
  {
   "cell_type": "code",
   "execution_count": 14,
   "metadata": {
    "tags": []
   },
   "outputs": [
    {
     "output_type": "stream",
     "name": "stdout",
     "text": "Files already downloaded and verified\nFiles already downloaded and verified\n"
    }
   ],
   "source": [
    "transform = transforms.Compose([transforms.ToTensor(), \n",
    "                                transforms.Normalize((0.5, 0.5, 0.5), (0.5, 0.5, 0.5))])\n",
    "\n",
    "trainset = torchvision.datasets.CIFAR10(root=\"../assets/data\", train=True, download=True, transform=transform)\n",
    "testset = torchvision.datasets.CIFAR10(root=\"../assets/data\", train=False, download=True, transform=transform)\n",
    "\n",
    "trainloader = torch.utils.data.DataLoader(trainset, batch_size=64, shuffle=True, num_workers=2)\n",
    "testloader = torch.utils.data.DataLoader(testset, batch_size=64, shuffle=False, num_workers=2)\n",
    "\n",
    "classes = ('plane', 'car', 'bird', 'cat', 'deer', 'dog', 'frog', 'horse', 'ship', 'truck')"
   ]
  },
  {
   "cell_type": "code",
   "execution_count": 15,
   "metadata": {},
   "outputs": [],
   "source": [
    "class Net(nn.Module):\n",
    "    def __init__(self):\n",
    "        super(Net, self).__init__()\n",
    "        self.conv1 = nn.Conv2d(3, 200, kernel_size=5)\n",
    "        self.conv2 = nn.Conv2d(200, 16, kernel_size=5)\n",
    "        self.fc1 = nn.Linear(16*5*5, 120)\n",
    "        self.fc2 = nn.Linear(120, 84)\n",
    "        self.fc3 = nn.Linear(84, 10)\n",
    "    \n",
    "    def forward(self, x):\n",
    "        x = F.relu(self.conv1(x))\n",
    "        x = F.max_pool2d(x, 2)\n",
    "        \n",
    "        x = F.relu(self.conv2(x))\n",
    "        x = F.max_pool2d(x, 2)\n",
    "        \n",
    "        x = x.view(x.size(0), -1)\n",
    "        x = F.relu(self.fc1(x))\n",
    "        x = F.relu(self.fc2(x))\n",
    "        x = self.fc3(x)\n",
    "        return x"
   ]
  },
  {
   "cell_type": "code",
   "execution_count": 16,
   "metadata": {},
   "outputs": [
    {
     "output_type": "execute_result",
     "data": {
      "text/plain": "Net(\n  (conv1): Conv2d(3, 200, kernel_size=(5, 5), stride=(1, 1))\n  (conv2): Conv2d(200, 16, kernel_size=(5, 5), stride=(1, 1))\n  (fc1): Linear(in_features=400, out_features=120, bias=True)\n  (fc2): Linear(in_features=120, out_features=84, bias=True)\n  (fc3): Linear(in_features=84, out_features=10, bias=True)\n)"
     },
     "metadata": {},
     "execution_count": 16
    }
   ],
   "source": [
    "# Instance the network\n",
    "net = Net()\n",
    "net"
   ]
  },
  {
   "cell_type": "code",
   "execution_count": 17,
   "metadata": {
    "tags": []
   },
   "outputs": [
    {
     "output_type": "stream",
     "name": "stdout",
     "text": "device: cuda\n"
    },
    {
     "output_type": "execute_result",
     "data": {
      "text/plain": "Net(\n  (conv1): Conv2d(3, 200, kernel_size=(5, 5), stride=(1, 1))\n  (conv2): Conv2d(200, 16, kernel_size=(5, 5), stride=(1, 1))\n  (fc1): Linear(in_features=400, out_features=120, bias=True)\n  (fc2): Linear(in_features=120, out_features=84, bias=True)\n  (fc3): Linear(in_features=84, out_features=10, bias=True)\n)"
     },
     "metadata": {},
     "execution_count": 17
    }
   ],
   "source": [
    "device = torch.device(\"cuda\" if torch.cuda.is_available() else \"cpu\")\n",
    "\n",
    "print('device:', device)\n",
    "net.to(device)\n",
    "net"
   ]
  },
  {
   "cell_type": "code",
   "execution_count": 18,
   "metadata": {},
   "outputs": [],
   "source": [
    "criterion = nn.CrossEntropyLoss()\n",
    "optimizer = optim.SGD(net.parameters(), lr=0.001, momentum=0.9)"
   ]
  },
  {
   "cell_type": "code",
   "execution_count": 19,
   "metadata": {
    "tags": []
   },
   "outputs": [
    {
     "output_type": "stream",
     "name": "stdout",
     "text": "[1,   200] loss: 2.299\n[1,   400] loss: 2.257\n[1,   600] loss: 2.090\n[2,   200] loss: 1.848\n[2,   400] loss: 1.765\n[2,   600] loss: 1.698\n[3,   200] loss: 1.581\n[3,   400] loss: 1.544\n[3,   600] loss: 1.506\n[4,   200] loss: 1.444\n[4,   400] loss: 1.411\n[4,   600] loss: 1.397\n[5,   200] loss: 1.348\n[5,   400] loss: 1.347\n[5,   600] loss: 1.311\nTraining time: 30.931119\n"
    }
   ],
   "source": [
    "t0 = time.time()\n",
    "for epoch in range(5):\n",
    "    running_loss = 0.0\n",
    "    for i, data in enumerate(trainloader, 0):\n",
    "        ins, labels = data\n",
    "        ins, labels = ins.to(device), labels.to(device)\n",
    "\n",
    "        # zero the parameter gradients\n",
    "        optimizer.zero_grad()\n",
    "\n",
    "        # forward + backward + optimize\n",
    "        outs = net(ins)\n",
    "        loss = criterion(outs, labels)\n",
    "        loss.backward()\n",
    "        optimizer.step()\n",
    "        \n",
    "        # print statistics\n",
    "        running_loss += loss.item()\n",
    "        if (i+1) % 200 == 0:\n",
    "            print('[%d, %5d] loss: %.3f' % (epoch+1, i+1, running_loss/200))\n",
    "            running_loss = 0.0\n",
    "\n",
    "t1 = time.time()\n",
    "print('Training time: %f' % (t1-t0))"
   ]
  },
  {
   "cell_type": "code",
   "execution_count": 20,
   "metadata": {
    "tags": []
   },
   "outputs": [
    {
     "output_type": "stream",
     "name": "stdout",
     "text": "bird\n"
    },
    {
     "output_type": "execute_result",
     "data": {
      "text/plain": "<matplotlib.image.AxesImage at 0x7fbcd43679a0>"
     },
     "metadata": {},
     "execution_count": 20
    },
    {
     "output_type": "display_data",
     "data": {
      "text/plain": "<Figure size 432x288 with 1 Axes>",
      "image/svg+xml": "<?xml version=\"1.0\" encoding=\"utf-8\" standalone=\"no\"?>\n<!DOCTYPE svg PUBLIC \"-//W3C//DTD SVG 1.1//EN\"\n  \"http://www.w3.org/Graphics/SVG/1.1/DTD/svg11.dtd\">\n<!-- Created with matplotlib (https://matplotlib.org/) -->\n<svg height=\"248.919844pt\" version=\"1.1\" viewBox=\"0 0 251.565 248.919844\" width=\"251.565pt\" xmlns=\"http://www.w3.org/2000/svg\" xmlns:xlink=\"http://www.w3.org/1999/xlink\">\n <defs>\n  <style type=\"text/css\">\n*{stroke-linecap:butt;stroke-linejoin:round;}\n  </style>\n </defs>\n <g id=\"figure_1\">\n  <g id=\"patch_1\">\n   <path d=\"M 0 248.919844 \nL 251.565 248.919844 \nL 251.565 0 \nL 0 0 \nz\n\" style=\"fill:none;\"/>\n  </g>\n  <g id=\"axes_1\">\n   <g id=\"patch_2\">\n    <path d=\"M 26.925 225.041719 \nL 244.365 225.041719 \nL 244.365 7.601719 \nL 26.925 7.601719 \nz\n\" style=\"fill:#ffffff;\"/>\n   </g>\n   <g clip-path=\"url(#pc37d4efcff)\">\n    <image height=\"218\" id=\"image78fd30a857\" transform=\"scale(1 -1)translate(0 -218)\" width=\"218\" x=\"26.925\" xlink:href=\"data:image/png;base64,\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\" y=\"-7.041719\"/>\n   </g>\n   <g id=\"matplotlib.axis_1\">\n    <g id=\"xtick_1\">\n     <g id=\"line2d_1\">\n      <defs>\n       <path d=\"M 0 0 \nL 0 3.5 \n\" id=\"m03f8006c49\" style=\"stroke:#000000;stroke-width:0.8;\"/>\n      </defs>\n      <g>\n       <use style=\"stroke:#000000;stroke-width:0.8;\" x=\"30.3225\" xlink:href=\"#m03f8006c49\" y=\"225.041719\"/>\n      </g>\n     </g>\n     <g id=\"text_1\">\n      <!-- 0 -->\n      <defs>\n       <path d=\"M 31.78125 66.40625 \nQ 24.171875 66.40625 20.328125 58.90625 \nQ 16.5 51.421875 16.5 36.375 \nQ 16.5 21.390625 20.328125 13.890625 \nQ 24.171875 6.390625 31.78125 6.390625 \nQ 39.453125 6.390625 43.28125 13.890625 \nQ 47.125 21.390625 47.125 36.375 \nQ 47.125 51.421875 43.28125 58.90625 \nQ 39.453125 66.40625 31.78125 66.40625 \nz\nM 31.78125 74.21875 \nQ 44.046875 74.21875 50.515625 64.515625 \nQ 56.984375 54.828125 56.984375 36.375 \nQ 56.984375 17.96875 50.515625 8.265625 \nQ 44.046875 -1.421875 31.78125 -1.421875 \nQ 19.53125 -1.421875 13.0625 8.265625 \nQ 6.59375 17.96875 6.59375 36.375 \nQ 6.59375 54.828125 13.0625 64.515625 \nQ 19.53125 74.21875 31.78125 74.21875 \nz\n\" id=\"DejaVuSans-48\"/>\n      </defs>\n      <g transform=\"translate(27.14125 239.640156)scale(0.1 -0.1)\">\n       <use xlink:href=\"#DejaVuSans-48\"/>\n      </g>\n     </g>\n    </g>\n    <g id=\"xtick_2\">\n     <g id=\"line2d_2\">\n      <g>\n       <use style=\"stroke:#000000;stroke-width:0.8;\" x=\"64.2975\" xlink:href=\"#m03f8006c49\" y=\"225.041719\"/>\n      </g>\n     </g>\n     <g id=\"text_2\">\n      <!-- 5 -->\n      <defs>\n       <path d=\"M 10.796875 72.90625 \nL 49.515625 72.90625 \nL 49.515625 64.59375 \nL 19.828125 64.59375 \nL 19.828125 46.734375 \nQ 21.96875 47.46875 24.109375 47.828125 \nQ 26.265625 48.1875 28.421875 48.1875 \nQ 40.625 48.1875 47.75 41.5 \nQ 54.890625 34.8125 54.890625 23.390625 \nQ 54.890625 11.625 47.5625 5.09375 \nQ 40.234375 -1.421875 26.90625 -1.421875 \nQ 22.3125 -1.421875 17.546875 -0.640625 \nQ 12.796875 0.140625 7.71875 1.703125 \nL 7.71875 11.625 \nQ 12.109375 9.234375 16.796875 8.0625 \nQ 21.484375 6.890625 26.703125 6.890625 \nQ 35.15625 6.890625 40.078125 11.328125 \nQ 45.015625 15.765625 45.015625 23.390625 \nQ 45.015625 31 40.078125 35.4375 \nQ 35.15625 39.890625 26.703125 39.890625 \nQ 22.75 39.890625 18.8125 39.015625 \nQ 14.890625 38.140625 10.796875 36.28125 \nz\n\" id=\"DejaVuSans-53\"/>\n      </defs>\n      <g transform=\"translate(61.11625 239.640156)scale(0.1 -0.1)\">\n       <use xlink:href=\"#DejaVuSans-53\"/>\n      </g>\n     </g>\n    </g>\n    <g id=\"xtick_3\">\n     <g id=\"line2d_3\">\n      <g>\n       <use style=\"stroke:#000000;stroke-width:0.8;\" x=\"98.2725\" xlink:href=\"#m03f8006c49\" y=\"225.041719\"/>\n      </g>\n     </g>\n     <g id=\"text_3\">\n      <!-- 10 -->\n      <defs>\n       <path d=\"M 12.40625 8.296875 \nL 28.515625 8.296875 \nL 28.515625 63.921875 \nL 10.984375 60.40625 \nL 10.984375 69.390625 \nL 28.421875 72.90625 \nL 38.28125 72.90625 \nL 38.28125 8.296875 \nL 54.390625 8.296875 \nL 54.390625 0 \nL 12.40625 0 \nz\n\" id=\"DejaVuSans-49\"/>\n      </defs>\n      <g transform=\"translate(91.91 239.640156)scale(0.1 -0.1)\">\n       <use xlink:href=\"#DejaVuSans-49\"/>\n       <use x=\"63.623047\" xlink:href=\"#DejaVuSans-48\"/>\n      </g>\n     </g>\n    </g>\n    <g id=\"xtick_4\">\n     <g id=\"line2d_4\">\n      <g>\n       <use style=\"stroke:#000000;stroke-width:0.8;\" x=\"132.2475\" xlink:href=\"#m03f8006c49\" y=\"225.041719\"/>\n      </g>\n     </g>\n     <g id=\"text_4\">\n      <!-- 15 -->\n      <g transform=\"translate(125.885 239.640156)scale(0.1 -0.1)\">\n       <use xlink:href=\"#DejaVuSans-49\"/>\n       <use x=\"63.623047\" xlink:href=\"#DejaVuSans-53\"/>\n      </g>\n     </g>\n    </g>\n    <g id=\"xtick_5\">\n     <g id=\"line2d_5\">\n      <g>\n       <use style=\"stroke:#000000;stroke-width:0.8;\" x=\"166.2225\" xlink:href=\"#m03f8006c49\" y=\"225.041719\"/>\n      </g>\n     </g>\n     <g id=\"text_5\">\n      <!-- 20 -->\n      <defs>\n       <path d=\"M 19.1875 8.296875 \nL 53.609375 8.296875 \nL 53.609375 0 \nL 7.328125 0 \nL 7.328125 8.296875 \nQ 12.9375 14.109375 22.625 23.890625 \nQ 32.328125 33.6875 34.8125 36.53125 \nQ 39.546875 41.84375 41.421875 45.53125 \nQ 43.3125 49.21875 43.3125 52.78125 \nQ 43.3125 58.59375 39.234375 62.25 \nQ 35.15625 65.921875 28.609375 65.921875 \nQ 23.96875 65.921875 18.8125 64.3125 \nQ 13.671875 62.703125 7.8125 59.421875 \nL 7.8125 69.390625 \nQ 13.765625 71.78125 18.9375 73 \nQ 24.125 74.21875 28.421875 74.21875 \nQ 39.75 74.21875 46.484375 68.546875 \nQ 53.21875 62.890625 53.21875 53.421875 \nQ 53.21875 48.921875 51.53125 44.890625 \nQ 49.859375 40.875 45.40625 35.40625 \nQ 44.1875 33.984375 37.640625 27.21875 \nQ 31.109375 20.453125 19.1875 8.296875 \nz\n\" id=\"DejaVuSans-50\"/>\n      </defs>\n      <g transform=\"translate(159.86 239.640156)scale(0.1 -0.1)\">\n       <use xlink:href=\"#DejaVuSans-50\"/>\n       <use x=\"63.623047\" xlink:href=\"#DejaVuSans-48\"/>\n      </g>\n     </g>\n    </g>\n    <g id=\"xtick_6\">\n     <g id=\"line2d_6\">\n      <g>\n       <use style=\"stroke:#000000;stroke-width:0.8;\" x=\"200.1975\" xlink:href=\"#m03f8006c49\" y=\"225.041719\"/>\n      </g>\n     </g>\n     <g id=\"text_6\">\n      <!-- 25 -->\n      <g transform=\"translate(193.835 239.640156)scale(0.1 -0.1)\">\n       <use xlink:href=\"#DejaVuSans-50\"/>\n       <use x=\"63.623047\" xlink:href=\"#DejaVuSans-53\"/>\n      </g>\n     </g>\n    </g>\n    <g id=\"xtick_7\">\n     <g id=\"line2d_7\">\n      <g>\n       <use style=\"stroke:#000000;stroke-width:0.8;\" x=\"234.1725\" xlink:href=\"#m03f8006c49\" y=\"225.041719\"/>\n      </g>\n     </g>\n     <g id=\"text_7\">\n      <!-- 30 -->\n      <defs>\n       <path d=\"M 40.578125 39.3125 \nQ 47.65625 37.796875 51.625 33 \nQ 55.609375 28.21875 55.609375 21.1875 \nQ 55.609375 10.40625 48.1875 4.484375 \nQ 40.765625 -1.421875 27.09375 -1.421875 \nQ 22.515625 -1.421875 17.65625 -0.515625 \nQ 12.796875 0.390625 7.625 2.203125 \nL 7.625 11.71875 \nQ 11.71875 9.328125 16.59375 8.109375 \nQ 21.484375 6.890625 26.8125 6.890625 \nQ 36.078125 6.890625 40.9375 10.546875 \nQ 45.796875 14.203125 45.796875 21.1875 \nQ 45.796875 27.640625 41.28125 31.265625 \nQ 36.765625 34.90625 28.71875 34.90625 \nL 20.21875 34.90625 \nL 20.21875 43.015625 \nL 29.109375 43.015625 \nQ 36.375 43.015625 40.234375 45.921875 \nQ 44.09375 48.828125 44.09375 54.296875 \nQ 44.09375 59.90625 40.109375 62.90625 \nQ 36.140625 65.921875 28.71875 65.921875 \nQ 24.65625 65.921875 20.015625 65.03125 \nQ 15.375 64.15625 9.8125 62.3125 \nL 9.8125 71.09375 \nQ 15.4375 72.65625 20.34375 73.4375 \nQ 25.25 74.21875 29.59375 74.21875 \nQ 40.828125 74.21875 47.359375 69.109375 \nQ 53.90625 64.015625 53.90625 55.328125 \nQ 53.90625 49.265625 50.4375 45.09375 \nQ 46.96875 40.921875 40.578125 39.3125 \nz\n\" id=\"DejaVuSans-51\"/>\n      </defs>\n      <g transform=\"translate(227.81 239.640156)scale(0.1 -0.1)\">\n       <use xlink:href=\"#DejaVuSans-51\"/>\n       <use x=\"63.623047\" xlink:href=\"#DejaVuSans-48\"/>\n      </g>\n     </g>\n    </g>\n   </g>\n   <g id=\"matplotlib.axis_2\">\n    <g id=\"ytick_1\">\n     <g id=\"line2d_8\">\n      <defs>\n       <path d=\"M 0 0 \nL -3.5 0 \n\" id=\"m4ae661e013\" style=\"stroke:#000000;stroke-width:0.8;\"/>\n      </defs>\n      <g>\n       <use style=\"stroke:#000000;stroke-width:0.8;\" x=\"26.925\" xlink:href=\"#m4ae661e013\" y=\"10.999219\"/>\n      </g>\n     </g>\n     <g id=\"text_8\">\n      <!-- 0 -->\n      <g transform=\"translate(13.5625 14.798437)scale(0.1 -0.1)\">\n       <use xlink:href=\"#DejaVuSans-48\"/>\n      </g>\n     </g>\n    </g>\n    <g id=\"ytick_2\">\n     <g id=\"line2d_9\">\n      <g>\n       <use style=\"stroke:#000000;stroke-width:0.8;\" x=\"26.925\" xlink:href=\"#m4ae661e013\" y=\"44.974219\"/>\n      </g>\n     </g>\n     <g id=\"text_9\">\n      <!-- 5 -->\n      <g transform=\"translate(13.5625 48.773437)scale(0.1 -0.1)\">\n       <use xlink:href=\"#DejaVuSans-53\"/>\n      </g>\n     </g>\n    </g>\n    <g id=\"ytick_3\">\n     <g id=\"line2d_10\">\n      <g>\n       <use style=\"stroke:#000000;stroke-width:0.8;\" x=\"26.925\" xlink:href=\"#m4ae661e013\" y=\"78.949219\"/>\n      </g>\n     </g>\n     <g id=\"text_10\">\n      <!-- 10 -->\n      <g transform=\"translate(7.2 82.748437)scale(0.1 -0.1)\">\n       <use xlink:href=\"#DejaVuSans-49\"/>\n       <use x=\"63.623047\" xlink:href=\"#DejaVuSans-48\"/>\n      </g>\n     </g>\n    </g>\n    <g id=\"ytick_4\">\n     <g id=\"line2d_11\">\n      <g>\n       <use style=\"stroke:#000000;stroke-width:0.8;\" x=\"26.925\" xlink:href=\"#m4ae661e013\" y=\"112.924219\"/>\n      </g>\n     </g>\n     <g id=\"text_11\">\n      <!-- 15 -->\n      <g transform=\"translate(7.2 116.723437)scale(0.1 -0.1)\">\n       <use xlink:href=\"#DejaVuSans-49\"/>\n       <use x=\"63.623047\" xlink:href=\"#DejaVuSans-53\"/>\n      </g>\n     </g>\n    </g>\n    <g id=\"ytick_5\">\n     <g id=\"line2d_12\">\n      <g>\n       <use style=\"stroke:#000000;stroke-width:0.8;\" x=\"26.925\" xlink:href=\"#m4ae661e013\" y=\"146.899219\"/>\n      </g>\n     </g>\n     <g id=\"text_12\">\n      <!-- 20 -->\n      <g transform=\"translate(7.2 150.698437)scale(0.1 -0.1)\">\n       <use xlink:href=\"#DejaVuSans-50\"/>\n       <use x=\"63.623047\" xlink:href=\"#DejaVuSans-48\"/>\n      </g>\n     </g>\n    </g>\n    <g id=\"ytick_6\">\n     <g id=\"line2d_13\">\n      <g>\n       <use style=\"stroke:#000000;stroke-width:0.8;\" x=\"26.925\" xlink:href=\"#m4ae661e013\" y=\"180.874219\"/>\n      </g>\n     </g>\n     <g id=\"text_13\">\n      <!-- 25 -->\n      <g transform=\"translate(7.2 184.673437)scale(0.1 -0.1)\">\n       <use xlink:href=\"#DejaVuSans-50\"/>\n       <use x=\"63.623047\" xlink:href=\"#DejaVuSans-53\"/>\n      </g>\n     </g>\n    </g>\n    <g id=\"ytick_7\">\n     <g id=\"line2d_14\">\n      <g>\n       <use style=\"stroke:#000000;stroke-width:0.8;\" x=\"26.925\" xlink:href=\"#m4ae661e013\" y=\"214.849219\"/>\n      </g>\n     </g>\n     <g id=\"text_14\">\n      <!-- 30 -->\n      <g transform=\"translate(7.2 218.648437)scale(0.1 -0.1)\">\n       <use xlink:href=\"#DejaVuSans-51\"/>\n       <use x=\"63.623047\" xlink:href=\"#DejaVuSans-48\"/>\n      </g>\n     </g>\n    </g>\n   </g>\n   <g id=\"patch_3\">\n    <path d=\"M 26.925 225.041719 \nL 26.925 7.601719 \n\" style=\"fill:none;stroke:#000000;stroke-linecap:square;stroke-linejoin:miter;stroke-width:0.8;\"/>\n   </g>\n   <g id=\"patch_4\">\n    <path d=\"M 244.365 225.041719 \nL 244.365 7.601719 \n\" style=\"fill:none;stroke:#000000;stroke-linecap:square;stroke-linejoin:miter;stroke-width:0.8;\"/>\n   </g>\n   <g id=\"patch_5\">\n    <path d=\"M 26.925 225.041719 \nL 244.365 225.041719 \n\" style=\"fill:none;stroke:#000000;stroke-linecap:square;stroke-linejoin:miter;stroke-width:0.8;\"/>\n   </g>\n   <g id=\"patch_6\">\n    <path d=\"M 26.925 7.601719 \nL 244.365 7.601719 \n\" style=\"fill:none;stroke:#000000;stroke-linecap:square;stroke-linejoin:miter;stroke-width:0.8;\"/>\n   </g>\n  </g>\n </g>\n <defs>\n  <clipPath id=\"pc37d4efcff\">\n   <rect height=\"217.44\" width=\"217.44\" x=\"26.925\" y=\"7.601719\"/>\n  </clipPath>\n </defs>\n</svg>\n",
      "image/png": "[encoded data removed]"
     },
     "metadata": {
      "needs_background": "light"
     }
    }
   ],
   "source": [
    "# Get some random training images and show\n",
    "dataiter = iter(trainloader)\n",
    "images, labels = dataiter.next()\n",
    "\n",
    "i = 0\n",
    "print(classes[labels[i]])\n",
    "img = images[0].numpy() # unnormalize to 0~1\n",
    "img = np.transpose(img / 2 + 0.5, (1, 2, 0))\n",
    "plt.imshow(img)"
   ]
  },
  {
   "cell_type": "code",
   "execution_count": 21,
   "metadata": {
    "tags": []
   },
   "outputs": [
    {
     "output_type": "stream",
     "name": "stdout",
     "text": "GroundTruth: \n['bird', 'bird', 'frog', 'truck', 'ship', 'dog', 'bird', 'deer', 'deer', 'dog']\nPredicted: \n['frog', 'frog', 'cat', 'car', 'ship', 'cat', 'plane', 'deer', 'deer', 'cat']\n"
    }
   ],
   "source": [
    "print('GroundTruth: ')\n",
    "print([classes[labels[i]] for i in range(10)])\n",
    "\n",
    "outs = net(images.to(device))\n",
    "_, predicted = torch.max(outs, 1)\n",
    "print('Predicted: ')\n",
    "print([classes[predicted[i]] for i in range(10)])"
   ]
  },
  {
   "cell_type": "code",
   "execution_count": null,
   "metadata": {},
   "outputs": [],
   "source": []
  }
 ],
 "metadata": {
  "kernelspec": {
   "display_name": "Python 3",
   "language": "python",
   "name": "python3"
  },
  "language_info": {
   "codemirror_mode": {
    "name": "ipython",
    "version": 3
   },
   "file_extension": ".py",
   "mimetype": "text/x-python",
   "name": "python",
   "nbconvert_exporter": "python",
   "pygments_lexer": "ipython3",
   "version": "3.8.3-final"
  }
 },
 "nbformat": 4,
 "nbformat_minor": 2
}