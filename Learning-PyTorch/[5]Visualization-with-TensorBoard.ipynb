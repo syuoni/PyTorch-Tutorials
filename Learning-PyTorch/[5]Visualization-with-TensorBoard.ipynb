{
 "cells": [
  {
   "cell_type": "code",
   "execution_count": 1,
   "metadata": {},
   "outputs": [],
   "source": [
    "import numpy as np\n",
    "import torch\n",
    "import torch.nn as nn\n",
    "import torch.nn.functional as F\n",
    "import torch.optim as optim"
   ]
  },
  {
   "cell_type": "markdown",
   "metadata": {},
   "source": [
    "# Load Data"
   ]
  },
  {
   "cell_type": "code",
   "execution_count": 2,
   "metadata": {},
   "outputs": [
    {
     "output_type": "stream",
     "name": "stdout",
     "text": "0 255 9\n"
    },
    {
     "output_type": "execute_result",
     "data": {
      "text/plain": "<PIL.Image.Image image mode=L size=28x28 at 0x16EAC5BE288>",
      "image/png": "[encoded data removed]"
     },
     "metadata": {},
     "execution_count": 2
    }
   ],
   "source": [
    "import torchvision\n",
    "import torchvision.transforms as transforms\n",
    "\n",
    "# datasets\n",
    "trainset = torchvision.datasets.FashionMNIST('./data', download=True, train=True)\n",
    "testset = torchvision.datasets.FashionMNIST('./data', download=True, train=False)\n",
    "\n",
    "img0, label0 = trainset[0]\n",
    "img0_array = np.array(img0)\n",
    "print(img0_array.min(), img0_array.max(), label0)\n",
    "img0"
   ]
  },
  {
   "cell_type": "code",
   "execution_count": 3,
   "metadata": {},
   "outputs": [
    {
     "output_type": "stream",
     "name": "stdout",
     "text": "tensor(-1.) tensor(1.) 9\ntorch.Size([1, 28, 28])\n"
    },
    {
     "output_type": "execute_result",
     "data": {
      "text/plain": "<matplotlib.image.AxesImage at 0x16ead064f48>"
     },
     "metadata": {},
     "execution_count": 3
    },
    {
     "output_type": "display_data",
     "data": {
      "text/plain": "<Figure size 432x288 with 1 Axes>",
      "image/svg+xml": "<?xml version=\"1.0\" encoding=\"utf-8\" standalone=\"no\"?>\r\n<!DOCTYPE svg PUBLIC \"-//W3C//DTD SVG 1.1//EN\"\r\n  \"http://www.w3.org/Graphics/SVG/1.1/DTD/svg11.dtd\">\r\n<!-- Created with matplotlib (https://matplotlib.org/) -->\r\n<svg height=\"248.518125pt\" version=\"1.1\" viewBox=\"0 0 251.565 248.518125\" width=\"251.565pt\" xmlns=\"http://www.w3.org/2000/svg\" xmlns:xlink=\"http://www.w3.org/1999/xlink\">\r\n <defs>\r\n  <style type=\"text/css\">\r\n*{stroke-linecap:butt;stroke-linejoin:round;}\r\n  </style>\r\n </defs>\r\n <g id=\"figure_1\">\r\n  <g id=\"patch_1\">\r\n   <path d=\"M 0 248.518125 \r\nL 251.565 248.518125 \r\nL 251.565 0 \r\nL 0 0 \r\nz\r\n\" style=\"fill:none;\"/>\r\n  </g>\r\n  <g id=\"axes_1\">\r\n   <g id=\"patch_2\">\r\n    <path d=\"M 26.925 224.64 \r\nL 244.365 224.64 \r\nL 244.365 7.2 \r\nL 26.925 7.2 \r\nz\r\n\" style=\"fill:#ffffff;\"/>\r\n   </g>\r\n   <g clip-path=\"url(#p4bef364660)\">\r\n    <image height=\"218\" id=\"image8c5b545c7b\" transform=\"scale(1 -1)translate(0 -218)\" width=\"218\" x=\"26.925\" xlink:href=\"data:image/png;base64,\r\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\" y=\"-6.64\"/>\r\n   </g>\r\n   <g id=\"matplotlib.axis_1\">\r\n    <g id=\"xtick_1\">\r\n     <g id=\"line2d_1\">\r\n      <defs>\r\n       <path d=\"M 0 0 \r\nL 0 3.5 \r\n\" id=\"ma97dc18447\" style=\"stroke:#000000;stroke-width:0.8;\"/>\r\n      </defs>\r\n      <g>\r\n       <use style=\"stroke:#000000;stroke-width:0.8;\" x=\"30.807857\" xlink:href=\"#ma97dc18447\" y=\"224.64\"/>\r\n      </g>\r\n     </g>\r\n     <g id=\"text_1\">\r\n      <!-- 0 -->\r\n      <defs>\r\n       <path d=\"M 31.78125 66.40625 \r\nQ 24.171875 66.40625 20.328125 58.90625 \r\nQ 16.5 51.421875 16.5 36.375 \r\nQ 16.5 21.390625 20.328125 13.890625 \r\nQ 24.171875 6.390625 31.78125 6.390625 \r\nQ 39.453125 6.390625 43.28125 13.890625 \r\nQ 47.125 21.390625 47.125 36.375 \r\nQ 47.125 51.421875 43.28125 58.90625 \r\nQ 39.453125 66.40625 31.78125 66.40625 \r\nz\r\nM 31.78125 74.21875 \r\nQ 44.046875 74.21875 50.515625 64.515625 \r\nQ 56.984375 54.828125 56.984375 36.375 \r\nQ 56.984375 17.96875 50.515625 8.265625 \r\nQ 44.046875 -1.421875 31.78125 -1.421875 \r\nQ 19.53125 -1.421875 13.0625 8.265625 \r\nQ 6.59375 17.96875 6.59375 36.375 \r\nQ 6.59375 54.828125 13.0625 64.515625 \r\nQ 19.53125 74.21875 31.78125 74.21875 \r\nz\r\n\" id=\"DejaVuSans-48\"/>\r\n      </defs>\r\n      <g transform=\"translate(27.626607 239.238437)scale(0.1 -0.1)\">\r\n       <use xlink:href=\"#DejaVuSans-48\"/>\r\n      </g>\r\n     </g>\r\n    </g>\r\n    <g id=\"xtick_2\">\r\n     <g id=\"line2d_2\">\r\n      <g>\r\n       <use style=\"stroke:#000000;stroke-width:0.8;\" x=\"69.636429\" xlink:href=\"#ma97dc18447\" y=\"224.64\"/>\r\n      </g>\r\n     </g>\r\n     <g id=\"text_2\">\r\n      <!-- 5 -->\r\n      <defs>\r\n       <path d=\"M 10.796875 72.90625 \r\nL 49.515625 72.90625 \r\nL 49.515625 64.59375 \r\nL 19.828125 64.59375 \r\nL 19.828125 46.734375 \r\nQ 21.96875 47.46875 24.109375 47.828125 \r\nQ 26.265625 48.1875 28.421875 48.1875 \r\nQ 40.625 48.1875 47.75 41.5 \r\nQ 54.890625 34.8125 54.890625 23.390625 \r\nQ 54.890625 11.625 47.5625 5.09375 \r\nQ 40.234375 -1.421875 26.90625 -1.421875 \r\nQ 22.3125 -1.421875 17.546875 -0.640625 \r\nQ 12.796875 0.140625 7.71875 1.703125 \r\nL 7.71875 11.625 \r\nQ 12.109375 9.234375 16.796875 8.0625 \r\nQ 21.484375 6.890625 26.703125 6.890625 \r\nQ 35.15625 6.890625 40.078125 11.328125 \r\nQ 45.015625 15.765625 45.015625 23.390625 \r\nQ 45.015625 31 40.078125 35.4375 \r\nQ 35.15625 39.890625 26.703125 39.890625 \r\nQ 22.75 39.890625 18.8125 39.015625 \r\nQ 14.890625 38.140625 10.796875 36.28125 \r\nz\r\n\" id=\"DejaVuSans-53\"/>\r\n      </defs>\r\n      <g transform=\"translate(66.455179 239.238437)scale(0.1 -0.1)\">\r\n       <use xlink:href=\"#DejaVuSans-53\"/>\r\n      </g>\r\n     </g>\r\n    </g>\r\n    <g id=\"xtick_3\">\r\n     <g id=\"line2d_3\">\r\n      <g>\r\n       <use style=\"stroke:#000000;stroke-width:0.8;\" x=\"108.465\" xlink:href=\"#ma97dc18447\" y=\"224.64\"/>\r\n      </g>\r\n     </g>\r\n     <g id=\"text_3\">\r\n      <!-- 10 -->\r\n      <defs>\r\n       <path d=\"M 12.40625 8.296875 \r\nL 28.515625 8.296875 \r\nL 28.515625 63.921875 \r\nL 10.984375 60.40625 \r\nL 10.984375 69.390625 \r\nL 28.421875 72.90625 \r\nL 38.28125 72.90625 \r\nL 38.28125 8.296875 \r\nL 54.390625 8.296875 \r\nL 54.390625 0 \r\nL 12.40625 0 \r\nz\r\n\" id=\"DejaVuSans-49\"/>\r\n      </defs>\r\n      <g transform=\"translate(102.1025 239.238437)scale(0.1 -0.1)\">\r\n       <use xlink:href=\"#DejaVuSans-49\"/>\r\n       <use x=\"63.623047\" xlink:href=\"#DejaVuSans-48\"/>\r\n      </g>\r\n     </g>\r\n    </g>\r\n    <g id=\"xtick_4\">\r\n     <g id=\"line2d_4\">\r\n      <g>\r\n       <use style=\"stroke:#000000;stroke-width:0.8;\" x=\"147.293571\" xlink:href=\"#ma97dc18447\" y=\"224.64\"/>\r\n      </g>\r\n     </g>\r\n     <g id=\"text_4\">\r\n      <!-- 15 -->\r\n      <g transform=\"translate(140.931071 239.238437)scale(0.1 -0.1)\">\r\n       <use xlink:href=\"#DejaVuSans-49\"/>\r\n       <use x=\"63.623047\" xlink:href=\"#DejaVuSans-53\"/>\r\n      </g>\r\n     </g>\r\n    </g>\r\n    <g id=\"xtick_5\">\r\n     <g id=\"line2d_5\">\r\n      <g>\r\n       <use style=\"stroke:#000000;stroke-width:0.8;\" x=\"186.122143\" xlink:href=\"#ma97dc18447\" y=\"224.64\"/>\r\n      </g>\r\n     </g>\r\n     <g id=\"text_5\">\r\n      <!-- 20 -->\r\n      <defs>\r\n       <path d=\"M 19.1875 8.296875 \r\nL 53.609375 8.296875 \r\nL 53.609375 0 \r\nL 7.328125 0 \r\nL 7.328125 8.296875 \r\nQ 12.9375 14.109375 22.625 23.890625 \r\nQ 32.328125 33.6875 34.8125 36.53125 \r\nQ 39.546875 41.84375 41.421875 45.53125 \r\nQ 43.3125 49.21875 43.3125 52.78125 \r\nQ 43.3125 58.59375 39.234375 62.25 \r\nQ 35.15625 65.921875 28.609375 65.921875 \r\nQ 23.96875 65.921875 18.8125 64.3125 \r\nQ 13.671875 62.703125 7.8125 59.421875 \r\nL 7.8125 69.390625 \r\nQ 13.765625 71.78125 18.9375 73 \r\nQ 24.125 74.21875 28.421875 74.21875 \r\nQ 39.75 74.21875 46.484375 68.546875 \r\nQ 53.21875 62.890625 53.21875 53.421875 \r\nQ 53.21875 48.921875 51.53125 44.890625 \r\nQ 49.859375 40.875 45.40625 35.40625 \r\nQ 44.1875 33.984375 37.640625 27.21875 \r\nQ 31.109375 20.453125 19.1875 8.296875 \r\nz\r\n\" id=\"DejaVuSans-50\"/>\r\n      </defs>\r\n      <g transform=\"translate(179.759643 239.238437)scale(0.1 -0.1)\">\r\n       <use xlink:href=\"#DejaVuSans-50\"/>\r\n       <use x=\"63.623047\" xlink:href=\"#DejaVuSans-48\"/>\r\n      </g>\r\n     </g>\r\n    </g>\r\n    <g id=\"xtick_6\">\r\n     <g id=\"line2d_6\">\r\n      <g>\r\n       <use style=\"stroke:#000000;stroke-width:0.8;\" x=\"224.950714\" xlink:href=\"#ma97dc18447\" y=\"224.64\"/>\r\n      </g>\r\n     </g>\r\n     <g id=\"text_6\">\r\n      <!-- 25 -->\r\n      <g transform=\"translate(218.588214 239.238437)scale(0.1 -0.1)\">\r\n       <use xlink:href=\"#DejaVuSans-50\"/>\r\n       <use x=\"63.623047\" xlink:href=\"#DejaVuSans-53\"/>\r\n      </g>\r\n     </g>\r\n    </g>\r\n   </g>\r\n   <g id=\"matplotlib.axis_2\">\r\n    <g id=\"ytick_1\">\r\n     <g id=\"line2d_7\">\r\n      <defs>\r\n       <path d=\"M 0 0 \r\nL -3.5 0 \r\n\" id=\"m05e95c12cc\" style=\"stroke:#000000;stroke-width:0.8;\"/>\r\n      </defs>\r\n      <g>\r\n       <use style=\"stroke:#000000;stroke-width:0.8;\" x=\"26.925\" xlink:href=\"#m05e95c12cc\" y=\"11.082857\"/>\r\n      </g>\r\n     </g>\r\n     <g id=\"text_7\">\r\n      <!-- 0 -->\r\n      <g transform=\"translate(13.5625 14.882076)scale(0.1 -0.1)\">\r\n       <use xlink:href=\"#DejaVuSans-48\"/>\r\n      </g>\r\n     </g>\r\n    </g>\r\n    <g id=\"ytick_2\">\r\n     <g id=\"line2d_8\">\r\n      <g>\r\n       <use style=\"stroke:#000000;stroke-width:0.8;\" x=\"26.925\" xlink:href=\"#m05e95c12cc\" y=\"49.911429\"/>\r\n      </g>\r\n     </g>\r\n     <g id=\"text_8\">\r\n      <!-- 5 -->\r\n      <g transform=\"translate(13.5625 53.710647)scale(0.1 -0.1)\">\r\n       <use xlink:href=\"#DejaVuSans-53\"/>\r\n      </g>\r\n     </g>\r\n    </g>\r\n    <g id=\"ytick_3\">\r\n     <g id=\"line2d_9\">\r\n      <g>\r\n       <use style=\"stroke:#000000;stroke-width:0.8;\" x=\"26.925\" xlink:href=\"#m05e95c12cc\" y=\"88.74\"/>\r\n      </g>\r\n     </g>\r\n     <g id=\"text_9\">\r\n      <!-- 10 -->\r\n      <g transform=\"translate(7.2 92.539219)scale(0.1 -0.1)\">\r\n       <use xlink:href=\"#DejaVuSans-49\"/>\r\n       <use x=\"63.623047\" xlink:href=\"#DejaVuSans-48\"/>\r\n      </g>\r\n     </g>\r\n    </g>\r\n    <g id=\"ytick_4\">\r\n     <g id=\"line2d_10\">\r\n      <g>\r\n       <use style=\"stroke:#000000;stroke-width:0.8;\" x=\"26.925\" xlink:href=\"#m05e95c12cc\" y=\"127.568571\"/>\r\n      </g>\r\n     </g>\r\n     <g id=\"text_10\">\r\n      <!-- 15 -->\r\n      <g transform=\"translate(7.2 131.36779)scale(0.1 -0.1)\">\r\n       <use xlink:href=\"#DejaVuSans-49\"/>\r\n       <use x=\"63.623047\" xlink:href=\"#DejaVuSans-53\"/>\r\n      </g>\r\n     </g>\r\n    </g>\r\n    <g id=\"ytick_5\">\r\n     <g id=\"line2d_11\">\r\n      <g>\r\n       <use style=\"stroke:#000000;stroke-width:0.8;\" x=\"26.925\" xlink:href=\"#m05e95c12cc\" y=\"166.397143\"/>\r\n      </g>\r\n     </g>\r\n     <g id=\"text_11\">\r\n      <!-- 20 -->\r\n      <g transform=\"translate(7.2 170.196362)scale(0.1 -0.1)\">\r\n       <use xlink:href=\"#DejaVuSans-50\"/>\r\n       <use x=\"63.623047\" xlink:href=\"#DejaVuSans-48\"/>\r\n      </g>\r\n     </g>\r\n    </g>\r\n    <g id=\"ytick_6\">\r\n     <g id=\"line2d_12\">\r\n      <g>\r\n       <use style=\"stroke:#000000;stroke-width:0.8;\" x=\"26.925\" xlink:href=\"#m05e95c12cc\" y=\"205.225714\"/>\r\n      </g>\r\n     </g>\r\n     <g id=\"text_12\">\r\n      <!-- 25 -->\r\n      <g transform=\"translate(7.2 209.024933)scale(0.1 -0.1)\">\r\n       <use xlink:href=\"#DejaVuSans-50\"/>\r\n       <use x=\"63.623047\" xlink:href=\"#DejaVuSans-53\"/>\r\n      </g>\r\n     </g>\r\n    </g>\r\n   </g>\r\n   <g id=\"patch_3\">\r\n    <path d=\"M 26.925 224.64 \r\nL 26.925 7.2 \r\n\" style=\"fill:none;stroke:#000000;stroke-linecap:square;stroke-linejoin:miter;stroke-width:0.8;\"/>\r\n   </g>\r\n   <g id=\"patch_4\">\r\n    <path d=\"M 244.365 224.64 \r\nL 244.365 7.2 \r\n\" style=\"fill:none;stroke:#000000;stroke-linecap:square;stroke-linejoin:miter;stroke-width:0.8;\"/>\r\n   </g>\r\n   <g id=\"patch_5\">\r\n    <path d=\"M 26.925 224.64 \r\nL 244.365 224.64 \r\n\" style=\"fill:none;stroke:#000000;stroke-linecap:square;stroke-linejoin:miter;stroke-width:0.8;\"/>\r\n   </g>\r\n   <g id=\"patch_6\">\r\n    <path d=\"M 26.925 7.2 \r\nL 244.365 7.2 \r\n\" style=\"fill:none;stroke:#000000;stroke-linecap:square;stroke-linejoin:miter;stroke-width:0.8;\"/>\r\n   </g>\r\n  </g>\r\n </g>\r\n <defs>\r\n  <clipPath id=\"p4bef364660\">\r\n   <rect height=\"217.44\" width=\"217.44\" x=\"26.925\" y=\"7.2\"/>\r\n  </clipPath>\r\n </defs>\r\n</svg>\r\n",
      "image/png": "[encoded data removed]"
     },
     "metadata": {
      "needs_background": "light"
     }
    }
   ],
   "source": [
    "import matplotlib.pyplot as plt\n",
    "%matplotlib inline\n",
    "\n",
    "# transform PIL Images to PyTorch Tensors\n",
    "transform = transforms.Compose([\n",
    "    # PIL Image or numpy.ndarray (Height * Width * Channels) in range [0, 255] ->\n",
    "    # torch.FloatTensor (Channels * Height * Width) in the range [0.0, 1.0]\n",
    "    transforms.ToTensor(), \n",
    "    # Normalize for each channel\n",
    "    # output = (input - mean) / std\n",
    "    transforms.Normalize(mean=(0.5, ), std=(0.5, ))\n",
    "])\n",
    "\n",
    "# datasets\n",
    "trainset = torchvision.datasets.FashionMNIST('./data', download=True, train=True, transform=transform)\n",
    "testset = torchvision.datasets.FashionMNIST('./data', download=True, train=False, transform=transform)\n",
    "\n",
    "img0, label0 = trainset[0]\n",
    "print(img0.min(), img0.max(), label0)\n",
    "print(img0.size())\n",
    "\n",
    "plt.imshow(img0[0].numpy(), cmap='Greys')"
   ]
  },
  {
   "cell_type": "code",
   "execution_count": 4,
   "metadata": {},
   "outputs": [],
   "source": [
    "# dataloaders\n",
    "trainloader = torch.utils.data.DataLoader(trainset, batch_size=4, shuffle=True, num_workers=2)\n",
    "testloader = torch.utils.data.DataLoader(testset, batch_size=4, shuffle=False, num_workers=2)\n",
    "\n",
    "# constant for classes\n",
    "classes = ('T-shirt/top', 'Trouser', 'Pullover', 'Dress', 'Coat',\n",
    "           'Sandal', 'Shirt', 'Sneaker', 'Bag', 'Ankle Boot')"
   ]
  },
  {
   "cell_type": "markdown",
   "metadata": {},
   "source": [
    "# Define Network"
   ]
  },
  {
   "cell_type": "code",
   "execution_count": 5,
   "metadata": {},
   "outputs": [],
   "source": [
    "# This model is nearly identical to that in \"60 Minute Blitz\". \n",
    "class Net(nn.Module):\n",
    "    def __init__(self):\n",
    "        super(Net, self).__init__()\n",
    "        # nn.Conv2d(input channels, output channels, kernel size)\n",
    "        self.conv1 = nn.Conv2d(1, 6, 5)\n",
    "        self.conv2 = nn.Conv2d(6, 16, 5)\n",
    "        self.fc1 = nn.Linear(16 * 4 * 4, 120)\n",
    "        self.fc2 = nn.Linear(120, 84)\n",
    "        self.fc3 = nn.Linear(84, 10)\n",
    "\n",
    "    def forward(self, x):\n",
    "        # 28*28 -> 12*12\n",
    "        x = F.max_pool2d(F.relu(self.conv1(x)), 2)\n",
    "        # 12*12 -> 4*4\n",
    "        x = F.max_pool2d(F.relu(self.conv2(x)), 2)\n",
    "        x = x.view(-1, 16*4*4)\n",
    "        x = F.relu(self.fc1(x))\n",
    "        x = F.relu(self.fc2(x))\n",
    "        return self.fc3(x)"
   ]
  },
  {
   "cell_type": "code",
   "execution_count": 6,
   "metadata": {},
   "outputs": [],
   "source": [
    "net = Net()\n",
    "loss_func = nn.CrossEntropyLoss()\n",
    "optimizer = optim.SGD(net.parameters(), lr=0.001, momentum=0.9)"
   ]
  },
  {
   "cell_type": "markdown",
   "metadata": {},
   "source": [
    "# TensorBoard Setup"
   ]
  },
  {
   "cell_type": "code",
   "execution_count": 7,
   "metadata": {},
   "outputs": [],
   "source": [
    "from torch.utils.tensorboard import SummaryWriter\n",
    "\n",
    "writer = SummaryWriter(\"runs/fashion_mnist_experiment_1\")"
   ]
  },
  {
   "cell_type": "markdown",
   "metadata": {},
   "source": [
    "# Writing to TensorBoard"
   ]
  },
  {
   "cell_type": "code",
   "execution_count": 8,
   "metadata": {},
   "outputs": [
    {
     "output_type": "display_data",
     "data": {
      "text/plain": "<Figure size 432x288 with 1 Axes>",
      "image/svg+xml": "<?xml version=\"1.0\" encoding=\"utf-8\" standalone=\"no\"?>\r\n<!DOCTYPE svg PUBLIC \"-//W3C//DTD SVG 1.1//EN\"\r\n  \"http://www.w3.org/Graphics/SVG/1.1/DTD/svg11.dtd\">\r\n<!-- Created with matplotlib (https://matplotlib.org/) -->\r\n<svg height=\"121.321606pt\" version=\"1.1\" viewBox=\"0 0 374.352357 121.321606\" width=\"374.352357pt\" xmlns=\"http://www.w3.org/2000/svg\" xmlns:xlink=\"http://www.w3.org/1999/xlink\">\r\n <defs>\r\n  <style type=\"text/css\">\r\n*{stroke-linecap:butt;stroke-linejoin:round;}\r\n  </style>\r\n </defs>\r\n <g id=\"figure_1\">\r\n  <g id=\"patch_1\">\r\n   <path d=\"M -0 121.321606 \r\nL 374.352357 121.321606 \r\nL 374.352357 0 \r\nL -0 0 \r\nz\r\n\" style=\"fill:none;\"/>\r\n  </g>\r\n  <g id=\"axes_1\">\r\n   <g id=\"patch_2\">\r\n    <path d=\"M 26.925 97.443481 \r\nL 361.725 97.443481 \r\nL 361.725 9.627088 \r\nL 26.925 9.627088 \r\nz\r\n\" style=\"fill:#ffffff;\"/>\r\n   </g>\r\n   <g clip-path=\"url(#p3db2a88663)\">\r\n    <image height=\"88\" id=\"image6074bd3904\" transform=\"scale(1 -1)translate(0 -88)\" width=\"335\" x=\"26.925\" xlink:href=\"data:image/png;base64,\r\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\" y=\"-9.443481\"/>\r\n   </g>\r\n   <g id=\"matplotlib.axis_1\">\r\n    <g id=\"xtick_1\">\r\n     <g id=\"line2d_1\">\r\n      <defs>\r\n       <path d=\"M 0 0 \r\nL 0 3.5 \r\n\" id=\"m1eaad48d6f\" style=\"stroke:#000000;stroke-width:0.8;\"/>\r\n      </defs>\r\n      <g>\r\n       <use style=\"stroke:#000000;stroke-width:0.8;\" x=\"28.297131\" xlink:href=\"#m1eaad48d6f\" y=\"97.443481\"/>\r\n      </g>\r\n     </g>\r\n     <g id=\"text_1\">\r\n      <!-- 0 -->\r\n      <defs>\r\n       <path d=\"M 31.78125 66.40625 \r\nQ 24.171875 66.40625 20.328125 58.90625 \r\nQ 16.5 51.421875 16.5 36.375 \r\nQ 16.5 21.390625 20.328125 13.890625 \r\nQ 24.171875 6.390625 31.78125 6.390625 \r\nQ 39.453125 6.390625 43.28125 13.890625 \r\nQ 47.125 21.390625 47.125 36.375 \r\nQ 47.125 51.421875 43.28125 58.90625 \r\nQ 39.453125 66.40625 31.78125 66.40625 \r\nz\r\nM 31.78125 74.21875 \r\nQ 44.046875 74.21875 50.515625 64.515625 \r\nQ 56.984375 54.828125 56.984375 36.375 \r\nQ 56.984375 17.96875 50.515625 8.265625 \r\nQ 44.046875 -1.421875 31.78125 -1.421875 \r\nQ 19.53125 -1.421875 13.0625 8.265625 \r\nQ 6.59375 17.96875 6.59375 36.375 \r\nQ 6.59375 54.828125 13.0625 64.515625 \r\nQ 19.53125 74.21875 31.78125 74.21875 \r\nz\r\n\" id=\"DejaVuSans-48\"/>\r\n      </defs>\r\n      <g transform=\"translate(25.115881 112.041919)scale(0.1 -0.1)\">\r\n       <use xlink:href=\"#DejaVuSans-48\"/>\r\n      </g>\r\n     </g>\r\n    </g>\r\n    <g id=\"xtick_2\">\r\n     <g id=\"line2d_2\">\r\n      <g>\r\n       <use style=\"stroke:#000000;stroke-width:0.8;\" x=\"83.182377\" xlink:href=\"#m1eaad48d6f\" y=\"97.443481\"/>\r\n      </g>\r\n     </g>\r\n     <g id=\"text_2\">\r\n      <!-- 20 -->\r\n      <defs>\r\n       <path d=\"M 19.1875 8.296875 \r\nL 53.609375 8.296875 \r\nL 53.609375 0 \r\nL 7.328125 0 \r\nL 7.328125 8.296875 \r\nQ 12.9375 14.109375 22.625 23.890625 \r\nQ 32.328125 33.6875 34.8125 36.53125 \r\nQ 39.546875 41.84375 41.421875 45.53125 \r\nQ 43.3125 49.21875 43.3125 52.78125 \r\nQ 43.3125 58.59375 39.234375 62.25 \r\nQ 35.15625 65.921875 28.609375 65.921875 \r\nQ 23.96875 65.921875 18.8125 64.3125 \r\nQ 13.671875 62.703125 7.8125 59.421875 \r\nL 7.8125 69.390625 \r\nQ 13.765625 71.78125 18.9375 73 \r\nQ 24.125 74.21875 28.421875 74.21875 \r\nQ 39.75 74.21875 46.484375 68.546875 \r\nQ 53.21875 62.890625 53.21875 53.421875 \r\nQ 53.21875 48.921875 51.53125 44.890625 \r\nQ 49.859375 40.875 45.40625 35.40625 \r\nQ 44.1875 33.984375 37.640625 27.21875 \r\nQ 31.109375 20.453125 19.1875 8.296875 \r\nz\r\n\" id=\"DejaVuSans-50\"/>\r\n      </defs>\r\n      <g transform=\"translate(76.819877 112.041919)scale(0.1 -0.1)\">\r\n       <use xlink:href=\"#DejaVuSans-50\"/>\r\n       <use x=\"63.623047\" xlink:href=\"#DejaVuSans-48\"/>\r\n      </g>\r\n     </g>\r\n    </g>\r\n    <g id=\"xtick_3\">\r\n     <g id=\"line2d_3\">\r\n      <g>\r\n       <use style=\"stroke:#000000;stroke-width:0.8;\" x=\"138.067623\" xlink:href=\"#m1eaad48d6f\" y=\"97.443481\"/>\r\n      </g>\r\n     </g>\r\n     <g id=\"text_3\">\r\n      <!-- 40 -->\r\n      <defs>\r\n       <path d=\"M 37.796875 64.3125 \r\nL 12.890625 25.390625 \r\nL 37.796875 25.390625 \r\nz\r\nM 35.203125 72.90625 \r\nL 47.609375 72.90625 \r\nL 47.609375 25.390625 \r\nL 58.015625 25.390625 \r\nL 58.015625 17.1875 \r\nL 47.609375 17.1875 \r\nL 47.609375 0 \r\nL 37.796875 0 \r\nL 37.796875 17.1875 \r\nL 4.890625 17.1875 \r\nL 4.890625 26.703125 \r\nz\r\n\" id=\"DejaVuSans-52\"/>\r\n      </defs>\r\n      <g transform=\"translate(131.705123 112.041919)scale(0.1 -0.1)\">\r\n       <use xlink:href=\"#DejaVuSans-52\"/>\r\n       <use x=\"63.623047\" xlink:href=\"#DejaVuSans-48\"/>\r\n      </g>\r\n     </g>\r\n    </g>\r\n    <g id=\"xtick_4\">\r\n     <g id=\"line2d_4\">\r\n      <g>\r\n       <use style=\"stroke:#000000;stroke-width:0.8;\" x=\"192.952869\" xlink:href=\"#m1eaad48d6f\" y=\"97.443481\"/>\r\n      </g>\r\n     </g>\r\n     <g id=\"text_4\">\r\n      <!-- 60 -->\r\n      <defs>\r\n       <path d=\"M 33.015625 40.375 \r\nQ 26.375 40.375 22.484375 35.828125 \r\nQ 18.609375 31.296875 18.609375 23.390625 \r\nQ 18.609375 15.53125 22.484375 10.953125 \r\nQ 26.375 6.390625 33.015625 6.390625 \r\nQ 39.65625 6.390625 43.53125 10.953125 \r\nQ 47.40625 15.53125 47.40625 23.390625 \r\nQ 47.40625 31.296875 43.53125 35.828125 \r\nQ 39.65625 40.375 33.015625 40.375 \r\nz\r\nM 52.59375 71.296875 \r\nL 52.59375 62.3125 \r\nQ 48.875 64.0625 45.09375 64.984375 \r\nQ 41.3125 65.921875 37.59375 65.921875 \r\nQ 27.828125 65.921875 22.671875 59.328125 \r\nQ 17.53125 52.734375 16.796875 39.40625 \r\nQ 19.671875 43.65625 24.015625 45.921875 \r\nQ 28.375 48.1875 33.59375 48.1875 \r\nQ 44.578125 48.1875 50.953125 41.515625 \r\nQ 57.328125 34.859375 57.328125 23.390625 \r\nQ 57.328125 12.15625 50.6875 5.359375 \r\nQ 44.046875 -1.421875 33.015625 -1.421875 \r\nQ 20.359375 -1.421875 13.671875 8.265625 \r\nQ 6.984375 17.96875 6.984375 36.375 \r\nQ 6.984375 53.65625 15.1875 63.9375 \r\nQ 23.390625 74.21875 37.203125 74.21875 \r\nQ 40.921875 74.21875 44.703125 73.484375 \r\nQ 48.484375 72.75 52.59375 71.296875 \r\nz\r\n\" id=\"DejaVuSans-54\"/>\r\n      </defs>\r\n      <g transform=\"translate(186.590369 112.041919)scale(0.1 -0.1)\">\r\n       <use xlink:href=\"#DejaVuSans-54\"/>\r\n       <use x=\"63.623047\" xlink:href=\"#DejaVuSans-48\"/>\r\n      </g>\r\n     </g>\r\n    </g>\r\n    <g id=\"xtick_5\">\r\n     <g id=\"line2d_5\">\r\n      <g>\r\n       <use style=\"stroke:#000000;stroke-width:0.8;\" x=\"247.838115\" xlink:href=\"#m1eaad48d6f\" y=\"97.443481\"/>\r\n      </g>\r\n     </g>\r\n     <g id=\"text_5\">\r\n      <!-- 80 -->\r\n      <defs>\r\n       <path d=\"M 31.78125 34.625 \r\nQ 24.75 34.625 20.71875 30.859375 \r\nQ 16.703125 27.09375 16.703125 20.515625 \r\nQ 16.703125 13.921875 20.71875 10.15625 \r\nQ 24.75 6.390625 31.78125 6.390625 \r\nQ 38.8125 6.390625 42.859375 10.171875 \r\nQ 46.921875 13.96875 46.921875 20.515625 \r\nQ 46.921875 27.09375 42.890625 30.859375 \r\nQ 38.875 34.625 31.78125 34.625 \r\nz\r\nM 21.921875 38.8125 \r\nQ 15.578125 40.375 12.03125 44.71875 \r\nQ 8.5 49.078125 8.5 55.328125 \r\nQ 8.5 64.0625 14.71875 69.140625 \r\nQ 20.953125 74.21875 31.78125 74.21875 \r\nQ 42.671875 74.21875 48.875 69.140625 \r\nQ 55.078125 64.0625 55.078125 55.328125 \r\nQ 55.078125 49.078125 51.53125 44.71875 \r\nQ 48 40.375 41.703125 38.8125 \r\nQ 48.828125 37.15625 52.796875 32.3125 \r\nQ 56.78125 27.484375 56.78125 20.515625 \r\nQ 56.78125 9.90625 50.3125 4.234375 \r\nQ 43.84375 -1.421875 31.78125 -1.421875 \r\nQ 19.734375 -1.421875 13.25 4.234375 \r\nQ 6.78125 9.90625 6.78125 20.515625 \r\nQ 6.78125 27.484375 10.78125 32.3125 \r\nQ 14.796875 37.15625 21.921875 38.8125 \r\nz\r\nM 18.3125 54.390625 \r\nQ 18.3125 48.734375 21.84375 45.5625 \r\nQ 25.390625 42.390625 31.78125 42.390625 \r\nQ 38.140625 42.390625 41.71875 45.5625 \r\nQ 45.3125 48.734375 45.3125 54.390625 \r\nQ 45.3125 60.0625 41.71875 63.234375 \r\nQ 38.140625 66.40625 31.78125 66.40625 \r\nQ 25.390625 66.40625 21.84375 63.234375 \r\nQ 18.3125 60.0625 18.3125 54.390625 \r\nz\r\n\" id=\"DejaVuSans-56\"/>\r\n      </defs>\r\n      <g transform=\"translate(241.475615 112.041919)scale(0.1 -0.1)\">\r\n       <use xlink:href=\"#DejaVuSans-56\"/>\r\n       <use x=\"63.623047\" xlink:href=\"#DejaVuSans-48\"/>\r\n      </g>\r\n     </g>\r\n    </g>\r\n    <g id=\"xtick_6\">\r\n     <g id=\"line2d_6\">\r\n      <g>\r\n       <use style=\"stroke:#000000;stroke-width:0.8;\" x=\"302.723361\" xlink:href=\"#m1eaad48d6f\" y=\"97.443481\"/>\r\n      </g>\r\n     </g>\r\n     <g id=\"text_6\">\r\n      <!-- 100 -->\r\n      <defs>\r\n       <path d=\"M 12.40625 8.296875 \r\nL 28.515625 8.296875 \r\nL 28.515625 63.921875 \r\nL 10.984375 60.40625 \r\nL 10.984375 69.390625 \r\nL 28.421875 72.90625 \r\nL 38.28125 72.90625 \r\nL 38.28125 8.296875 \r\nL 54.390625 8.296875 \r\nL 54.390625 0 \r\nL 12.40625 0 \r\nz\r\n\" id=\"DejaVuSans-49\"/>\r\n      </defs>\r\n      <g transform=\"translate(293.179611 112.041919)scale(0.1 -0.1)\">\r\n       <use xlink:href=\"#DejaVuSans-49\"/>\r\n       <use x=\"63.623047\" xlink:href=\"#DejaVuSans-48\"/>\r\n       <use x=\"127.246094\" xlink:href=\"#DejaVuSans-48\"/>\r\n      </g>\r\n     </g>\r\n    </g>\r\n    <g id=\"xtick_7\">\r\n     <g id=\"line2d_7\">\r\n      <g>\r\n       <use style=\"stroke:#000000;stroke-width:0.8;\" x=\"357.608607\" xlink:href=\"#m1eaad48d6f\" y=\"97.443481\"/>\r\n      </g>\r\n     </g>\r\n     <g id=\"text_7\">\r\n      <!-- 120 -->\r\n      <g transform=\"translate(348.064857 112.041919)scale(0.1 -0.1)\">\r\n       <use xlink:href=\"#DejaVuSans-49\"/>\r\n       <use x=\"63.623047\" xlink:href=\"#DejaVuSans-50\"/>\r\n       <use x=\"127.246094\" xlink:href=\"#DejaVuSans-48\"/>\r\n      </g>\r\n     </g>\r\n    </g>\r\n   </g>\r\n   <g id=\"matplotlib.axis_2\">\r\n    <g id=\"ytick_1\">\r\n     <g id=\"line2d_8\">\r\n      <defs>\r\n       <path d=\"M 0 0 \r\nL -3.5 0 \r\n\" id=\"m1236f5ea1f\" style=\"stroke:#000000;stroke-width:0.8;\"/>\r\n      </defs>\r\n      <g>\r\n       <use style=\"stroke:#000000;stroke-width:0.8;\" x=\"26.925\" xlink:href=\"#m1236f5ea1f\" y=\"10.999219\"/>\r\n      </g>\r\n     </g>\r\n     <g id=\"text_8\">\r\n      <!-- 0 -->\r\n      <g transform=\"translate(13.5625 14.798437)scale(0.1 -0.1)\">\r\n       <use xlink:href=\"#DejaVuSans-48\"/>\r\n      </g>\r\n     </g>\r\n    </g>\r\n    <g id=\"ytick_2\">\r\n     <g id=\"line2d_9\">\r\n      <g>\r\n       <use style=\"stroke:#000000;stroke-width:0.8;\" x=\"26.925\" xlink:href=\"#m1236f5ea1f\" y=\"38.441842\"/>\r\n      </g>\r\n     </g>\r\n     <g id=\"text_9\">\r\n      <!-- 10 -->\r\n      <g transform=\"translate(7.2 42.24106)scale(0.1 -0.1)\">\r\n       <use xlink:href=\"#DejaVuSans-49\"/>\r\n       <use x=\"63.623047\" xlink:href=\"#DejaVuSans-48\"/>\r\n      </g>\r\n     </g>\r\n    </g>\r\n    <g id=\"ytick_3\">\r\n     <g id=\"line2d_10\">\r\n      <g>\r\n       <use style=\"stroke:#000000;stroke-width:0.8;\" x=\"26.925\" xlink:href=\"#m1236f5ea1f\" y=\"65.884465\"/>\r\n      </g>\r\n     </g>\r\n     <g id=\"text_10\">\r\n      <!-- 20 -->\r\n      <g transform=\"translate(7.2 69.683683)scale(0.1 -0.1)\">\r\n       <use xlink:href=\"#DejaVuSans-50\"/>\r\n       <use x=\"63.623047\" xlink:href=\"#DejaVuSans-48\"/>\r\n      </g>\r\n     </g>\r\n    </g>\r\n    <g id=\"ytick_4\">\r\n     <g id=\"line2d_11\">\r\n      <g>\r\n       <use style=\"stroke:#000000;stroke-width:0.8;\" x=\"26.925\" xlink:href=\"#m1236f5ea1f\" y=\"93.327088\"/>\r\n      </g>\r\n     </g>\r\n     <g id=\"text_11\">\r\n      <!-- 30 -->\r\n      <defs>\r\n       <path d=\"M 40.578125 39.3125 \r\nQ 47.65625 37.796875 51.625 33 \r\nQ 55.609375 28.21875 55.609375 21.1875 \r\nQ 55.609375 10.40625 48.1875 4.484375 \r\nQ 40.765625 -1.421875 27.09375 -1.421875 \r\nQ 22.515625 -1.421875 17.65625 -0.515625 \r\nQ 12.796875 0.390625 7.625 2.203125 \r\nL 7.625 11.71875 \r\nQ 11.71875 9.328125 16.59375 8.109375 \r\nQ 21.484375 6.890625 26.8125 6.890625 \r\nQ 36.078125 6.890625 40.9375 10.546875 \r\nQ 45.796875 14.203125 45.796875 21.1875 \r\nQ 45.796875 27.640625 41.28125 31.265625 \r\nQ 36.765625 34.90625 28.71875 34.90625 \r\nL 20.21875 34.90625 \r\nL 20.21875 43.015625 \r\nL 29.109375 43.015625 \r\nQ 36.375 43.015625 40.234375 45.921875 \r\nQ 44.09375 48.828125 44.09375 54.296875 \r\nQ 44.09375 59.90625 40.109375 62.90625 \r\nQ 36.140625 65.921875 28.71875 65.921875 \r\nQ 24.65625 65.921875 20.015625 65.03125 \r\nQ 15.375 64.15625 9.8125 62.3125 \r\nL 9.8125 71.09375 \r\nQ 15.4375 72.65625 20.34375 73.4375 \r\nQ 25.25 74.21875 29.59375 74.21875 \r\nQ 40.828125 74.21875 47.359375 69.109375 \r\nQ 53.90625 64.015625 53.90625 55.328125 \r\nQ 53.90625 49.265625 50.4375 45.09375 \r\nQ 46.96875 40.921875 40.578125 39.3125 \r\nz\r\n\" id=\"DejaVuSans-51\"/>\r\n      </defs>\r\n      <g transform=\"translate(7.2 97.126306)scale(0.1 -0.1)\">\r\n       <use xlink:href=\"#DejaVuSans-51\"/>\r\n       <use x=\"63.623047\" xlink:href=\"#DejaVuSans-48\"/>\r\n      </g>\r\n     </g>\r\n    </g>\r\n   </g>\r\n   <g id=\"patch_3\">\r\n    <path d=\"M 26.925 97.443481 \r\nL 26.925 9.627088 \r\n\" style=\"fill:none;stroke:#000000;stroke-linecap:square;stroke-linejoin:miter;stroke-width:0.8;\"/>\r\n   </g>\r\n   <g id=\"patch_4\">\r\n    <path d=\"M 361.725 97.443481 \r\nL 361.725 9.627088 \r\n\" style=\"fill:none;stroke:#000000;stroke-linecap:square;stroke-linejoin:miter;stroke-width:0.8;\"/>\r\n   </g>\r\n   <g id=\"patch_5\">\r\n    <path d=\"M 26.925 97.443481 \r\nL 361.725 97.443481 \r\n\" style=\"fill:none;stroke:#000000;stroke-linecap:square;stroke-linejoin:miter;stroke-width:0.8;\"/>\r\n   </g>\r\n   <g id=\"patch_6\">\r\n    <path d=\"M 26.925 9.627088 \r\nL 361.725 9.627088 \r\n\" style=\"fill:none;stroke:#000000;stroke-linecap:square;stroke-linejoin:miter;stroke-width:0.8;\"/>\r\n   </g>\r\n  </g>\r\n </g>\r\n <defs>\r\n  <clipPath id=\"p3db2a88663\">\r\n   <rect height=\"87.816393\" width=\"334.8\" x=\"26.925\" y=\"9.627088\"/>\r\n  </clipPath>\r\n </defs>\r\n</svg>\r\n",
      "image/png": "[encoded data removed]"
     },
     "metadata": {
      "needs_background": "light"
     }
    }
   ],
   "source": [
    "# Get some random images\n",
    "dataiter = iter(trainloader)\n",
    "images, labels = dataiter.next()\n",
    "\n",
    "# Create grid of images\n",
    "img_grid = torchvision.utils.make_grid(images)\n",
    "\n",
    "# Show images\n",
    "plt.imshow(img_grid.numpy().mean(axis=0), cmap='Greys')\n",
    "\n",
    "# Write to TensorBoard\n",
    "writer.add_image('four_fashion_mnist_images', img_grid)"
   ]
  },
  {
   "cell_type": "markdown",
   "metadata": {},
   "source": [
    "# Inspect the Model using TensorBoard"
   ]
  },
  {
   "cell_type": "code",
   "execution_count": 9,
   "metadata": {},
   "outputs": [],
   "source": [
    "writer.add_graph(net, images)\n",
    "writer.close()"
   ]
  },
  {
   "cell_type": "markdown",
   "metadata": {},
   "source": [
    "# Adding a Projector to TensorBoard"
   ]
  },
  {
   "cell_type": "code",
   "execution_count": 10,
   "metadata": {},
   "outputs": [
    {
     "output_type": "stream",
     "name": "stdout",
     "text": "warning: Embedding dir exists, did you set global_step for add_embedding()?\n"
    }
   ],
   "source": [
    "# helper function\n",
    "def select_n_random(data, labels, n=100):\n",
    "    '''\n",
    "    Selects n random datapoints and their corresponding labels from a dataset\n",
    "    '''\n",
    "    assert len(data) == len(labels)\n",
    "\n",
    "    perm = torch.randperm(len(data))\n",
    "    return data[perm][:n], labels[perm][:n]\n",
    "\n",
    "# select random images and their target indices\n",
    "images, labels = select_n_random(trainset.data, trainset.targets)\n",
    "\n",
    "# get the class labels for each image\n",
    "class_labels = [classes[lab] for lab in labels]\n",
    "\n",
    "# log embeddings\n",
    "features = images.view(-1, 28 * 28)\n",
    "writer.add_embedding(features,\n",
    "                     metadata=class_labels,\n",
    "                     label_img=images.unsqueeze(1))\n",
    "writer.close()"
   ]
  },
  {
   "cell_type": "markdown",
   "metadata": {},
   "source": [
    "# Tracking Model Training with TensorBoard"
   ]
  },
  {
   "cell_type": "code",
   "execution_count": 11,
   "metadata": {},
   "outputs": [],
   "source": [
    "def images_to_probs(net, images):\n",
    "    '''\n",
    "    Generates predictions and corresponding probabilities from a trained\n",
    "    network and a list of images\n",
    "    '''\n",
    "    output = net(images)\n",
    "    # convert output probabilities to predicted class\n",
    "    _, preds_tensor = torch.max(output, 1)\n",
    "    preds = np.squeeze(preds_tensor.numpy())\n",
    "    return preds, [F.softmax(el, dim=0)[i].item() for i, el in zip(preds, output)]\n",
    "\n",
    "\n",
    "def plot_classes_preds(net, images, labels):\n",
    "    '''\n",
    "    Generates matplotlib Figure using a trained network, along with images\n",
    "    and labels from a batch, that shows the network's top prediction along\n",
    "    with its probability, alongside the actual label, coloring this\n",
    "    information based on whether the prediction was correct or not.\n",
    "    Uses the \"images_to_probs\" function.\n",
    "    '''\n",
    "    preds, probs = images_to_probs(net, images)\n",
    "    # plot the images in the batch, along with predicted and true labels\n",
    "    fig = plt.figure(figsize=(12, 48))\n",
    "    for idx in np.arange(4):\n",
    "        ax = fig.add_subplot(1, 4, idx+1, xticks=[], yticks=[])\n",
    "        ax.imshow(img_grid.numpy().mean(axis=0), cmap='Greys')\n",
    "        # matplotlib_imshow(images[idx], one_channel=True)\n",
    "        ax.set_title(\"{0}, {1:.1f}%\\n(label: {2})\".format(\n",
    "            classes[preds[idx]],\n",
    "            probs[idx] * 100.0,\n",
    "            classes[labels[idx]]),\n",
    "                    color=(\"green\" if preds[idx]==labels[idx].item() else \"red\"))\n",
    "    return fig"
   ]
  },
  {
   "cell_type": "code",
   "execution_count": 12,
   "metadata": {},
   "outputs": [
    {
     "output_type": "stream",
     "name": "stdout",
     "text": "0 1000 1.7069296799153089\n0 2000 0.8490373853333294\n0 3000 0.7228811972606927\n0 4000 0.660338819055818\n0 5000 0.5749094822853804\n0 6000 0.5706856685071252\n0 7000 0.5397072371901013\n0 8000 0.5269392681136961\n0 9000 0.4788875129010994\n0 10000 0.45875272861658595\n0 11000 0.4615493569925893\n0 12000 0.4306238478234736\n0 13000 0.42924970111786387\n0 14000 0.4356872756795492\n0 15000 0.3931198005062761\n"
    }
   ],
   "source": [
    "running_loss = 0.0\n",
    "for epoch in range(1):\n",
    "    for i, batch in enumerate(trainloader, 0):\n",
    "        batch_x, batch_y = batch\n",
    "\n",
    "        # Forward + Loss + Backward + Optimize\n",
    "        batch_outs = net(batch_x)\n",
    "        loss = loss_func(batch_outs, batch_y)\n",
    "        optimizer.zero_grad()\n",
    "        loss.backward()\n",
    "        optimizer.step()\n",
    "\n",
    "        running_loss += loss.item()\n",
    "        if (i+1) % 1000 == 0:\n",
    "            print(epoch, i+1, running_loss/1000)\n",
    "\n",
    "            # Log the running loss\n",
    "            writer.add_scalar(\"training loss\", running_loss/1000, epoch*len(trainloader) + i)\n",
    "            # Log a Matplotlib Figure showing the model's predictions on a random mini-batch\n",
    "            writer.add_figure('predictions vs. actuals', plot_classes_preds(net, batch_x, batch_y),\n",
    "                              global_step=epoch*len(trainloader) + i)\n",
    "\n",
    "            running_loss = 0.0\n",
    "\n",
    "writer.close()"
   ]
  },
  {
   "cell_type": "code",
   "execution_count": null,
   "metadata": {},
   "outputs": [],
   "source": []
  }
 ],
 "metadata": {
  "language_info": {
   "codemirror_mode": {
    "name": "ipython",
    "version": 3
   },
   "file_extension": ".py",
   "mimetype": "text/x-python",
   "name": "python",
   "nbconvert_exporter": "python",
   "pygments_lexer": "ipython3",
   "version": "3.7.6-final"
  },
  "orig_nbformat": 2,
  "kernelspec": {
   "name": "python3",
   "display_name": "Python 3"
  }
 },
 "nbformat": 4,
 "nbformat_minor": 2
}