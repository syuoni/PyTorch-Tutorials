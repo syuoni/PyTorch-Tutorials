{
 "cells": [
  {
   "cell_type": "markdown",
   "metadata": {},
   "source": [
    "# Sequence to Sequence Learning with Neural Networks\n",
    "\n",
    "This notebook implements the model in:  \n",
    "Sutskever, I., Vinyals, O., and Le, Q. V. 2014. Sequence to sequence learning with neural networks. In Advances in neural information processing systems, 3104-3112. [arXiv:1409.3215](https://arxiv.org/abs/1409.3215). \n",
    "\n",
    "This model is based on an *Encoder-Decoder* framework, in which the encoder and the decoder are both RNNs.  \n",
    "This model encodes all the information of the source sequence into a fixed-length context vector $z$, and then generates the target sequence from $z$.  \n",
    "\n",
    "![Seq2Seq with NN](fig/seq2seq-with-NN.png)"
   ]
  },
  {
   "cell_type": "code",
   "execution_count": 1,
   "metadata": {},
   "outputs": [],
   "source": [
    "import random\n",
    "import numpy as np\n",
    "import torch\n",
    "import torch.nn as nn\n",
    "import torch.nn.functional as F\n",
    "import torch.optim as optim\n",
    "\n",
    "SEED = 515\n",
    "random.seed(SEED)\n",
    "np.random.seed(SEED)\n",
    "# This function also invokes `torch.cuda.manual_seed_all(SEED)`.\n",
    "torch.manual_seed(SEED)\n",
    "torch.backends.cudnn.deterministic = True"
   ]
  },
  {
   "cell_type": "markdown",
   "metadata": {},
   "source": [
    "## Preparing Data\n",
    "[Sutskever et al. (2014)](https://arxiv.org/abs/1409.3215) find it beneficial to reverse the order of the source sequence, which they believe \"introduces many short term dependencies in the data that make the optimization problem much easier\". "
   ]
  },
  {
   "cell_type": "code",
   "execution_count": 2,
   "metadata": {},
   "outputs": [],
   "source": [
    "import spacy\n",
    "spacy_de = spacy.load('de')\n",
    "spacy_en = spacy.load('en')\n",
    "\n",
    "def tokenize_de_rev(text):\n",
    "    \"\"\"\n",
    "    Tokenize German text and reverse it. \n",
    "    \"\"\"\n",
    "    return [tok.text for tok in spacy_de.tokenizer(text)][::-1]\n",
    "\n",
    "def tokenize_en(text):\n",
    "    \"\"\"\n",
    "    Tokenize English text.\n",
    "    \"\"\"\n",
    "    return [tok.text for tok in spacy_en.tokenizer(text)]"
   ]
  },
  {
   "cell_type": "code",
   "execution_count": 3,
   "metadata": {},
   "outputs": [],
   "source": [
    "from torchtext.data import Field, BucketIterator\n",
    "\n",
    "SRC = Field(tokenize=tokenize_de_rev, init_token='<sos>', eos_token='<eos>', \n",
    "            lower=True, include_lengths=True)\n",
    "TRG = Field(tokenize=tokenize_en, init_token='<sos>', eos_token='<eos>', \n",
    "            lower=True, include_lengths=True)"
   ]
  },
  {
   "cell_type": "code",
   "execution_count": 4,
   "metadata": {},
   "outputs": [],
   "source": [
    "from torchtext.datasets import Multi30k\n",
    "\n",
    "train_data, valid_data, test_data = Multi30k.splits(exts=['.de', '.en'], \n",
    "                                                    # fields=[SRC, TRG], \n",
    "                                                    fields=[('src', SRC), ('trg', TRG)], \n",
    "                                                    root='data/')"
   ]
  },
  {
   "cell_type": "code",
   "execution_count": 5,
   "metadata": {},
   "outputs": [
    {
     "output_type": "stream",
     "name": "stdout",
     "text": "['.', 'büsche', 'vieler', 'nähe', 'der', 'in', 'freien', 'im', 'sind', 'männer', 'weiße', 'junge', 'zwei']\n['two', 'young', ',', 'white', 'males', 'are', 'outside', 'near', 'many', 'bushes', '.']\n"
    }
   ],
   "source": [
    "print(train_data[0].src)\n",
    "print(train_data[0].trg)"
   ]
  },
  {
   "cell_type": "code",
   "execution_count": 6,
   "metadata": {},
   "outputs": [
    {
     "output_type": "execute_result",
     "data": {
      "text/plain": "(7855, 5893)"
     },
     "metadata": {},
     "execution_count": 6
    }
   ],
   "source": [
    "SRC.build_vocab(train_data, min_freq=2)\n",
    "TRG.build_vocab(train_data, min_freq=2)\n",
    "\n",
    "len(SRC.vocab), len(TRG.vocab)"
   ]
  },
  {
   "cell_type": "code",
   "execution_count": 7,
   "metadata": {},
   "outputs": [],
   "source": [
    "BATCH_SIZE = 128\n",
    "\n",
    "device = torch.device('cuda' if torch.cuda.is_available() else 'cpu')\n",
    "\n",
    "train_iterator, valid_iterator, test_iterator = BucketIterator.splits(\n",
    "    (train_data, valid_data, test_data), \n",
    "    batch_size=BATCH_SIZE, device=device)"
   ]
  },
  {
   "cell_type": "code",
   "execution_count": 8,
   "metadata": {},
   "outputs": [
    {
     "output_type": "stream",
     "name": "stdout",
     "text": "tensor([[   2,    2,    2,  ...,    2,    2,    2],\n        [   4,    4,    4,  ...,    4,    4,    4],\n        [ 293,  913, 3887,  ...,   68, 5563,    0],\n        ...,\n        [   1,    1,    1,  ...,    1,    1,    1],\n        [   1,    1,    1,  ...,    1,    1,    1],\n        [   1,    1,    1,  ...,    1,    1,    1]], device='cuda:0')\ntensor([14, 17, 12, 11, 17, 21, 12, 16, 14, 11, 23, 23,  8, 11,  9, 14, 19, 20,\n        12, 16,  9, 11, 13, 20, 21, 29, 13, 22, 14, 16, 10,  9, 15, 12, 17, 10,\n        14, 22, 17, 20, 23, 23, 12, 17, 15, 19, 17, 15, 16,  7, 14, 15, 16, 12,\n        17, 14, 18, 18, 14, 14, 17, 21, 12, 12,  9, 19, 12, 14, 12, 11, 10, 13,\n        18, 14,  9, 11, 10, 12, 10, 25, 14, 18, 15, 16, 15, 18, 13,  9, 21, 11,\n        20, 12, 13, 14, 14, 17, 10, 13, 18, 30, 14, 12, 13,  9, 10, 15, 13, 10,\n        12, 15, 13, 18, 17, 13, 11, 12, 10, 16, 12, 13, 24, 14, 19, 19, 10, 20,\n        12, 11], device='cuda:0')\ntensor([[   2,    2,    2,  ...,    2,    2,    2],\n        [   4,    4,   48,  ...,    4,   16,   16],\n        [   9,    9,   25,  ...,    9,   30, 1110],\n        ...,\n        [   1,    1,    1,  ...,    1,    1,    1],\n        [   1,    1,    1,  ...,    1,    1,    1],\n        [   1,    1,    1,  ...,    1,    1,    1]], device='cuda:0')\ntensor([13, 17, 11, 13, 17, 28, 11, 19, 13, 12, 18, 21,  9, 13, 11, 15, 20, 19,\n        15, 14,  9, 11, 14, 25, 17, 27, 18, 21, 13, 14, 11, 12, 15, 12, 20, 10,\n        16, 22, 18, 19, 23, 24, 12, 18, 14, 22, 19, 13, 18,  6, 13, 19, 16, 13,\n        16, 14, 23, 18, 16, 17, 15, 24, 12, 16,  9, 17, 14, 15, 11, 16, 10, 14,\n        19, 12, 12, 13, 12, 13, 12, 27, 12, 18, 11, 17, 14, 15, 14, 10, 26, 12,\n        20, 14, 13, 14, 12, 18, 12, 15, 22, 29, 16, 12, 16, 11, 14, 17, 12, 12,\n        12, 17, 13, 17, 17, 15, 13, 14, 10, 15, 12, 14, 19, 13, 20, 21, 10, 20,\n        12, 12], device='cuda:0')\n"
    }
   ],
   "source": [
    "for batch in train_iterator:\n",
    "    batch_src, batch_src_lens = batch.src\n",
    "    batch_trg, batch_trg_lens = batch.trg\n",
    "    break\n",
    "print(batch_src)\n",
    "print(batch_src_lens)\n",
    "print(batch_trg)\n",
    "print(batch_trg_lens)"
   ]
  },
  {
   "cell_type": "markdown",
   "metadata": {},
   "source": [
    "## Build Model\n",
    "### Encoder"
   ]
  },
  {
   "cell_type": "code",
   "execution_count": 9,
   "metadata": {},
   "outputs": [],
   "source": [
    "class Encoder(nn.Module):\n",
    "    def __init__(self, in_dim, emb_dim, hid_dim, n_layers, dropout, pad_idx):\n",
    "        super().__init__()\n",
    "        self.emb = nn.Embedding(in_dim, emb_dim, padding_idx=pad_idx)\n",
    "        self.rnn = nn.LSTM(emb_dim, hid_dim, num_layers=n_layers, dropout=dropout)\n",
    "        self.dropout = nn.Dropout(dropout)\n",
    "\n",
    "    def forward(self, src, src_lens):\n",
    "        # src: (step, batch)\n",
    "        embedded = self.dropout(self.emb(src))\n",
    "\n",
    "        # Pack sequence\n",
    "        packed_embedded = nn.utils.rnn.pack_padded_sequence(embedded, src_lens, enforce_sorted=False)\n",
    "        # hidden/cell: (num_layers*num_directions, batch, hid_dim)\n",
    "        packed_outs, (hidden, cell) = self.rnn(packed_embedded)\n",
    "        return hidden, cell"
   ]
  },
  {
   "cell_type": "code",
   "execution_count": 10,
   "metadata": {},
   "outputs": [
    {
     "output_type": "stream",
     "name": "stdout",
     "text": "torch.Size([30, 128])\ntorch.Size([2, 128, 512])\ntorch.Size([2, 128, 512])\n"
    }
   ],
   "source": [
    "SRC_IN_DIM = len(SRC.vocab)\n",
    "TRG_IN_DIM = len(TRG.vocab)\n",
    "ENC_EMB_DIM = 256\n",
    "DEC_EMB_DIM = 256\n",
    "HID_DIM = 512\n",
    "N_LAYERS = 2\n",
    "ENC_DROPOUT = 0.5\n",
    "DEC_DROPOUT = 0.5\n",
    "ENC_PAD_IDX = SRC.vocab.stoi[SRC.pad_token]\n",
    "DEC_PAD_IDX = TRG.vocab.stoi[TRG.pad_token]\n",
    "\n",
    "encoder = Encoder(SRC_IN_DIM, ENC_EMB_DIM, HID_DIM, N_LAYERS, ENC_DROPOUT, ENC_PAD_IDX).to(device)\n",
    "hidden, cell = encoder(batch_src, batch_src_lens)\n",
    "\n",
    "print(batch_src.size())\n",
    "print(hidden.size())\n",
    "print(cell.size())"
   ]
  },
  {
   "cell_type": "markdown",
   "metadata": {},
   "source": [
    "### Decoder"
   ]
  },
  {
   "cell_type": "code",
   "execution_count": 11,
   "metadata": {},
   "outputs": [],
   "source": [
    "class Decoder(nn.Module):\n",
    "    def __init__(self, in_dim, emb_dim, hid_dim, n_layers, dropout, pad_idx):\n",
    "        super().__init__()\n",
    "        self.emb = nn.Embedding(in_dim, emb_dim, padding_idx=pad_idx)\n",
    "        self.rnn = nn.LSTM(emb_dim, hid_dim, num_layers=n_layers, dropout=dropout)\n",
    "        # The output dimension equals the input dimension for the decoder.\n",
    "        self.fc = nn.Linear(hid_dim, in_dim)\n",
    "        self.dropout = nn.Dropout(dropout)\n",
    "\n",
    "    def forward(self, trg, hidden, cell):\n",
    "        \"\"\"\n",
    "        One-step forward. \n",
    "        \"\"\"\n",
    "        # trg: (step=1, batch)\n",
    "        embedded = self.dropout(self.emb(trg))\n",
    "\n",
    "        # outs: (step=1, batch, hid_dim)\n",
    "        # hidden/cell: (num_layers*num_directions, batch, hid_dim)\n",
    "        outs, (hidden, cell) = self.rnn(embedded, (hidden, cell))\n",
    "        # preds: (step=1, batch, out_dim=in_dim)\n",
    "        preds = self.fc(outs)\n",
    "        return preds, hidden, cell"
   ]
  },
  {
   "cell_type": "code",
   "execution_count": 12,
   "metadata": {},
   "outputs": [
    {
     "output_type": "stream",
     "name": "stdout",
     "text": "torch.Size([29, 128])\ntorch.Size([1, 128, 5893])\ntorch.Size([2, 128, 512])\ntorch.Size([2, 128, 512])\n"
    }
   ],
   "source": [
    "decoder = Decoder(TRG_IN_DIM, DEC_EMB_DIM, HID_DIM, N_LAYERS, DEC_DROPOUT, DEC_PAD_IDX).to(device)\n",
    "preds, hidden, cell = decoder(batch_trg[0].unsqueeze(0), hidden, cell)\n",
    "\n",
    "print(batch_trg.size())\n",
    "print(preds.size())\n",
    "print(hidden.size())\n",
    "print(cell.size())"
   ]
  },
  {
   "cell_type": "markdown",
   "metadata": {},
   "source": [
    "### Seq2Seq"
   ]
  },
  {
   "cell_type": "code",
   "execution_count": 13,
   "metadata": {},
   "outputs": [],
   "source": [
    "class Seq2Seq(nn.Module):\n",
    "    def __init__(self, encoder, decoder):\n",
    "        super().__init__()\n",
    "        self.encoder = encoder\n",
    "        self.decoder = decoder\n",
    "\n",
    "    def forward(self, src, src_lens, trg, teacher_forcing_ratio=0.5):\n",
    "        # src: (step, batch)\n",
    "        # trg: (step, batch)\n",
    "        hidden, cell = self.encoder(src, src_lens)\n",
    "        \n",
    "        preds = []\n",
    "        # The first input to the decoder is the <sos> token. \n",
    "        # trg_t: (step=1, batch)\n",
    "        trg_t = trg[0].unsqueeze(0)\n",
    "        for t in range(1, trg.size(0)):\n",
    "            # preds_t: (step=1, batch, trg_out_dim)\n",
    "            preds_t, hidden, cell = self.decoder(trg_t, hidden, cell)\n",
    "            # top1: (step=1, batch)\n",
    "            top1 = preds_t.argmax(dim=-1)\n",
    "            if np.random.rand() < teacher_forcing_ratio:\n",
    "                trg_t = trg[t].unsqueeze(0)\n",
    "            else:\n",
    "                trg_t = top1\n",
    "            preds.append(preds_t)\n",
    "        # preds: (step-1, batch, trg_out_dim)\n",
    "        return torch.cat(preds, dim=0)"
   ]
  },
  {
   "cell_type": "code",
   "execution_count": 14,
   "metadata": {},
   "outputs": [
    {
     "output_type": "stream",
     "name": "stdout",
     "text": "torch.Size([29, 128])\ntorch.Size([28, 128, 5893])\n"
    }
   ],
   "source": [
    "model = Seq2Seq(encoder, decoder).to(device)\n",
    "preds = model(batch_src, batch_src_lens, batch_trg)\n",
    "\n",
    "print(batch_trg.size())\n",
    "print(preds.size())"
   ]
  },
  {
   "cell_type": "markdown",
   "metadata": {},
   "source": [
    "## Train Model"
   ]
  },
  {
   "cell_type": "code",
   "execution_count": 15,
   "metadata": {},
   "outputs": [
    {
     "output_type": "stream",
     "name": "stdout",
     "text": "The model has 13,899,013 trainable parameters\n"
    }
   ],
   "source": [
    "def init_weights(m: nn.Module):\n",
    "    for name, param in m.named_parameters():\n",
    "        if 'weight' in name:\n",
    "            nn.init.normal_(param.data, mean=0, std=0.01)\n",
    "        else:\n",
    "            nn.init.constant_(param.data, 0)\n",
    "\n",
    "def count_parameters(model: nn.Module):\n",
    "    return sum(p.numel() for p in model.parameters() if p.requires_grad)\n",
    "\n",
    "\n",
    "encoder = Encoder(SRC_IN_DIM, ENC_EMB_DIM, HID_DIM, N_LAYERS, ENC_DROPOUT, ENC_PAD_IDX)\n",
    "decoder = Decoder(TRG_IN_DIM, DEC_EMB_DIM, HID_DIM, N_LAYERS, DEC_DROPOUT, DEC_PAD_IDX)\n",
    "model = Seq2Seq(encoder, decoder).to(device)\n",
    "\n",
    "model.apply(init_weights)\n",
    "print(f'The model has {count_parameters(model):,} trainable parameters')"
   ]
  },
  {
   "cell_type": "code",
   "execution_count": 16,
   "metadata": {},
   "outputs": [
    {
     "output_type": "stream",
     "name": "stdout",
     "text": "tensor([[ 0.0000,  0.0000,  0.0000,  0.0000,  0.0000,  0.0000,  0.0000,  0.0000],\n        [ 0.0000,  0.0000,  0.0000,  0.0000,  0.0000,  0.0000,  0.0000,  0.0000],\n        [ 0.0171,  0.0020, -0.0057,  0.0012, -0.0194,  0.0050, -0.0010, -0.0051],\n        [-0.0062, -0.0034, -0.0117, -0.0156, -0.0005, -0.0193, -0.0133, -0.0189],\n        [ 0.0105, -0.0096,  0.0139,  0.0010,  0.0069, -0.0085, -0.0098, -0.0005]],\n       device='cuda:0', grad_fn=<SliceBackward>)\ntensor([[ 0.0000,  0.0000,  0.0000,  0.0000,  0.0000,  0.0000,  0.0000,  0.0000],\n        [ 0.0000,  0.0000,  0.0000,  0.0000,  0.0000,  0.0000,  0.0000,  0.0000],\n        [-0.0020,  0.0055, -0.0059, -0.0010, -0.0035, -0.0056,  0.0169, -0.0092],\n        [-0.0002, -0.0016,  0.0042, -0.0044,  0.0022,  0.0113, -0.0221,  0.0069],\n        [ 0.0065,  0.0097, -0.0082, -0.0009,  0.0024, -0.0109,  0.0009,  0.0053]],\n       device='cuda:0', grad_fn=<SliceBackward>)\n"
    }
   ],
   "source": [
    "# Initialize Embeddings \n",
    "ENC_UNK_IDX = SRC.vocab.stoi[SRC.unk_token]\n",
    "DEC_UNK_IDX = TRG.vocab.stoi[TRG.unk_token]\n",
    "\n",
    "model.encoder.emb.weight.data[ENC_UNK_IDX].zero_()\n",
    "model.encoder.emb.weight.data[ENC_PAD_IDX].zero_()\n",
    "model.decoder.emb.weight.data[DEC_UNK_IDX].zero_()\n",
    "model.decoder.emb.weight.data[DEC_PAD_IDX].zero_()\n",
    "\n",
    "print(model.encoder.emb.weight[:5, :8])\n",
    "print(model.decoder.emb.weight[:5, :8])"
   ]
  },
  {
   "cell_type": "code",
   "execution_count": 17,
   "metadata": {},
   "outputs": [],
   "source": [
    "loss_func = nn.CrossEntropyLoss(ignore_index=DEC_PAD_IDX, reduction='mean')\n",
    "optimizer = optim.AdamW(model.parameters())"
   ]
  },
  {
   "cell_type": "markdown",
   "metadata": {},
   "source": [
    "We must ensure we turn `teacher forcing` off for evaluation. This will cause the model to only use it's own predictions to make further predictions within a sentence, which mirrors how it would be used in deployment. "
   ]
  },
  {
   "cell_type": "code",
   "execution_count": 18,
   "metadata": {},
   "outputs": [],
   "source": [
    "def train_epoch(model, iterator, optimizer, loss_func, clip):\n",
    "    model.train()\n",
    "    epoch_loss = 0\n",
    "    for batch in iterator:\n",
    "        # Forward pass\n",
    "        batch_src, batch_src_lens = batch.src\n",
    "        batch_trg, batch_trg_lens = batch.trg\n",
    "        # preds: (step-1, batch, trg_out_dim)\n",
    "        preds = model(batch_src, batch_src_lens, batch_trg)\n",
    "        \n",
    "        # Calculate loss\n",
    "        preds_flattened = preds.view(-1, preds.size(-1))\n",
    "        batch_trg_flattened = batch_trg[1:].flatten()\n",
    "        loss = loss_func(preds_flattened, batch_trg_flattened)\n",
    "\n",
    "        # Backward propagation\n",
    "        optimizer.zero_grad()\n",
    "        loss.backward()\n",
    "        nn.utils.clip_grad_norm_(model.parameters(), clip)\n",
    "\n",
    "        # Update weights\n",
    "        optimizer.step()\n",
    "        # Accumulate loss\n",
    "        epoch_loss += loss.item()\n",
    "    return epoch_loss/len(iterator)\n",
    "\n",
    "def eval_epoch(model, iterator, loss_func):\n",
    "    model.eval()\n",
    "    epoch_loss = 0\n",
    "    with torch.no_grad():\n",
    "        for batch in iterator:\n",
    "            # Forward pass\n",
    "            batch_src, batch_src_lens = batch.src\n",
    "            batch_trg, batch_trg_lens = batch.trg\n",
    "            # preds: (step-1, batch, trg_out_dim)\n",
    "            preds = model(batch_src, batch_src_lens, batch_trg, teacher_forcing_ratio=0)\n",
    "            \n",
    "            # Calculate loss\n",
    "            preds_flattened = preds.view(-1, preds.size(-1))\n",
    "            batch_trg_flattened = batch_trg[1:].flatten()\n",
    "            loss = loss_func(preds_flattened, batch_trg_flattened)\n",
    "            \n",
    "            # Accumulate loss and acc\n",
    "            epoch_loss += loss.item()\n",
    "    return epoch_loss/len(iterator)"
   ]
  },
  {
   "cell_type": "code",
   "execution_count": 19,
   "metadata": {},
   "outputs": [
    {
     "output_type": "stream",
     "name": "stdout",
     "text": "Epoch: 01 | Epoch Time: 0m 19s\n\tTrain Loss: 5.261 | Train PPL: 192.640\n\t Val. Loss: 4.860 |  Val. PPL: 129.044\nEpoch: 02 | Epoch Time: 0m 18s\n\tTrain Loss: 4.901 | Train PPL: 134.479\n\t Val. Loss: 4.679 |  Val. PPL: 107.696\nEpoch: 03 | Epoch Time: 0m 17s\n\tTrain Loss: 4.415 | Train PPL:  82.722\n\t Val. Loss: 4.459 |  Val. PPL:  86.378\nEpoch: 04 | Epoch Time: 0m 19s\n\tTrain Loss: 4.103 | Train PPL:  60.521\n\t Val. Loss: 4.343 |  Val. PPL:  76.918\nEpoch: 05 | Epoch Time: 0m 19s\n\tTrain Loss: 3.909 | Train PPL:  49.829\n\t Val. Loss: 4.180 |  Val. PPL:  65.387\nEpoch: 06 | Epoch Time: 0m 17s\n\tTrain Loss: 3.743 | Train PPL:  42.229\n\t Val. Loss: 4.015 |  Val. PPL:  55.433\nEpoch: 07 | Epoch Time: 0m 17s\n\tTrain Loss: 3.579 | Train PPL:  35.855\n\t Val. Loss: 3.956 |  Val. PPL:  52.243\nEpoch: 08 | Epoch Time: 0m 17s\n\tTrain Loss: 3.437 | Train PPL:  31.081\n\t Val. Loss: 3.847 |  Val. PPL:  46.838\nEpoch: 09 | Epoch Time: 0m 18s\n\tTrain Loss: 3.311 | Train PPL:  27.408\n\t Val. Loss: 3.786 |  Val. PPL:  44.099\nEpoch: 10 | Epoch Time: 0m 17s\n\tTrain Loss: 3.197 | Train PPL:  24.456\n\t Val. Loss: 3.704 |  Val. PPL:  40.617\n"
    }
   ],
   "source": [
    "import time\n",
    "N_EPOCHS = 10\n",
    "CLIP = 1\n",
    "best_valid_loss = np.inf\n",
    "\n",
    "for epoch in range(N_EPOCHS):\n",
    "    t0 = time.time()\n",
    "    train_loss = train_epoch(model, train_iterator, optimizer, loss_func, CLIP)\n",
    "    valid_loss = eval_epoch(model, valid_iterator, loss_func)\n",
    "    epoch_secs = time.time() - t0\n",
    "\n",
    "    epoch_mins, epoch_secs = int(epoch_secs // 60), int(epoch_secs % 60)\n",
    "    \n",
    "    if valid_loss < best_valid_loss:\n",
    "        best_valid_loss = valid_loss\n",
    "        torch.save(model.state_dict(), 'models/tut1-model.pt')\n",
    "    \n",
    "    print(f'Epoch: {epoch+1:02} | Epoch Time: {epoch_mins}m {epoch_secs}s')\n",
    "    print(f'\\tTrain Loss: {train_loss:.3f} | Train PPL: {np.exp(train_loss):7.3f}')\n",
    "    print(f'\\t Val. Loss: {valid_loss:.3f} |  Val. PPL: {np.exp(valid_loss):7.3f}')"
   ]
  },
  {
   "cell_type": "code",
   "execution_count": 20,
   "metadata": {},
   "outputs": [
    {
     "output_type": "stream",
     "name": "stdout",
     "text": "Val. Loss: 3.704 |  Val. PPL:  40.617\nTest Loss: 3.699 |  Test PPL:  40.412\n"
    }
   ],
   "source": [
    "model.load_state_dict(torch.load('models/tut1-model.pt'))\n",
    "\n",
    "valid_loss = eval_epoch(model, valid_iterator, loss_func)\n",
    "test_loss = eval_epoch(model, test_iterator, loss_func)\n",
    "\n",
    "print(f'Val. Loss: {valid_loss:.3f} |  Val. PPL: {np.exp(valid_loss):7.3f}')\n",
    "print(f'Test Loss: {test_loss:.3f} |  Test PPL: {np.exp(test_loss):7.3f}')"
   ]
  },
  {
   "cell_type": "markdown",
   "metadata": {},
   "source": [
    "## Check Embeddings\n",
    "* The Embeddings of `unk` and `<pad>` tokens\n",
    "    * Because the `padding_idx` has been passed to `nn.Embedding`, so the `<pad>` embedding will remain zeros throughout training.  \n",
    "    * While the `<unk>` embedding will be learned."
   ]
  },
  {
   "cell_type": "code",
   "execution_count": 21,
   "metadata": {},
   "outputs": [
    {
     "output_type": "stream",
     "name": "stdout",
     "text": "tensor([[-0.0223,  0.0108,  0.0492,  0.0173,  0.0251, -0.0279,  0.0475, -0.0275],\n        [ 0.0000,  0.0000,  0.0000,  0.0000,  0.0000,  0.0000,  0.0000,  0.0000],\n        [ 0.0054, -0.0061,  0.0066,  0.0002, -0.0033, -0.0057,  0.0055, -0.0180],\n        [-0.0386, -0.0408, -0.1120, -0.0399, -0.0249, -0.0212, -0.0749, -0.0723],\n        [ 0.0138,  0.0117,  0.0195,  0.0115,  0.0369,  0.0285,  0.0062,  0.0149]],\n       device='cuda:0', grad_fn=<SliceBackward>)\ntensor([[ 0.0391, -0.0309, -0.0342,  0.0435,  0.0253, -0.0040, -0.0110,  0.0508],\n        [ 0.0000,  0.0000,  0.0000,  0.0000,  0.0000,  0.0000,  0.0000,  0.0000],\n        [-0.0281, -0.0198, -0.0112,  0.0104,  0.0161,  0.0009, -0.0171,  0.0280],\n        [-0.1392,  0.0918, -0.0215,  0.0861, -0.1324,  0.0398, -0.1677, -0.0257],\n        [-0.0735,  0.0215, -0.0549,  0.0056, -0.0547, -0.0216, -0.0210, -0.1562]],\n       device='cuda:0', grad_fn=<SliceBackward>)\n"
    }
   ],
   "source": [
    "print(model.encoder.emb.weight[:5, :8])\n",
    "print(model.decoder.emb.weight[:5, :8])"
   ]
  },
  {
   "cell_type": "code",
   "execution_count": null,
   "metadata": {},
   "outputs": [],
   "source": []
  }
 ],
 "metadata": {
  "language_info": {
   "codemirror_mode": {
    "name": "ipython",
    "version": 3
   },
   "file_extension": ".py",
   "mimetype": "text/x-python",
   "name": "python",
   "nbconvert_exporter": "python",
   "pygments_lexer": "ipython3",
   "version": "3.7.6-final"
  },
  "orig_nbformat": 2,
  "kernelspec": {
   "name": "python3",
   "display_name": "Python 3"
  }
 },
 "nbformat": 4,
 "nbformat_minor": 2
}