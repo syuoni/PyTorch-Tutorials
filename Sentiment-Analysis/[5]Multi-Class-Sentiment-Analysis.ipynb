{
 "cells": [
  {
   "cell_type": "code",
   "execution_count": 1,
   "metadata": {},
   "outputs": [],
   "source": [
    "import random\n",
    "import numpy as np\n",
    "import torch\n",
    "import torch.nn as nn\n",
    "import torch.nn.functional as F\n",
    "import torch.optim as optim\n",
    "\n",
    "SEED = 515\n",
    "random.seed(SEED)\n",
    "np.random.seed(SEED)\n",
    "torch.manual_seed(SEED)\n",
    "torch.backends.cudnn.deterministic = True"
   ]
  },
  {
   "cell_type": "markdown",
   "metadata": {},
   "source": [
    "# Preparing Data"
   ]
  },
  {
   "cell_type": "code",
   "execution_count": 2,
   "metadata": {},
   "outputs": [],
   "source": [
    "import torchtext\n",
    "from torchtext.data import Field, LabelField, BucketIterator\n",
    "\n",
    "# Set `batch_first=True` in the `Field`.\n",
    "TEXT = Field(tokenize='spacy', tokenizer_language='en_core_web_sm', include_lengths=True, batch_first=True)\n",
    "LABEL = LabelField()\n",
    "\n",
    "# `filter_pred`: Use only examples for which `filter_pred(example)` is True.\n",
    "# Note: Some sentences have lengths shorter than CNN kernel size...\n",
    "train_data, test_data = torchtext.datasets.TREC.splits(TEXT, LABEL, fine_grained=False, root=\"../assets/data\", \n",
    "                                                       filter_pred=lambda ex: len(ex.text)>=4)\n",
    "train_data, valid_data = train_data.split()"
   ]
  },
  {
   "cell_type": "code",
   "execution_count": 3,
   "metadata": {},
   "outputs": [
    {
     "output_type": "stream",
     "name": "stdout",
     "text": "defaultdict(None, {'HUM': 0, 'ENTY': 1, 'DESC': 2, 'NUM': 3, 'LOC': 4, 'ABBR': 5})\n"
    }
   ],
   "source": [
    "MAX_VOCAB_SIZE = 25000\n",
    "\n",
    "TEXT.build_vocab(train_data, max_size=MAX_VOCAB_SIZE, \n",
    "                 vectors=\"glove.6B.100d\", vectors_cache=\"../assets/vector_cache\", \n",
    "                 unk_init=torch.Tensor.normal_)\n",
    "\n",
    "LABEL.build_vocab(train_data)\n",
    "print(LABEL.vocab.stoi)"
   ]
  },
  {
   "cell_type": "code",
   "execution_count": 4,
   "metadata": {},
   "outputs": [],
   "source": [
    "BATCH_SIZE = 64\n",
    "\n",
    "device = torch.device('cuda' if torch.cuda.is_available() else 'cpu')\n",
    "\n",
    "train_iterator, valid_iterator, test_iterator = BucketIterator.splits(\n",
    "    (train_data, valid_data, test_data), \n",
    "    batch_size=BATCH_SIZE, device=device)"
   ]
  },
  {
   "cell_type": "code",
   "execution_count": 5,
   "metadata": {},
   "outputs": [
    {
     "output_type": "stream",
     "name": "stdout",
     "text": "tensor([[ 309,  178,   14,  ...,    1,    1,    1],\n        [   4, 1506, 2127,  ...,    1,    1,    1],\n        [   4,    5,    3,  ...,    1,    1,    1],\n        ...,\n        [  15,   92,    3,  ...,    1,    1,    1],\n        [   4,   21, 4692,  ...,    1,    1,    1],\n        [  54,    8,   33,  ...,    1,    1,    1]], device='cuda:0')\ntensor([14, 12,  9, 11, 10, 10,  8,  7,  9,  5,  8,  8,  9,  7, 12, 13,  8, 12,\n        14,  8, 12,  6,  7, 10, 11, 10, 16,  8,  9, 15,  7, 12,  9, 15,  9,  7,\n         7, 13, 23,  7,  8,  7, 11, 11,  7, 19, 11, 10,  9, 11, 13,  7, 13,  8,\n         9,  6,  9, 11, 13,  5,  8,  5,  7, 12], device='cuda:0')\n"
    }
   ],
   "source": [
    "for batch in train_iterator:\n",
    "    break\n",
    "text, text_lens = batch.text\n",
    "print(text)\n",
    "print(text_lens)"
   ]
  },
  {
   "cell_type": "markdown",
   "metadata": {},
   "source": [
    "# Build Model"
   ]
  },
  {
   "cell_type": "code",
   "execution_count": 6,
   "metadata": {},
   "outputs": [],
   "source": [
    "class Classifier1D(nn.Module):\n",
    "    def __init__(self, in_dim, emb_dim, n_filters, filter_sizes, out_dim, dropout, pad_idx):\n",
    "        super().__init__()\n",
    "        self.emb = nn.Embedding(in_dim, emb_dim, padding_idx=pad_idx)\n",
    "        # (2) Regard different embedding dimensions as different channels. \n",
    "        # Thus, it reduces to an 1D convolution. \n",
    "        self.convs = nn.ModuleList([\n",
    "            nn.Conv1d(emb_dim, n_filters, kernel_size=fs)\n",
    "            for fs in filter_sizes])\n",
    "\n",
    "        self.dropout = nn.Dropout(dropout)\n",
    "        self.fc = nn.Linear(n_filters*len(filter_sizes), out_dim)\n",
    "\n",
    "    def forward(self, text, text_lens):\n",
    "        # `text_lens` would be useful when mean-pooling applied. \n",
    "        # text/mask: (batch, step)\n",
    "        mask = text.eq(self.emb.padding_idx)\n",
    "        # embedded: (batch, step, emb)\n",
    "        embedded = self.emb(text)\n",
    "        \n",
    "        pooled = []\n",
    "        for conv_i in self.convs:\n",
    "            # Note: The kernel size may exceed the sequence length, which leads to invalid output. \n",
    "            # conved_i: (batch, channel=n_filters, step-(kernel_size-1))\n",
    "            conved_i = F.relu(conv_i(embedded.permute(0, 2, 1)))\n",
    "            # mask_i: (batch, 1, step-(kernel_size-1))\n",
    "            mask_i = mask[:, (conv_i.kernel_size[0]-1):].unsqueeze(1)\n",
    "            # pooled_i: (batch, n_filters)\n",
    "            pooled_i, _ = conved_i.masked_fill(mask_i, -np.inf).max(dim=-1)\n",
    "            pooled.append(pooled_i)\n",
    "\n",
    "        concated = self.dropout(torch.cat(pooled, dim=-1))\n",
    "        return self.fc(concated)"
   ]
  },
  {
   "cell_type": "code",
   "execution_count": 7,
   "metadata": {},
   "outputs": [
    {
     "output_type": "stream",
     "name": "stdout",
     "text": "842106\n"
    }
   ],
   "source": [
    "def count_parameters(model):\n",
    "    return sum(p.numel() for p in model.parameters() if p.requires_grad)\n",
    "\n",
    "IN_DIM = len(TEXT.vocab)\n",
    "EMB_DIM = 100\n",
    "N_FILTERS = 100\n",
    "FILTER_SIZES = [2, 3, 4]\n",
    "OUT_DIM = len(LABEL.vocab)\n",
    "DROPOUT = 0.5\n",
    "PAD_IDX = TEXT.vocab.stoi[TEXT.pad_token]\n",
    "\n",
    "classifier1d = Classifier1D(IN_DIM, EMB_DIM, N_FILTERS, FILTER_SIZES, OUT_DIM, \n",
    "                           DROPOUT, PAD_IDX).to(device)\n",
    "print(count_parameters(classifier1d))\n",
    "\n",
    "classifier = classifier1d"
   ]
  },
  {
   "cell_type": "code",
   "execution_count": 8,
   "metadata": {},
   "outputs": [
    {
     "output_type": "stream",
     "name": "stdout",
     "text": "tensor([[ 0.0000,  0.0000,  0.0000,  0.0000,  0.0000,  0.0000,  0.0000,  0.0000],\n        [ 0.0000,  0.0000,  0.0000,  0.0000,  0.0000,  0.0000,  0.0000,  0.0000],\n        [ 0.1638,  0.6046,  1.0789, -1.2731, -0.7759,  0.3997,  0.3817, -0.1759],\n        [-0.0382, -0.2449,  0.7281, -0.3996,  0.0832,  0.0440, -0.3914,  0.3344],\n        [-1.3771, -0.9446,  1.1019,  1.7499, -1.1453,  0.6823,  0.8769,  0.8717]],\n       device='cuda:0', grad_fn=<SliceBackward>)\n"
    }
   ],
   "source": [
    "# Initialize Embeddings with Pre-Trained Vectors\n",
    "classifier.emb.weight.data.copy_(TEXT.vocab.vectors)\n",
    "\n",
    "UNK_IDX = TEXT.vocab.stoi[TEXT.unk_token]\n",
    "\n",
    "classifier.emb.weight.data[UNK_IDX].zero_()\n",
    "classifier.emb.weight.data[PAD_IDX].zero_()\n",
    "\n",
    "print(classifier.emb.weight[:5, :8])"
   ]
  },
  {
   "cell_type": "markdown",
   "metadata": {},
   "source": [
    "# Train Model"
   ]
  },
  {
   "cell_type": "code",
   "execution_count": 9,
   "metadata": {},
   "outputs": [],
   "source": [
    "optimizer = optim.Adam(classifier.parameters())\n",
    "loss_func = nn.CrossEntropyLoss().to(device)"
   ]
  },
  {
   "cell_type": "code",
   "execution_count": 10,
   "metadata": {},
   "outputs": [],
   "source": [
    "def train_epoch(classifier, iterator, optimizer, loss_func):\n",
    "    classifier.train()\n",
    "    epoch_loss = 0\n",
    "    epoch_acc = 0\n",
    "    for batch in iterator:\n",
    "        # Forward pass\n",
    "        text, text_lens = batch.text\n",
    "        preds = classifier(text, text_lens)\n",
    "        # Calculate loss\n",
    "        loss = loss_func(preds, batch.label)\n",
    "        # Backward propagation\n",
    "        optimizer.zero_grad()\n",
    "        loss.backward()\n",
    "        # Update weights\n",
    "        optimizer.step()\n",
    "        # Accumulate loss and acc\n",
    "        epoch_loss += loss.item()\n",
    "        epoch_acc += (preds.argmax(-1) == batch.label).sum().item() / preds.size(0)\n",
    "    return epoch_loss/len(iterator), epoch_acc/len(iterator)\n",
    "\n",
    "def eval_epoch(classifier, iterator, loss_func):\n",
    "    classifier.eval()\n",
    "    epoch_loss = 0\n",
    "    epoch_acc = 0\n",
    "    with torch.no_grad():\n",
    "        for batch in iterator:\n",
    "            # Forward pass\n",
    "            text, text_lens = batch.text\n",
    "            preds = classifier(text, text_lens)\n",
    "            # Calculate loss\n",
    "            loss = loss_func(preds, batch.label)\n",
    "            # Accumulate loss and acc\n",
    "            epoch_loss += loss.item()\n",
    "            epoch_acc += (preds.argmax(-1) == batch.label).sum().item() / preds.size(0)\n",
    "    return epoch_loss/len(iterator), epoch_acc/len(iterator)"
   ]
  },
  {
   "cell_type": "code",
   "execution_count": 11,
   "metadata": {},
   "outputs": [
    {
     "output_type": "stream",
     "name": "stdout",
     "text": "Epoch: 01 | Epoch Time: 0m 0s\n\tTrain Loss: 1.285 | Train Acc: 49.46%\n\t Val. Loss: 0.944 |  Val. Acc: 66.45%\nEpoch: 02 | Epoch Time: 0m 0s\n\tTrain Loss: 0.845 | Train Acc: 69.38%\n\t Val. Loss: 0.740 |  Val. Acc: 75.09%\nEpoch: 03 | Epoch Time: 0m 0s\n\tTrain Loss: 0.636 | Train Acc: 78.31%\n\t Val. Loss: 0.616 |  Val. Acc: 78.92%\nEpoch: 04 | Epoch Time: 0m 0s\n\tTrain Loss: 0.487 | Train Acc: 83.98%\n\t Val. Loss: 0.544 |  Val. Acc: 80.60%\nEpoch: 05 | Epoch Time: 0m 0s\n\tTrain Loss: 0.365 | Train Acc: 88.72%\n\t Val. Loss: 0.491 |  Val. Acc: 82.82%\nEpoch: 06 | Epoch Time: 0m 0s\n\tTrain Loss: 0.273 | Train Acc: 91.41%\n\t Val. Loss: 0.464 |  Val. Acc: 83.54%\nEpoch: 07 | Epoch Time: 0m 0s\n\tTrain Loss: 0.218 | Train Acc: 93.87%\n\t Val. Loss: 0.440 |  Val. Acc: 84.15%\nEpoch: 08 | Epoch Time: 0m 0s\n\tTrain Loss: 0.168 | Train Acc: 95.72%\n\t Val. Loss: 0.430 |  Val. Acc: 85.16%\nEpoch: 09 | Epoch Time: 0m 0s\n\tTrain Loss: 0.124 | Train Acc: 96.91%\n\t Val. Loss: 0.426 |  Val. Acc: 84.62%\nEpoch: 10 | Epoch Time: 0m 0s\n\tTrain Loss: 0.095 | Train Acc: 97.71%\n\t Val. Loss: 0.419 |  Val. Acc: 85.33%\n"
    }
   ],
   "source": [
    "import time\n",
    "N_EPOCHS = 10\n",
    "best_valid_loss = np.inf\n",
    "\n",
    "for epoch in range(N_EPOCHS):\n",
    "    t0 = time.time()\n",
    "    train_loss, train_acc = train_epoch(classifier, train_iterator, optimizer, loss_func)\n",
    "    valid_loss, valid_acc = eval_epoch(classifier, valid_iterator, loss_func)\n",
    "    epoch_secs = time.time() - t0\n",
    "\n",
    "    epoch_mins, epoch_secs = int(epoch_secs // 60), int(epoch_secs % 60)\n",
    "    \n",
    "    if valid_loss < best_valid_loss:\n",
    "        best_valid_loss = valid_loss\n",
    "        torch.save(classifier.state_dict(), \"models/tut5-model.pt\")\n",
    "    \n",
    "    print(f'Epoch: {epoch+1:02} | Epoch Time: {epoch_mins}m {epoch_secs}s')\n",
    "    print(f'\\tTrain Loss: {train_loss:.3f} | Train Acc: {train_acc*100:.2f}%')\n",
    "    print(f'\\t Val. Loss: {valid_loss:.3f} |  Val. Acc: {valid_acc*100:.2f}%')"
   ]
  },
  {
   "cell_type": "code",
   "execution_count": 12,
   "metadata": {},
   "outputs": [
    {
     "output_type": "stream",
     "name": "stdout",
     "text": "Val. Loss: 0.419 | Val. Acc: 85.33%\nTest Loss: 0.349 | Test Acc: 87.77%\n"
    }
   ],
   "source": [
    "classifier.load_state_dict(torch.load(\"models/tut5-model.pt\"))\n",
    "\n",
    "valid_loss, valid_acc = eval_epoch(classifier, valid_iterator, loss_func)\n",
    "test_loss, test_acc = eval_epoch(classifier, test_iterator, loss_func)\n",
    "\n",
    "print(f'Val. Loss: {valid_loss:.3f} | Val. Acc: {valid_acc*100:.2f}%')\n",
    "print(f'Test Loss: {test_loss:.3f} | Test Acc: {test_acc*100:.2f}%')"
   ]
  },
  {
   "cell_type": "markdown",
   "metadata": {},
   "source": [
    "# Check Embeddings\n",
    "* The Embeddings of `<unk>` and `<pad>` tokens\n",
    "    * Because the `padding_idx` has been passed to `nn.Embedding`, so the `<pad>` embedding will remain zeros throughout training.  \n",
    "    * While the `<unk>` embedding will be learned."
   ]
  },
  {
   "cell_type": "code",
   "execution_count": 13,
   "metadata": {},
   "outputs": [
    {
     "output_type": "stream",
     "name": "stdout",
     "text": "tensor([[ 0.0000,  0.0000,  0.0000,  0.0000,  0.0000,  0.0000,  0.0000,  0.0000],\n        [ 0.0000,  0.0000,  0.0000,  0.0000,  0.0000,  0.0000,  0.0000,  0.0000],\n        [ 0.2182,  0.6441,  1.0855, -1.2012, -0.7938,  0.4054,  0.3634, -0.1556],\n        [-0.0208, -0.3146,  0.7318, -0.4200,  0.0396,  0.0428, -0.4307,  0.2997],\n        [-1.3390, -0.9507,  1.0864,  1.7516, -1.1326,  0.6453,  0.8339,  0.8543]],\n       device='cuda:0', grad_fn=<SliceBackward>)\n"
    }
   ],
   "source": [
    "print(classifier.emb.weight[:5, :8])"
   ]
  },
  {
   "cell_type": "code",
   "execution_count": null,
   "metadata": {},
   "outputs": [],
   "source": []
  }
 ],
 "metadata": {
  "language_info": {
   "codemirror_mode": {
    "name": "ipython",
    "version": 3
   },
   "file_extension": ".py",
   "mimetype": "text/x-python",
   "name": "python",
   "nbconvert_exporter": "python",
   "pygments_lexer": "ipython3",
   "version": "3.7.6-final"
  },
  "orig_nbformat": 2,
  "kernelspec": {
   "name": "python3",
   "display_name": "Python 3"
  }
 },
 "nbformat": 4,
 "nbformat_minor": 2
}