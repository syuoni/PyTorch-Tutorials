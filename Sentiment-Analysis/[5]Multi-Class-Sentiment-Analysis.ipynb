{
 "cells": [
  {
   "cell_type": "code",
   "execution_count": 23,
   "metadata": {},
   "outputs": [],
   "source": [
    "import numpy as np\n",
    "import torch\n",
    "import torch.nn as nn\n",
    "import torch.nn.functional as F\n",
    "import torch.optim as optim\n",
    "\n",
    "SEED = 515\n",
    "np.random.seed(SEED)\n",
    "torch.manual_seed(SEED)\n",
    "torch.backends.cudnn.deterministic = True"
   ]
  },
  {
   "cell_type": "markdown",
   "metadata": {},
   "source": [
    "# Multi-Class Sentiment Analysis\n",
    "This notebook follows this tutorial: https://github.com/bentrevett/pytorch-sentiment-analysis."
   ]
  },
  {
   "cell_type": "code",
   "execution_count": 24,
   "metadata": {},
   "outputs": [],
   "source": [
    "import torchtext\n",
    "from torchtext.data import Field, LabelField, BucketIterator\n",
    "\n",
    "# Set `batch_first=True` in the `Field`.\n",
    "TEXT = Field(tokenize='spacy', include_lengths=True, batch_first=True)\n",
    "LABEL = LabelField()\n",
    "\n",
    "# `filter_pred`: Use only examples for which `filter_pred(example)` is True.\n",
    "# Note: Some sentences have lengths shorter than CNN kernel size...\n",
    "train_data, test_data = torchtext.datasets.TREC.splits(TEXT, LABEL, fine_grained=False, root='data', \n",
    "                                                       filter_pred=lambda ex: len(ex.text)>=4)\n",
    "train_data, valid_data = train_data.split()"
   ]
  },
  {
   "cell_type": "code",
   "execution_count": 25,
   "metadata": {},
   "outputs": [
    {
     "output_type": "stream",
     "name": "stdout",
     "text": "defaultdict(None, {'ENTY': 0, 'HUM': 1, 'DESC': 2, 'NUM': 3, 'LOC': 4, 'ABBR': 5})\n"
    }
   ],
   "source": [
    "MAX_VOCAB_SIZE = 25000\n",
    "\n",
    "TEXT.build_vocab(train_data, max_size=MAX_VOCAB_SIZE, \n",
    "                 vectors=\"glove.6B.100d\", vectors_cache=\"vector_cache\", \n",
    "                 unk_init=torch.Tensor.normal_)\n",
    "\n",
    "LABEL.build_vocab(train_data)\n",
    "print(LABEL.vocab.stoi)"
   ]
  },
  {
   "cell_type": "code",
   "execution_count": 26,
   "metadata": {},
   "outputs": [],
   "source": [
    "BATCH_SIZE = 64\n",
    "\n",
    "device = torch.device('cuda' if torch.cuda.is_available() else 'cpu')\n",
    "\n",
    "train_iterator, valid_iterator, test_iterator = BucketIterator.splits(\n",
    "    (train_data, valid_data, test_data), \n",
    "    batch_size=BATCH_SIZE, device=device)"
   ]
  },
  {
   "cell_type": "code",
   "execution_count": 27,
   "metadata": {},
   "outputs": [
    {
     "output_type": "stream",
     "name": "stdout",
     "text": "tensor([[   4,    5,    3,  267,    6,    3,   91,   27,    9,  449, 1929,   49,\n            2,    1,    1,    1,    1,    1,    1,    1],\n        [  10,   24,  225,   21,  561, 1198,    6,    3, 3827,   42,    2,    1,\n            1,    1,    1,    1,    1,    1,    1,    1],\n        [  10,   31,   28,   60,  306,   11,  732,  248,    2,    1,    1,    1,\n            1,    1,    1,    1,    1,    1,    1,    1],\n        [  47, 1351,   12, 3490, 4770,  974,    6, 5934,    2,    1,    1,    1,\n            1,    1,    1,    1,    1,    1,    1,    1],\n        [  26,   20,    3,   43,   99,   33,    2,    1,    1,    1,    1,    1,\n            1,    1,    1,    1,    1,    1,    1,    1],\n        [   4,    5,    8,  106,   17, 4981,   14,  930,   14,   93,  591,   34,\n         7353,    3, 4787, 7057,    6, 6907, 6288,    2],\n        [  52,    3, 1406,    6,    9,    9,   32,  681,   19,   44,    1,    1,\n            1,    1,    1,    1,    1,    1,    1,    1],\n        [   4,  209, 1168, 1275,    2,    1,    1,    1,    1,    1,    1,    1,\n            1,    1,    1,    1,    1,    1,    1,    1],\n        [   4,    5,    3,  182,    6,  314,    2,    1,    1,    1,    1,    1,\n            1,    1,    1,    1,    1,    1,    1,    1],\n        [   4,    5,    3,   38,  194,  367,  161,   94,    2,    1,    1,    1,\n            1,    1,    1,    1,    1,    1,    1,    1],\n        [   4,   16, 5701,    7,    3,  490,   11, 2221,    2,    1,    1,    1,\n            1,    1,    1,    1,    1,    1,    1,    1],\n        [   4,  129,  362, 2127,   54, 1951,   11, 1723,   18,  444, 1337,    2,\n            1,    1,    1,    1,    1,    1,    1,    1],\n        [   4,   37,   12,  263,    3, 1383,    6,    2,    1,    1,    1,    1,\n            1,    1,    1,    1,    1,    1,    1,    1],\n        [  26,   22, 6809,   99,   33,    2,    1,    1,    1,    1,    1,    1,\n            1,    1,    1,    1,    1,    1,    1,    1],\n        [   4,   22,  264,  195, 7311,  750,  162,    2,    1,    1,    1,    1,\n            1,    1,    1,    1,    1,    1,    1,    1],\n        [ 386,   40,  236,    5, 1982,  295,    2,    1,    1,    1,    1,    1,\n            1,    1,    1,    1,    1,    1,    1,    1],\n        [   4,  266,  932, 1063, 3318,    2,    1,    1,    1,    1,    1,    1,\n            1,    1,    1,    1,    1,    1,    1,    1],\n        [  15,  209,  884,  866, 1296,    2,    1,    1,    1,    1,    1,    1,\n            1,    1,    1,    1,    1,    1,    1,    1],\n        [   4,    5,    3,  144,   73,  963, 2205,   18, 6394, 2205,    2,    1,\n            1,    1,    1,    1,    1,    1,    1,    1],\n        [   4,   21,   48, 6045,  161, 6423,  118, 1472, 6427,    2,    1,    1,\n            1,    1,    1,    1,    1,    1,    1,    1],\n        [  52,    3,  167, 1546, 7313,   39,    3, 3223,    7,  555,  967,   44,\n            1,    1,    1,    1,    1,    1,    1,    1],\n        [  68,   40,  641,   20, 3747, 3720, 7123,  199, 5660,    2,    1,    1,\n            1,    1,    1,    1,    1,    1,    1,    1],\n        [  47,    6,    3,  319,   55,    5,  147, 2114,   45,  830, 4697,    2,\n            1,    1,    1,    1,    1,    1,    1,    1],\n        [   4,   35,   67,    5, 3371, 4136,    7,    2,    1,    1,    1,    1,\n            1,    1,    1,    1,    1,    1,    1,    1],\n        [  15,   95, 1094,  773,    2,    1,    1,    1,    1,    1,    1,    1,\n            1,    1,    1,    1,    1,    1,    1,    1],\n        [   4,   11,    3,  637,   17,    3, 7457,  788, 3570,    2,    1,    1,\n            1,    1,    1,    1,    1,    1,    1,    1],\n        [   4,   86,    6, 1108,   20, 7285, 5922,  642,    7,  814,    2,    1,\n            1,    1,    1,    1,    1,    1,    1,    1],\n        [  15,    5,    3,  128,    6,    3,  266,  739,    2,    1,    1,    1,\n            1,    1,    1,    1,    1,    1,    1,    1],\n        [  41,   12,  111,  852, 1980,  177,    2,    1,    1,    1,    1,    1,\n            1,    1,    1,    1,    1,    1,    1,    1],\n        [  26,   12,  342,  245,   79, 3571,  859,  293,  128,    2,    1,    1,\n            1,    1,    1,    1,    1,    1,    1,    1],\n        [  10,   80,   22, 2171,  729, 5999,    2,    1,    1,    1,    1,    1,\n            1,    1,    1,    1,    1,    1,    1,    1],\n        [   4,  421,    6,    3,   43,   11,  621,   18,  158,  366,   31,   58,\n          251,    7,    3, 1695, 5768,    2,    1,    1],\n        [  10, 1110,    5,  904,  241,    2,    1,    1,    1,    1,    1,    1,\n            1,    1,    1,    1,    1,    1,    1,    1],\n        [  15,  180,  585,    9,    9, 2314, 6141,   19,  207,    2,    1,    1,\n            1,    1,    1,    1,    1,    1,    1,    1],\n        [   4,  252,    5,  124,   13, 2664,   59, 3998,    2,    1,    1,    1,\n            1,    1,    1,    1,    1,    1,    1,    1],\n        [   4, 1064, 6145,  467,  150,  786,  123,  131,    7,  282,   17,    8,\n         5418,    2,    1,    1,    1,    1,    1,    1],\n        [  10,   24,  483,    5,  231,  328, 2234,    7, 1765,  445,    2,    1,\n            1,    1,    1,    1,    1,    1,    1,    1],\n        [   4,   22, 2132, 5940,   22,    7, 2218, 5030,    2,    1,    1,    1,\n            1,    1,    1,    1,    1,    1,    1,    1]])\ntensor([13, 11,  9,  9,  7, 20, 10,  5,  7,  9,  9, 12,  8,  6,  8,  7,  6,  6,\n        11, 10, 12, 10, 12,  8,  5, 10, 11,  9,  7, 10,  7, 18,  6, 10,  9, 14,\n        11,  9])\n"
    }
   ],
   "source": [
    "for batch in train_iterator:\n",
    "    break\n",
    "text, text_lens = batch.text\n",
    "print(text)\n",
    "print(text_lens)"
   ]
  },
  {
   "cell_type": "markdown",
   "metadata": {},
   "source": [
    "# Build Model"
   ]
  },
  {
   "cell_type": "code",
   "execution_count": 28,
   "metadata": {},
   "outputs": [],
   "source": [
    "class Classifier1D(nn.Module):\n",
    "    def __init__(self, in_dim, emb_dim, n_filters, filter_sizes, out_dim, dropout, pad_idx):\n",
    "        super().__init__()\n",
    "        self.emb = nn.Embedding(in_dim, emb_dim, padding_idx=pad_idx)\n",
    "        # (2) Regard different embedding dimensions as different channels. \n",
    "        # Thus, it reduces to an 1D convolution. \n",
    "        self.convs = nn.ModuleList([\n",
    "            nn.Conv1d(emb_dim, n_filters, kernel_size=fs)\n",
    "            for fs in filter_sizes])\n",
    "\n",
    "        self.dropout = nn.Dropout(dropout)\n",
    "        self.fc = nn.Linear(n_filters*len(filter_sizes), out_dim)\n",
    "\n",
    "    def forward(self, text, text_lens):\n",
    "        # `text_lens` would be useful when mean-pooling applied. \n",
    "        # text/mask: (batch, step)\n",
    "        mask = text.eq(self.emb.padding_idx)\n",
    "        # embedded: (batch, step, emb)\n",
    "        embedded = self.emb(text)\n",
    "        \n",
    "        pooled = []\n",
    "        for conv_i in self.convs:\n",
    "            # Note: The kernel size may exceed the sequence length, which leads to invalid output. \n",
    "            # conved_i: (batch, channel=n_filters, step-(kernel_size-1))\n",
    "            conved_i = F.relu(conv_i(embedded.permute(0, 2, 1)))\n",
    "            # mask_i: (batch, 1, step-(kernel_size-1))\n",
    "            mask_i = mask[:, (conv_i.kernel_size[0]-1):].unsqueeze(1)\n",
    "            # pooled_i: (batch, n_filters)\n",
    "            pooled_i, _ = conved_i.masked_fill(mask_i, -np.inf).max(dim=-1)\n",
    "            pooled.append(pooled_i)\n",
    "\n",
    "        concated = self.dropout(torch.cat(pooled, dim=-1))\n",
    "        return self.fc(concated)"
   ]
  },
  {
   "cell_type": "code",
   "execution_count": 29,
   "metadata": {},
   "outputs": [
    {
     "output_type": "stream",
     "name": "stdout",
     "text": "838206\n"
    }
   ],
   "source": [
    "def count_parameters(model):\n",
    "    return sum(p.numel() for p in model.parameters() if p.requires_grad)\n",
    "\n",
    "IN_DIM = len(TEXT.vocab)\n",
    "EMB_DIM = 100\n",
    "N_FILTERS = 100\n",
    "FILTER_SIZES = [2, 3, 4]\n",
    "OUT_DIM = len(LABEL.vocab)\n",
    "DROPOUT = 0.5\n",
    "PAD_IDX = TEXT.vocab.stoi[TEXT.pad_token]\n",
    "\n",
    "classifier1d = Classifier1D(IN_DIM, EMB_DIM, N_FILTERS, FILTER_SIZES, OUT_DIM, \n",
    "                           DROPOUT, PAD_IDX).to(device)\n",
    "print(count_parameters(classifier1d))\n",
    "\n",
    "classifier = classifier1d"
   ]
  },
  {
   "cell_type": "code",
   "execution_count": 30,
   "metadata": {},
   "outputs": [
    {
     "output_type": "stream",
     "name": "stdout",
     "text": "tensor([[ 0.0000,  0.0000,  0.0000,  0.0000,  0.0000,  0.0000,  0.0000,  0.0000],\n        [ 0.0000,  0.0000,  0.0000,  0.0000,  0.0000,  0.0000,  0.0000,  0.0000],\n        [ 0.1638,  0.6046,  1.0789, -1.2731, -0.7759,  0.3997,  0.3817, -0.1759],\n        [-0.0382, -0.2449,  0.7281, -0.3996,  0.0832,  0.0440, -0.3914,  0.3344],\n        [-1.3771, -0.9446,  1.1019,  1.7499, -1.1453,  0.6823,  0.8769,  0.8717]],\n       grad_fn=<SliceBackward>)\n"
    }
   ],
   "source": [
    "# Initialize Embeddings with Pre-Trained Vectors\n",
    "classifier.emb.weight.data.copy_(TEXT.vocab.vectors)\n",
    "\n",
    "UNK_IDX = TEXT.vocab.stoi[TEXT.unk_token]\n",
    "\n",
    "classifier.emb.weight.data[UNK_IDX].zero_()\n",
    "classifier.emb.weight.data[PAD_IDX].zero_()\n",
    "\n",
    "print(classifier.emb.weight[:5, :8])"
   ]
  },
  {
   "cell_type": "markdown",
   "metadata": {},
   "source": [
    "# Train Model"
   ]
  },
  {
   "cell_type": "code",
   "execution_count": 31,
   "metadata": {},
   "outputs": [],
   "source": [
    "optimizer = optim.Adam(classifier.parameters())\n",
    "loss_func = nn.CrossEntropyLoss().to(device)"
   ]
  },
  {
   "cell_type": "code",
   "execution_count": 32,
   "metadata": {},
   "outputs": [],
   "source": [
    "def train_epoch(classifier, iterator, optimizer, loss_func):\n",
    "    classifier.train()\n",
    "    epoch_loss = 0\n",
    "    epoch_acc = 0\n",
    "    for batch in iterator:\n",
    "        # Forward pass\n",
    "        text, text_lens = batch.text\n",
    "        preds = classifier(text, text_lens)\n",
    "        # Calculate loss\n",
    "        loss = loss_func(preds, batch.label)\n",
    "        # Backward propagation\n",
    "        optimizer.zero_grad()\n",
    "        loss.backward()\n",
    "        # Update weights\n",
    "        optimizer.step()\n",
    "        # Accumulate loss and acc\n",
    "        epoch_loss += loss.item()\n",
    "        epoch_acc += (preds.argmax(-1) == batch.label).sum().item() / preds.size(0)\n",
    "    return epoch_loss/len(iterator), epoch_acc/len(iterator)\n",
    "\n",
    "def eval_epoch(classifier, iterator, loss_func):\n",
    "    classifier.eval()\n",
    "    epoch_loss = 0\n",
    "    epoch_acc = 0\n",
    "    with torch.no_grad():\n",
    "        for batch in iterator:\n",
    "            # Forward pass\n",
    "            text, text_lens = batch.text\n",
    "            preds = classifier(text, text_lens)\n",
    "            # Calculate loss\n",
    "            loss = loss_func(preds, batch.label)\n",
    "            # Accumulate loss and acc\n",
    "            epoch_loss += loss.item()\n",
    "            epoch_acc += (preds.argmax(-1) == batch.label).sum().item() / preds.size(0)\n",
    "    return epoch_loss/len(iterator), epoch_acc/len(iterator)"
   ]
  },
  {
   "cell_type": "code",
   "execution_count": 33,
   "metadata": {},
   "outputs": [
    {
     "output_type": "stream",
     "name": "stdout",
     "text": "Epoch: 01 | Epoch Time: 0m 1s\n\tTrain Loss: 1.260 | Train Acc: 50.82%\n\t Val. Loss: 0.940 |  Val. Acc: 67.71%\nEpoch: 02 | Epoch Time: 0m 1s\n\tTrain Loss: 0.835 | Train Acc: 70.04%\n\t Val. Loss: 0.748 |  Val. Acc: 73.46%\nEpoch: 03 | Epoch Time: 0m 1s\n\tTrain Loss: 0.642 | Train Acc: 78.02%\n\t Val. Loss: 0.631 |  Val. Acc: 77.41%\nEpoch: 04 | Epoch Time: 0m 1s\n\tTrain Loss: 0.480 | Train Acc: 84.09%\n\t Val. Loss: 0.554 |  Val. Acc: 80.47%\nEpoch: 05 | Epoch Time: 0m 1s\n\tTrain Loss: 0.372 | Train Acc: 88.48%\n\t Val. Loss: 0.511 |  Val. Acc: 81.54%\n"
    }
   ],
   "source": [
    "import time\n",
    "N_EPOCHS = 5\n",
    "best_valid_loss = np.inf\n",
    "\n",
    "for epoch in range(N_EPOCHS):\n",
    "    t0 = time.time()\n",
    "    train_loss, train_acc = train_epoch(classifier, train_iterator, optimizer, loss_func)\n",
    "    valid_loss, valid_acc = eval_epoch(classifier, valid_iterator, loss_func)\n",
    "    epoch_secs = time.time() - t0\n",
    "\n",
    "    epoch_mins, epoch_secs = int(epoch_secs // 60), int(epoch_secs % 60)\n",
    "    \n",
    "    if valid_loss < best_valid_loss:\n",
    "        best_valid_loss = valid_loss\n",
    "        torch.save(classifier.state_dict(), 'models/tut5-model.pt')\n",
    "    \n",
    "    print(f'Epoch: {epoch+1:02} | Epoch Time: {epoch_mins}m {epoch_secs}s')\n",
    "    print(f'\\tTrain Loss: {train_loss:.3f} | Train Acc: {train_acc*100:.2f}%')\n",
    "    print(f'\\t Val. Loss: {valid_loss:.3f} |  Val. Acc: {valid_acc*100:.2f}%')"
   ]
  },
  {
   "cell_type": "markdown",
   "metadata": {},
   "source": [
    "# Check Embeddings\n",
    "* The Embeddings of `unk` and `<pad>` tokens\n",
    "    * Because the `padding_idx` has been passed to `nn.Embedding`, so the `<pad>` embedding will remain zeros throughout training.  \n",
    "    * While the `<unk>` embedding will be learned."
   ]
  },
  {
   "cell_type": "code",
   "execution_count": 35,
   "metadata": {},
   "outputs": [
    {
     "output_type": "stream",
     "name": "stdout",
     "text": "tensor([[ 0.0000,  0.0000,  0.0000,  0.0000,  0.0000,  0.0000,  0.0000,  0.0000],\n        [ 0.0000,  0.0000,  0.0000,  0.0000,  0.0000,  0.0000,  0.0000,  0.0000],\n        [ 0.1970,  0.5554,  1.1111, -1.2733, -0.8065,  0.3944,  0.4006, -0.1740],\n        [-0.0356, -0.3056,  0.7477, -0.4321,  0.0396,  0.0651, -0.4076,  0.2948],\n        [-1.3738, -0.9117,  1.0721,  1.7182, -1.1496,  0.6596,  0.8557,  0.8612]],\n       grad_fn=<SliceBackward>)\n"
    }
   ],
   "source": [
    "print(classifier.emb.weight[:5, :8])"
   ]
  },
  {
   "cell_type": "code",
   "execution_count": null,
   "metadata": {},
   "outputs": [],
   "source": []
  }
 ],
 "metadata": {
  "language_info": {
   "codemirror_mode": {
    "name": "ipython",
    "version": 3
   },
   "file_extension": ".py",
   "mimetype": "text/x-python",
   "name": "python",
   "nbconvert_exporter": "python",
   "pygments_lexer": "ipython3",
   "version": "3.7.6-final"
  },
  "orig_nbformat": 2,
  "kernelspec": {
   "name": "python3",
   "display_name": "Python 3"
  }
 },
 "nbformat": 4,
 "nbformat_minor": 2
}