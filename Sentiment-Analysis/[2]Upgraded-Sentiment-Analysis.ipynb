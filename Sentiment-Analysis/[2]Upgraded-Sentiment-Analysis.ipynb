{
 "cells": [
  {
   "cell_type": "code",
   "execution_count": 1,
   "metadata": {},
   "outputs": [],
   "source": [
    "import random\n",
    "import numpy as np\n",
    "import torch\n",
    "import torch.nn as nn\n",
    "import torch.nn.functional as F\n",
    "import torch.optim as optim\n",
    "\n",
    "SEED = 515\n",
    "random.seed(SEED)\n",
    "np.random.seed(SEED)\n",
    "torch.manual_seed(SEED)\n",
    "torch.backends.cudnn.deterministic = True"
   ]
  },
  {
   "cell_type": "markdown",
   "metadata": {},
   "source": [
    "# Updated Sentiment Analysis\n",
    "This notebook follows this tutorial: https://github.com/bentrevett/pytorch-sentiment-analysis."
   ]
  },
  {
   "cell_type": "markdown",
   "metadata": {},
   "source": [
    "# Load Pre-Trained Embeddings Manually"
   ]
  },
  {
   "cell_type": "code",
   "execution_count": 2,
   "metadata": {},
   "outputs": [
    {
     "output_type": "stream",
     "name": "stdout",
     "text": "{'I': 0, 'love': 1, 'this': 2, 'film': 3, 'very': 4, 'much': 5, '.': 6}\n['I', 'love', 'this', 'film', 'very', 'much', '.']\ntensor([[ 3.1569, -0.4394,  1.0063,  0.6507, -0.2077],\n        [ 1.4274,  1.6603, -0.7758, -1.1524,  0.4467],\n        [-1.1562,  0.1183, -1.0718, -0.2059, -0.8509],\n        [-1.0822, -0.2817, -0.7277,  0.2744,  0.1813],\n        [ 0.1380,  0.9525,  0.5184, -0.3377,  0.8099],\n        [-0.1883,  0.3074, -0.0763,  1.8269, -0.6083],\n        [ 0.5368,  0.3976,  0.0721,  1.0065, -0.4069]])\n"
    }
   ],
   "source": [
    "from torchtext.vocab import Vectors, Vocab\n",
    "\n",
    "text = \"I love this film very much .\"\n",
    "with open('vector_cache/test-vecs.txt', 'w', encoding='utf-8') as f:\n",
    "    for token in text.split():\n",
    "        vec = [\"%.6f\" % vi for vi in np.random.randn(5)]\n",
    "        f.write(\" \".join([token] + vec))\n",
    "        f.write(\"\\n\")\n",
    "\n",
    "vecs = Vectors('test-vecs.txt', cache='vector_cache')\n",
    "print(vecs.stoi)\n",
    "print(vecs.itos)\n",
    "print(vecs.vectors)"
   ]
  },
  {
   "cell_type": "code",
   "execution_count": 3,
   "metadata": {},
   "outputs": [
    {
     "output_type": "execute_result",
     "data": {
      "text/plain": "<torchtext.data.dataset.Dataset at 0x7fa0bdd9b810>"
     },
     "metadata": {},
     "execution_count": 3
    }
   ],
   "source": [
    "from torchtext.data import Field, LabelField, Example, Dataset, BucketIterator\n",
    "\n",
    "# Set `include_lengths=True` to return the text lengths too. \n",
    "TEXT = Field(tokenize='spacy', include_lengths=True)\n",
    "GENDER = Field()\n",
    "LABEL = LabelField(dtype=torch.float)\n",
    "\n",
    "# Create a Dataset\n",
    "fields = [('text', TEXT), ('gender', GENDER), ('label', LABEL)]\n",
    "raw_data = [[\"I like this film.\", \"f\", \"pos\"], \n",
    "            [\"I hate it.\", \"f\", \"neg\"], \n",
    "            [\"I have no feelings about it.\", \"m\", \"neg\"], \n",
    "            [\"It is my best.\", \"m\", \"pos\"], \n",
    "            [\"My father loves it so much and I do think so.\", \"f\", \"pos\"]]\n",
    "\n",
    "examples = [Example.fromlist(d, fields) for d in raw_data]\n",
    "data = Dataset(examples, fields)\n",
    "data"
   ]
  },
  {
   "cell_type": "code",
   "execution_count": 4,
   "metadata": {},
   "outputs": [
    {
     "output_type": "stream",
     "name": "stdout",
     "text": "None\n"
    }
   ],
   "source": [
    "TEXT.build_vocab(data)\n",
    "GENDER.build_vocab(data)\n",
    "LABEL.build_vocab(data)\n",
    "\n",
    "print(TEXT.vocab.vectors)"
   ]
  },
  {
   "cell_type": "code",
   "execution_count": 5,
   "metadata": {},
   "outputs": [
    {
     "output_type": "stream",
     "name": "stdout",
     "text": "tensor([[ 0.0000,  0.0000,  0.0000,  0.0000,  0.0000],\n        [ 0.0000,  0.0000,  0.0000,  0.0000,  0.0000],\n        [ 0.5368,  0.3976,  0.0721,  1.0065, -0.4069],\n        [ 3.1569, -0.4394,  1.0063,  0.6507, -0.2077],\n        [ 0.0000,  0.0000,  0.0000,  0.0000,  0.0000],\n        [ 0.0000,  0.0000,  0.0000,  0.0000,  0.0000],\n        [ 0.0000,  0.0000,  0.0000,  0.0000,  0.0000],\n        [ 0.0000,  0.0000,  0.0000,  0.0000,  0.0000],\n        [ 0.0000,  0.0000,  0.0000,  0.0000,  0.0000],\n        [ 0.0000,  0.0000,  0.0000,  0.0000,  0.0000],\n        [ 0.0000,  0.0000,  0.0000,  0.0000,  0.0000],\n        [ 0.0000,  0.0000,  0.0000,  0.0000,  0.0000],\n        [ 0.0000,  0.0000,  0.0000,  0.0000,  0.0000],\n        [ 0.0000,  0.0000,  0.0000,  0.0000,  0.0000],\n        [-1.0822, -0.2817, -0.7277,  0.2744,  0.1813],\n        [ 0.0000,  0.0000,  0.0000,  0.0000,  0.0000],\n        [ 0.0000,  0.0000,  0.0000,  0.0000,  0.0000],\n        [ 0.0000,  0.0000,  0.0000,  0.0000,  0.0000],\n        [ 0.0000,  0.0000,  0.0000,  0.0000,  0.0000],\n        [ 0.0000,  0.0000,  0.0000,  0.0000,  0.0000],\n        [-0.1883,  0.3074, -0.0763,  1.8269, -0.6083],\n        [ 0.0000,  0.0000,  0.0000,  0.0000,  0.0000],\n        [ 0.0000,  0.0000,  0.0000,  0.0000,  0.0000],\n        [ 0.0000,  0.0000,  0.0000,  0.0000,  0.0000],\n        [-1.1562,  0.1183, -1.0718, -0.2059, -0.8509]])\n"
    }
   ],
   "source": [
    "# The missing tokens are initialized as zeros, or by `unk_init` if provided. \n",
    "TEXT.build_vocab(data, vectors=vecs)\n",
    "print(TEXT.vocab.vectors)"
   ]
  },
  {
   "cell_type": "code",
   "execution_count": 6,
   "metadata": {},
   "outputs": [
    {
     "output_type": "stream",
     "name": "stdout",
     "text": "(tensor([[ 3,  7],\n        [16, 12],\n        [22, 19],\n        [13,  4],\n        [ 8,  5],\n        [ 4, 20],\n        [ 2,  9],\n        [ 1,  3],\n        [ 1, 11],\n        [ 1, 23],\n        [ 1,  5],\n        [ 1,  2]], device='cuda:0'), tensor([ 7, 12], device='cuda:0'))\n(tensor([[ 3,  6],\n        [15, 17],\n        [ 4, 21],\n        [ 2, 10],\n        [ 1,  2]], device='cuda:0'), tensor([4, 5], device='cuda:0'))\n(tensor([[ 3],\n        [18],\n        [24],\n        [14],\n        [ 2]], device='cuda:0'), tensor([5], device='cuda:0'))\n"
    }
   ],
   "source": [
    "BATCH_SIZE = 2\n",
    "\n",
    "device = torch.device('cuda' if torch.cuda.is_available() else 'cpu')\n",
    "iterator = BucketIterator(data, batch_size=BATCH_SIZE, device=device, shuffle=True)\n",
    "\n",
    "# `batch.text` is now a tuple with the second element being the text lengths.\n",
    "for batch in iterator:\n",
    "    print(batch.text)"
   ]
  },
  {
   "cell_type": "markdown",
   "metadata": {},
   "source": [
    "# Use Pre-Trained Embeddings"
   ]
  },
  {
   "cell_type": "code",
   "execution_count": 7,
   "metadata": {},
   "outputs": [],
   "source": [
    "import torchtext\n",
    "\n",
    "# Set `include_lengths=True` to return the text-lengths too. \n",
    "TEXT = Field(tokenize='spacy', include_lengths=True)\n",
    "LABEL = LabelField(dtype=torch.float)\n",
    "\n",
    "train_data, test_data = torchtext.datasets.IMDB.splits(TEXT, LABEL, root='data')\n",
    "train_data, valid_data = train_data.split()"
   ]
  },
  {
   "cell_type": "code",
   "execution_count": 8,
   "metadata": {},
   "outputs": [],
   "source": [
    "MAX_VOCAB_SIZE = 25000\n",
    "\n",
    "TEXT.build_vocab(train_data, max_size=MAX_VOCAB_SIZE, \n",
    "                 vectors=\"glove.6B.100d\", vectors_cache=\"vector_cache\", \n",
    "                 unk_init=torch.Tensor.normal_)\n",
    "\n",
    "LABEL.build_vocab(train_data)"
   ]
  },
  {
   "cell_type": "code",
   "execution_count": 9,
   "metadata": {},
   "outputs": [],
   "source": [
    "BATCH_SIZE = 64\n",
    "\n",
    "device = torch.device('cuda' if torch.cuda.is_available() else 'cpu')\n",
    "\n",
    "# NOTE: `sort_within_batch=True` for packed padded sequences\n",
    "train_iterator, valid_iterator, test_iterator = BucketIterator.splits(\n",
    "    (train_data, valid_data, test_data), \n",
    "    batch_size=BATCH_SIZE, sort_within_batch=True, device=device)"
   ]
  },
  {
   "cell_type": "markdown",
   "metadata": {},
   "source": [
    "# Build Model\n",
    "## Different RNN Architecture: LSTM\n",
    "## Bidirectional RNN\n",
    "## Multi-Layer RNN\n",
    "## Regularization: Dropout\n",
    "\n",
    "## Implementation Details\n",
    "### How to ignore the `<pad>` token?\n",
    "* Pass the index of `<pad>` token as `padding_idx` argument to `nn.Embedding`\n",
    "* Pass packed padded sequences to RNNs\n",
    "* Attention?\n",
    "* `ignore_index` of loss function?\n",
    "\n",
    "### The `hidden` output of LSTM\n",
    "The `hidden` has a shape of **(num_layers * num_directions, batch_size, hid_dim)**.  \n",
    "These are ordered in **(forward_layer_0, backward_layer_0, forward_layer_1, backward_layer_1, ..., forward_layer_n, backward_layer_n)**, from bottom to top.  "
   ]
  },
  {
   "cell_type": "code",
   "execution_count": 10,
   "metadata": {},
   "outputs": [],
   "source": [
    "class Classifier(nn.Module):\n",
    "    def __init__(self, in_dim, emb_dim, hid_dim, out_dim, n_layers, bidirect, dropout, pad_idx):\n",
    "        super().__init__()\n",
    "        self.emb = nn.Embedding(in_dim, emb_dim, padding_idx=pad_idx)\n",
    "        self.rnn = nn.LSTM(emb_dim, hid_dim, num_layers=n_layers, \n",
    "                           bidirectional=bidirect, dropout=dropout)\n",
    "        # `bidirectional=True` by default\n",
    "        self.fc = nn.Linear(hid_dim*2, out_dim)\n",
    "        self.dropout = nn.Dropout(dropout)\n",
    "\n",
    "    def forward(self, text, text_lens):\n",
    "        # text: (step, batch)\n",
    "        embedded = self.dropout(self.emb(text))\n",
    "        # Pack sequence\n",
    "        packed_embedded = nn.utils.rnn.pack_padded_sequence(embedded, text_lens)\n",
    "        # hidden: (num_layers*num_directions, batch, hid_dim)\n",
    "        packed_outs, (hidden, cell) = self.rnn(packed_embedded)\n",
    "        # Unpack sequence, NOT used here. \n",
    "        outs, out_lens = nn.utils.rnn.pad_packed_sequence(packed_outs)\n",
    "\n",
    "        hidden = self.dropout(torch.cat([hidden[-2], hidden[-1]], dim=-1))\n",
    "        return self.fc(hidden)"
   ]
  },
  {
   "cell_type": "code",
   "execution_count": 11,
   "metadata": {},
   "outputs": [
    {
     "output_type": "execute_result",
     "data": {
      "text/plain": "4810857"
     },
     "metadata": {},
     "execution_count": 11
    }
   ],
   "source": [
    "def count_parameters(model):\n",
    "    return sum(p.numel() for p in model.parameters() if p.requires_grad)\n",
    "\n",
    "IN_DIM = len(TEXT.vocab)\n",
    "EMB_DIM = 100\n",
    "HID_DIM = 256\n",
    "OUT_DIM = 1\n",
    "N_LAYERS = 2\n",
    "BIDIRECT = True\n",
    "DROPOUT = 0.5\n",
    "PAD_IDX = TEXT.vocab.stoi[TEXT.pad_token]\n",
    "\n",
    "classifier = Classifier(IN_DIM, EMB_DIM, HID_DIM, OUT_DIM, \n",
    "                       N_LAYERS, BIDIRECT, DROPOUT, PAD_IDX).to(device)\n",
    "count_parameters(classifier)"
   ]
  },
  {
   "cell_type": "markdown",
   "metadata": {},
   "source": [
    "### Initialize Embeddings with Pre-Trained Vectors\n",
    "* Replace the embedding layer's weight with `TEXT.vocab.vectors`.  \n",
    "    * **Note:** Use `weight.data` for data Initialization.  \n",
    "* Explicitly Initialize the embeddings of `<unk>` and `<pad>` tokens to zeros.  \n",
    "    * Because the `padding_idx` has been passed to `nn.Embedding`, so the `<pad>` embedding will remain zeros throughout training.  \n",
    "    * While the `<unk>` embedding will be learned."
   ]
  },
  {
   "cell_type": "code",
   "execution_count": 12,
   "metadata": {},
   "outputs": [
    {
     "output_type": "stream",
     "name": "stdout",
     "text": "torch.Size([25002, 100])\ntorch.Size([25002, 100])\ntensor([[-0.3902,  1.4256,  0.0491, -0.0559, -1.0172,  0.6198,  0.3173, -1.8878],\n        [-0.4843,  1.6366, -1.4119, -0.4014, -1.1278,  1.6279,  0.7653, -0.5195],\n        [-0.0382, -0.2449,  0.7281, -0.3996,  0.0832,  0.0440, -0.3914,  0.3344],\n        [-0.1077,  0.1105,  0.5981, -0.5436,  0.6740,  0.1066,  0.0389,  0.3548],\n        [-0.3398,  0.2094,  0.4635, -0.6479, -0.3838,  0.0380,  0.1713,  0.1598]])\ntensor([[-0.6656,  1.2448, -0.8936, -1.0469, -2.2802, -0.2518, -1.0071, -1.1899],\n        [ 0.0000,  0.0000,  0.0000,  0.0000,  0.0000,  0.0000,  0.0000,  0.0000],\n        [-0.0271, -0.6303, -0.5369, -1.6774, -1.1523, -1.9146,  0.6415, -0.3668],\n        [ 0.2094, -0.7820, -0.1052, -1.0747, -2.5509, -1.2299, -0.0707,  0.0882],\n        [-0.7804,  0.8003,  1.5012,  2.2774, -0.6308,  2.0983,  0.8358,  0.0679]],\n       device='cuda:0', grad_fn=<SliceBackward>)\ntensor([[-0.3902,  1.4256,  0.0491, -0.0559, -1.0172,  0.6198,  0.3173, -1.8878],\n        [-0.4843,  1.6366, -1.4119, -0.4014, -1.1278,  1.6279,  0.7653, -0.5195],\n        [-0.0382, -0.2449,  0.7281, -0.3996,  0.0832,  0.0440, -0.3914,  0.3344],\n        [-0.1077,  0.1105,  0.5981, -0.5436,  0.6740,  0.1066,  0.0389,  0.3548],\n        [-0.3398,  0.2094,  0.4635, -0.6479, -0.3838,  0.0380,  0.1713,  0.1598]],\n       device='cuda:0', grad_fn=<SliceBackward>)\n"
    }
   ],
   "source": [
    "print(TEXT.vocab.vectors.size())\n",
    "print(classifier.emb.weight.size())\n",
    "\n",
    "print(TEXT.vocab.vectors[:5, :8])\n",
    "print(classifier.emb.weight[:5, :8])\n",
    "classifier.emb.weight.data.copy_(TEXT.vocab.vectors)\n",
    "print(classifier.emb.weight[:5, :8])"
   ]
  },
  {
   "cell_type": "code",
   "execution_count": 13,
   "metadata": {},
   "outputs": [
    {
     "output_type": "stream",
     "name": "stdout",
     "text": "tensor([[ 0.0000,  0.0000,  0.0000,  0.0000,  0.0000,  0.0000,  0.0000,  0.0000],\n        [ 0.0000,  0.0000,  0.0000,  0.0000,  0.0000,  0.0000,  0.0000,  0.0000],\n        [-0.0382, -0.2449,  0.7281, -0.3996,  0.0832,  0.0440, -0.3914,  0.3344],\n        [-0.1077,  0.1105,  0.5981, -0.5436,  0.6740,  0.1066,  0.0389,  0.3548],\n        [-0.3398,  0.2094,  0.4635, -0.6479, -0.3838,  0.0380,  0.1713,  0.1598]],\n       device='cuda:0', grad_fn=<SliceBackward>)\n"
    }
   ],
   "source": [
    "UNK_IDX = TEXT.vocab.stoi[TEXT.unk_token]\n",
    "\n",
    "classifier.emb.weight.data[UNK_IDX].zero_()\n",
    "classifier.emb.weight.data[PAD_IDX].zero_()\n",
    "\n",
    "print(classifier.emb.weight[:5, :8])"
   ]
  },
  {
   "cell_type": "markdown",
   "metadata": {},
   "source": [
    "# Train Model"
   ]
  },
  {
   "cell_type": "code",
   "execution_count": 14,
   "metadata": {},
   "outputs": [],
   "source": [
    "optimizer = optim.Adam(classifier.parameters())\n",
    "# Binary cross entropy with logits. \n",
    "# The binary version of cross entropy loss. \n",
    "loss_func = nn.BCEWithLogitsLoss().to(device)"
   ]
  },
  {
   "cell_type": "code",
   "execution_count": 15,
   "metadata": {},
   "outputs": [],
   "source": [
    "def train_epoch(classifier, iterator, optimizer, loss_func):\n",
    "    classifier.train()\n",
    "    epoch_loss = 0\n",
    "    epoch_acc = 0\n",
    "    for batch in iterator:\n",
    "        # Forward pass\n",
    "        text, text_lens = batch.text\n",
    "        preds = classifier(text, text_lens).squeeze(-1)\n",
    "        # Calculate loss\n",
    "        loss = loss_func(preds, batch.label)\n",
    "        # Backward propagation\n",
    "        optimizer.zero_grad()\n",
    "        loss.backward()\n",
    "        # Update weights\n",
    "        optimizer.step()\n",
    "        # Accumulate loss and acc\n",
    "        epoch_loss += loss.item()\n",
    "        epoch_acc += (torch.round(torch.sigmoid(preds)) == batch.label).sum().item() / preds.size(0)\n",
    "    return epoch_loss/len(iterator), epoch_acc/len(iterator)\n",
    "\n",
    "def eval_epoch(classifier, iterator, loss_func):\n",
    "    classifier.eval()\n",
    "    epoch_loss = 0\n",
    "    epoch_acc = 0\n",
    "    with torch.no_grad():\n",
    "        for batch in iterator:\n",
    "            # Forward pass\n",
    "            text, text_lens = batch.text\n",
    "            preds = classifier(text, text_lens).squeeze(-1)\n",
    "            # Calculate loss\n",
    "            loss = loss_func(preds, batch.label)\n",
    "            # Accumulate loss and acc\n",
    "            epoch_loss += loss.item()\n",
    "            epoch_acc += (torch.round(torch.sigmoid(preds)) == batch.label).sum().item() / preds.size(0)\n",
    "    return epoch_loss/len(iterator), epoch_acc/len(iterator)"
   ]
  },
  {
   "cell_type": "code",
   "execution_count": 16,
   "metadata": {},
   "outputs": [
    {
     "output_type": "stream",
     "name": "stdout",
     "text": "Epoch: 01 | Epoch Time: 0m 32s\n\tTrain Loss: 0.643 | Train Acc: 61.78%\n\t Val. Loss: 0.571 |  Val. Acc: 72.95%\nEpoch: 02 | Epoch Time: 0m 32s\n\tTrain Loss: 0.604 | Train Acc: 66.72%\n\t Val. Loss: 0.606 |  Val. Acc: 68.69%\nEpoch: 03 | Epoch Time: 0m 32s\n\tTrain Loss: 0.578 | Train Acc: 70.24%\n\t Val. Loss: 0.400 |  Val. Acc: 82.88%\nEpoch: 04 | Epoch Time: 0m 32s\n\tTrain Loss: 0.388 | Train Acc: 83.36%\n\t Val. Loss: 0.333 |  Val. Acc: 86.22%\nEpoch: 05 | Epoch Time: 0m 32s\n\tTrain Loss: 0.317 | Train Acc: 86.82%\n\t Val. Loss: 0.314 |  Val. Acc: 86.79%\n"
    }
   ],
   "source": [
    "import time\n",
    "N_EPOCHS = 5\n",
    "best_valid_loss = np.inf\n",
    "\n",
    "for epoch in range(N_EPOCHS):\n",
    "    t0 = time.time()\n",
    "    train_loss, train_acc = train_epoch(classifier, train_iterator, optimizer, loss_func)\n",
    "    valid_loss, valid_acc = eval_epoch(classifier, valid_iterator, loss_func)\n",
    "    epoch_secs = time.time() - t0\n",
    "\n",
    "    epoch_mins, epoch_secs = int(epoch_secs // 60), int(epoch_secs % 60)\n",
    "    \n",
    "    if valid_loss < best_valid_loss:\n",
    "        best_valid_loss = valid_loss\n",
    "        torch.save(classifier.state_dict(), 'models/tut2-model.pt')\n",
    "    \n",
    "    print(f'Epoch: {epoch+1:02} | Epoch Time: {epoch_mins}m {epoch_secs}s')\n",
    "    print(f'\\tTrain Loss: {train_loss:.3f} | Train Acc: {train_acc*100:.2f}%')\n",
    "    print(f'\\t Val. Loss: {valid_loss:.3f} |  Val. Acc: {valid_acc*100:.2f}%')"
   ]
  },
  {
   "cell_type": "code",
   "execution_count": 17,
   "metadata": {},
   "outputs": [
    {
     "output_type": "stream",
     "name": "stdout",
     "text": "Val. Loss: 0.314 | Val. Acc: 86.79%\nTest Loss: 0.325 | Test Acc: 86.15%\n"
    }
   ],
   "source": [
    "classifier.load_state_dict(torch.load('models/tut2-model.pt'))\n",
    "\n",
    "valid_loss, valid_acc = eval_epoch(classifier, valid_iterator, loss_func)\n",
    "test_loss, test_acc = eval_epoch(classifier, test_iterator, loss_func)\n",
    "\n",
    "print(f'Val. Loss: {valid_loss:.3f} | Val. Acc: {valid_acc*100:.2f}%')\n",
    "print(f'Test Loss: {test_loss:.3f} | Test Acc: {test_acc*100:.2f}%')"
   ]
  },
  {
   "cell_type": "markdown",
   "metadata": {},
   "source": [
    "# User Input"
   ]
  },
  {
   "cell_type": "code",
   "execution_count": 18,
   "metadata": {},
   "outputs": [],
   "source": [
    "import spacy\n",
    "nlp = spacy.load('en')\n",
    "\n",
    "def predict_senti(classifier, sentence):\n",
    "    classifier.eval()\n",
    "    tokenized = [tok.text for tok in nlp.tokenizer(sentence)]\n",
    "    indexed = [TEXT.vocab.stoi[tok] for tok in tokenized]\n",
    "    lens = len(indexed)\n",
    "\n",
    "    indexed = torch.tensor(indexed, dtype=torch.long).unsqueeze(1).to(device)\n",
    "    lens = torch.tensor(lens, dtype=torch.long).unsqueeze(0).to(device)\n",
    "    pred = torch.sigmoid(classifier(indexed, lens)).round().type(torch.long)\n",
    "    return LABEL.vocab.itos[pred.item()]"
   ]
  },
  {
   "cell_type": "code",
   "execution_count": 19,
   "metadata": {},
   "outputs": [
    {
     "output_type": "execute_result",
     "data": {
      "text/plain": "'pos'"
     },
     "metadata": {},
     "execution_count": 19
    }
   ],
   "source": [
    "predict_senti(classifier, \"This is a good film.\")"
   ]
  },
  {
   "cell_type": "code",
   "execution_count": 20,
   "metadata": {},
   "outputs": [
    {
     "output_type": "execute_result",
     "data": {
      "text/plain": "'neg'"
     },
     "metadata": {},
     "execution_count": 20
    }
   ],
   "source": [
    "predict_senti(classifier, \"This film is terrible.\")"
   ]
  },
  {
   "cell_type": "markdown",
   "metadata": {},
   "source": [
    "# Check Embeddings\n",
    "* The Embeddings of `unk` and `<pad>` tokens\n",
    "    * Because the `padding_idx` has been passed to `nn.Embedding`, so the `<pad>` embedding will remain zeros throughout training.  \n",
    "    * While the `<unk>` embedding will be learned."
   ]
  },
  {
   "cell_type": "code",
   "execution_count": 21,
   "metadata": {},
   "outputs": [
    {
     "output_type": "stream",
     "name": "stdout",
     "text": "tensor([[ 0.0363, -0.0296,  0.0073, -0.0088, -0.0543, -0.0388, -0.0570,  0.0349],\n        [ 0.0000,  0.0000,  0.0000,  0.0000,  0.0000,  0.0000,  0.0000,  0.0000],\n        [-0.0600, -0.3097,  0.7223, -0.4018,  0.1127,  0.0485, -0.3875,  0.3356],\n        [-0.0983, -0.0396,  0.5816, -0.5624,  0.6413,  0.0653,  0.0712,  0.3738],\n        [-0.4561,  0.1625,  0.4549, -0.5850, -0.3922,  0.0096,  0.1548,  0.1458]],\n       device='cuda:0', grad_fn=<SliceBackward>)\n"
    }
   ],
   "source": [
    "print(classifier.emb.weight[:5, :8])"
   ]
  }
 ],
 "metadata": {
  "language_info": {
   "codemirror_mode": {
    "name": "ipython",
    "version": 3
   },
   "file_extension": ".py",
   "mimetype": "text/x-python",
   "name": "python",
   "nbconvert_exporter": "python",
   "pygments_lexer": "ipython3",
   "version": "3.7.6-final"
  },
  "orig_nbformat": 2,
  "kernelspec": {
   "name": "python3",
   "display_name": "Python 3"
  }
 },
 "nbformat": 4,
 "nbformat_minor": 2
}