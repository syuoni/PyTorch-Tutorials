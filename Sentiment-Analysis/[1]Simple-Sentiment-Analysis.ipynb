{
 "cells": [
  {
   "cell_type": "code",
   "execution_count": 1,
   "metadata": {},
   "outputs": [],
   "source": [
    "import random\n",
    "import numpy as np\n",
    "import torch\n",
    "import torch.nn as nn\n",
    "import torch.nn.functional as F\n",
    "import torch.optim as optim\n",
    "\n",
    "SEED = 515\n",
    "random.seed(SEED)\n",
    "np.random.seed(SEED)\n",
    "torch.manual_seed(SEED)\n",
    "torch.backends.cudnn.deterministic = True"
   ]
  },
  {
   "cell_type": "markdown",
   "metadata": {},
   "source": [
    "# Preparing Data"
   ]
  },
  {
   "cell_type": "code",
   "execution_count": 2,
   "metadata": {
    "tags": []
   },
   "outputs": [],
   "source": [
    "import torchtext\n",
    "from torchtext.data import Field, LabelField, BucketIterator\n",
    "\n",
    "TEXT = Field(tokenize='spacy', tokenizer_language='en_core_web_sm')\n",
    "LABEL = LabelField(dtype=torch.float)\n",
    "\n",
    "train_data, test_data = torchtext.datasets.IMDB.splits(TEXT, LABEL, root=\"../assets/data\")"
   ]
  },
  {
   "cell_type": "code",
   "execution_count": 3,
   "metadata": {
    "tags": []
   },
   "outputs": [
    {
     "output_type": "stream",
     "name": "stdout",
     "text": "['it', \"'s\", 'movies', 'like', 'these', 'that', 'make', 'you', 'wish', 'that', 'you', 'never', 'picked', 'on', 'the', 'nerd', 'growing', 'up', 'in', 'school', '.', 'If', 'you', 'liked', 'this', 'movie', ',', 'then', 'I', 'would', 'suggest', 'you', 'watch', 'Valentine', '.', 'I', 'just', 'found', 'out', 'today', 'that', 'the', 'guy', 'who', 'played', 'Marty(Simon', ')', 'killed', 'himself', 'a', 'little', 'after', 'the', 'movie', 'was', 'released', 'which', 'is', 'a', 'shame', 'since', 'he', 'did', 'a', 'good', 'job', '.', 'I', 'wonder', 'if', 'it', \"'s\", 'because', 'of', 'the', 'part', 'he', 'played', 'in', 'the', 'movie', '.', 'It', 'starts', 'out', 'when', 'Carol', 'tricks', 'him', 'into', 'going', 'into', 'the', 'girls', 'restroom', 'to', 'act', 'like', 'they', 'were', 'about', 'to', 'do', 'it', '.', 'When', 'he', 'was', 'changing', 'in', 'the', 'showers', ',', 'Carols', 'popular', 'friends', 'snuck', 'into', 'the', 'bathroom', 'and', 'got', 'everything', 'ready', ',', 'camera', ',', 'electric', 'shock', ',', 'pole', '.', 'When', 'Marty', 'open', 'the', 'curtain', 'butt', 'naked', 'he', 'realized', 'that', 'he', 'was', 'tricked', '.', 'He', 'tries', 'to', 'cover', 'the', 'shower', 'up', 'but', 'the', 'kids', 'open', 'it', ',', 'grab', 'Marty', 'and', 'starts', 'being', 'mean', 'to', 'him', 'while', 'the', 'camera', 'is', 'rolling', '.', 'They', 'picked', 'him', 'up', ',', 'dunked', 'his', 'head', 'in', 'the', 'toliet', 'while', 'it', 'was', 'being', 'flushed', ',', 'and', 'they', 'electricuted', 'him(slightly', ')', '.', 'When', 'the', 'kids', 'are', 'in', 'detention', ',', 'given', 'by', 'the', 'coach', ',', '2', 'of', 'the', 'boys', 'give', 'Marty', 'a', 'joint', 'that', 'will', 'make', 'him', 'throw', 'up', '.', 'Skip', 'breaks', 'one', 'of', 'the', 'glass', 'windows', 'in', 'the', 'gym', 'using', 'a', 'brick', 'to', 'get', 'the', 'teacher', 'to', 'excuse', 'him', '.', 'While', 'Marty', 'is', 'puking', 'in', 'the', 'bathroom', 'Skip', 'sneaks', 'into', 'the', 'Science', 'Lab', 'and', 'mixes', 'some', 'stuff', 'that', 'looks', 'like', 'cocaine', 'but', 'not', 'sure', 'what', 'it', 'was', '.', 'The', 'lab', 'blows', 'up', 'disfiguring', 'him', 'badly', '.', '5', 'years', 'later', 'the', 'kids', 'who', 'tormented', 'him', 'that', 'day', 'got', 'invitations', 'for', 'a', '5', 'year', 'school', 'reunion', 'at', 'the', 'old', 'school', 'which', 'was', 'burn', 'that', 'day', 'it', 'exploded', '.', 'One', 'by', 'one', 'the', 'people', 'get', 'killed', 'off', '.', 'I', 'do', \"n't\", 'understand', 'how', 'the', 'girl', 'who', 'drowned', 'really', 'drowned', '.', 'she', 'could', 'have', 'gotten', 'back', 'up', 'after', 'Marty', 'left', '.', 'She', 'almost', 'got', 'out', 'the', 'first', 'time', '.']\npos\n"
    }
   ],
   "source": [
    "print(train_data[0].text)\n",
    "print(train_data[0].label)"
   ]
  },
  {
   "cell_type": "code",
   "execution_count": 4,
   "metadata": {},
   "outputs": [
    {
     "output_type": "execute_result",
     "data": {
      "text/plain": "(17500, 7500, 25000)"
     },
     "metadata": {},
     "execution_count": 4
    }
   ],
   "source": [
    "train_data, valid_data = train_data.split()\n",
    "len(train_data), len(valid_data), len(test_data)"
   ]
  },
  {
   "cell_type": "code",
   "execution_count": 5,
   "metadata": {
    "tags": []
   },
   "outputs": [
    {
     "output_type": "stream",
     "name": "stdout",
     "text": "['<unk>', '<pad>', 'the', ',', '.', 'and', 'a', 'of', 'to', 'is']\n[('the', 203481), (',', 192431), ('.', 166011), ('and', 110001), ('a', 109928), ('of', 101023), ('to', 94106), ('is', 76470), ('in', 61621), ('I', 54616)]\n"
    }
   ],
   "source": [
    "MAX_VOCAB_SIZE = 25000\n",
    "\n",
    "TEXT.build_vocab(train_data, max_size = MAX_VOCAB_SIZE)\n",
    "LABEL.build_vocab(train_data)\n",
    "\n",
    "print(TEXT.vocab.itos[:10])\n",
    "print(TEXT.vocab.freqs.most_common(10))"
   ]
  },
  {
   "cell_type": "code",
   "execution_count": 6,
   "metadata": {},
   "outputs": [],
   "source": [
    "BATCH_SIZE = 64\n",
    "\n",
    "device = torch.device('cuda' if torch.cuda.is_available() else 'cpu')\n",
    "\n",
    "train_iterator, valid_iterator, test_iterator = BucketIterator.splits(\n",
    "    (train_data, valid_data, test_data), \n",
    "    batch_size=BATCH_SIZE, device=device)"
   ]
  },
  {
   "cell_type": "markdown",
   "metadata": {},
   "source": [
    "# Build Model"
   ]
  },
  {
   "cell_type": "code",
   "execution_count": 7,
   "metadata": {},
   "outputs": [],
   "source": [
    "class Classifier(nn.Module):\n",
    "    def __init__(self, in_dim, emb_dim, hid_dim, out_dim):\n",
    "        super().__init__()\n",
    "        self.emb = nn.Embedding(in_dim, emb_dim)\n",
    "        self.rnn = nn.RNN(emb_dim, hid_dim)\n",
    "        self.fc = nn.Linear(hid_dim, out_dim)\n",
    "\n",
    "    def forward(self, text):\n",
    "        # text: (step, batch)\n",
    "        embedded = self.emb(text)\n",
    "        # hidden: (1, batch, hid_dim)\n",
    "        outs, hidden = self.rnn(embedded)\n",
    "        return self.fc(hidden.squeeze(0))"
   ]
  },
  {
   "cell_type": "code",
   "execution_count": 8,
   "metadata": {},
   "outputs": [
    {
     "output_type": "execute_result",
     "data": {
      "text/plain": "2592105"
     },
     "metadata": {},
     "execution_count": 8
    }
   ],
   "source": [
    "def count_parameters(model):\n",
    "    return sum(p.numel() for p in model.parameters() if p.requires_grad)\n",
    "\n",
    "IN_DIM = len(TEXT.vocab)\n",
    "EMB_DIM = 100\n",
    "HID_DIM = 256\n",
    "OUT_DIM = 1\n",
    "\n",
    "classifier = Classifier(IN_DIM, EMB_DIM, HID_DIM, OUT_DIM).to(device)\n",
    "count_parameters(classifier)"
   ]
  },
  {
   "cell_type": "markdown",
   "metadata": {},
   "source": [
    "# Train Model"
   ]
  },
  {
   "cell_type": "code",
   "execution_count": 9,
   "metadata": {},
   "outputs": [],
   "source": [
    "def train_epoch(classifier, iterator, optimizer, loss_func):\n",
    "    classifier.train()\n",
    "    epoch_loss = 0\n",
    "    epoch_acc = 0\n",
    "    for batch in iterator:\n",
    "        # Forward pass\n",
    "        preds = classifier(batch.text).squeeze(-1)\n",
    "        # Calculate loss\n",
    "        loss = loss_func(preds, batch.label)\n",
    "        # Backward propagation\n",
    "        optimizer.zero_grad()\n",
    "        loss.backward()\n",
    "        # Update weights\n",
    "        optimizer.step()\n",
    "        # Accumulate loss and acc\n",
    "        epoch_loss += loss.item()\n",
    "        epoch_acc += (torch.round(torch.sigmoid(preds)) == batch.label).sum().item() / preds.size(0)\n",
    "    return epoch_loss/len(iterator), epoch_acc/len(iterator)\n",
    "\n",
    "def eval_epoch(classifier, iterator, loss_func):\n",
    "    classifier.eval()\n",
    "    epoch_loss = 0\n",
    "    epoch_acc = 0\n",
    "    with torch.no_grad():\n",
    "        for batch in iterator:\n",
    "            # Forward pass\n",
    "            preds = classifier(batch.text).squeeze(-1)\n",
    "            # Calculate loss\n",
    "            loss = loss_func(preds, batch.label)\n",
    "            # Accumulate loss and acc\n",
    "            epoch_loss += loss.item()\n",
    "            epoch_acc += (torch.round(torch.sigmoid(preds)) == batch.label).sum().item() / preds.size(0)\n",
    "    return epoch_loss/len(iterator), epoch_acc/len(iterator)"
   ]
  },
  {
   "cell_type": "code",
   "execution_count": 10,
   "metadata": {},
   "outputs": [],
   "source": [
    "optimizer = optim.AdamW(classifier.parameters())\n",
    "# Binary cross entropy with logits. \n",
    "# The binary version of cross entropy loss. \n",
    "loss_func = nn.BCEWithLogitsLoss().to(device)"
   ]
  },
  {
   "cell_type": "code",
   "execution_count": 11,
   "metadata": {
    "tags": []
   },
   "outputs": [
    {
     "output_type": "stream",
     "name": "stdout",
     "text": "Epoch: 01 | Epoch Time: 0m 23s\n\tTrain Loss: 0.699 | Train Acc: 49.96%\n\t Val. Loss: 0.702 |  Val. Acc: 49.16%\nEpoch: 02 | Epoch Time: 0m 22s\n\tTrain Loss: 0.702 | Train Acc: 49.97%\n\t Val. Loss: 0.694 |  Val. Acc: 49.95%\nEpoch: 03 | Epoch Time: 0m 21s\n\tTrain Loss: 0.697 | Train Acc: 50.20%\n\t Val. Loss: 0.694 |  Val. Acc: 50.53%\nEpoch: 04 | Epoch Time: 0m 20s\n\tTrain Loss: 0.697 | Train Acc: 49.06%\n\t Val. Loss: 0.694 |  Val. Acc: 49.52%\nEpoch: 05 | Epoch Time: 0m 21s\n\tTrain Loss: 0.697 | Train Acc: 50.11%\n\t Val. Loss: 0.693 |  Val. Acc: 49.87%\n"
    }
   ],
   "source": [
    "import time\n",
    "N_EPOCHS = 5\n",
    "best_valid_loss = np.inf\n",
    "\n",
    "for epoch in range(N_EPOCHS):\n",
    "    t0 = time.time()\n",
    "    train_loss, train_acc = train_epoch(classifier, train_iterator, optimizer, loss_func)\n",
    "    valid_loss, valid_acc = eval_epoch(classifier, valid_iterator, loss_func)\n",
    "    epoch_secs = time.time() - t0\n",
    "\n",
    "    epoch_mins, epoch_secs = int(epoch_secs // 60), int(epoch_secs % 60)\n",
    "    \n",
    "    if valid_loss < best_valid_loss:\n",
    "        best_valid_loss = valid_loss\n",
    "        torch.save(classifier.state_dict(), \"models/tut1-model.pt\")\n",
    "    \n",
    "    print(f'Epoch: {epoch+1:02} | Epoch Time: {epoch_mins}m {epoch_secs}s')\n",
    "    print(f'\\tTrain Loss: {train_loss:.3f} | Train Acc: {train_acc*100:.2f}%')\n",
    "    print(f'\\t Val. Loss: {valid_loss:.3f} |  Val. Acc: {valid_acc*100:.2f}%')"
   ]
  },
  {
   "cell_type": "code",
   "execution_count": null,
   "metadata": {},
   "outputs": [],
   "source": []
  }
 ],
 "metadata": {
  "language_info": {
   "codemirror_mode": {
    "name": "ipython",
    "version": 3
   },
   "file_extension": ".py",
   "mimetype": "text/x-python",
   "name": "python",
   "nbconvert_exporter": "python",
   "pygments_lexer": "ipython3",
   "version": "3.8.3-final"
  },
  "orig_nbformat": 2,
  "kernelspec": {
   "name": "python3",
   "display_name": "Python 3"
  }
 },
 "nbformat": 4,
 "nbformat_minor": 2
}