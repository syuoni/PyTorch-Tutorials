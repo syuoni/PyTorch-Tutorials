{
 "cells": [
  {
   "cell_type": "code",
   "execution_count": 1,
   "metadata": {},
   "outputs": [],
   "source": [
    "import numpy as np\n",
    "import torch\n",
    "import torch.nn as nn\n",
    "import torch.nn.functional as F\n",
    "import torch.optim as optim\n",
    "\n",
    "SEED = 515\n",
    "np.random.seed(SEED)\n",
    "torch.manual_seed(SEED)\n",
    "torch.backends.cudnn.deterministic = True"
   ]
  },
  {
   "cell_type": "markdown",
   "metadata": {},
   "source": [
    "# Simple Sentiment Analysis\n",
    "This notebook follows this tutorial: https://github.com/bentrevett/pytorch-sentiment-analysis."
   ]
  },
  {
   "cell_type": "markdown",
   "metadata": {},
   "source": [
    "# Build a Dataset Manually\n",
    "\n",
    "Among the main concepts of TorchText, `Field` is the one that defines how data should be processed. "
   ]
  },
  {
   "cell_type": "code",
   "execution_count": 2,
   "metadata": {},
   "outputs": [],
   "source": [
    "from torchtext.data import Field, LabelField, Example, Dataset, BucketIterator\n",
    "\n",
    "TEXT = Field(tokenize='spacy')\n",
    "GENDER = Field()\n",
    "LABEL = LabelField(dtype=torch.float)"
   ]
  },
  {
   "cell_type": "code",
   "execution_count": 3,
   "metadata": {},
   "outputs": [
    {
     "output_type": "stream",
     "name": "stdout",
     "text": "<torchtext.data.example.Example object at 0x7f9ddce59390>\n['I', 'like', 'this', 'film', '.']\n['f']\npos\n"
    }
   ],
   "source": [
    "# Example from dict\n",
    "fields = {'T': ('text', TEXT), \n",
    "          'G': ('gender', GENDER), \n",
    "          'L': ('label', LABEL)}\n",
    "raw_ex = {'T': \"I like this film.\", \n",
    "          'G': \"f\", \n",
    "          'L': \"pos\"}\n",
    "\n",
    "ex = Example.fromdict(raw_ex, fields)\n",
    "print(ex)\n",
    "print(ex.text)\n",
    "print(ex.gender)\n",
    "print(ex.label)"
   ]
  },
  {
   "cell_type": "code",
   "execution_count": 4,
   "metadata": {},
   "outputs": [
    {
     "output_type": "stream",
     "name": "stdout",
     "text": "<torchtext.data.example.Example object at 0x7f9ddce59350>\n['I', 'like', 'this', 'film', '.']\n['f']\npos\n"
    }
   ],
   "source": [
    "# Example from list\n",
    "fields = [('text', TEXT), ('gender', GENDER), ('label', LABEL)]\n",
    "raw_ex = [\"I like this film.\", \"f\", \"pos\"]\n",
    "\n",
    "ex = Example.fromlist(raw_ex, fields)\n",
    "print(ex)\n",
    "print(ex.text)\n",
    "print(ex.gender)\n",
    "print(ex.label)"
   ]
  },
  {
   "cell_type": "code",
   "execution_count": 5,
   "metadata": {},
   "outputs": [
    {
     "output_type": "stream",
     "name": "stdout",
     "text": "<torchtext.data.dataset.Dataset object at 0x7f9dda839d50>\n<torchtext.data.example.Example object at 0x7f9dda846050>\n['I', 'hate', 'it', '.']\n['f']\nneg\n"
    }
   ],
   "source": [
    "# Create a Dataset\n",
    "fields = [('text', TEXT), ('gender', GENDER), ('label', LABEL)]\n",
    "raw_data = [[\"I like this film.\", \"f\", \"pos\"], \n",
    "            [\"I hate it.\", \"f\", \"neg\"], \n",
    "            [\"I have no feelings about it.\", \"m\", \"neg\"], \n",
    "            [\"It is my best.\", \"m\", \"pos\"], \n",
    "            [\"My father loves it so much and I do think so.\", \"f\", \"pos\"]]\n",
    "\n",
    "examples = [Example.fromlist(d, fields) for d in raw_data]\n",
    "data = Dataset(examples, fields)\n",
    "print(data)\n",
    "print(data[1])\n",
    "print(data[1].text)\n",
    "print(data[1].gender)\n",
    "print(data[1].label)"
   ]
  },
  {
   "cell_type": "code",
   "execution_count": 6,
   "metadata": {},
   "outputs": [
    {
     "output_type": "execute_result",
     "data": {
      "text/plain": "(25, 4, 2)"
     },
     "metadata": {},
     "execution_count": 6
    }
   ],
   "source": [
    "TEXT.build_vocab(data)\n",
    "GENDER.build_vocab(data)\n",
    "LABEL.build_vocab(data)\n",
    "len(TEXT.vocab), len(GENDER.vocab), len(LABEL.vocab)"
   ]
  },
  {
   "cell_type": "code",
   "execution_count": 7,
   "metadata": {},
   "outputs": [
    {
     "output_type": "stream",
     "name": "stdout",
     "text": "tensor([[ 3],\n        [18],\n        [24],\n        [14],\n        [ 2]], device='cuda:0')\ntensor([[ 3,  7],\n        [16, 12],\n        [22, 19],\n        [13,  4],\n        [ 8,  5],\n        [ 4, 20],\n        [ 2,  9],\n        [ 1,  3],\n        [ 1, 11],\n        [ 1, 23],\n        [ 1,  5],\n        [ 1,  2]], device='cuda:0')\ntensor([[ 3,  6],\n        [15, 17],\n        [ 4, 21],\n        [ 2, 10],\n        [ 1,  2]], device='cuda:0')\n"
    }
   ],
   "source": [
    "BATCH_SIZE = 2\n",
    "\n",
    "device = torch.device('cuda' if torch.cuda.is_available() else 'cpu')\n",
    "iterator = BucketIterator(data, batch_size=BATCH_SIZE, device=device, shuffle=True)\n",
    "\n",
    "for batch in iterator:\n",
    "    print(batch.text)"
   ]
  },
  {
   "cell_type": "markdown",
   "metadata": {},
   "source": [
    "# Preparing Data"
   ]
  },
  {
   "cell_type": "code",
   "execution_count": 8,
   "metadata": {},
   "outputs": [],
   "source": [
    "import torchtext\n",
    "train_data, test_data = torchtext.datasets.IMDB.splits(TEXT, LABEL, root='data')"
   ]
  },
  {
   "cell_type": "code",
   "execution_count": 9,
   "metadata": {},
   "outputs": [
    {
     "output_type": "stream",
     "name": "stdout",
     "text": "['it', \"'s\", 'movies', 'like', 'these', 'that', 'make', 'you', 'wish', 'that', 'you', 'never', 'picked', 'on', 'the', 'nerd', 'growing', 'up', 'in', 'school', '.', 'If', 'you', 'liked', 'this', 'movie', ',', 'then', 'I', 'would', 'suggest', 'you', 'watch', 'Valentine', '.', 'I', 'just', 'found', 'out', 'today', 'that', 'the', 'guy', 'who', 'played', 'Marty(Simon', ')', 'killed', 'himself', 'a', 'little', 'after', 'the', 'movie', 'was', 'released', 'which', 'is', 'a', 'shame', 'since', 'he', 'did', 'a', 'good', 'job', '.', 'I', 'wonder', 'if', 'it', \"'s\", 'because', 'of', 'the', 'part', 'he', 'played', 'in', 'the', 'movie', '.', 'It', 'starts', 'out', 'when', 'Carol', 'tricks', 'him', 'into', 'going', 'into', 'the', 'girls', 'restroom', 'to', 'act', 'like', 'they', 'were', 'about', 'to', 'do', 'it', '.', 'When', 'he', 'was', 'changing', 'in', 'the', 'showers', ',', 'Carols', 'popular', 'friends', 'snuck', 'into', 'the', 'bathroom', 'and', 'got', 'everything', 'ready', ',', 'camera', ',', 'electric', 'shock', ',', 'pole', '.', 'When', 'Marty', 'open', 'the', 'curtain', 'butt', 'naked', 'he', 'realized', 'that', 'he', 'was', 'tricked', '.', 'He', 'tries', 'to', 'cover', 'the', 'shower', 'up', 'but', 'the', 'kids', 'open', 'it', ',', 'grab', 'Marty', 'and', 'starts', 'being', 'mean', 'to', 'him', 'while', 'the', 'camera', 'is', 'rolling', '.', 'They', 'picked', 'him', 'up', ',', 'dunked', 'his', 'head', 'in', 'the', 'toliet', 'while', 'it', 'was', 'being', 'flushed', ',', 'and', 'they', 'electricuted', 'him(slightly', ')', '.', 'When', 'the', 'kids', 'are', 'in', 'detention', ',', 'given', 'by', 'the', 'coach', ',', '2', 'of', 'the', 'boys', 'give', 'Marty', 'a', 'joint', 'that', 'will', 'make', 'him', 'throw', 'up', '.', 'Skip', 'breaks', 'one', 'of', 'the', 'glass', 'windows', 'in', 'the', 'gym', 'using', 'a', 'brick', 'to', 'get', 'the', 'teacher', 'to', 'excuse', 'him', '.', 'While', 'Marty', 'is', 'puking', 'in', 'the', 'bathroom', 'Skip', 'sneaks', 'into', 'the', 'Science', 'Lab', 'and', 'mixes', 'some', 'stuff', 'that', 'looks', 'like', 'cocaine', 'but', 'not', 'sure', 'what', 'it', 'was', '.', 'The', 'lab', 'blows', 'up', 'disfiguring', 'him', 'badly', '.', '5', 'years', 'later', 'the', 'kids', 'who', 'tormented', 'him', 'that', 'day', 'got', 'invitations', 'for', 'a', '5', 'year', 'school', 'reunion', 'at', 'the', 'old', 'school', 'which', 'was', 'burn', 'that', 'day', 'it', 'exploded', '.', 'One', 'by', 'one', 'the', 'people', 'get', 'killed', 'off', '.', 'I', 'do', \"n't\", 'understand', 'how', 'the', 'girl', 'who', 'drowned', 'really', 'drowned', '.', 'she', 'could', 'have', 'gotten', 'back', 'up', 'after', 'Marty', 'left', '.', 'She', 'almost', 'got', 'out', 'the', 'first', 'time', '.']\npos\n"
    }
   ],
   "source": [
    "print(train_data[0].text)\n",
    "print(train_data[0].label)"
   ]
  },
  {
   "cell_type": "code",
   "execution_count": 10,
   "metadata": {},
   "outputs": [
    {
     "output_type": "execute_result",
     "data": {
      "text/plain": "(17500, 7500, 25000)"
     },
     "metadata": {},
     "execution_count": 10
    }
   ],
   "source": [
    "train_data, valid_data = train_data.split()\n",
    "len(train_data), len(valid_data), len(test_data)"
   ]
  },
  {
   "cell_type": "code",
   "execution_count": 11,
   "metadata": {},
   "outputs": [
    {
     "output_type": "stream",
     "name": "stdout",
     "text": "['<unk>', '<pad>', 'the', ',', '.', 'and', 'a', 'of', 'to', 'is']\n[('the', 202857), (',', 192302), ('.', 165641), ('and', 110149), ('a', 109633), ('of', 100799), ('to', 94098), ('is', 76158), ('in', 61401), ('I', 53907)]\n"
    }
   ],
   "source": [
    "MAX_VOCAB_SIZE = 25000\n",
    "\n",
    "TEXT.build_vocab(train_data, max_size = MAX_VOCAB_SIZE)\n",
    "LABEL.build_vocab(train_data)\n",
    "\n",
    "print(TEXT.vocab.itos[:10])\n",
    "print(TEXT.vocab.freqs.most_common(10))"
   ]
  },
  {
   "cell_type": "code",
   "execution_count": 12,
   "metadata": {},
   "outputs": [],
   "source": [
    "BATCH_SIZE = 64\n",
    "\n",
    "device = torch.device('cuda' if torch.cuda.is_available() else 'cpu')\n",
    "\n",
    "train_iterator, valid_iterator, test_iterator = BucketIterator.splits(\n",
    "    (train_data, valid_data, test_data), \n",
    "    batch_size=BATCH_SIZE, device=device)"
   ]
  },
  {
   "cell_type": "markdown",
   "metadata": {},
   "source": [
    "# Build Model"
   ]
  },
  {
   "cell_type": "code",
   "execution_count": 13,
   "metadata": {},
   "outputs": [],
   "source": [
    "class Classifier(nn.Module):\n",
    "    def __init__(self, in_dim, emb_dim, hid_dim, out_dim):\n",
    "        super().__init__()\n",
    "        self.emb = nn.Embedding(in_dim, emb_dim)\n",
    "        self.rnn = nn.RNN(emb_dim, hid_dim)\n",
    "        self.fc = nn.Linear(hid_dim, out_dim)\n",
    "\n",
    "    def forward(self, text):\n",
    "        # text: (step, batch)\n",
    "        embedded = self.emb(text)\n",
    "        # hidden: (1, batch, hid_dim)\n",
    "        outs, hidden = self.rnn(embedded)\n",
    "        return self.fc(hidden.squeeze(0))"
   ]
  },
  {
   "cell_type": "code",
   "execution_count": 14,
   "metadata": {},
   "outputs": [
    {
     "output_type": "execute_result",
     "data": {
      "text/plain": "2592105"
     },
     "metadata": {},
     "execution_count": 14
    }
   ],
   "source": [
    "def count_parameters(model):\n",
    "    return sum(p.numel() for p in model.parameters() if p.requires_grad)\n",
    "\n",
    "IN_DIM = len(TEXT.vocab)\n",
    "EMB_DIM = 100\n",
    "HID_DIM = 256\n",
    "OUT_DIM = 1\n",
    "\n",
    "classifier = Classifier(IN_DIM, EMB_DIM, HID_DIM, OUT_DIM).to(device)\n",
    "count_parameters(classifier)"
   ]
  },
  {
   "cell_type": "markdown",
   "metadata": {},
   "source": [
    "# Train Model"
   ]
  },
  {
   "cell_type": "code",
   "execution_count": 15,
   "metadata": {},
   "outputs": [],
   "source": [
    "def train_epoch(classifier, iterator, optimizer, loss_func):\n",
    "    classifier.train()\n",
    "    epoch_loss = 0\n",
    "    epoch_acc = 0\n",
    "    for batch in iterator:\n",
    "        # Forward pass\n",
    "        preds = classifier(batch.text).squeeze(-1)\n",
    "        # Calculate loss\n",
    "        loss = loss_func(preds, batch.label)\n",
    "        # Backward propagation\n",
    "        optimizer.zero_grad()\n",
    "        loss.backward()\n",
    "        # Update weights\n",
    "        optimizer.step()\n",
    "        # Accumulate loss and acc\n",
    "        epoch_loss += loss.item()\n",
    "        epoch_acc += (torch.round(torch.sigmoid(preds)) == batch.label).sum().item() / preds.size(0)\n",
    "    return epoch_loss/len(iterator), epoch_acc/len(iterator)\n",
    "\n",
    "def eval_epoch(classifier, iterator, loss_func):\n",
    "    classifier.eval()\n",
    "    epoch_loss = 0\n",
    "    epoch_acc = 0\n",
    "    with torch.no_grad():\n",
    "        for batch in iterator:\n",
    "            # Forward pass\n",
    "            preds = classifier(batch.text).squeeze(-1)\n",
    "            # Calculate loss\n",
    "            loss = loss_func(preds, batch.label)\n",
    "            # Accumulate loss and acc\n",
    "            epoch_loss += loss.item()\n",
    "            epoch_acc += (torch.round(torch.sigmoid(preds)) == batch.label).sum().item() / preds.size(0)\n",
    "    return epoch_loss/len(iterator), epoch_acc/len(iterator)"
   ]
  },
  {
   "cell_type": "code",
   "execution_count": 16,
   "metadata": {},
   "outputs": [],
   "source": [
    "optimizer = optim.AdamW(classifier.parameters())\n",
    "# Binary cross entropy with logits. \n",
    "# The binary version of cross entropy loss. \n",
    "loss_func = nn.BCEWithLogitsLoss().to(device)"
   ]
  },
  {
   "cell_type": "code",
   "execution_count": 17,
   "metadata": {},
   "outputs": [
    {
     "output_type": "stream",
     "name": "stdout",
     "text": "Epoch: 01 | Epoch Time: 0m 17s\n\tTrain Loss: 0.698 | Train Acc: 50.05%\n\t Val. Loss: 0.707 |  Val. Acc: 49.73%\nEpoch: 02 | Epoch Time: 0m 17s\n\tTrain Loss: 0.697 | Train Acc: 49.80%\n\t Val. Loss: 0.725 |  Val. Acc: 50.26%\nEpoch: 03 | Epoch Time: 0m 16s\n\tTrain Loss: 0.698 | Train Acc: 50.40%\n\t Val. Loss: 0.700 |  Val. Acc: 50.36%\nEpoch: 04 | Epoch Time: 0m 16s\n\tTrain Loss: 0.698 | Train Acc: 49.51%\n\t Val. Loss: 0.698 |  Val. Acc: 50.37%\nEpoch: 05 | Epoch Time: 0m 16s\n\tTrain Loss: 0.696 | Train Acc: 50.23%\n\t Val. Loss: 0.697 |  Val. Acc: 50.38%\n"
    }
   ],
   "source": [
    "import time\n",
    "N_EPOCHS = 5\n",
    "best_valid_loss = np.inf\n",
    "\n",
    "for epoch in range(N_EPOCHS):\n",
    "    t0 = time.time()\n",
    "    train_loss, train_acc = train_epoch(classifier, train_iterator, optimizer, loss_func)\n",
    "    valid_loss, valid_acc = eval_epoch(classifier, valid_iterator, loss_func)\n",
    "    epoch_secs = time.time() - t0\n",
    "\n",
    "    epoch_mins, epoch_secs = int(epoch_secs // 60), int(epoch_secs % 60)\n",
    "    \n",
    "    if valid_loss < best_valid_loss:\n",
    "        best_valid_loss = valid_loss\n",
    "        torch.save(classifier.state_dict(), 'models/tut1-model.pt')\n",
    "    \n",
    "    print(f'Epoch: {epoch+1:02} | Epoch Time: {epoch_mins}m {epoch_secs}s')\n",
    "    print(f'\\tTrain Loss: {train_loss:.3f} | Train Acc: {train_acc*100:.2f}%')\n",
    "    print(f'\\t Val. Loss: {valid_loss:.3f} |  Val. Acc: {valid_acc*100:.2f}%')"
   ]
  },
  {
   "cell_type": "code",
   "execution_count": null,
   "metadata": {},
   "outputs": [],
   "source": []
  }
 ],
 "metadata": {
  "language_info": {
   "codemirror_mode": {
    "name": "ipython",
    "version": 3
   },
   "file_extension": ".py",
   "mimetype": "text/x-python",
   "name": "python",
   "nbconvert_exporter": "python",
   "pygments_lexer": "ipython3",
   "version": "3.7.6-final"
  },
  "orig_nbformat": 2,
  "kernelspec": {
   "name": "python3",
   "display_name": "Python 3"
  }
 },
 "nbformat": 4,
 "nbformat_minor": 2
}