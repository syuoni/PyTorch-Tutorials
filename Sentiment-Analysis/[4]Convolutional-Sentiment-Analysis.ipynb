{
 "cells": [
  {
   "cell_type": "code",
   "execution_count": 1,
   "metadata": {},
   "outputs": [],
   "source": [
    "import random\n",
    "import numpy as np\n",
    "import torch\n",
    "import torch.nn as nn\n",
    "import torch.nn.functional as F\n",
    "import torch.optim as optim\n",
    "\n",
    "SEED = 515\n",
    "random.seed(SEED)\n",
    "np.random.seed(SEED)\n",
    "torch.manual_seed(SEED)\n",
    "torch.backends.cudnn.deterministic = True"
   ]
  },
  {
   "cell_type": "markdown",
   "metadata": {},
   "source": [
    "# Convolutional Sentiment Analysis\n",
    "This notebook follows this tutorial: https://github.com/bentrevett/pytorch-sentiment-analysis."
   ]
  },
  {
   "cell_type": "code",
   "execution_count": 2,
   "metadata": {},
   "outputs": [],
   "source": [
    "import torchtext\n",
    "from torchtext.data import Field, LabelField, BucketIterator\n",
    "\n",
    "# Set `batch_first=True` in the `Field`.\n",
    "TEXT = Field(tokenize='spacy', include_lengths=True, batch_first=True)\n",
    "LABEL = LabelField(dtype=torch.float)\n",
    "\n",
    "train_data, test_data = torchtext.datasets.IMDB.splits(TEXT, LABEL, root='data')\n",
    "train_data, valid_data = train_data.split()"
   ]
  },
  {
   "cell_type": "code",
   "execution_count": 3,
   "metadata": {},
   "outputs": [],
   "source": [
    "MAX_VOCAB_SIZE = 25000\n",
    "\n",
    "TEXT.build_vocab(train_data, max_size=MAX_VOCAB_SIZE, \n",
    "                 vectors=\"glove.6B.100d\", vectors_cache=\"vector_cache\", \n",
    "                 unk_init=torch.Tensor.normal_)\n",
    "\n",
    "LABEL.build_vocab(train_data)"
   ]
  },
  {
   "cell_type": "code",
   "execution_count": 4,
   "metadata": {},
   "outputs": [],
   "source": [
    "BATCH_SIZE = 64\n",
    "\n",
    "device = torch.device('cuda' if torch.cuda.is_available() else 'cpu')\n",
    "\n",
    "train_iterator, valid_iterator, test_iterator = BucketIterator.splits(\n",
    "    (train_data, valid_data, test_data), \n",
    "    batch_size=BATCH_SIZE, device=device)"
   ]
  },
  {
   "cell_type": "code",
   "execution_count": 5,
   "metadata": {},
   "outputs": [
    {
     "output_type": "stream",
     "name": "stdout",
     "text": "tensor([[   16,   918,     6,  ...,     1,     1,     1],\n        [ 1574,     3,    11,  ...,     1,     1,     1],\n        [ 6177,     0, 24356,  ...,     1,     1,     1],\n        ...,\n        [   11,    76,   481,  ...,     1,     1,     1],\n        [ 2165,  1735, 10797,  ...,     1,     1,     1],\n        [ 2537,  4117,   887,  ...,     1,     1,     1]], device='cuda:0')\ntensor([117,  79, 298,  64, 476, 257, 465, 220, 157, 815, 329, 220, 136, 415,\n        260, 203, 141, 218, 249, 110, 208, 698, 197, 210, 169, 155, 166, 307,\n        672, 807, 243,  89, 176,  69, 105, 691, 205, 162,  79, 163, 236, 156,\n        305, 790, 145, 503, 373, 364, 256, 398,  65, 162, 133,  40, 909, 226,\n        297, 118, 180, 183, 372, 215, 200, 159], device='cuda:0')\n"
    }
   ],
   "source": [
    "for batch in train_iterator:\n",
    "    break\n",
    "text, text_lens = batch.text\n",
    "print(text)\n",
    "print(text_lens)"
   ]
  },
  {
   "cell_type": "markdown",
   "metadata": {},
   "source": [
    "# Build Model"
   ]
  },
  {
   "cell_type": "code",
   "execution_count": 6,
   "metadata": {},
   "outputs": [],
   "source": [
    "class Classifier2D(nn.Module):\n",
    "    def __init__(self, in_dim, emb_dim, n_filters, filter_sizes, out_dim, dropout, pad_idx):\n",
    "        super().__init__()\n",
    "        self.emb = nn.Embedding(in_dim, emb_dim, padding_idx=pad_idx)\n",
    "        # (1) Original implementation: 2D convolution.\n",
    "        # `nn.Conv2d(in_channels, out_channels, kernel_size=(H, W))`\n",
    "        self.convs = nn.ModuleList([\n",
    "            nn.Conv2d(1, n_filters, kernel_size=(fs, emb_dim)) \n",
    "            for fs in filter_sizes])\n",
    "\n",
    "        self.dropout = nn.Dropout(dropout)\n",
    "        self.fc = nn.Linear(n_filters*len(filter_sizes), out_dim)\n",
    "\n",
    "    def forward(self, text, text_lens):\n",
    "        # `text_lens` would be useful when mean-pooling applied. \n",
    "        # text/mask: (batch, step)\n",
    "        mask = text.eq(self.emb.padding_idx)\n",
    "        # embedded: (batch, step, emb)\n",
    "        embedded = self.emb(text)\n",
    "        \n",
    "        pooled = []\n",
    "        for conv_i in self.convs:\n",
    "            # Note: The kernel size may exceed the sequence length, which leads to invalid output. \n",
    "            # conved_i: (batch, channel=n_filters, step-(kernel_size-1), 1)\n",
    "            conved_i = F.relu(conv_i(embedded.unsqueeze(1)))\n",
    "            # mask_i: (batch, 1, step-(kernel_size-1))\n",
    "            mask_i = mask[:, (conv_i.kernel_size[0]-1):].unsqueeze(1)\n",
    "            # pooled_i: (batch, n_filters)\n",
    "            pooled_i, _ = conved_i.squeeze(-1).masked_fill(mask_i, -np.inf).max(dim=-1)\n",
    "            pooled.append(pooled_i)\n",
    "            \n",
    "        concated = self.dropout(torch.cat(pooled, dim=-1))\n",
    "        return self.fc(concated)"
   ]
  },
  {
   "cell_type": "code",
   "execution_count": 7,
   "metadata": {},
   "outputs": [],
   "source": [
    "class Classifier1D(nn.Module):\n",
    "    def __init__(self, in_dim, emb_dim, n_filters, filter_sizes, out_dim, dropout, pad_idx):\n",
    "        super().__init__()\n",
    "        self.emb = nn.Embedding(in_dim, emb_dim, padding_idx=pad_idx)\n",
    "        # (2) Regard different embedding dimensions as different channels. \n",
    "        # Thus, it reduces to an 1D convolution. \n",
    "        self.convs = nn.ModuleList([\n",
    "            nn.Conv1d(emb_dim, n_filters, kernel_size=fs)\n",
    "            for fs in filter_sizes])\n",
    "\n",
    "        self.dropout = nn.Dropout(dropout)\n",
    "        self.fc = nn.Linear(n_filters*len(filter_sizes), out_dim)\n",
    "\n",
    "    def forward(self, text, text_lens):\n",
    "        # `text_lens` would be useful when mean-pooling applied. \n",
    "        # text/mask: (batch, step)\n",
    "        mask = text.eq(self.emb.padding_idx)\n",
    "        # embedded: (batch, step, emb)\n",
    "        embedded = self.emb(text)\n",
    "        \n",
    "        pooled = []\n",
    "        for conv_i in self.convs:\n",
    "            # Note: The kernel size may exceed the sequence length, which leads to invalid output. \n",
    "            # conved_i: (batch, channel=n_filters, step-(kernel_size-1))\n",
    "            conved_i = F.relu(conv_i(embedded.permute(0, 2, 1)))\n",
    "            # mask_i: (batch, 1, step-(kernel_size-1))\n",
    "            mask_i = mask[:, (conv_i.kernel_size[0]-1):].unsqueeze(1)\n",
    "            # pooled_i: (batch, n_filters)\n",
    "            pooled_i, _ = conved_i.masked_fill(mask_i, -np.inf).max(dim=-1)\n",
    "            pooled.append(pooled_i)\n",
    "            \n",
    "        concated = self.dropout(torch.cat(pooled, dim=-1))\n",
    "        return self.fc(concated)"
   ]
  },
  {
   "cell_type": "code",
   "execution_count": 8,
   "metadata": {},
   "outputs": [
    {
     "output_type": "stream",
     "name": "stdout",
     "text": "2620801\n2620801\n"
    }
   ],
   "source": [
    "def count_parameters(model):\n",
    "    return sum(p.numel() for p in model.parameters() if p.requires_grad)\n",
    "\n",
    "IN_DIM = len(TEXT.vocab)\n",
    "EMB_DIM = 100\n",
    "N_FILTERS = 100\n",
    "FILTER_SIZES = [3, 4, 5]\n",
    "OUT_DIM = 1\n",
    "DROPOUT = 0.5\n",
    "PAD_IDX = TEXT.vocab.stoi[TEXT.pad_token]\n",
    "\n",
    "classifier2d = Classifier2D(IN_DIM, EMB_DIM, N_FILTERS, FILTER_SIZES, OUT_DIM, \n",
    "                           DROPOUT, PAD_IDX).to(device)\n",
    "print(count_parameters(classifier2d))\n",
    "\n",
    "classifier1d = Classifier1D(IN_DIM, EMB_DIM, N_FILTERS, FILTER_SIZES, OUT_DIM, \n",
    "                           DROPOUT, PAD_IDX).to(device)\n",
    "print(count_parameters(classifier1d))\n",
    "\n",
    "# The two models are identical...\n",
    "classifier = classifier2d"
   ]
  },
  {
   "cell_type": "code",
   "execution_count": 9,
   "metadata": {},
   "outputs": [
    {
     "output_type": "stream",
     "name": "stdout",
     "text": "tensor([[ 0.0000,  0.0000,  0.0000,  0.0000,  0.0000,  0.0000,  0.0000,  0.0000],\n        [ 0.0000,  0.0000,  0.0000,  0.0000,  0.0000,  0.0000,  0.0000,  0.0000],\n        [-0.0382, -0.2449,  0.7281, -0.3996,  0.0832,  0.0440, -0.3914,  0.3344],\n        [-0.1077,  0.1105,  0.5981, -0.5436,  0.6740,  0.1066,  0.0389,  0.3548],\n        [-0.3398,  0.2094,  0.4635, -0.6479, -0.3838,  0.0380,  0.1713,  0.1598]],\n       device='cuda:0', grad_fn=<SliceBackward>)\n"
    }
   ],
   "source": [
    "# Initialize Embeddings with Pre-Trained Vectors\n",
    "classifier.emb.weight.data.copy_(TEXT.vocab.vectors)\n",
    "\n",
    "UNK_IDX = TEXT.vocab.stoi[TEXT.unk_token]\n",
    "\n",
    "classifier.emb.weight.data[UNK_IDX].zero_()\n",
    "classifier.emb.weight.data[PAD_IDX].zero_()\n",
    "\n",
    "print(classifier.emb.weight[:5, :8])"
   ]
  },
  {
   "cell_type": "markdown",
   "metadata": {},
   "source": [
    "# Train Model"
   ]
  },
  {
   "cell_type": "code",
   "execution_count": 10,
   "metadata": {},
   "outputs": [],
   "source": [
    "optimizer = optim.Adam(classifier.parameters())\n",
    "# Binary cross entropy with logits. \n",
    "# The binary version of cross entropy loss. \n",
    "loss_func = nn.BCEWithLogitsLoss().to(device)"
   ]
  },
  {
   "cell_type": "code",
   "execution_count": 11,
   "metadata": {},
   "outputs": [],
   "source": [
    "def train_epoch(classifier, iterator, optimizer, loss_func):\n",
    "    classifier.train()\n",
    "    epoch_loss = 0\n",
    "    epoch_acc = 0\n",
    "    for batch in iterator:\n",
    "        # Forward pass\n",
    "        text, text_lens = batch.text\n",
    "        preds = classifier(text, text_lens).squeeze(-1)\n",
    "        # Calculate loss\n",
    "        loss = loss_func(preds, batch.label)\n",
    "        # Backward propagation\n",
    "        optimizer.zero_grad()\n",
    "        loss.backward()\n",
    "        # Update weights\n",
    "        optimizer.step()\n",
    "        # Accumulate loss and acc\n",
    "        epoch_loss += loss.item()\n",
    "        epoch_acc += (torch.round(torch.sigmoid(preds)) == batch.label).sum().item() / preds.size(0)\n",
    "    return epoch_loss/len(iterator), epoch_acc/len(iterator)\n",
    "\n",
    "def eval_epoch(classifier, iterator, loss_func):\n",
    "    classifier.eval()\n",
    "    epoch_loss = 0\n",
    "    epoch_acc = 0\n",
    "    with torch.no_grad():\n",
    "        for batch in iterator:\n",
    "            # Forward pass\n",
    "            text, text_lens = batch.text\n",
    "            preds = classifier(text, text_lens).squeeze(-1)\n",
    "            # Calculate loss\n",
    "            loss = loss_func(preds, batch.label)\n",
    "            # Accumulate loss and acc\n",
    "            epoch_loss += loss.item()\n",
    "            epoch_acc += (torch.round(torch.sigmoid(preds)) == batch.label).sum().item() / preds.size(0)\n",
    "    return epoch_loss/len(iterator), epoch_acc/len(iterator)"
   ]
  },
  {
   "cell_type": "code",
   "execution_count": 12,
   "metadata": {},
   "outputs": [
    {
     "output_type": "stream",
     "name": "stdout",
     "text": "Epoch: 01 | Epoch Time: 0m 19s\n\tTrain Loss: 0.644 | Train Acc: 61.79%\n\t Val. Loss: 0.492 |  Val. Acc: 77.71%\nEpoch: 02 | Epoch Time: 0m 19s\n\tTrain Loss: 0.423 | Train Acc: 80.72%\n\t Val. Loss: 0.339 |  Val. Acc: 85.76%\nEpoch: 03 | Epoch Time: 0m 19s\n\tTrain Loss: 0.307 | Train Acc: 87.31%\n\t Val. Loss: 0.304 |  Val. Acc: 86.90%\nEpoch: 04 | Epoch Time: 0m 19s\n\tTrain Loss: 0.225 | Train Acc: 91.00%\n\t Val. Loss: 0.305 |  Val. Acc: 87.09%\nEpoch: 05 | Epoch Time: 0m 18s\n\tTrain Loss: 0.162 | Train Acc: 94.16%\n\t Val. Loss: 0.304 |  Val. Acc: 87.64%\n"
    }
   ],
   "source": [
    "import time\n",
    "N_EPOCHS = 5\n",
    "best_valid_loss = np.inf\n",
    "\n",
    "for epoch in range(N_EPOCHS):\n",
    "    t0 = time.time()\n",
    "    train_loss, train_acc = train_epoch(classifier, train_iterator, optimizer, loss_func)\n",
    "    valid_loss, valid_acc = eval_epoch(classifier, valid_iterator, loss_func)\n",
    "    epoch_secs = time.time() - t0\n",
    "\n",
    "    epoch_mins, epoch_secs = int(epoch_secs // 60), int(epoch_secs % 60)\n",
    "    \n",
    "    if valid_loss < best_valid_loss:\n",
    "        best_valid_loss = valid_loss\n",
    "        torch.save(classifier.state_dict(), 'models/tut4-model.pt')\n",
    "    \n",
    "    print(f'Epoch: {epoch+1:02} | Epoch Time: {epoch_mins}m {epoch_secs}s')\n",
    "    print(f'\\tTrain Loss: {train_loss:.3f} | Train Acc: {train_acc*100:.2f}%')\n",
    "    print(f'\\t Val. Loss: {valid_loss:.3f} |  Val. Acc: {valid_acc*100:.2f}%')"
   ]
  },
  {
   "cell_type": "code",
   "execution_count": 13,
   "metadata": {},
   "outputs": [
    {
     "output_type": "stream",
     "name": "stdout",
     "text": "Val. Loss: 0.304 | Val. Acc: 87.64%\nTest Loss: 0.355 | Test Acc: 85.44%\n"
    }
   ],
   "source": [
    "classifier.load_state_dict(torch.load('models/tut4-model.pt'))\n",
    "\n",
    "valid_loss, valid_acc = eval_epoch(classifier, valid_iterator, loss_func)\n",
    "test_loss, test_acc = eval_epoch(classifier, test_iterator, loss_func)\n",
    "\n",
    "print(f'Val. Loss: {valid_loss:.3f} | Val. Acc: {valid_acc*100:.2f}%')\n",
    "print(f'Test Loss: {test_loss:.3f} | Test Acc: {test_acc*100:.2f}%')"
   ]
  },
  {
   "cell_type": "markdown",
   "metadata": {},
   "source": [
    "# User Input"
   ]
  },
  {
   "cell_type": "code",
   "execution_count": 14,
   "metadata": {},
   "outputs": [],
   "source": [
    "import spacy\n",
    "nlp = spacy.load('en')\n",
    "\n",
    "def predict_senti(classifier, sentence):\n",
    "    classifier.eval()\n",
    "    tokenized = [tok.text for tok in nlp.tokenizer(sentence)]\n",
    "    indexed = [TEXT.vocab.stoi[tok] for tok in tokenized]\n",
    "    lens = len(indexed)\n",
    "\n",
    "    # Note: `batch_first=True`\n",
    "    indexed = torch.tensor(indexed, dtype=torch.long).unsqueeze(0).to(device)\n",
    "    lens = torch.tensor(lens, dtype=torch.long).unsqueeze(0).to(device)\n",
    "    pred = torch.sigmoid(classifier(indexed, lens)).round().type(torch.long)\n",
    "    return LABEL.vocab.itos[pred.item()]"
   ]
  },
  {
   "cell_type": "code",
   "execution_count": 15,
   "metadata": {},
   "outputs": [
    {
     "output_type": "execute_result",
     "data": {
      "text/plain": "'pos'"
     },
     "metadata": {},
     "execution_count": 15
    }
   ],
   "source": [
    "predict_senti(classifier, \"This is a good film.\")"
   ]
  },
  {
   "cell_type": "code",
   "execution_count": 16,
   "metadata": {},
   "outputs": [
    {
     "output_type": "execute_result",
     "data": {
      "text/plain": "'neg'"
     },
     "metadata": {},
     "execution_count": 16
    }
   ],
   "source": [
    "predict_senti(classifier, \"This film is terrible.\")"
   ]
  },
  {
   "cell_type": "markdown",
   "metadata": {},
   "source": [
    "# Check Embeddings\n",
    "* The Embeddings of `unk` and `<pad>` tokens\n",
    "    * Because the `padding_idx` has been passed to `nn.Embedding`, so the `<pad>` embedding will remain zeros throughout training.  \n",
    "    * While the `<unk>` embedding will be learned."
   ]
  },
  {
   "cell_type": "code",
   "execution_count": 17,
   "metadata": {},
   "outputs": [
    {
     "output_type": "stream",
     "name": "stdout",
     "text": "tensor([[ 0.2147, -0.0319,  0.1888, -0.2127, -0.1411,  0.1605,  0.0145,  0.0680],\n        [ 0.0000,  0.0000,  0.0000,  0.0000,  0.0000,  0.0000,  0.0000,  0.0000],\n        [-0.0009, -0.2537,  0.7259, -0.4558,  0.0542,  0.1325, -0.4494,  0.3261],\n        [-0.0183,  0.0385,  0.5943, -0.5256,  0.7100,  0.0689,  0.0273,  0.3516],\n        [-0.3057,  0.1522,  0.4644, -0.7334, -0.3763,  0.0426,  0.1718,  0.1195]],\n       device='cuda:0', grad_fn=<SliceBackward>)\n"
    }
   ],
   "source": [
    "print(classifier.emb.weight[:5, :8])"
   ]
  },
  {
   "cell_type": "code",
   "execution_count": null,
   "metadata": {},
   "outputs": [],
   "source": []
  }
 ],
 "metadata": {
  "language_info": {
   "codemirror_mode": {
    "name": "ipython",
    "version": 3
   },
   "file_extension": ".py",
   "mimetype": "text/x-python",
   "name": "python",
   "nbconvert_exporter": "python",
   "pygments_lexer": "ipython3",
   "version": "3.7.6-final"
  },
  "orig_nbformat": 2,
  "kernelspec": {
   "name": "python3",
   "display_name": "Python 3"
  }
 },
 "nbformat": 4,
 "nbformat_minor": 2
}