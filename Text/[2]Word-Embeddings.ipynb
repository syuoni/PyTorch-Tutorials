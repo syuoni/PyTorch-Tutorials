{
 "cells": [
  {
   "cell_type": "code",
   "execution_count": 1,
   "metadata": {},
   "outputs": [],
   "source": [
    "import numpy as np\n",
    "import torch\n",
    "import torch.nn as nn\n",
    "import torch.nn.functional as F\n",
    "import torch.optim as optim"
   ]
  },
  {
   "cell_type": "markdown",
   "metadata": {},
   "source": [
    "# One-Hot Embeddings: Bag-of-Words Classifier"
   ]
  },
  {
   "cell_type": "code",
   "execution_count": 2,
   "metadata": {},
   "outputs": [
    {
     "output_type": "stream",
     "name": "stdout",
     "text": "{'me': 0, 'gusta': 1, 'comer': 2, 'en': 3, 'la': 4, 'cafeteria': 5, 'Give': 6, 'it': 7, 'to': 8, 'No': 9, 'creo': 10, 'que': 11, 'sea': 12, 'una': 13, 'buena': 14, 'idea': 15, 'is': 16, 'not': 17, 'a': 18, 'good': 19, 'get': 20, 'lost': 21, 'at': 22, 'Yo': 23, 'si': 24, 'on': 25}\ntensor([[1., 1., 1., 1., 1., 1., 0., 0., 0., 0., 0., 0., 0., 0., 0., 0., 0., 0.,\n         0., 0., 0., 0., 0., 0., 0., 0.],\n        [1., 0., 0., 0., 0., 0., 1., 1., 1., 0., 0., 0., 0., 0., 0., 0., 0., 0.,\n         0., 0., 0., 0., 0., 0., 0., 0.],\n        [0., 0., 0., 0., 0., 0., 0., 0., 0., 1., 1., 1., 1., 1., 1., 1., 0., 0.,\n         0., 0., 0., 0., 0., 0., 0., 0.],\n        [0., 0., 0., 0., 0., 0., 0., 1., 1., 1., 0., 0., 1., 0., 0., 1., 1., 1.,\n         1., 1., 1., 1., 1., 0., 0., 0.],\n        [0., 0., 0., 0., 0., 0., 0., 0., 0., 0., 1., 1., 0., 0., 0., 0., 0., 0.,\n         0., 0., 0., 0., 0., 1., 1., 0.],\n        [1., 0., 0., 0., 0., 0., 0., 1., 0., 0., 0., 0., 0., 0., 0., 0., 1., 0.,\n         0., 0., 0., 1., 0., 0., 0., 1.]])\ntensor([0, 1, 0, 1, 0, 1])\n"
    }
   ],
   "source": [
    "data = [(\"me gusta comer en la cafeteria\".split(), \"SPANISH\"),\n",
    "        (\"Give it to me\".split(), \"ENGLISH\"),\n",
    "        (\"No creo que sea una buena idea\".split(), \"SPANISH\"),\n",
    "        (\"No it is not a good idea to get lost at sea\".split(), \"ENGLISH\"),\n",
    "        (\"Yo creo que si\".split(), \"SPANISH\"),\n",
    "        (\"it is lost on me\".split(), \"ENGLISH\")]\n",
    "\n",
    "word2idx = {}\n",
    "for sent, _ in data:\n",
    "    for word in sent:\n",
    "        if word not in word2idx:\n",
    "            word2idx[word] = len(word2idx)\n",
    "print(word2idx)\n",
    "\n",
    "label2idx = {\"SPANISH\": 0, \"ENGLISH\": 1}\n",
    "\n",
    "VOC_SIZE = len(word2idx)\n",
    "N_LABEL = len(label2idx)\n",
    "\n",
    "X = []\n",
    "y = []\n",
    "for sent, label in data:\n",
    "    # It would create double by default\n",
    "    vec = np.zeros(VOC_SIZE)\n",
    "    for word in sent:\n",
    "        vec[word2idx[word]] += 1\n",
    "    X.append(vec)\n",
    "    y.append(label2idx[label])\n",
    "\n",
    "# X -> torch.float32\n",
    "# y MUST BE torch.int64 (long tensor)\n",
    "X = torch.tensor(X, dtype=torch.float)\n",
    "y = torch.tensor(y, dtype=torch.long)\n",
    "print(X)\n",
    "print(y)"
   ]
  },
  {
   "cell_type": "code",
   "execution_count": 3,
   "metadata": {},
   "outputs": [],
   "source": [
    "class BoWClassifier(nn.Module):\n",
    "    def __init__(self, n_label, voc_size):\n",
    "        # All units with differentiable parameters should be included in __init__ function\n",
    "        # non-linearity function like tanh, ReLU and softmax without differentiable parameters\n",
    "        # could not be included in __init__ function\n",
    "        super(BoWClassifier, self).__init__()\n",
    "        self.linear = nn.Linear(voc_size, n_label)\n",
    "        \n",
    "    def forward(self, bow_vec):\n",
    "        return F.log_softmax(self.linear(bow_vec), dim=-1)"
   ]
  },
  {
   "cell_type": "code",
   "execution_count": 4,
   "metadata": {},
   "outputs": [
    {
     "output_type": "stream",
     "name": "stdout",
     "text": "Parameter containing:\ntensor([[-0.0373, -0.1773, -0.0899,  0.1846,  0.1721, -0.1628,  0.0644,  0.0019,\n          0.1746, -0.1871,  0.0118, -0.0190, -0.1606, -0.1247,  0.0234,  0.0245,\n          0.0912, -0.0126,  0.1601, -0.1820,  0.1288,  0.1498,  0.1129,  0.0806,\n         -0.0051, -0.1724],\n        [ 0.1793, -0.1507, -0.1670,  0.1632,  0.1346, -0.1195, -0.0451, -0.0050,\n          0.1651, -0.0721, -0.0248,  0.0428,  0.0417, -0.0157, -0.1199, -0.1857,\n          0.0539,  0.1455, -0.1853,  0.1798,  0.1642,  0.1695,  0.1888,  0.0805,\n          0.0194,  0.1493]], requires_grad=True)\nParameter containing:\ntensor([ 0.0058, -0.0719], requires_grad=True)\ntensor([-0.7303, -0.6574], grad_fn=<LogSoftmaxBackward>)\ntorch.Size([2])\n"
    }
   ],
   "source": [
    "model = BoWClassifier(N_LABEL, VOC_SIZE)\n",
    "\n",
    "for param in model.parameters():\n",
    "    print(param)\n",
    "\n",
    "bow_vec = X[0]\n",
    "log_probs = model(bow_vec)\n",
    "print(log_probs)\n",
    "print(log_probs.size())"
   ]
  },
  {
   "cell_type": "code",
   "execution_count": 5,
   "metadata": {},
   "outputs": [
    {
     "output_type": "stream",
     "name": "stdout",
     "text": "tensor([-0.6791, -0.7073], grad_fn=<LogSoftmaxBackward>) tensor(0)\ntensor([-0.9348, -0.4987], grad_fn=<LogSoftmaxBackward>) tensor(1)\ntensor([ 0.0118, -0.0248], grad_fn=<SelectBackward>)\n"
    }
   ],
   "source": [
    "train_X, test_X = X[:4], X[4:]\n",
    "train_y, test_y = y[:4], y[4:]\n",
    "\n",
    "# Prediction result before training. \n",
    "for bow_vec, label in zip(test_X, test_y):\n",
    "    log_probs = model(bow_vec)\n",
    "    print(log_probs, label)\n",
    "\n",
    "# The weight vector for specific word\n",
    "# The weight vector works like an embedding vector, mapping a word (i.e., one-hot embedding vector) \n",
    "# to a dense vector, except for the bias. \n",
    "print(model.linear.weight[:, word2idx['creo']])"
   ]
  },
  {
   "cell_type": "code",
   "execution_count": 6,
   "metadata": {},
   "outputs": [
    {
     "output_type": "stream",
     "name": "stdout",
     "text": "10 0.38944409787654877\n20 0.1914397720247507\n30 0.12640963774174452\n40 0.0942453807219863\n50 0.07509064953774214\n60 0.062390413135290146\n70 0.05335633549839258\n80 0.046602878253906965\n90 0.0413644309155643\n100 0.03718271292746067\n"
    }
   ],
   "source": [
    "# Training\n",
    "# Negative log-likelihood\n",
    "loss_func = nn.NLLLoss()\n",
    "optimizer = optim.SGD(model.parameters(), lr=0.1)\n",
    "\n",
    "for epoch in range(100):\n",
    "    running_loss = 0.0\n",
    "    for bow_vec, label in zip(train_X, train_y):\n",
    "        # log_probs MUST BE a matrix to enter the loss function\n",
    "        # use view-function to reshape!!\n",
    "        log_probs = model(bow_vec.view(1, -1))\n",
    "        \n",
    "        # log_probs -> matrix\n",
    "        # label -> vector\n",
    "        loss = loss_func(log_probs, label.view(1))\n",
    "        running_loss += loss.item()\n",
    "\n",
    "        # Backward propagation\n",
    "        model.zero_grad()\n",
    "        loss.backward()\n",
    "        optimizer.step()\n",
    "    \n",
    "    if (epoch + 1) % 10 == 0:\n",
    "            print(epoch + 1, running_loss)"
   ]
  },
  {
   "cell_type": "code",
   "execution_count": 7,
   "metadata": {},
   "outputs": [
    {
     "output_type": "stream",
     "name": "stdout",
     "text": "tensor([-0.1359, -2.0629], grad_fn=<LogSoftmaxBackward>) tensor(0)\ntensor([-3.0247, -0.0498], grad_fn=<LogSoftmaxBackward>) tensor(1)\ntensor([ 0.4389, -0.4519], grad_fn=<SelectBackward>)\n"
    }
   ],
   "source": [
    "# Prediction result after training. \n",
    "for bow_vec, label in zip(test_X, test_y):\n",
    "    log_probs = model(bow_vec)\n",
    "    print(log_probs, label)\n",
    "\n",
    "# The weight vector for specific word\n",
    "# The weight vector works like an embedding vector, mapping a word (i.e., one-hot embedding vector) \n",
    "# to a dense vector, except for the bias. \n",
    "print(model.linear.weight[:, word2idx['creo']])"
   ]
  },
  {
   "cell_type": "markdown",
   "metadata": {
    "collapsed": true
   },
   "source": [
    "# Dense Embeddings\n",
    "Encode semantic similarity in words. "
   ]
  },
  {
   "cell_type": "code",
   "execution_count": 8,
   "metadata": {},
   "outputs": [
    {
     "output_type": "stream",
     "name": "stdout",
     "text": "Parameter containing:\ntensor([[ 0.6340, -0.9037, -0.1137, -1.6222, -0.9055],\n        [ 0.5628,  0.2336, -0.5755,  0.6286, -0.5012]], requires_grad=True)\ntensor([ 0.6340, -0.9037, -0.1137, -1.6222, -0.9055],\n       grad_fn=<EmbeddingBackward>)\n"
    }
   ],
   "source": [
    "word2idx = {'hello': 0, 'world': 1}\n",
    "emb = nn.Embedding(2, 5)\n",
    "print(emb.weight)\n",
    "\n",
    "# Indexing-input MUST BE torch.long/torch.int64\n",
    "t = torch.tensor(word2idx['hello'], dtype=torch.long)\n",
    "t_emb = emb(t)\n",
    "print(t_emb)"
   ]
  },
  {
   "cell_type": "code",
   "execution_count": 9,
   "metadata": {},
   "outputs": [
    {
     "output_type": "execute_result",
     "data": {
      "text/plain": "tensor([[ 0.6340, -0.9037, -0.1137, -1.6222, -0.9055],\n        [ 0.5628,  0.2336, -0.5755,  0.6286, -0.5012],\n        [ 0.6340, -0.9037, -0.1137, -1.6222, -0.9055]],\n       grad_fn=<EmbeddingBackward>)"
     },
     "metadata": {},
     "execution_count": 9
    }
   ],
   "source": [
    "# Input as a sequence\n",
    "idx_seq = torch.tensor([0, 1, 0], dtype=torch.long)\n",
    "embedded = emb(idx_seq)\n",
    "embedded"
   ]
  },
  {
   "cell_type": "code",
   "execution_count": 10,
   "metadata": {},
   "outputs": [
    {
     "output_type": "execute_result",
     "data": {
      "text/plain": "tensor([[[ 0.6340, -0.9037, -0.1137, -1.6222, -0.9055],\n         [ 0.5628,  0.2336, -0.5755,  0.6286, -0.5012]],\n\n        [[ 0.5628,  0.2336, -0.5755,  0.6286, -0.5012],\n         [ 0.5628,  0.2336, -0.5755,  0.6286, -0.5012]],\n\n        [[ 0.6340, -0.9037, -0.1137, -1.6222, -0.9055],\n         [ 0.6340, -0.9037, -0.1137, -1.6222, -0.9055]]],\n       grad_fn=<EmbeddingBackward>)"
     },
     "metadata": {},
     "execution_count": 10
    }
   ],
   "source": [
    "# Input as a minibatch of sequences\n",
    "idx_seq_batch = torch.tensor([[0, 1], [1, 1], [0, 0]], dtype=torch.long)\n",
    "embedded = emb(idx_seq_batch)\n",
    "embedded"
   ]
  },
  {
   "cell_type": "markdown",
   "metadata": {},
   "source": [
    "# Training Embeddings: N-Gram Model \n",
    "In an n-gram language model, given a sequence of words $w$, we want to compute  \n",
    "$\n",
    "P \\left( w_{i} \\left| w_{i-1}, w_{i-2}, ..., w_{i-n+1} \\right. \\right)  \n",
    "$  \n",
    "where $w_{i}$ is the i-th word of the sequence.  "
   ]
  },
  {
   "cell_type": "code",
   "execution_count": 11,
   "metadata": {},
   "outputs": [
    {
     "output_type": "stream",
     "name": "stdout",
     "text": "[(['When', 'forty'], 'winters'), (['forty', 'winters'], 'shall'), (['winters', 'shall'], 'besiege')]\n"
    }
   ],
   "source": [
    "# Use TWO words to predict next word\n",
    "CONTEXT_SIZE = 2\n",
    "EMB_DIM = 10\n",
    "\n",
    "# We will use Shakespeare Sonnet 2\n",
    "test_sentence = \"\"\"When forty winters shall besiege thy brow,\n",
    "And dig deep trenches in thy beauty's field,\n",
    "Thy youth's proud livery so gazed on now,\n",
    "Will be a totter'd weed of small worth held:\n",
    "Then being asked, where all thy beauty lies,\n",
    "Where all the treasure of thy lusty days;\n",
    "To say, within thine own deep sunken eyes,\n",
    "Were an all-eating shame, and thriftless praise.\n",
    "How much more praise deserv'd thy beauty's use,\n",
    "If thou couldst answer 'This fair child of mine\n",
    "Shall sum my count, and make my old excuse,'\n",
    "Proving his beauty by succession thine!\n",
    "This were to be new made when thou art old,\n",
    "And see thy blood warm when thou feel'st it cold.\"\"\".split()\n",
    "\n",
    "trigrams = [([test_sentence[i], test_sentence[i + 1]], test_sentence[i + 2])\n",
    "            for i in range(len(test_sentence) - 2)]\n",
    "print(trigrams[:3])\n",
    "\n",
    "voc = set(test_sentence)\n",
    "word2idx = {word: i for i, word in enumerate(voc)}\n",
    "VOC_SIZE = len(voc)"
   ]
  },
  {
   "cell_type": "code",
   "execution_count": 12,
   "metadata": {},
   "outputs": [],
   "source": [
    "class NGramModel(nn.Module):\n",
    "    def __init__(self, voc_size, emb_dim, context_size):\n",
    "        super(NGramModel, self).__init__()\n",
    "        self.emb = nn.Embedding(voc_size, emb_dim)\n",
    "        self.fc1 = nn.Linear(context_size*emb_dim, 128)\n",
    "        self.fc2 = nn.Linear(128, voc_size)\n",
    "        \n",
    "    def forward(self, ins):\n",
    "        # ins include several words (N=context_size)\n",
    "        # self.emb(ins) -> (context_size, emb_dim)\n",
    "        # self.emb(ins).view((1, -1)) -> (1, context_size*emb_dim)\n",
    "        emb_ins = self.emb(ins).view((1, -1))\n",
    "        outs = F.relu(self.fc1(emb_ins))\n",
    "        outs = self.fc2(outs)\n",
    "        log_probs = F.log_softmax(outs, dim=-1)\n",
    "        return log_probs"
   ]
  },
  {
   "cell_type": "code",
   "execution_count": 13,
   "metadata": {},
   "outputs": [
    {
     "output_type": "stream",
     "name": "stdout",
     "text": "0 519.6142597198486\n1 517.2811331748962\n2 514.9622578620911\n3 512.6555509567261\n4 510.36166524887085\n5 508.07909512519836\n6 505.8089349269867\n7 503.54898047447205\n8 501.29919600486755\n9 499.0564966201782\n"
    }
   ],
   "source": [
    "loss_func = nn.NLLLoss()\n",
    "model = NGramModel(VOC_SIZE, EMB_DIM, CONTEXT_SIZE)\n",
    "optimizer = optim.SGD(model.parameters(), lr=0.001)\n",
    "\n",
    "for epoch in range(10):\n",
    "    total_loss = 0\n",
    "    for context, target in trigrams:\n",
    "        context_idxes = [word2idx[w] for w in context]\n",
    "        context_var = torch.tensor(context_idxes, dtype=torch.long)\n",
    "        target_var = torch.tensor([word2idx[target]], dtype=torch.long)\n",
    "        \n",
    "        model.zero_grad()\n",
    "        log_probs = model(context_var)\n",
    "        \n",
    "        # log_probs -> matrix\n",
    "        # target_var -> vector\n",
    "        loss = loss_func(log_probs, target_var)        \n",
    "        loss.backward()\n",
    "        optimizer.step()\n",
    "        \n",
    "        total_loss += loss.item()\n",
    "    \n",
    "    print(epoch, total_loss)"
   ]
  },
  {
   "cell_type": "markdown",
   "metadata": {},
   "source": [
    "# Computing Word Embeddings: Continuous Bag-of-Words\n",
    "In an continuous BOW model, given a sequence of words $w$, we want to compute  \n",
    "$\n",
    "P \\left( w_{i} \\left| w_{i+n-1}, ..., w_{i+1}, w_{i-1}, ..., w_{i-n+1} \\right. \\right)  \n",
    "$  \n",
    "where $w_{i}$ is the i-th word of the sequence.  "
   ]
  },
  {
   "cell_type": "code",
   "execution_count": 14,
   "metadata": {},
   "outputs": [
    {
     "output_type": "stream",
     "name": "stdout",
     "text": "[(['We', 'are', 'to', 'study'], 'about'), (['are', 'about', 'study', 'the'], 'to'), (['about', 'to', 'the', 'idea'], 'study')]\n"
    }
   ],
   "source": [
    "CONTEXT_SIZE = 2\n",
    "raw_text = \"\"\"We are about to study the idea of a computational process.\n",
    "Computational processes are abstract beings that inhabit computers.\n",
    "As they evolve, processes manipulate other abstract things called data.\n",
    "The evolution of a process is directed by a pattern of rules\n",
    "called a program. People create programs to direct processes. In effect,\n",
    "we conjure the spirits of the computer with our spells.\"\"\".split()\n",
    "\n",
    "voc = set(raw_text)\n",
    "VOC_SIZE = len(voc)\n",
    "word2idx = {word: i for i, word in enumerate(voc)}\n",
    "\n",
    "data = [([raw_text[i-2], raw_text[i-1], raw_text[i+1], raw_text[i+2]], raw_text[i]) for i in range(2, len(raw_text)-2)]\n",
    "print(data[:3])"
   ]
  },
  {
   "cell_type": "code",
   "execution_count": 15,
   "metadata": {},
   "outputs": [],
   "source": [
    "class CBOW(nn.Module):\n",
    "    def __init__(self, voc_size, emb_dim):\n",
    "        super(CBOW, self).__init__()\n",
    "        self.emb = nn.Embedding(voc_size, emb_dim)\n",
    "        self.fc = nn.Linear(emb_dim, voc_size)\n",
    "        \n",
    "    def forward(self, ins):\n",
    "        emb_ins = self.emb(ins)\n",
    "        outs = self.fc(emb_ins.sum(dim=0, keepdim=True))\n",
    "        log_probs = F.log_softmax(outs, dim=-1)\n",
    "        return log_probs"
   ]
  },
  {
   "cell_type": "code",
   "execution_count": 16,
   "metadata": {},
   "outputs": [
    {
     "output_type": "stream",
     "name": "stdout",
     "text": "0 263.90684628486633\n1 261.3531012535095\n2 258.83710980415344\n3 256.3578133583069\n4 253.91421222686768\n5 251.50538110733032\n6 249.130450963974\n7 246.7886085510254\n8 244.47909116744995\n9 242.20118117332458\n"
    }
   ],
   "source": [
    "loss_func = nn.NLLLoss()\n",
    "model = CBOW(VOC_SIZE, EMB_DIM)\n",
    "optimizer = optim.SGD(model.parameters(), lr=0.001)\n",
    "\n",
    "for epoch in range(10):\n",
    "    total_loss = 0\n",
    "    for context, target in data:\n",
    "        context_idxes = [word2idx[w] for w in context]\n",
    "        context_var = torch.tensor(context_idxes, dtype=torch.long)\n",
    "        target_var = torch.tensor([word2idx[target]], dtype=torch.long)\n",
    "        \n",
    "        model.zero_grad()\n",
    "        log_probs = model(context_var)\n",
    "        loss = loss_func(log_probs, target_var)\n",
    "        loss.backward()\n",
    "        optimizer.step()\n",
    "        \n",
    "        total_loss += loss.item()\n",
    "    print(epoch, total_loss)"
   ]
  },
  {
   "cell_type": "code",
   "execution_count": null,
   "metadata": {},
   "outputs": [],
   "source": []
  }
 ],
 "metadata": {
  "kernelspec": {
   "display_name": "Python 3",
   "language": "python",
   "name": "python3"
  },
  "language_info": {
   "codemirror_mode": {
    "name": "ipython",
    "version": 3
   },
   "file_extension": ".py",
   "mimetype": "text/x-python",
   "name": "python",
   "nbconvert_exporter": "python",
   "pygments_lexer": "ipython3",
   "version": "3.7.6-final"
  }
 },
 "nbformat": 4,
 "nbformat_minor": 2
}