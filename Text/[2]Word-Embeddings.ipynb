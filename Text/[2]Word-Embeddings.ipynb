{
 "cells": [
  {
   "cell_type": "code",
   "execution_count": 1,
   "metadata": {},
   "outputs": [],
   "source": [
    "import numpy as np\n",
    "import torch\n",
    "import torch.nn as nn\n",
    "import torch.nn.functional as F\n",
    "import torch.optim as optim"
   ]
  },
  {
   "cell_type": "markdown",
   "metadata": {},
   "source": [
    "# One-Hot Embeddings: Bag-of-Words Classifier"
   ]
  },
  {
   "cell_type": "code",
   "execution_count": 2,
   "metadata": {},
   "outputs": [
    {
     "output_type": "stream",
     "name": "stdout",
     "text": "{'me': 0, 'gusta': 1, 'comer': 2, 'en': 3, 'la': 4, 'cafeteria': 5, 'Give': 6, 'it': 7, 'to': 8, 'No': 9, 'creo': 10, 'que': 11, 'sea': 12, 'una': 13, 'buena': 14, 'idea': 15, 'is': 16, 'not': 17, 'a': 18, 'good': 19, 'get': 20, 'lost': 21, 'at': 22, 'Yo': 23, 'si': 24, 'on': 25}\ntensor([[1., 1., 1., 1., 1., 1., 0., 0., 0., 0., 0., 0., 0., 0., 0., 0., 0., 0.,\n         0., 0., 0., 0., 0., 0., 0., 0.],\n        [1., 0., 0., 0., 0., 0., 1., 1., 1., 0., 0., 0., 0., 0., 0., 0., 0., 0.,\n         0., 0., 0., 0., 0., 0., 0., 0.],\n        [0., 0., 0., 0., 0., 0., 0., 0., 0., 1., 1., 1., 1., 1., 1., 1., 0., 0.,\n         0., 0., 0., 0., 0., 0., 0., 0.],\n        [0., 0., 0., 0., 0., 0., 0., 1., 1., 1., 0., 0., 1., 0., 0., 1., 1., 1.,\n         1., 1., 1., 1., 1., 0., 0., 0.],\n        [0., 0., 0., 0., 0., 0., 0., 0., 0., 0., 1., 1., 0., 0., 0., 0., 0., 0.,\n         0., 0., 0., 0., 0., 1., 1., 0.],\n        [1., 0., 0., 0., 0., 0., 0., 1., 0., 0., 0., 0., 0., 0., 0., 0., 1., 0.,\n         0., 0., 0., 1., 0., 0., 0., 1.]])\ntensor([0, 1, 0, 1, 0, 1])\n"
    }
   ],
   "source": [
    "data = [(\"me gusta comer en la cafeteria\".split(), \"SPANISH\"),\n",
    "        (\"Give it to me\".split(), \"ENGLISH\"),\n",
    "        (\"No creo que sea una buena idea\".split(), \"SPANISH\"),\n",
    "        (\"No it is not a good idea to get lost at sea\".split(), \"ENGLISH\"),\n",
    "        (\"Yo creo que si\".split(), \"SPANISH\"),\n",
    "        (\"it is lost on me\".split(), \"ENGLISH\")]\n",
    "\n",
    "word2idx = {}\n",
    "for sent, _ in data:\n",
    "    for word in sent:\n",
    "        if word not in word2idx:\n",
    "            word2idx[word] = len(word2idx)\n",
    "print(word2idx)\n",
    "\n",
    "label2idx = {\"SPANISH\": 0, \"ENGLISH\": 1}\n",
    "\n",
    "VOC_SIZE = len(word2idx)\n",
    "N_LABEL = len(label2idx)\n",
    "\n",
    "X = []\n",
    "y = []\n",
    "for sent, label in data:\n",
    "    # It would create double by default\n",
    "    vec = np.zeros(VOC_SIZE)\n",
    "    for word in sent:\n",
    "        vec[word2idx[word]] += 1\n",
    "    X.append(vec)\n",
    "    y.append(label2idx[label])\n",
    "\n",
    "# X -> torch.float32\n",
    "# y MUST BE torch.int64 (long tensor)\n",
    "X = torch.tensor(X, dtype=torch.float)\n",
    "y = torch.tensor(y, dtype=torch.long)\n",
    "print(X)\n",
    "print(y)"
   ]
  },
  {
   "cell_type": "code",
   "execution_count": 3,
   "metadata": {},
   "outputs": [],
   "source": [
    "class BoWClassifier(nn.Module):\n",
    "    def __init__(self, n_label, voc_size):\n",
    "        # All units with differentiable parameters should be included in __init__ function\n",
    "        # non-linearity function like tanh, ReLU and softmax without differentiable parameters\n",
    "        # could not be included in __init__ function\n",
    "        super(BoWClassifier, self).__init__()\n",
    "        self.linear = nn.Linear(voc_size, n_label)\n",
    "        \n",
    "    def forward(self, bow_vec):\n",
    "        return F.log_softmax(self.linear(bow_vec), dim=-1)"
   ]
  },
  {
   "cell_type": "code",
   "execution_count": 4,
   "metadata": {},
   "outputs": [
    {
     "output_type": "stream",
     "name": "stdout",
     "text": "Parameter containing:\ntensor([[ 0.0529, -0.0938,  0.0649,  0.0829,  0.0549, -0.1317, -0.0619, -0.1921,\n         -0.0792, -0.0732,  0.1279, -0.1948,  0.0977,  0.0807, -0.0855,  0.0725,\n          0.0597,  0.0027, -0.0096, -0.1503, -0.0733,  0.0118,  0.0766, -0.1453,\n         -0.1289,  0.1942],\n        [-0.0320, -0.0091,  0.1817,  0.1826, -0.1503,  0.1631,  0.1925,  0.0114,\n          0.0593,  0.0353,  0.1731, -0.1065, -0.0279, -0.0096, -0.1267, -0.0488,\n          0.0112,  0.1951, -0.1623, -0.0844,  0.1522,  0.1213, -0.1682,  0.1633,\n          0.1182, -0.0768]], requires_grad=True)\nParameter containing:\ntensor([0.1168, 0.0356], requires_grad=True)\ntensor([-0.8117, -0.5872], grad_fn=<LogSoftmaxBackward>)\ntorch.Size([2])\n"
    }
   ],
   "source": [
    "model = BoWClassifier(N_LABEL, VOC_SIZE)\n",
    "\n",
    "for param in model.parameters():\n",
    "    print(param)\n",
    "\n",
    "bow_vec = X[0]\n",
    "log_probs = model(bow_vec)\n",
    "print(log_probs)\n",
    "print(log_probs.size())"
   ]
  },
  {
   "cell_type": "code",
   "execution_count": 5,
   "metadata": {},
   "outputs": [
    {
     "output_type": "stream",
     "name": "stdout",
     "text": "tensor([-1.0427, -0.4346], grad_fn=<LogSoftmaxBackward>) tensor(0)\ntensor([-0.6106, -0.7832], grad_fn=<LogSoftmaxBackward>) tensor(1)\ntensor([0.1279, 0.1731], grad_fn=<SelectBackward>)\n"
    }
   ],
   "source": [
    "train_X, test_X = X[:4], X[4:]\n",
    "train_y, test_y = y[:4], y[4:]\n",
    "\n",
    "# Prediction result before training. \n",
    "for bow_vec, label in zip(test_X, test_y):\n",
    "    log_probs = model(bow_vec)\n",
    "    print(log_probs, label)\n",
    "\n",
    "# The weight vector for specific word\n",
    "# The weight vector works like an embedding vector, mapping a word (i.e., one-hot embedding vector) \n",
    "# to a dense vector, except for the bias. \n",
    "print(model.linear.weight[:, word2idx['creo']])"
   ]
  },
  {
   "cell_type": "code",
   "execution_count": 6,
   "metadata": {},
   "outputs": [
    {
     "output_type": "stream",
     "name": "stdout",
     "text": "10 0.3749711625277996\n20 0.18750330992043018\n30 0.12462067138403654\n40 0.09322894643992186\n50 0.07443659007549286\n60 0.061934396624565125\n70 0.05302054854109883\n80 0.04634522134438157\n90 0.04116053646430373\n100 0.037017352879047394\n"
    }
   ],
   "source": [
    "# Training\n",
    "# Negative log-likelihood\n",
    "loss_func = nn.NLLLoss()\n",
    "optimizer = optim.SGD(model.parameters(), lr=0.1)\n",
    "\n",
    "for epoch in range(100):\n",
    "    running_loss = 0.0\n",
    "    for bow_vec, label in zip(train_X, train_y):\n",
    "        # log_probs MUST BE a matrix to enter the loss function\n",
    "        # use view-function to reshape!!\n",
    "        log_probs = model(bow_vec.view(1, -1))\n",
    "        \n",
    "        # log_probs -> matrix\n",
    "        # label -> vector\n",
    "        loss = loss_func(log_probs, label.view(1))\n",
    "        running_loss += loss.item()\n",
    "\n",
    "        # Backward propagation\n",
    "        model.zero_grad()\n",
    "        loss.backward()\n",
    "        optimizer.step()\n",
    "    \n",
    "    if (epoch + 1) % 10 == 0:\n",
    "            print(epoch + 1, running_loss)"
   ]
  },
  {
   "cell_type": "code",
   "execution_count": 7,
   "metadata": {},
   "outputs": [
    {
     "output_type": "stream",
     "name": "stdout",
     "text": "tensor([-0.2483, -1.5146], grad_fn=<LogSoftmaxBackward>) tensor(0)\ntensor([-2.2676, -0.1093], grad_fn=<LogSoftmaxBackward>) tensor(1)\ntensor([ 0.5366, -0.2356], grad_fn=<SelectBackward>)\n"
    }
   ],
   "source": [
    "# Prediction result after training. \n",
    "for bow_vec, label in zip(test_X, test_y):\n",
    "    log_probs = model(bow_vec)\n",
    "    print(log_probs, label)\n",
    "\n",
    "# The weight vector for specific word\n",
    "# The weight vector works like an embedding vector, mapping a word (i.e., one-hot embedding vector) \n",
    "# to a dense vector, except for the bias. \n",
    "print(model.linear.weight[:, word2idx['creo']])"
   ]
  },
  {
   "cell_type": "markdown",
   "metadata": {
    "collapsed": true
   },
   "source": [
    "# Dense Embeddings\n",
    "Encode semantic similarity in words. "
   ]
  },
  {
   "cell_type": "code",
   "execution_count": 8,
   "metadata": {},
   "outputs": [
    {
     "output_type": "stream",
     "name": "stdout",
     "text": "Parameter containing:\ntensor([[-0.4127,  0.6977, -2.0971,  1.0450,  0.8259],\n        [-0.1653,  0.5448, -0.3342,  2.5330, -0.9653]], requires_grad=True)\ntensor([-0.4127,  0.6977, -2.0971,  1.0450,  0.8259],\n       grad_fn=<EmbeddingBackward>)\n"
    }
   ],
   "source": [
    "word2idx = {'hello': 0, 'world': 1}\n",
    "emb = nn.Embedding(2, 5)\n",
    "print(emb.weight)\n",
    "\n",
    "# Indexing-input MUST BE torch.long/torch.int64\n",
    "t = torch.tensor(word2idx['hello'], dtype=torch.long)\n",
    "t_emb = emb(t)\n",
    "print(t_emb)"
   ]
  },
  {
   "cell_type": "code",
   "execution_count": 9,
   "metadata": {},
   "outputs": [
    {
     "output_type": "execute_result",
     "data": {
      "text/plain": "tensor([[-0.4127,  0.6977, -2.0971,  1.0450,  0.8259],\n        [-0.1653,  0.5448, -0.3342,  2.5330, -0.9653],\n        [-0.4127,  0.6977, -2.0971,  1.0450,  0.8259]],\n       grad_fn=<EmbeddingBackward>)"
     },
     "metadata": {},
     "execution_count": 9
    }
   ],
   "source": [
    "# Input as a sequence\n",
    "idx_seq = torch.tensor([0, 1, 0], dtype=torch.long)\n",
    "embedded = emb(idx_seq)\n",
    "embedded"
   ]
  },
  {
   "cell_type": "code",
   "execution_count": 10,
   "metadata": {},
   "outputs": [
    {
     "output_type": "execute_result",
     "data": {
      "text/plain": "tensor([[[-0.4127,  0.6977, -2.0971,  1.0450,  0.8259],\n         [-0.1653,  0.5448, -0.3342,  2.5330, -0.9653]],\n\n        [[-0.1653,  0.5448, -0.3342,  2.5330, -0.9653],\n         [-0.1653,  0.5448, -0.3342,  2.5330, -0.9653]],\n\n        [[-0.4127,  0.6977, -2.0971,  1.0450,  0.8259],\n         [-0.4127,  0.6977, -2.0971,  1.0450,  0.8259]]],\n       grad_fn=<EmbeddingBackward>)"
     },
     "metadata": {},
     "execution_count": 10
    }
   ],
   "source": [
    "# Input as a minibatch of sequences\n",
    "idx_seq_batch = torch.tensor([[0, 1], [1, 1], [0, 0]], dtype=torch.long)\n",
    "embedded = emb(idx_seq_batch)\n",
    "embedded"
   ]
  },
  {
   "cell_type": "markdown",
   "metadata": {},
   "source": [
    "# Training Embeddings: N-Gram Model \n",
    "In an n-gram language model, given a sequence of words $w$, we want to compute  \n",
    "$$\n",
    "P \\left( w_{i} \\left| w_{i-1}, w_{i-2}, ..., w_{i-n+1} \\right. \\right)  \n",
    "$$  \n",
    "where $w_{i}$ is the i-th word of the sequence.  "
   ]
  },
  {
   "cell_type": "code",
   "execution_count": 11,
   "metadata": {},
   "outputs": [
    {
     "output_type": "stream",
     "name": "stdout",
     "text": "[(['When', 'forty'], 'winters'), (['forty', 'winters'], 'shall'), (['winters', 'shall'], 'besiege')]\n"
    }
   ],
   "source": [
    "# Use TWO words to predict next word\n",
    "CONTEXT_SIZE = 2\n",
    "EMB_DIM = 10\n",
    "\n",
    "# We will use Shakespeare Sonnet 2\n",
    "test_sentence = \"\"\"When forty winters shall besiege thy brow,\n",
    "And dig deep trenches in thy beauty's field,\n",
    "Thy youth's proud livery so gazed on now,\n",
    "Will be a totter'd weed of small worth held:\n",
    "Then being asked, where all thy beauty lies,\n",
    "Where all the treasure of thy lusty days;\n",
    "To say, within thine own deep sunken eyes,\n",
    "Were an all-eating shame, and thriftless praise.\n",
    "How much more praise deserv'd thy beauty's use,\n",
    "If thou couldst answer 'This fair child of mine\n",
    "Shall sum my count, and make my old excuse,'\n",
    "Proving his beauty by succession thine!\n",
    "This were to be new made when thou art old,\n",
    "And see thy blood warm when thou feel'st it cold.\"\"\".split()\n",
    "\n",
    "trigrams = [([test_sentence[i], test_sentence[i + 1]], test_sentence[i + 2])\n",
    "            for i in range(len(test_sentence) - 2)]\n",
    "print(trigrams[:3])\n",
    "\n",
    "voc = set(test_sentence)\n",
    "word2idx = {word: i for i, word in enumerate(voc)}\n",
    "VOC_SIZE = len(voc)"
   ]
  },
  {
   "cell_type": "code",
   "execution_count": 12,
   "metadata": {},
   "outputs": [],
   "source": [
    "class NGramModel(nn.Module):\n",
    "    def __init__(self, voc_size, emb_dim, context_size):\n",
    "        super(NGramModel, self).__init__()\n",
    "        self.emb = nn.Embedding(voc_size, emb_dim)\n",
    "        self.fc1 = nn.Linear(context_size*emb_dim, 128)\n",
    "        self.fc2 = nn.Linear(128, voc_size)\n",
    "        \n",
    "    def forward(self, ins):\n",
    "        # ins include several words (N=context_size)\n",
    "        # self.emb(ins) -> (context_size, emb_dim)\n",
    "        # self.emb(ins).view((1, -1)) -> (1, context_size*emb_dim)\n",
    "        emb_ins = self.emb(ins).view((1, -1))\n",
    "        outs = F.relu(self.fc1(emb_ins))\n",
    "        outs = self.fc2(outs)\n",
    "        log_probs = F.log_softmax(outs, dim=-1)\n",
    "        return log_probs"
   ]
  },
  {
   "cell_type": "code",
   "execution_count": 13,
   "metadata": {},
   "outputs": [
    {
     "output_type": "stream",
     "name": "stdout",
     "text": "0 519.4025988578796\n1 517.1042060852051\n2 514.8177926540375\n3 512.5443403720856\n4 510.2832283973694\n5 508.03224205970764\n6 505.7923231124878\n7 503.5623707771301\n8 501.3421595096588\n9 499.13040494918823\n"
    }
   ],
   "source": [
    "loss_func = nn.NLLLoss()\n",
    "model = NGramModel(VOC_SIZE, EMB_DIM, CONTEXT_SIZE)\n",
    "optimizer = optim.SGD(model.parameters(), lr=0.001)\n",
    "\n",
    "for epoch in range(10):\n",
    "    total_loss = 0\n",
    "    for context, target in trigrams:\n",
    "        context_idxes = [word2idx[w] for w in context]\n",
    "        context_var = torch.tensor(context_idxes, dtype=torch.long)\n",
    "        target_var = torch.tensor([word2idx[target]], dtype=torch.long)\n",
    "        \n",
    "        model.zero_grad()\n",
    "        log_probs = model(context_var)\n",
    "        \n",
    "        # log_probs -> matrix\n",
    "        # target_var -> vector\n",
    "        loss = loss_func(log_probs, target_var)        \n",
    "        loss.backward()\n",
    "        optimizer.step()\n",
    "        \n",
    "        total_loss += loss.item()\n",
    "    \n",
    "    print(epoch, total_loss)"
   ]
  },
  {
   "cell_type": "markdown",
   "metadata": {},
   "source": [
    "# Computing Word Embeddings: Continuous Bag-of-Words\n",
    "In an continuous BOW model, given a sequence of words $w$, we want to compute  \n",
    "$$\n",
    "P \\left( w_{i} \\left| w_{i+n-1}, ..., w_{i+1}, w_{i-1}, ..., w_{i-n+1} \\right. \\right)  \n",
    "$$  \n",
    "where $w_{i}$ is the i-th word of the sequence.  "
   ]
  },
  {
   "cell_type": "code",
   "execution_count": 14,
   "metadata": {},
   "outputs": [
    {
     "output_type": "stream",
     "name": "stdout",
     "text": "[(['We', 'are', 'to', 'study'], 'about'), (['are', 'about', 'study', 'the'], 'to'), (['about', 'to', 'the', 'idea'], 'study')]\n"
    }
   ],
   "source": [
    "CONTEXT_SIZE = 2\n",
    "raw_text = \"\"\"We are about to study the idea of a computational process.\n",
    "Computational processes are abstract beings that inhabit computers.\n",
    "As they evolve, processes manipulate other abstract things called data.\n",
    "The evolution of a process is directed by a pattern of rules\n",
    "called a program. People create programs to direct processes. In effect,\n",
    "we conjure the spirits of the computer with our spells.\"\"\".split()\n",
    "\n",
    "voc = set(raw_text)\n",
    "VOC_SIZE = len(voc)\n",
    "word2idx = {word: i for i, word in enumerate(voc)}\n",
    "\n",
    "data = [([raw_text[i-2], raw_text[i-1], raw_text[i+1], raw_text[i+2]], raw_text[i]) for i in range(2, len(raw_text)-2)]\n",
    "print(data[:3])"
   ]
  },
  {
   "cell_type": "code",
   "execution_count": 15,
   "metadata": {},
   "outputs": [],
   "source": [
    "class CBOW(nn.Module):\n",
    "    def __init__(self, voc_size, emb_dim):\n",
    "        super(CBOW, self).__init__()\n",
    "        self.emb = nn.Embedding(voc_size, emb_dim)\n",
    "        self.fc = nn.Linear(emb_dim, voc_size)\n",
    "        \n",
    "    def forward(self, ins):\n",
    "        emb_ins = self.emb(ins)\n",
    "        outs = self.fc(emb_ins.sum(dim=0, keepdim=True))\n",
    "        log_probs = F.log_softmax(outs, dim=-1)\n",
    "        return log_probs"
   ]
  },
  {
   "cell_type": "code",
   "execution_count": 16,
   "metadata": {},
   "outputs": [
    {
     "output_type": "stream",
     "name": "stdout",
     "text": "0 250.46009397506714\n1 247.94269633293152\n2 245.45749354362488\n3 243.00389277935028\n4 240.58131992816925\n5 238.1892442703247\n6 235.82717967033386\n7 233.49463975429535\n8 231.191211104393\n9 228.91648137569427\n"
    }
   ],
   "source": [
    "loss_func = nn.NLLLoss()\n",
    "model = CBOW(VOC_SIZE, EMB_DIM)\n",
    "optimizer = optim.SGD(model.parameters(), lr=0.001)\n",
    "\n",
    "for epoch in range(10):\n",
    "    total_loss = 0\n",
    "    for context, target in data:\n",
    "        context_idxes = [word2idx[w] for w in context]\n",
    "        context_var = torch.tensor(context_idxes, dtype=torch.long)\n",
    "        target_var = torch.tensor([word2idx[target]], dtype=torch.long)\n",
    "        \n",
    "        model.zero_grad()\n",
    "        log_probs = model(context_var)\n",
    "        loss = loss_func(log_probs, target_var)\n",
    "        loss.backward()\n",
    "        optimizer.step()\n",
    "        \n",
    "        total_loss += loss.item()\n",
    "    print(epoch, total_loss)"
   ]
  },
  {
   "cell_type": "code",
   "execution_count": null,
   "metadata": {},
   "outputs": [],
   "source": []
  }
 ],
 "metadata": {
  "kernelspec": {
   "display_name": "Python 3",
   "language": "python",
   "name": "python3"
  },
  "language_info": {
   "codemirror_mode": {
    "name": "ipython",
    "version": 3
   },
   "file_extension": ".py",
   "mimetype": "text/x-python",
   "name": "python",
   "nbconvert_exporter": "python",
   "pygments_lexer": "ipython3",
   "version": "3.7.6-final"
  }
 },
 "nbformat": 4,
 "nbformat_minor": 2
}