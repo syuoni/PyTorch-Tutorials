{
 "cells": [
  {
   "cell_type": "code",
   "execution_count": 1,
   "metadata": {},
   "outputs": [],
   "source": [
    "import numpy as np\n",
    "import torch\n",
    "import torch.nn as nn\n",
    "import torch.nn.functional as F\n",
    "import torch.optim as optim"
   ]
  },
  {
   "cell_type": "markdown",
   "metadata": {},
   "source": [
    "# One-Hot Embeddings: Bag-of-Words Classifier"
   ]
  },
  {
   "cell_type": "code",
   "execution_count": 2,
   "metadata": {},
   "outputs": [
    {
     "output_type": "stream",
     "name": "stdout",
     "text": "{'me': 0, 'gusta': 1, 'comer': 2, 'en': 3, 'la': 4, 'cafeteria': 5, 'Give': 6, 'it': 7, 'to': 8, 'No': 9, 'creo': 10, 'que': 11, 'sea': 12, 'una': 13, 'buena': 14, 'idea': 15, 'is': 16, 'not': 17, 'a': 18, 'good': 19, 'get': 20, 'lost': 21, 'at': 22, 'Yo': 23, 'si': 24, 'on': 25}\ntensor([[1., 1., 1., 1., 1., 1., 0., 0., 0., 0., 0., 0., 0., 0., 0., 0., 0., 0.,\n         0., 0., 0., 0., 0., 0., 0., 0.],\n        [1., 0., 0., 0., 0., 0., 1., 1., 1., 0., 0., 0., 0., 0., 0., 0., 0., 0.,\n         0., 0., 0., 0., 0., 0., 0., 0.],\n        [0., 0., 0., 0., 0., 0., 0., 0., 0., 1., 1., 1., 1., 1., 1., 1., 0., 0.,\n         0., 0., 0., 0., 0., 0., 0., 0.],\n        [0., 0., 0., 0., 0., 0., 0., 1., 1., 1., 0., 0., 1., 0., 0., 1., 1., 1.,\n         1., 1., 1., 1., 1., 0., 0., 0.],\n        [0., 0., 0., 0., 0., 0., 0., 0., 0., 0., 1., 1., 0., 0., 0., 0., 0., 0.,\n         0., 0., 0., 0., 0., 1., 1., 0.],\n        [1., 0., 0., 0., 0., 0., 0., 1., 0., 0., 0., 0., 0., 0., 0., 0., 1., 0.,\n         0., 0., 0., 1., 0., 0., 0., 1.]])\ntensor([0, 1, 0, 1, 0, 1])\n"
    }
   ],
   "source": [
    "data = [(\"me gusta comer en la cafeteria\".split(), \"SPANISH\"),\n",
    "        (\"Give it to me\".split(), \"ENGLISH\"),\n",
    "        (\"No creo que sea una buena idea\".split(), \"SPANISH\"),\n",
    "        (\"No it is not a good idea to get lost at sea\".split(), \"ENGLISH\"),\n",
    "        (\"Yo creo que si\".split(), \"SPANISH\"),\n",
    "        (\"it is lost on me\".split(), \"ENGLISH\")]\n",
    "\n",
    "word2idx = {}\n",
    "for sent, _ in data:\n",
    "    for word in sent:\n",
    "        if word not in word2idx:\n",
    "            word2idx[word] = len(word2idx)\n",
    "print(word2idx)\n",
    "\n",
    "label2idx = {\"SPANISH\": 0, \"ENGLISH\": 1}\n",
    "\n",
    "VOC_SIZE = len(word2idx)\n",
    "N_LABEL = len(label2idx)\n",
    "\n",
    "X = []\n",
    "y = []\n",
    "for sent, label in data:\n",
    "    # It would create double by default\n",
    "    vec = np.zeros(VOC_SIZE)\n",
    "    for word in sent:\n",
    "        vec[word2idx[word]] += 1\n",
    "    X.append(vec)\n",
    "    y.append(label2idx[label])\n",
    "\n",
    "# X -> torch.float32\n",
    "# y MUST BE torch.int64 (long tensor)\n",
    "X = torch.tensor(X, dtype=torch.float)\n",
    "y = torch.tensor(y, dtype=torch.long)\n",
    "print(X)\n",
    "print(y)"
   ]
  },
  {
   "cell_type": "code",
   "execution_count": 3,
   "metadata": {},
   "outputs": [],
   "source": [
    "class BoWClassifier(nn.Module):\n",
    "    def __init__(self, n_label, voc_size):\n",
    "        # All units with differentiable parameters should be included in __init__ function\n",
    "        # non-linearity function like tanh, ReLU and softmax without differentiable parameters\n",
    "        # could not be included in __init__ function\n",
    "        super(BoWClassifier, self).__init__()\n",
    "        self.linear = nn.Linear(voc_size, n_label)\n",
    "        \n",
    "    def forward(self, bow_vec):\n",
    "        return F.log_softmax(self.linear(bow_vec), dim=-1)"
   ]
  },
  {
   "cell_type": "code",
   "execution_count": 4,
   "metadata": {},
   "outputs": [
    {
     "output_type": "stream",
     "name": "stdout",
     "text": "Parameter containing:\ntensor([[ 0.0319, -0.0179, -0.0375,  0.1074,  0.0662,  0.1006, -0.0383, -0.1187,\n          0.0301, -0.1874, -0.1899,  0.0124,  0.1544, -0.0285,  0.0959,  0.0439,\n          0.1780,  0.0186,  0.0330,  0.0482, -0.1069,  0.0919, -0.1699,  0.0348,\n          0.1165,  0.1579],\n        [ 0.1032, -0.0515,  0.0229,  0.1484,  0.1949, -0.1490, -0.0033,  0.0697,\n          0.1015, -0.0685, -0.1354,  0.1873,  0.1753,  0.1079, -0.1126,  0.1947,\n         -0.0516, -0.0145,  0.1332,  0.1120,  0.0430, -0.1163,  0.0631,  0.1459,\n          0.1297,  0.1406]], requires_grad=True)\nParameter containing:\ntensor([ 0.1577, -0.1602], requires_grad=True)\ntensor([-0.5544, -0.8543], grad_fn=<LogSoftmaxBackward>)\ntorch.Size([2])\n"
    }
   ],
   "source": [
    "model = BoWClassifier(N_LABEL, VOC_SIZE)\n",
    "\n",
    "for param in model.parameters():\n",
    "    print(param)\n",
    "\n",
    "bow_vec = X[0]\n",
    "log_probs = model(bow_vec)\n",
    "print(log_probs)\n",
    "print(log_probs.size())"
   ]
  },
  {
   "cell_type": "code",
   "execution_count": 5,
   "metadata": {},
   "outputs": [
    {
     "output_type": "stream",
     "name": "stdout",
     "text": "tensor([-0.7112, -0.6755], grad_fn=<LogSoftmaxBackward>) tensor(0)\ntensor([-0.4691, -0.9824], grad_fn=<LogSoftmaxBackward>) tensor(1)\ntensor([-0.1899, -0.1354], grad_fn=<SelectBackward>)\n"
    }
   ],
   "source": [
    "train_X, test_X = X[:4], X[4:]\n",
    "train_y, test_y = y[:4], y[4:]\n",
    "\n",
    "# Prediction result before training. \n",
    "for bow_vec, label in zip(test_X, test_y):\n",
    "    log_probs = model(bow_vec)\n",
    "    print(log_probs, label)\n",
    "\n",
    "# The weight vector for specific word\n",
    "# The weight vector works like an embedding vector, mapping a word (i.e., one-hot embedding vector) \n",
    "# to a dense vector, except for the bias. \n",
    "print(model.linear.weight[:, word2idx['creo']])"
   ]
  },
  {
   "cell_type": "code",
   "execution_count": 6,
   "metadata": {},
   "outputs": [
    {
     "output_type": "stream",
     "name": "stdout",
     "text": "10 0.38178349286317825\n200.18935478664934635\n30 0.12546012550592422\n40 0.09370490722358227\n50 0.07474238239228725\n60 0.06214729091152549\n70 0.05317725474014878\n80 0.046465481631457806\n90 0.04125553090125322\n100 0.03709437372162938\n"
    }
   ],
   "source": [
    "# Training\n",
    "# Negative log-likelihood\n",
    "loss_func = nn.NLLLoss()\n",
    "optimizer = optim.SGD(model.parameters(), lr=0.1)\n",
    "\n",
    "for epoch in range(100):\n",
    "    running_loss = 0.0\n",
    "    for bow_vec, label in zip(train_X, train_y):\n",
    "        # log_probs MUST BE a matrix to enter the loss function\n",
    "        # use view-function to reshape!!\n",
    "        log_probs = model(bow_vec.view(1, -1))\n",
    "        \n",
    "        # log_probs -> matrix\n",
    "        # label -> vector\n",
    "        loss = loss_func(log_probs, label.view(1))\n",
    "        running_loss += loss.item()\n",
    "\n",
    "        # Backward propagation\n",
    "        model.zero_grad()\n",
    "        loss.backward()\n",
    "        optimizer.step()\n",
    "    \n",
    "    if (epoch + 1) % 10 == 0:\n",
    "            print(epoch + 1, running_loss)"
   ]
  },
  {
   "cell_type": "code",
   "execution_count": 7,
   "metadata": {},
   "outputs": [
    {
     "output_type": "stream",
     "name": "stdout",
     "text": "tensor([-0.1414, -2.0263], grad_fn=<LogSoftmaxBackward>) tensor(0)\ntensor([-2.1827, -0.1196], grad_fn=<LogSoftmaxBackward>) tensor(1)\ntensor([ 0.2472, -0.5726], grad_fn=<SelectBackward>)\n"
    }
   ],
   "source": [
    "# Prediction result after training. \n",
    "for bow_vec, label in zip(test_X, test_y):\n",
    "    log_probs = model(bow_vec)\n",
    "    print(log_probs, label)\n",
    "\n",
    "# The weight vector for specific word\n",
    "# The weight vector works like an embedding vector, mapping a word (i.e., one-hot embedding vector) \n",
    "# to a dense vector, except for the bias. \n",
    "print(model.linear.weight[:, word2idx['creo']])"
   ]
  },
  {
   "cell_type": "markdown",
   "metadata": {
    "collapsed": true
   },
   "source": [
    "# Dense Embeddings\n",
    "## `nn.Embedding`\n",
    "Encode semantics in words. "
   ]
  },
  {
   "cell_type": "code",
   "execution_count": 8,
   "metadata": {},
   "outputs": [
    {
     "output_type": "execute_result",
     "data": {
      "text/plain": "Parameter containing:\ntensor([[ 0.2702, -1.3375,  0.3695,  0.0582],\n        [ 0.3289, -1.0839,  1.0494, -0.4954],\n        [-1.2038, -0.4306, -0.9760, -0.6266],\n        [ 0.7669,  0.7873,  0.3577, -0.7754],\n        [ 0.1783, -2.0435,  0.9216, -0.0520]], requires_grad=True)"
     },
     "metadata": {},
     "execution_count": 8
    }
   ],
   "source": [
    "word2idx = {'hello': 0, \n",
    "            'world': 1, \n",
    "            'i': 2, \n",
    "            'am': 3, \n",
    "            'syuoni': 4}\n",
    "# 5 vocabulary size, 4 embedding size. \n",
    "emb = nn.Embedding(5, 4)\n",
    "emb.weight"
   ]
  },
  {
   "cell_type": "code",
   "execution_count": 9,
   "metadata": {},
   "outputs": [
    {
     "output_type": "execute_result",
     "data": {
      "text/plain": "tensor([ 0.2702, -1.3375,  0.3695,  0.0582], grad_fn=<EmbeddingBackward>)"
     },
     "metadata": {},
     "execution_count": 9
    }
   ],
   "source": [
    "# Indexing-input MUST BE torch.long/torch.int64\n",
    "t = torch.tensor(word2idx['hello'], dtype=torch.long)\n",
    "t_emb = emb(t)\n",
    "t_emb"
   ]
  },
  {
   "cell_type": "code",
   "execution_count": 10,
   "metadata": {},
   "outputs": [
    {
     "output_type": "execute_result",
     "data": {
      "text/plain": "tensor([[ 0.2702, -1.3375,  0.3695,  0.0582],\n        [ 0.3289, -1.0839,  1.0494, -0.4954]], grad_fn=<EmbeddingBackward>)"
     },
     "metadata": {},
     "execution_count": 10
    }
   ],
   "source": [
    "# Input as a sequence\n",
    "idx_seq = torch.tensor([word2idx[w] for w in \"hello world\".split()], dtype=torch.long)\n",
    "embedded = emb(idx_seq)\n",
    "embedded"
   ]
  },
  {
   "cell_type": "code",
   "execution_count": 11,
   "metadata": {},
   "outputs": [
    {
     "output_type": "execute_result",
     "data": {
      "text/plain": "tensor([[[ 0.2702, -1.3375,  0.3695,  0.0582],\n         [ 0.3289, -1.0839,  1.0494, -0.4954]],\n\n        [[-1.2038, -0.4306, -0.9760, -0.6266],\n         [ 0.7669,  0.7873,  0.3577, -0.7754]],\n\n        [[ 0.7669,  0.7873,  0.3577, -0.7754],\n         [ 0.1783, -2.0435,  0.9216, -0.0520]]], grad_fn=<EmbeddingBackward>)"
     },
     "metadata": {},
     "execution_count": 11
    }
   ],
   "source": [
    "# Input as a minibatch of sequences\n",
    "idx_seq_batch = torch.tensor([[0, 1], \n",
    "                              [2, 3], \n",
    "                              [3, 4]], dtype=torch.long)\n",
    "embedded = emb(idx_seq_batch)\n",
    "embedded"
   ]
  },
  {
   "cell_type": "markdown",
   "metadata": {},
   "source": [
    "## `nn.EmbeddingBag`\n",
    "Equivalent to `torch.nn.Embedding` followed by `torch.sum(dim=0)` / `torch.mean(dim=0)` / `torch.max(dim=0)`."
   ]
  },
  {
   "cell_type": "code",
   "execution_count": 12,
   "metadata": {},
   "outputs": [
    {
     "output_type": "execute_result",
     "data": {
      "text/plain": "Parameter containing:\ntensor([[-1.0847e+00, -5.3809e-01, -7.9392e-01,  6.9129e-01],\n        [ 5.7604e-02,  8.9597e-01,  1.9440e+00, -3.6877e-01],\n        [ 6.4747e-01,  7.2291e-01,  2.6080e-01, -9.6123e-01],\n        [ 2.7295e-02, -1.5850e+00,  1.2183e+00, -6.5733e-01],\n        [ 4.8205e-04, -2.5908e-01, -2.0872e+00, -1.1491e+00]],\n       requires_grad=True)"
     },
     "metadata": {},
     "execution_count": 12
    }
   ],
   "source": [
    "# 5 vocabulary size, 4 embedding size. \n",
    "emb_sum = nn.EmbeddingBag(5, 4, mode='sum')\n",
    "emb_sum.weight"
   ]
  },
  {
   "cell_type": "code",
   "execution_count": 13,
   "metadata": {},
   "outputs": [
    {
     "output_type": "stream",
     "name": "stdout",
     "text": "tensor([[-1.0271,  0.3579,  1.1501,  0.3225],\n        [ 0.6752, -1.1212, -0.6080, -2.7676]], grad_fn=<EmbeddingBagBackward>)\ntensor([-1.0271,  0.3579,  1.1501,  0.3225], grad_fn=<SumBackward1>)\ntensor([ 0.6752, -1.1212, -0.6080, -2.7676], grad_fn=<SumBackward1>)\n"
    }
   ],
   "source": [
    "# The input sequence is viewed as packed / concatenated from multiple individual sequences. \n",
    "# The offsets indicates the starting indexes of individual sequences. \n",
    "idx_seq = torch.tensor([word2idx[w] for w in \"hello world i am syuoni\".split()], dtype=torch.long)\n",
    "offsets = torch.tensor([0, 2], dtype=torch.long)\n",
    "embedded = emb_sum(idx_seq, offsets)\n",
    "print(embedded)\n",
    "\n",
    "print(emb_sum.weight[0:2].sum(dim=0))\n",
    "print(emb_sum.weight[2:5].sum(dim=0))"
   ]
  },
  {
   "cell_type": "code",
   "execution_count": 14,
   "metadata": {},
   "outputs": [
    {
     "output_type": "execute_result",
     "data": {
      "text/plain": "tensor([[-1.0271,  0.3579,  1.1501,  0.3225],\n        [ 0.6748, -0.8621,  1.4791, -1.6186],\n        [ 0.0278, -1.8441, -0.8688, -1.8064]], grad_fn=<EmbeddingBagBackward>)"
     },
     "metadata": {},
     "execution_count": 14
    }
   ],
   "source": [
    "# Input as a minibatch of sequences\n",
    "idx_seq_batch = torch.tensor([[0, 1], \n",
    "                              [2, 3], \n",
    "                              [3, 4]], dtype=torch.long)\n",
    "embedded = emb_sum(idx_seq_batch)\n",
    "embedded"
   ]
  },
  {
   "cell_type": "markdown",
   "metadata": {},
   "source": [
    "# Training Embeddings: N-Gram Model \n",
    "In an n-gram language model, given a sequence of words $w$, we want to compute  \n",
    "$$\n",
    "P \\left( w_{i} \\left| w_{i-1}, w_{i-2}, ..., w_{i-n+1} \\right. \\right)  \n",
    "$$  \n",
    "where $w_{i}$ is the i-th word of the sequence.  "
   ]
  },
  {
   "cell_type": "code",
   "execution_count": 15,
   "metadata": {},
   "outputs": [
    {
     "output_type": "stream",
     "name": "stdout",
     "text": "[(['When', 'forty'], 'winters'), (['forty', 'winters'], 'shall'), (['winters', 'shall'], 'besiege')]\n"
    }
   ],
   "source": [
    "# Use TWO words to predict next word\n",
    "CONTEXT_SIZE = 2\n",
    "EMB_DIM = 10\n",
    "\n",
    "# We will use Shakespeare Sonnet 2\n",
    "test_sentence = \"\"\"When forty winters shall besiege thy brow,\n",
    "And dig deep trenches in thy beauty's field,\n",
    "Thy youth's proud livery so gazed on now,\n",
    "Will be a totter'd weed of small worth held:\n",
    "Then being asked, where all thy beauty lies,\n",
    "Where all the treasure of thy lusty days;\n",
    "To say, within thine own deep sunken eyes,\n",
    "Were an all-eating shame, and thriftless praise.\n",
    "How much more praise deserv'd thy beauty's use,\n",
    "If thou couldst answer 'This fair child of mine\n",
    "Shall sum my count, and make my old excuse,'\n",
    "Proving his beauty by succession thine!\n",
    "This were to be new made when thou art old,\n",
    "And see thy blood warm when thou feel'st it cold.\"\"\".split()\n",
    "\n",
    "trigrams = [([test_sentence[i], test_sentence[i + 1]], test_sentence[i + 2])\n",
    "            for i in range(len(test_sentence) - 2)]\n",
    "print(trigrams[:3])\n",
    "\n",
    "voc = set(test_sentence)\n",
    "word2idx = {word: i for i, word in enumerate(voc)}\n",
    "VOC_SIZE = len(voc)"
   ]
  },
  {
   "cell_type": "code",
   "execution_count": 16,
   "metadata": {},
   "outputs": [],
   "source": [
    "class NGramModel(nn.Module):\n",
    "    def __init__(self, voc_size, emb_dim, context_size):\n",
    "        super(NGramModel, self).__init__()\n",
    "        self.emb = nn.Embedding(voc_size, emb_dim)\n",
    "        self.fc1 = nn.Linear(context_size*emb_dim, 128)\n",
    "        self.fc2 = nn.Linear(128, voc_size)\n",
    "        \n",
    "    def forward(self, ins):\n",
    "        # ins include several words (N=context_size)\n",
    "        # self.emb(ins) -> (context_size, emb_dim)\n",
    "        # self.emb(ins).view((1, -1)) -> (1, context_size*emb_dim)\n",
    "        emb_ins = self.emb(ins).view((1, -1))\n",
    "        outs = F.relu(self.fc1(emb_ins))\n",
    "        outs = self.fc2(outs)\n",
    "        log_probs = F.log_softmax(outs, dim=-1)\n",
    "        return log_probs"
   ]
  },
  {
   "cell_type": "code",
   "execution_count": 17,
   "metadata": {},
   "outputs": [
    {
     "output_type": "stream",
     "name": "stdout",
     "text": "0 523.3301439285278\n1 521.2640182971954\n2 519.2101652622223\n3 517.1685211658478\n4 515.1380250453949\n5 513.1179633140564\n6 511.1087770462036\n7 509.108384847641\n8 507.11737871170044\n9 505.135014295578\n"
    }
   ],
   "source": [
    "loss_func = nn.NLLLoss()\n",
    "model = NGramModel(VOC_SIZE, EMB_DIM, CONTEXT_SIZE)\n",
    "optimizer = optim.SGD(model.parameters(), lr=0.001)\n",
    "\n",
    "for epoch in range(10):\n",
    "    total_loss = 0\n",
    "    for context, target in trigrams:\n",
    "        context_idxes = [word2idx[w] for w in context]\n",
    "        context_var = torch.tensor(context_idxes, dtype=torch.long)\n",
    "        target_var = torch.tensor([word2idx[target]], dtype=torch.long)\n",
    "        \n",
    "        model.zero_grad()\n",
    "        log_probs = model(context_var)\n",
    "        \n",
    "        # log_probs -> matrix\n",
    "        # target_var -> vector\n",
    "        loss = loss_func(log_probs, target_var)        \n",
    "        loss.backward()\n",
    "        optimizer.step()\n",
    "        \n",
    "        total_loss += loss.item()\n",
    "    \n",
    "    print(epoch, total_loss)"
   ]
  },
  {
   "cell_type": "markdown",
   "metadata": {},
   "source": [
    "# Computing Word Embeddings: Continuous Bag-of-Words\n",
    "In an continuous BOW model, given a sequence of words $w$, we want to compute  \n",
    "$$\n",
    "P \\left( w_{i} \\left| w_{i+n-1}, ..., w_{i+1}, w_{i-1}, ..., w_{i-n+1} \\right. \\right)  \n",
    "$$  \n",
    "where $w_{i}$ is the i-th word of the sequence.  "
   ]
  },
  {
   "cell_type": "code",
   "execution_count": 18,
   "metadata": {},
   "outputs": [
    {
     "output_type": "stream",
     "name": "stdout",
     "text": "[(['We', 'are', 'to', 'study'], 'about'), (['are', 'about', 'study', 'the'], 'to'), (['about', 'to', 'the', 'idea'], 'study')]\n"
    }
   ],
   "source": [
    "CONTEXT_SIZE = 2\n",
    "raw_text = \"\"\"We are about to study the idea of a computational process.\n",
    "Computational processes are abstract beings that inhabit computers.\n",
    "As they evolve, processes manipulate other abstract things called data.\n",
    "The evolution of a process is directed by a pattern of rules\n",
    "called a program. People create programs to direct processes. In effect,\n",
    "we conjure the spirits of the computer with our spells.\"\"\".split()\n",
    "\n",
    "voc = set(raw_text)\n",
    "VOC_SIZE = len(voc)\n",
    "word2idx = {word: i for i, word in enumerate(voc)}\n",
    "\n",
    "data = [([raw_text[i-2], raw_text[i-1], raw_text[i+1], raw_text[i+2]], raw_text[i]) for i in range(2, len(raw_text)-2)]\n",
    "print(data[:3])"
   ]
  },
  {
   "cell_type": "code",
   "execution_count": 19,
   "metadata": {},
   "outputs": [],
   "source": [
    "class CBOW(nn.Module):\n",
    "    def __init__(self, voc_size, emb_dim):\n",
    "        super(CBOW, self).__init__()\n",
    "        self.emb = nn.Embedding(voc_size, emb_dim)\n",
    "        self.fc = nn.Linear(emb_dim, voc_size)\n",
    "        \n",
    "    def forward(self, ins):\n",
    "        emb_ins = self.emb(ins)\n",
    "        outs = self.fc(emb_ins.sum(dim=0, keepdim=True))\n",
    "        log_probs = F.log_softmax(outs, dim=-1)\n",
    "        return log_probs"
   ]
  },
  {
   "cell_type": "code",
   "execution_count": 20,
   "metadata": {},
   "outputs": [
    {
     "output_type": "stream",
     "name": "stdout",
     "text": "0 241.13269114494324\n1 238.55687272548676\n2 236.0288382768631\n3 233.5469708442688\n4 231.10988879203796\n5 228.71640646457672\n6 226.36551249027252\n7 224.05631721019745\n8 221.78803765773773\n9 219.55995047092438\n"
    }
   ],
   "source": [
    "loss_func = nn.NLLLoss()\n",
    "model = CBOW(VOC_SIZE, EMB_DIM)\n",
    "optimizer = optim.SGD(model.parameters(), lr=0.001)\n",
    "\n",
    "for epoch in range(10):\n",
    "    total_loss = 0\n",
    "    for context, target in data:\n",
    "        context_idxes = [word2idx[w] for w in context]\n",
    "        context_var = torch.tensor(context_idxes, dtype=torch.long)\n",
    "        target_var = torch.tensor([word2idx[target]], dtype=torch.long)\n",
    "        \n",
    "        model.zero_grad()\n",
    "        log_probs = model(context_var)\n",
    "        loss = loss_func(log_probs, target_var)\n",
    "        loss.backward()\n",
    "        optimizer.step()\n",
    "        \n",
    "        total_loss += loss.item()\n",
    "    print(epoch, total_loss)"
   ]
  },
  {
   "cell_type": "code",
   "execution_count": null,
   "metadata": {},
   "outputs": [],
   "source": []
  }
 ],
 "metadata": {
  "kernelspec": {
   "display_name": "Python 3",
   "language": "python",
   "name": "python3"
  },
  "language_info": {
   "codemirror_mode": {
    "name": "ipython",
    "version": 3
   },
   "file_extension": ".py",
   "mimetype": "text/x-python",
   "name": "python",
   "nbconvert_exporter": "python",
   "pygments_lexer": "ipython3",
   "version": "3.7.6-final"
  }
 },
 "nbformat": 4,
 "nbformat_minor": 2
}