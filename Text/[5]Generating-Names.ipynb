{
 "cells": [
  {
   "cell_type": "code",
   "execution_count": 1,
   "metadata": {},
   "outputs": [],
   "source": [
    "import numpy as np\n",
    "import torch\n",
    "import torch.nn as nn\n",
    "import torch.nn.functional as F\n",
    "import torch.optim as optim"
   ]
  },
  {
   "cell_type": "markdown",
   "metadata": {},
   "source": [
    "# Load Data"
   ]
  },
  {
   "cell_type": "code",
   "execution_count": 2,
   "metadata": {},
   "outputs": [
    {
     "output_type": "execute_result",
     "data": {
      "text/plain": "\"O'Neal\""
     },
     "metadata": {},
     "execution_count": 2
    }
   ],
   "source": [
    "import unicodedata\n",
    "import string\n",
    "import os\n",
    "import glob\n",
    "\n",
    "all_letters = string.ascii_letters + \" .,;'-\"\n",
    "# Plus EOS marker\n",
    "n_letters = len(all_letters) + 1\n",
    "\n",
    "def unicode2ascii(s):\n",
    "    \"\"\"\n",
    "    Mapping unicode characters to ascii characters. \n",
    "    \"\"\"\n",
    "    return ''.join([c for c in unicodedata.normalize('NFD', s) if unicodedata.category(c) != 'Mn' and c in all_letters])\n",
    "\n",
    "unicode2ascii(\"O'Néàl\")"
   ]
  },
  {
   "cell_type": "code",
   "execution_count": 3,
   "metadata": {},
   "outputs": [
    {
     "output_type": "stream",
     "name": "stdout",
     "text": "18\n['Arabic', 'Chinese', 'Czech', 'Dutch', 'English', 'French', 'German', 'Greek', 'Irish', 'Italian', 'Japanese', 'Korean', 'Polish', 'Portuguese', 'Russian', 'Scottish', 'Spanish', 'Vietnamese']\n"
    }
   ],
   "source": [
    "category_lines = {}\n",
    "all_categories = []\n",
    "for fn in glob.iglob('data/names/*.txt'):\n",
    "    category = os.path.basename(fn).replace('.txt', '')\n",
    "    all_categories.append(category)    \n",
    "    with open(fn, encoding='utf-8') as f:\n",
    "        category_lines[category] = [unicode2ascii(line) for line in f]\n",
    "    \n",
    "n_categories = len(all_categories)\n",
    "\n",
    "print(n_categories)\n",
    "print(all_categories)"
   ]
  },
  {
   "cell_type": "code",
   "execution_count": 4,
   "metadata": {},
   "outputs": [
    {
     "output_type": "execute_result",
     "data": {
      "text/plain": "tensor([[0., 1., 0., 0., 0., 0., 0., 0., 0., 0., 0., 0., 0., 0., 0., 0., 0., 0.]])"
     },
     "metadata": {},
     "execution_count": 4
    }
   ],
   "source": [
    "def category2tensor(category):\n",
    "    tensor = torch.zeros(1, n_categories)\n",
    "    tensor[0][all_categories.index(category)] = 1\n",
    "    return tensor\n",
    "\n",
    "category2tensor('Chinese')"
   ]
  },
  {
   "cell_type": "code",
   "execution_count": 5,
   "metadata": {},
   "outputs": [
    {
     "output_type": "execute_result",
     "data": {
      "text/plain": "tensor([[[0., 0., 0., 0., 0., 0., 0., 0., 0., 0., 0., 0., 0., 0., 0., 0., 0.,\n          0., 0., 0., 0., 0., 0., 0., 0., 0., 0., 0., 0., 0., 0., 0., 0., 0.,\n          0., 1., 0., 0., 0., 0., 0., 0., 0., 0., 0., 0., 0., 0., 0., 0., 0.,\n          0., 0., 0., 0., 0., 0., 0., 0.]],\n\n        [[0., 0., 0., 0., 0., 0., 0., 0., 0., 0., 0., 0., 0., 0., 1., 0., 0.,\n          0., 0., 0., 0., 0., 0., 0., 0., 0., 0., 0., 0., 0., 0., 0., 0., 0.,\n          0., 0., 0., 0., 0., 0., 0., 0., 0., 0., 0., 0., 0., 0., 0., 0., 0.,\n          0., 0., 0., 0., 0., 0., 0., 0.]],\n\n        [[0., 0., 0., 0., 0., 0., 0., 0., 0., 0., 0., 0., 0., 1., 0., 0., 0.,\n          0., 0., 0., 0., 0., 0., 0., 0., 0., 0., 0., 0., 0., 0., 0., 0., 0.,\n          0., 0., 0., 0., 0., 0., 0., 0., 0., 0., 0., 0., 0., 0., 0., 0., 0.,\n          0., 0., 0., 0., 0., 0., 0., 0.]],\n\n        [[0., 0., 0., 0., 1., 0., 0., 0., 0., 0., 0., 0., 0., 0., 0., 0., 0.,\n          0., 0., 0., 0., 0., 0., 0., 0., 0., 0., 0., 0., 0., 0., 0., 0., 0.,\n          0., 0., 0., 0., 0., 0., 0., 0., 0., 0., 0., 0., 0., 0., 0., 0., 0.,\n          0., 0., 0., 0., 0., 0., 0., 0.]],\n\n        [[0., 0., 0., 0., 0., 0., 0., 0., 0., 0., 0., 0., 0., 0., 0., 0., 0.,\n          0., 1., 0., 0., 0., 0., 0., 0., 0., 0., 0., 0., 0., 0., 0., 0., 0.,\n          0., 0., 0., 0., 0., 0., 0., 0., 0., 0., 0., 0., 0., 0., 0., 0., 0.,\n          0., 0., 0., 0., 0., 0., 0., 0.]]])"
     },
     "metadata": {},
     "execution_count": 5
    }
   ],
   "source": [
    "def line2input_tensor(line):\n",
    "    \"\"\"\n",
    "    Transforming a sentence to a <line length x 1 x n_letters> tensor of one-hot embeddings. \n",
    "    From the 1st to the last letter (NOT including EOS). \n",
    "    \"\"\"\n",
    "    tensor = torch.zeros(len(line), 1, n_letters)\n",
    "    for i, letter in enumerate(line):\n",
    "        tensor[i, 0, all_letters.index(letter)] = 1\n",
    "    return tensor\n",
    "\n",
    "line2input_tensor('Jones')"
   ]
  },
  {
   "cell_type": "code",
   "execution_count": 6,
   "metadata": {},
   "outputs": [
    {
     "output_type": "execute_result",
     "data": {
      "text/plain": "tensor([14, 13,  4, 18, 58])"
     },
     "metadata": {},
     "execution_count": 6
    }
   ],
   "source": [
    "def line2target_tensor(line):\n",
    "    \"\"\"\n",
    "    Transforming a sentence to a <line length> tensor of letter-indexes. \n",
    "    From the 2nd letter to the end (EOS). \n",
    "    \"\"\"\n",
    "    letter_indexes = [all_letters.index(letter) for letter in line[1:]]\n",
    "    letter_indexes.append(n_letters - 1) # EOS\n",
    "    return torch.tensor(letter_indexes)\n",
    "\n",
    "line2target_tensor('Jones')"
   ]
  },
  {
   "cell_type": "code",
   "execution_count": 7,
   "metadata": {},
   "outputs": [
    {
     "output_type": "execute_result",
     "data": {
      "text/plain": "('Chinese', 'Jiang')"
     },
     "metadata": {},
     "execution_count": 7
    }
   ],
   "source": [
    "def random_cate_name():\n",
    "    cate = np.random.choice(all_categories)\n",
    "    name = np.random.choice(category_lines[cate])\n",
    "    return cate, name\n",
    "\n",
    "random_cate_name()"
   ]
  },
  {
   "cell_type": "markdown",
   "metadata": {},
   "source": [
    "# Define Model"
   ]
  },
  {
   "cell_type": "code",
   "execution_count": 39,
   "metadata": {},
   "outputs": [],
   "source": [
    "class NameGenerator(nn.Module):\n",
    "    def __init__(self, in_size, hidden_size, out_size, n_categories):\n",
    "        super(NameGenerator, self).__init__()\n",
    "        self.hidden_out_size = hidden_size + out_size\n",
    "\n",
    "        # Slightly different from the specification in the tutorial, as \n",
    "        # the real hidden size is (hidden_size + out_size) here. \n",
    "        self.rnn = nn.RNN(n_categories + in_size, hidden_size + out_size)\n",
    "        self.fc = nn.Linear(hidden_size + out_size, out_size)\n",
    "        \n",
    "    def forward(self, cate_emb, name_emb):\n",
    "        \"\"\"\n",
    "        cate_emb: (1 * n_cate)\n",
    "        name_emb: (n_chars * 1 * n_letters)\n",
    "        \"\"\"\n",
    "        hidden_out0 = torch.zeros(1, 1, self.hidden_out_size)\n",
    "\n",
    "        # cate_name_emb: (n_chars * 1 * (n_cate + n_letters))\n",
    "        cate_name_emb = torch.cat([cate_emb.repeat([name_emb.size(0), 1, 1]), name_emb], dim=-1)\n",
    "        # hidden_outs: (n_chars * 1 * (n_hidden + n_letters))\n",
    "        hidden_outs, _ = self.rnn(cate_name_emb, hidden_out0)\n",
    "        # hidden_outs: (n_chars * (n_hidden + n_letters))\n",
    "        hidden_outs = hidden_outs.view(-1, self.hidden_out_size)\n",
    "        # outs: (n_chars * n_letters)\n",
    "        outs = self.fc(hidden_outs)\n",
    "        outs = F.dropout(outs, p=0.1)\n",
    "        return F.log_softmax(outs, dim=-1)\n",
    "\n",
    "    def generate(self, cate_emb, name_emb, n_letters, max_len=20):\n",
    "        \"\"\"\n",
    "        cate_emb: (1 * n_cate)\n",
    "        name_emb: (n_chars * 1 * n_letters)\n",
    "        \"\"\"\n",
    "        hidden_out0 = torch.zeros(1, 1, self.hidden_out_size)\n",
    "\n",
    "        # cate_name_emb: (n_chars * 1 * (n_cate + n_letters))\n",
    "        cate_name_emb = torch.cat([cate_emb.repeat([name_emb.size(0), 1, 1]), name_emb], dim=-1)\n",
    "        # hidden_outs: (n_chars * 1 * (n_hidden + n_letters))\n",
    "        # this_hidden_out: (1 * 1 * (n_hidden + n_letters))\n",
    "        hidden_outs, this_hidden_out = self.rnn(cate_name_emb, hidden_out0)\n",
    "\n",
    "        li_list = []\n",
    "        for i in range(max_len - hidden_outs.size(0)):\n",
    "            # this_out: (1 * n_letters)\n",
    "            this_out = self.fc(this_hidden_out.view(-1, self.hidden_out_size))\n",
    "            # torch.topk: The last dimension is chosen by default. \n",
    "            # torch.argmax: The argmax of the flattened input is returned by default. \n",
    "            _, next_li = F.log_softmax(this_out).topk(1)\n",
    "            next_li = next_li.item()\n",
    "            if next_li == n_letters-1:\n",
    "                break\n",
    "            \n",
    "            li_list.append(next_li)\n",
    "\n",
    "            next_l_emb = torch.zeros(1, 1, n_letters)\n",
    "            next_l_emb[0, 0, next_li] = 1\n",
    "            next_cate_l_emb = torch.cat([cate_emb.view(1, 1, -1), next_l_emb], dim=-1)\n",
    "            _, this_hidden_out = self.rnn(next_cate_l_emb, this_hidden_out)\n",
    "            \n",
    "        return li_list"
   ]
  },
  {
   "cell_type": "code",
   "execution_count": 40,
   "metadata": {},
   "outputs": [
    {
     "output_type": "stream",
     "name": "stdout",
     "text": "Dutch Klerk\n"
    },
    {
     "output_type": "execute_result",
     "data": {
      "text/plain": "torch.Size([5, 59])"
     },
     "metadata": {},
     "execution_count": 40
    }
   ],
   "source": [
    "n_hidden = 128\n",
    "NG = NameGenerator(n_letters, n_hidden, n_letters, n_categories)\n",
    "\n",
    "cate, name = random_cate_name()\n",
    "print(cate, name)\n",
    "\n",
    "cate_emb = category2tensor(cate)\n",
    "name_emb = line2input_tensor(name)\n",
    "scores = NG(cate_emb, name_emb)\n",
    "\n",
    "scores.size()"
   ]
  },
  {
   "cell_type": "code",
   "execution_count": 41,
   "metadata": {},
   "outputs": [
    {
     "output_type": "execute_result",
     "data": {
      "text/plain": "tensor(4.0986, grad_fn=<NllLossBackward>)"
     },
     "metadata": {},
     "execution_count": 41
    }
   ],
   "source": [
    "loss_func = nn.NLLLoss()\n",
    "\n",
    "target = line2target_tensor(name)\n",
    "loss_func(scores, target)"
   ]
  },
  {
   "cell_type": "code",
   "execution_count": 42,
   "metadata": {},
   "outputs": [
    {
     "output_type": "execute_result",
     "data": {
      "text/plain": "[35, 40, 46, 46, 46, 46, 46, 46, 46, 46, 46, 46, 46, 46, 46]"
     },
     "metadata": {},
     "execution_count": 42
    }
   ],
   "source": [
    "NG.generate(cate_emb, name_emb, n_letters)"
   ]
  },
  {
   "cell_type": "markdown",
   "metadata": {},
   "source": [
    "# Train Model"
   ]
  },
  {
   "cell_type": "code",
   "execution_count": 44,
   "metadata": {},
   "outputs": [],
   "source": [
    "import time\n",
    "import math\n",
    "\n",
    "def timeSince(since):\n",
    "    now = time.time()\n",
    "    s = now - since\n",
    "    m = math.floor(s / 60)\n",
    "    s -= m * 60\n",
    "    return '%dm %ds' % (m, s)"
   ]
  },
  {
   "cell_type": "code",
   "execution_count": 45,
   "metadata": {},
   "outputs": [
    {
     "output_type": "stream",
     "name": "stdout",
     "text": "0m 9s (5000 5%) 3.1076\n0m 19s (10000 10%) 3.1877\n0m 29s (15000 15%) 2.6953\n0m 39s (20000 20%) 3.4230\n0m 49s (25000 25%) 3.3033\n1m 0s (30000 30%) 1.9825\n1m 9s (35000 35%) 2.7649\n1m 19s (40000 40%) 2.7425\n1m 29s (45000 45%) 2.3277\n1m 39s (50000 50%) 2.7322\n1m 49s (55000 55%) 1.8641\n1m 59s (60000 60%) 2.0987\n2m 9s (65000 65%) 2.6070\n2m 19s (70000 70%) 2.6873\n2m 29s (75000 75%) 3.1220\n2m 39s (80000 80%) 2.5476\n2m 49s (85000 85%) 3.0527\n2m 58s (90000 90%) 3.0431\n3m 8s (95000 95%) 2.8926\n3m 18s (100000 100%) 2.5302\n"
    }
   ],
   "source": [
    "learning_rate = 0.0005\n",
    "optimizer = optim.SGD(NG.parameters(), lr=learning_rate)\n",
    "\n",
    "n_iters = 100000\n",
    "print_every = 5000\n",
    "plot_every = 500\n",
    "all_losses = []\n",
    "total_loss = 0 # Reset every plot_every iters\n",
    "\n",
    "start = time.time()\n",
    "\n",
    "for i in range(1, n_iters+1):\n",
    "    cate, name = random_cate_name()\n",
    "\n",
    "    # Forward pass\n",
    "    cate_emb = category2tensor(cate)\n",
    "    name_emb = line2input_tensor(name)\n",
    "    scores = NG(cate_emb, name_emb)\n",
    "\n",
    "    # Calculate loss\n",
    "    target = line2target_tensor(name)\n",
    "    loss = loss_func(scores, target)\n",
    "    total_loss += loss.item()\n",
    "\n",
    "    # Backward propagation\n",
    "    optimizer.zero_grad()\n",
    "    loss.backward()\n",
    "\n",
    "    # Update weights\n",
    "    optimizer.step()\n",
    "\n",
    "    if i % print_every == 0:\n",
    "        print('%s (%d %d%%) %.4f' % (timeSince(start), i, i / n_iters * 100, loss))\n",
    "\n",
    "    if i % plot_every == 0:\n",
    "        all_losses.append(total_loss / plot_every)\n",
    "        total_loss = 0"
   ]
  },
  {
   "cell_type": "code",
   "execution_count": 46,
   "metadata": {},
   "outputs": [
    {
     "output_type": "execute_result",
     "data": {
      "text/plain": "[<matplotlib.lines.Line2D at 0x227c51f3088>]"
     },
     "metadata": {},
     "execution_count": 46
    },
    {
     "output_type": "display_data",
     "data": {
      "text/plain": "<Figure size 432x288 with 1 Axes>",
      "image/svg+xml": "<?xml version=\"1.0\" encoding=\"utf-8\" standalone=\"no\"?>\r\n<!DOCTYPE svg PUBLIC \"-//W3C//DTD SVG 1.1//EN\"\r\n  \"http://www.w3.org/Graphics/SVG/1.1/DTD/svg11.dtd\">\r\n<!-- Created with matplotlib (https://matplotlib.org/) -->\r\n<svg height=\"248.518125pt\" version=\"1.1\" viewBox=\"0 0 372.103125 248.518125\" width=\"372.103125pt\" xmlns=\"http://www.w3.org/2000/svg\" xmlns:xlink=\"http://www.w3.org/1999/xlink\">\r\n <defs>\r\n  <style type=\"text/css\">\r\n*{stroke-linecap:butt;stroke-linejoin:round;}\r\n  </style>\r\n </defs>\r\n <g id=\"figure_1\">\r\n  <g id=\"patch_1\">\r\n   <path d=\"M 0 248.518125 \r\nL 372.103125 248.518125 \r\nL 372.103125 0 \r\nL 0 0 \r\nz\r\n\" style=\"fill:none;\"/>\r\n  </g>\r\n  <g id=\"axes_1\">\r\n   <g id=\"patch_2\">\r\n    <path d=\"M 30.103125 224.64 \r\nL 364.903125 224.64 \r\nL 364.903125 7.2 \r\nL 30.103125 7.2 \r\nz\r\n\" style=\"fill:#ffffff;\"/>\r\n   </g>\r\n   <g id=\"matplotlib.axis_1\">\r\n    <g id=\"xtick_1\">\r\n     <g id=\"line2d_1\">\r\n      <defs>\r\n       <path d=\"M 0 0 \r\nL 0 3.5 \r\n\" id=\"ma75b53838f\" style=\"stroke:#000000;stroke-width:0.8;\"/>\r\n      </defs>\r\n      <g>\r\n       <use style=\"stroke:#000000;stroke-width:0.8;\" x=\"45.321307\" xlink:href=\"#ma75b53838f\" y=\"224.64\"/>\r\n      </g>\r\n     </g>\r\n     <g id=\"text_1\">\r\n      <!-- 0 -->\r\n      <defs>\r\n       <path d=\"M 31.78125 66.40625 \r\nQ 24.171875 66.40625 20.328125 58.90625 \r\nQ 16.5 51.421875 16.5 36.375 \r\nQ 16.5 21.390625 20.328125 13.890625 \r\nQ 24.171875 6.390625 31.78125 6.390625 \r\nQ 39.453125 6.390625 43.28125 13.890625 \r\nQ 47.125 21.390625 47.125 36.375 \r\nQ 47.125 51.421875 43.28125 58.90625 \r\nQ 39.453125 66.40625 31.78125 66.40625 \r\nz\r\nM 31.78125 74.21875 \r\nQ 44.046875 74.21875 50.515625 64.515625 \r\nQ 56.984375 54.828125 56.984375 36.375 \r\nQ 56.984375 17.96875 50.515625 8.265625 \r\nQ 44.046875 -1.421875 31.78125 -1.421875 \r\nQ 19.53125 -1.421875 13.0625 8.265625 \r\nQ 6.59375 17.96875 6.59375 36.375 \r\nQ 6.59375 54.828125 13.0625 64.515625 \r\nQ 19.53125 74.21875 31.78125 74.21875 \r\nz\r\n\" id=\"DejaVuSans-48\"/>\r\n      </defs>\r\n      <g transform=\"translate(42.140057 239.238437)scale(0.1 -0.1)\">\r\n       <use xlink:href=\"#DejaVuSans-48\"/>\r\n      </g>\r\n     </g>\r\n    </g>\r\n    <g id=\"xtick_2\">\r\n     <g id=\"line2d_2\">\r\n      <g>\r\n       <use style=\"stroke:#000000;stroke-width:0.8;\" x=\"83.557945\" xlink:href=\"#ma75b53838f\" y=\"224.64\"/>\r\n      </g>\r\n     </g>\r\n     <g id=\"text_2\">\r\n      <!-- 25 -->\r\n      <defs>\r\n       <path d=\"M 19.1875 8.296875 \r\nL 53.609375 8.296875 \r\nL 53.609375 0 \r\nL 7.328125 0 \r\nL 7.328125 8.296875 \r\nQ 12.9375 14.109375 22.625 23.890625 \r\nQ 32.328125 33.6875 34.8125 36.53125 \r\nQ 39.546875 41.84375 41.421875 45.53125 \r\nQ 43.3125 49.21875 43.3125 52.78125 \r\nQ 43.3125 58.59375 39.234375 62.25 \r\nQ 35.15625 65.921875 28.609375 65.921875 \r\nQ 23.96875 65.921875 18.8125 64.3125 \r\nQ 13.671875 62.703125 7.8125 59.421875 \r\nL 7.8125 69.390625 \r\nQ 13.765625 71.78125 18.9375 73 \r\nQ 24.125 74.21875 28.421875 74.21875 \r\nQ 39.75 74.21875 46.484375 68.546875 \r\nQ 53.21875 62.890625 53.21875 53.421875 \r\nQ 53.21875 48.921875 51.53125 44.890625 \r\nQ 49.859375 40.875 45.40625 35.40625 \r\nQ 44.1875 33.984375 37.640625 27.21875 \r\nQ 31.109375 20.453125 19.1875 8.296875 \r\nz\r\n\" id=\"DejaVuSans-50\"/>\r\n       <path d=\"M 10.796875 72.90625 \r\nL 49.515625 72.90625 \r\nL 49.515625 64.59375 \r\nL 19.828125 64.59375 \r\nL 19.828125 46.734375 \r\nQ 21.96875 47.46875 24.109375 47.828125 \r\nQ 26.265625 48.1875 28.421875 48.1875 \r\nQ 40.625 48.1875 47.75 41.5 \r\nQ 54.890625 34.8125 54.890625 23.390625 \r\nQ 54.890625 11.625 47.5625 5.09375 \r\nQ 40.234375 -1.421875 26.90625 -1.421875 \r\nQ 22.3125 -1.421875 17.546875 -0.640625 \r\nQ 12.796875 0.140625 7.71875 1.703125 \r\nL 7.71875 11.625 \r\nQ 12.109375 9.234375 16.796875 8.0625 \r\nQ 21.484375 6.890625 26.703125 6.890625 \r\nQ 35.15625 6.890625 40.078125 11.328125 \r\nQ 45.015625 15.765625 45.015625 23.390625 \r\nQ 45.015625 31 40.078125 35.4375 \r\nQ 35.15625 39.890625 26.703125 39.890625 \r\nQ 22.75 39.890625 18.8125 39.015625 \r\nQ 14.890625 38.140625 10.796875 36.28125 \r\nz\r\n\" id=\"DejaVuSans-53\"/>\r\n      </defs>\r\n      <g transform=\"translate(77.195445 239.238437)scale(0.1 -0.1)\">\r\n       <use xlink:href=\"#DejaVuSans-50\"/>\r\n       <use x=\"63.623047\" xlink:href=\"#DejaVuSans-53\"/>\r\n      </g>\r\n     </g>\r\n    </g>\r\n    <g id=\"xtick_3\">\r\n     <g id=\"line2d_3\">\r\n      <g>\r\n       <use style=\"stroke:#000000;stroke-width:0.8;\" x=\"121.794582\" xlink:href=\"#ma75b53838f\" y=\"224.64\"/>\r\n      </g>\r\n     </g>\r\n     <g id=\"text_3\">\r\n      <!-- 50 -->\r\n      <g transform=\"translate(115.432082 239.238437)scale(0.1 -0.1)\">\r\n       <use xlink:href=\"#DejaVuSans-53\"/>\r\n       <use x=\"63.623047\" xlink:href=\"#DejaVuSans-48\"/>\r\n      </g>\r\n     </g>\r\n    </g>\r\n    <g id=\"xtick_4\">\r\n     <g id=\"line2d_4\">\r\n      <g>\r\n       <use style=\"stroke:#000000;stroke-width:0.8;\" x=\"160.03122\" xlink:href=\"#ma75b53838f\" y=\"224.64\"/>\r\n      </g>\r\n     </g>\r\n     <g id=\"text_4\">\r\n      <!-- 75 -->\r\n      <defs>\r\n       <path d=\"M 8.203125 72.90625 \r\nL 55.078125 72.90625 \r\nL 55.078125 68.703125 \r\nL 28.609375 0 \r\nL 18.3125 0 \r\nL 43.21875 64.59375 \r\nL 8.203125 64.59375 \r\nz\r\n\" id=\"DejaVuSans-55\"/>\r\n      </defs>\r\n      <g transform=\"translate(153.66872 239.238437)scale(0.1 -0.1)\">\r\n       <use xlink:href=\"#DejaVuSans-55\"/>\r\n       <use x=\"63.623047\" xlink:href=\"#DejaVuSans-53\"/>\r\n      </g>\r\n     </g>\r\n    </g>\r\n    <g id=\"xtick_5\">\r\n     <g id=\"line2d_5\">\r\n      <g>\r\n       <use style=\"stroke:#000000;stroke-width:0.8;\" x=\"198.267858\" xlink:href=\"#ma75b53838f\" y=\"224.64\"/>\r\n      </g>\r\n     </g>\r\n     <g id=\"text_5\">\r\n      <!-- 100 -->\r\n      <defs>\r\n       <path d=\"M 12.40625 8.296875 \r\nL 28.515625 8.296875 \r\nL 28.515625 63.921875 \r\nL 10.984375 60.40625 \r\nL 10.984375 69.390625 \r\nL 28.421875 72.90625 \r\nL 38.28125 72.90625 \r\nL 38.28125 8.296875 \r\nL 54.390625 8.296875 \r\nL 54.390625 0 \r\nL 12.40625 0 \r\nz\r\n\" id=\"DejaVuSans-49\"/>\r\n      </defs>\r\n      <g transform=\"translate(188.724108 239.238437)scale(0.1 -0.1)\">\r\n       <use xlink:href=\"#DejaVuSans-49\"/>\r\n       <use x=\"63.623047\" xlink:href=\"#DejaVuSans-48\"/>\r\n       <use x=\"127.246094\" xlink:href=\"#DejaVuSans-48\"/>\r\n      </g>\r\n     </g>\r\n    </g>\r\n    <g id=\"xtick_6\">\r\n     <g id=\"line2d_6\">\r\n      <g>\r\n       <use style=\"stroke:#000000;stroke-width:0.8;\" x=\"236.504495\" xlink:href=\"#ma75b53838f\" y=\"224.64\"/>\r\n      </g>\r\n     </g>\r\n     <g id=\"text_6\">\r\n      <!-- 125 -->\r\n      <g transform=\"translate(226.960745 239.238437)scale(0.1 -0.1)\">\r\n       <use xlink:href=\"#DejaVuSans-49\"/>\r\n       <use x=\"63.623047\" xlink:href=\"#DejaVuSans-50\"/>\r\n       <use x=\"127.246094\" xlink:href=\"#DejaVuSans-53\"/>\r\n      </g>\r\n     </g>\r\n    </g>\r\n    <g id=\"xtick_7\">\r\n     <g id=\"line2d_7\">\r\n      <g>\r\n       <use style=\"stroke:#000000;stroke-width:0.8;\" x=\"274.741133\" xlink:href=\"#ma75b53838f\" y=\"224.64\"/>\r\n      </g>\r\n     </g>\r\n     <g id=\"text_7\">\r\n      <!-- 150 -->\r\n      <g transform=\"translate(265.197383 239.238437)scale(0.1 -0.1)\">\r\n       <use xlink:href=\"#DejaVuSans-49\"/>\r\n       <use x=\"63.623047\" xlink:href=\"#DejaVuSans-53\"/>\r\n       <use x=\"127.246094\" xlink:href=\"#DejaVuSans-48\"/>\r\n      </g>\r\n     </g>\r\n    </g>\r\n    <g id=\"xtick_8\">\r\n     <g id=\"line2d_8\">\r\n      <g>\r\n       <use style=\"stroke:#000000;stroke-width:0.8;\" x=\"312.977771\" xlink:href=\"#ma75b53838f\" y=\"224.64\"/>\r\n      </g>\r\n     </g>\r\n     <g id=\"text_8\">\r\n      <!-- 175 -->\r\n      <g transform=\"translate(303.434021 239.238437)scale(0.1 -0.1)\">\r\n       <use xlink:href=\"#DejaVuSans-49\"/>\r\n       <use x=\"63.623047\" xlink:href=\"#DejaVuSans-55\"/>\r\n       <use x=\"127.246094\" xlink:href=\"#DejaVuSans-53\"/>\r\n      </g>\r\n     </g>\r\n    </g>\r\n    <g id=\"xtick_9\">\r\n     <g id=\"line2d_9\">\r\n      <g>\r\n       <use style=\"stroke:#000000;stroke-width:0.8;\" x=\"351.214409\" xlink:href=\"#ma75b53838f\" y=\"224.64\"/>\r\n      </g>\r\n     </g>\r\n     <g id=\"text_9\">\r\n      <!-- 200 -->\r\n      <g transform=\"translate(341.670659 239.238437)scale(0.1 -0.1)\">\r\n       <use xlink:href=\"#DejaVuSans-50\"/>\r\n       <use x=\"63.623047\" xlink:href=\"#DejaVuSans-48\"/>\r\n       <use x=\"127.246094\" xlink:href=\"#DejaVuSans-48\"/>\r\n      </g>\r\n     </g>\r\n    </g>\r\n   </g>\r\n   <g id=\"matplotlib.axis_2\">\r\n    <g id=\"ytick_1\">\r\n     <g id=\"line2d_10\">\r\n      <defs>\r\n       <path d=\"M 0 0 \r\nL -3.5 0 \r\n\" id=\"m6366379407\" style=\"stroke:#000000;stroke-width:0.8;\"/>\r\n      </defs>\r\n      <g>\r\n       <use style=\"stroke:#000000;stroke-width:0.8;\" x=\"30.103125\" xlink:href=\"#m6366379407\" y=\"221.768763\"/>\r\n      </g>\r\n     </g>\r\n     <g id=\"text_10\">\r\n      <!-- 2.6 -->\r\n      <defs>\r\n       <path d=\"M 10.6875 12.40625 \r\nL 21 12.40625 \r\nL 21 0 \r\nL 10.6875 0 \r\nz\r\n\" id=\"DejaVuSans-46\"/>\r\n       <path d=\"M 33.015625 40.375 \r\nQ 26.375 40.375 22.484375 35.828125 \r\nQ 18.609375 31.296875 18.609375 23.390625 \r\nQ 18.609375 15.53125 22.484375 10.953125 \r\nQ 26.375 6.390625 33.015625 6.390625 \r\nQ 39.65625 6.390625 43.53125 10.953125 \r\nQ 47.40625 15.53125 47.40625 23.390625 \r\nQ 47.40625 31.296875 43.53125 35.828125 \r\nQ 39.65625 40.375 33.015625 40.375 \r\nz\r\nM 52.59375 71.296875 \r\nL 52.59375 62.3125 \r\nQ 48.875 64.0625 45.09375 64.984375 \r\nQ 41.3125 65.921875 37.59375 65.921875 \r\nQ 27.828125 65.921875 22.671875 59.328125 \r\nQ 17.53125 52.734375 16.796875 39.40625 \r\nQ 19.671875 43.65625 24.015625 45.921875 \r\nQ 28.375 48.1875 33.59375 48.1875 \r\nQ 44.578125 48.1875 50.953125 41.515625 \r\nQ 57.328125 34.859375 57.328125 23.390625 \r\nQ 57.328125 12.15625 50.6875 5.359375 \r\nQ 44.046875 -1.421875 33.015625 -1.421875 \r\nQ 20.359375 -1.421875 13.671875 8.265625 \r\nQ 6.984375 17.96875 6.984375 36.375 \r\nQ 6.984375 53.65625 15.1875 63.9375 \r\nQ 23.390625 74.21875 37.203125 74.21875 \r\nQ 40.921875 74.21875 44.703125 73.484375 \r\nQ 48.484375 72.75 52.59375 71.296875 \r\nz\r\n\" id=\"DejaVuSans-54\"/>\r\n      </defs>\r\n      <g transform=\"translate(7.2 225.567982)scale(0.1 -0.1)\">\r\n       <use xlink:href=\"#DejaVuSans-50\"/>\r\n       <use x=\"63.623047\" xlink:href=\"#DejaVuSans-46\"/>\r\n       <use x=\"95.410156\" xlink:href=\"#DejaVuSans-54\"/>\r\n      </g>\r\n     </g>\r\n    </g>\r\n    <g id=\"ytick_2\">\r\n     <g id=\"line2d_11\">\r\n      <g>\r\n       <use style=\"stroke:#000000;stroke-width:0.8;\" x=\"30.103125\" xlink:href=\"#m6366379407\" y=\"193.568171\"/>\r\n      </g>\r\n     </g>\r\n     <g id=\"text_11\">\r\n      <!-- 2.8 -->\r\n      <defs>\r\n       <path d=\"M 31.78125 34.625 \r\nQ 24.75 34.625 20.71875 30.859375 \r\nQ 16.703125 27.09375 16.703125 20.515625 \r\nQ 16.703125 13.921875 20.71875 10.15625 \r\nQ 24.75 6.390625 31.78125 6.390625 \r\nQ 38.8125 6.390625 42.859375 10.171875 \r\nQ 46.921875 13.96875 46.921875 20.515625 \r\nQ 46.921875 27.09375 42.890625 30.859375 \r\nQ 38.875 34.625 31.78125 34.625 \r\nz\r\nM 21.921875 38.8125 \r\nQ 15.578125 40.375 12.03125 44.71875 \r\nQ 8.5 49.078125 8.5 55.328125 \r\nQ 8.5 64.0625 14.71875 69.140625 \r\nQ 20.953125 74.21875 31.78125 74.21875 \r\nQ 42.671875 74.21875 48.875 69.140625 \r\nQ 55.078125 64.0625 55.078125 55.328125 \r\nQ 55.078125 49.078125 51.53125 44.71875 \r\nQ 48 40.375 41.703125 38.8125 \r\nQ 48.828125 37.15625 52.796875 32.3125 \r\nQ 56.78125 27.484375 56.78125 20.515625 \r\nQ 56.78125 9.90625 50.3125 4.234375 \r\nQ 43.84375 -1.421875 31.78125 -1.421875 \r\nQ 19.734375 -1.421875 13.25 4.234375 \r\nQ 6.78125 9.90625 6.78125 20.515625 \r\nQ 6.78125 27.484375 10.78125 32.3125 \r\nQ 14.796875 37.15625 21.921875 38.8125 \r\nz\r\nM 18.3125 54.390625 \r\nQ 18.3125 48.734375 21.84375 45.5625 \r\nQ 25.390625 42.390625 31.78125 42.390625 \r\nQ 38.140625 42.390625 41.71875 45.5625 \r\nQ 45.3125 48.734375 45.3125 54.390625 \r\nQ 45.3125 60.0625 41.71875 63.234375 \r\nQ 38.140625 66.40625 31.78125 66.40625 \r\nQ 25.390625 66.40625 21.84375 63.234375 \r\nQ 18.3125 60.0625 18.3125 54.390625 \r\nz\r\n\" id=\"DejaVuSans-56\"/>\r\n      </defs>\r\n      <g transform=\"translate(7.2 197.36739)scale(0.1 -0.1)\">\r\n       <use xlink:href=\"#DejaVuSans-50\"/>\r\n       <use x=\"63.623047\" xlink:href=\"#DejaVuSans-46\"/>\r\n       <use x=\"95.410156\" xlink:href=\"#DejaVuSans-56\"/>\r\n      </g>\r\n     </g>\r\n    </g>\r\n    <g id=\"ytick_3\">\r\n     <g id=\"line2d_12\">\r\n      <g>\r\n       <use style=\"stroke:#000000;stroke-width:0.8;\" x=\"30.103125\" xlink:href=\"#m6366379407\" y=\"165.36758\"/>\r\n      </g>\r\n     </g>\r\n     <g id=\"text_12\">\r\n      <!-- 3.0 -->\r\n      <defs>\r\n       <path d=\"M 40.578125 39.3125 \r\nQ 47.65625 37.796875 51.625 33 \r\nQ 55.609375 28.21875 55.609375 21.1875 \r\nQ 55.609375 10.40625 48.1875 4.484375 \r\nQ 40.765625 -1.421875 27.09375 -1.421875 \r\nQ 22.515625 -1.421875 17.65625 -0.515625 \r\nQ 12.796875 0.390625 7.625 2.203125 \r\nL 7.625 11.71875 \r\nQ 11.71875 9.328125 16.59375 8.109375 \r\nQ 21.484375 6.890625 26.8125 6.890625 \r\nQ 36.078125 6.890625 40.9375 10.546875 \r\nQ 45.796875 14.203125 45.796875 21.1875 \r\nQ 45.796875 27.640625 41.28125 31.265625 \r\nQ 36.765625 34.90625 28.71875 34.90625 \r\nL 20.21875 34.90625 \r\nL 20.21875 43.015625 \r\nL 29.109375 43.015625 \r\nQ 36.375 43.015625 40.234375 45.921875 \r\nQ 44.09375 48.828125 44.09375 54.296875 \r\nQ 44.09375 59.90625 40.109375 62.90625 \r\nQ 36.140625 65.921875 28.71875 65.921875 \r\nQ 24.65625 65.921875 20.015625 65.03125 \r\nQ 15.375 64.15625 9.8125 62.3125 \r\nL 9.8125 71.09375 \r\nQ 15.4375 72.65625 20.34375 73.4375 \r\nQ 25.25 74.21875 29.59375 74.21875 \r\nQ 40.828125 74.21875 47.359375 69.109375 \r\nQ 53.90625 64.015625 53.90625 55.328125 \r\nQ 53.90625 49.265625 50.4375 45.09375 \r\nQ 46.96875 40.921875 40.578125 39.3125 \r\nz\r\n\" id=\"DejaVuSans-51\"/>\r\n      </defs>\r\n      <g transform=\"translate(7.2 169.166798)scale(0.1 -0.1)\">\r\n       <use xlink:href=\"#DejaVuSans-51\"/>\r\n       <use x=\"63.623047\" xlink:href=\"#DejaVuSans-46\"/>\r\n       <use x=\"95.410156\" xlink:href=\"#DejaVuSans-48\"/>\r\n      </g>\r\n     </g>\r\n    </g>\r\n    <g id=\"ytick_4\">\r\n     <g id=\"line2d_13\">\r\n      <g>\r\n       <use style=\"stroke:#000000;stroke-width:0.8;\" x=\"30.103125\" xlink:href=\"#m6366379407\" y=\"137.166988\"/>\r\n      </g>\r\n     </g>\r\n     <g id=\"text_13\">\r\n      <!-- 3.2 -->\r\n      <g transform=\"translate(7.2 140.966207)scale(0.1 -0.1)\">\r\n       <use xlink:href=\"#DejaVuSans-51\"/>\r\n       <use x=\"63.623047\" xlink:href=\"#DejaVuSans-46\"/>\r\n       <use x=\"95.410156\" xlink:href=\"#DejaVuSans-50\"/>\r\n      </g>\r\n     </g>\r\n    </g>\r\n    <g id=\"ytick_5\">\r\n     <g id=\"line2d_14\">\r\n      <g>\r\n       <use style=\"stroke:#000000;stroke-width:0.8;\" x=\"30.103125\" xlink:href=\"#m6366379407\" y=\"108.966396\"/>\r\n      </g>\r\n     </g>\r\n     <g id=\"text_14\">\r\n      <!-- 3.4 -->\r\n      <defs>\r\n       <path d=\"M 37.796875 64.3125 \r\nL 12.890625 25.390625 \r\nL 37.796875 25.390625 \r\nz\r\nM 35.203125 72.90625 \r\nL 47.609375 72.90625 \r\nL 47.609375 25.390625 \r\nL 58.015625 25.390625 \r\nL 58.015625 17.1875 \r\nL 47.609375 17.1875 \r\nL 47.609375 0 \r\nL 37.796875 0 \r\nL 37.796875 17.1875 \r\nL 4.890625 17.1875 \r\nL 4.890625 26.703125 \r\nz\r\n\" id=\"DejaVuSans-52\"/>\r\n      </defs>\r\n      <g transform=\"translate(7.2 112.765615)scale(0.1 -0.1)\">\r\n       <use xlink:href=\"#DejaVuSans-51\"/>\r\n       <use x=\"63.623047\" xlink:href=\"#DejaVuSans-46\"/>\r\n       <use x=\"95.410156\" xlink:href=\"#DejaVuSans-52\"/>\r\n      </g>\r\n     </g>\r\n    </g>\r\n    <g id=\"ytick_6\">\r\n     <g id=\"line2d_15\">\r\n      <g>\r\n       <use style=\"stroke:#000000;stroke-width:0.8;\" x=\"30.103125\" xlink:href=\"#m6366379407\" y=\"80.765804\"/>\r\n      </g>\r\n     </g>\r\n     <g id=\"text_15\">\r\n      <!-- 3.6 -->\r\n      <g transform=\"translate(7.2 84.565023)scale(0.1 -0.1)\">\r\n       <use xlink:href=\"#DejaVuSans-51\"/>\r\n       <use x=\"63.623047\" xlink:href=\"#DejaVuSans-46\"/>\r\n       <use x=\"95.410156\" xlink:href=\"#DejaVuSans-54\"/>\r\n      </g>\r\n     </g>\r\n    </g>\r\n    <g id=\"ytick_7\">\r\n     <g id=\"line2d_16\">\r\n      <g>\r\n       <use style=\"stroke:#000000;stroke-width:0.8;\" x=\"30.103125\" xlink:href=\"#m6366379407\" y=\"52.565213\"/>\r\n      </g>\r\n     </g>\r\n     <g id=\"text_16\">\r\n      <!-- 3.8 -->\r\n      <g transform=\"translate(7.2 56.364431)scale(0.1 -0.1)\">\r\n       <use xlink:href=\"#DejaVuSans-51\"/>\r\n       <use x=\"63.623047\" xlink:href=\"#DejaVuSans-46\"/>\r\n       <use x=\"95.410156\" xlink:href=\"#DejaVuSans-56\"/>\r\n      </g>\r\n     </g>\r\n    </g>\r\n    <g id=\"ytick_8\">\r\n     <g id=\"line2d_17\">\r\n      <g>\r\n       <use style=\"stroke:#000000;stroke-width:0.8;\" x=\"30.103125\" xlink:href=\"#m6366379407\" y=\"24.364621\"/>\r\n      </g>\r\n     </g>\r\n     <g id=\"text_17\">\r\n      <!-- 4.0 -->\r\n      <g transform=\"translate(7.2 28.16384)scale(0.1 -0.1)\">\r\n       <use xlink:href=\"#DejaVuSans-52\"/>\r\n       <use x=\"63.623047\" xlink:href=\"#DejaVuSans-46\"/>\r\n       <use x=\"95.410156\" xlink:href=\"#DejaVuSans-48\"/>\r\n      </g>\r\n     </g>\r\n    </g>\r\n   </g>\r\n   <g id=\"line2d_18\">\r\n    <path clip-path=\"url(#p8037dd6be4)\" d=\"M 45.321307 17.083636 \r\nL 46.850772 23.943684 \r\nL 48.380238 31.952559 \r\nL 49.909703 42.392134 \r\nL 51.439169 56.571763 \r\nL 54.4981 96.915936 \r\nL 56.027565 108.04452 \r\nL 57.557031 121.567702 \r\nL 59.086496 128.501187 \r\nL 60.615962 127.774696 \r\nL 62.145427 134.292358 \r\nL 63.674893 136.285278 \r\nL 65.204358 141.287639 \r\nL 66.733824 140.985839 \r\nL 68.263289 147.237855 \r\nL 69.792755 146.01648 \r\nL 71.32222 146.387767 \r\nL 72.851686 149.589192 \r\nL 74.381151 150.118112 \r\nL 77.440083 153.701328 \r\nL 78.969548 153.810199 \r\nL 80.499014 155.844948 \r\nL 82.028479 157.445006 \r\nL 83.557945 155.068635 \r\nL 85.08741 161.130917 \r\nL 86.616876 153.555362 \r\nL 88.146341 160.391327 \r\nL 89.675807 164.808929 \r\nL 91.205272 164.730909 \r\nL 92.734738 165.124666 \r\nL 94.264203 163.755416 \r\nL 95.793669 167.99267 \r\nL 97.323134 163.725522 \r\nL 98.8526 164.062005 \r\nL 100.382065 168.469301 \r\nL 101.911531 168.353002 \r\nL 103.440996 166.26641 \r\nL 104.970462 167.865063 \r\nL 106.499927 169.261444 \r\nL 108.029393 169.650454 \r\nL 109.558858 172.356776 \r\nL 111.088324 170.087989 \r\nL 112.617789 170.408637 \r\nL 114.147255 171.277962 \r\nL 115.67672 171.895005 \r\nL 117.206186 177.518033 \r\nL 118.735651 170.081054 \r\nL 120.265117 175.628509 \r\nL 121.794582 171.811457 \r\nL 123.324048 175.936285 \r\nL 124.853513 175.900359 \r\nL 126.382979 178.486059 \r\nL 127.912444 178.594766 \r\nL 129.44191 179.237892 \r\nL 130.971375 171.796145 \r\nL 132.500841 175.855539 \r\nL 134.030306 175.750054 \r\nL 135.559772 181.166207 \r\nL 137.089237 180.58465 \r\nL 138.618703 176.879788 \r\nL 140.148168 181.655899 \r\nL 143.207099 181.622604 \r\nL 144.736565 182.282461 \r\nL 146.26603 183.378203 \r\nL 147.795496 180.081785 \r\nL 149.324961 180.875094 \r\nL 150.854427 180.376654 \r\nL 152.383892 184.90905 \r\nL 153.913358 183.466507 \r\nL 155.442823 180.332908 \r\nL 156.972289 184.647733 \r\nL 158.501755 177.514874 \r\nL 160.03122 181.820003 \r\nL 161.560686 187.78792 \r\nL 163.090151 185.365242 \r\nL 164.619617 185.663587 \r\nL 166.149082 191.368871 \r\nL 167.678548 184.442069 \r\nL 169.208013 190.476678 \r\nL 170.737479 187.101549 \r\nL 172.266944 190.157769 \r\nL 173.79641 187.94015 \r\nL 175.325875 189.088227 \r\nL 176.855341 191.464536 \r\nL 178.384806 188.738049 \r\nL 179.914272 189.73768 \r\nL 181.443737 183.043809 \r\nL 182.973203 193.197551 \r\nL 184.502668 188.095411 \r\nL 186.032134 188.348036 \r\nL 187.561599 188.335423 \r\nL 189.091065 191.152776 \r\nL 190.62053 192.777213 \r\nL 192.149996 196.564895 \r\nL 193.679461 188.423141 \r\nL 195.208927 192.048634 \r\nL 196.738392 191.353146 \r\nL 198.267858 194.542678 \r\nL 199.797323 195.821463 \r\nL 201.326789 198.261223 \r\nL 202.856254 193.436061 \r\nL 204.38572 190.388337 \r\nL 205.915185 192.036773 \r\nL 207.444651 196.60806 \r\nL 208.974116 191.915728 \r\nL 210.503582 199.288579 \r\nL 212.033047 196.71821 \r\nL 213.562513 199.91964 \r\nL 215.091978 193.064162 \r\nL 216.621444 196.393809 \r\nL 218.150909 199.283147 \r\nL 219.680375 196.4317 \r\nL 221.20984 198.608094 \r\nL 222.739306 198.882606 \r\nL 224.268771 198.285619 \r\nL 225.798237 200.537558 \r\nL 227.327702 199.805523 \r\nL 228.857168 196.005653 \r\nL 230.386633 197.353984 \r\nL 231.916099 199.500541 \r\nL 233.445564 195.617281 \r\nL 234.97503 199.589885 \r\nL 236.504495 196.869804 \r\nL 241.092892 201.446037 \r\nL 242.622358 201.991324 \r\nL 244.151823 196.510177 \r\nL 247.210754 202.475368 \r\nL 248.74022 201.204627 \r\nL 250.269685 200.283524 \r\nL 251.799151 203.091014 \r\nL 253.328616 204.613428 \r\nL 254.858082 195.876737 \r\nL 256.387547 208.063266 \r\nL 257.917013 208.266762 \r\nL 259.446478 206.397636 \r\nL 260.975944 204.277689 \r\nL 262.505409 206.788499 \r\nL 264.034875 207.946444 \r\nL 265.56434 201.016386 \r\nL 267.093806 205.56474 \r\nL 270.152737 201.524512 \r\nL 271.682202 199.97439 \r\nL 273.211668 207.004922 \r\nL 274.741133 201.056188 \r\nL 276.270599 202.18263 \r\nL 277.800064 204.237977 \r\nL 279.32953 203.518854 \r\nL 280.858995 208.758708 \r\nL 282.388461 202.16191 \r\nL 283.917926 200.39641 \r\nL 285.447392 203.679273 \r\nL 286.976857 208.717999 \r\nL 288.506323 206.454221 \r\nL 290.035788 207.665786 \r\nL 291.565254 204.764022 \r\nL 293.094719 208.781816 \r\nL 294.624185 201.844968 \r\nL 296.15365 213.264349 \r\nL 297.683116 210.642047 \r\nL 299.212581 207.517237 \r\nL 300.742047 206.398036 \r\nL 302.271512 205.542588 \r\nL 303.800978 209.081819 \r\nL 305.330443 205.520408 \r\nL 308.389374 208.29637 \r\nL 309.91884 210.154832 \r\nL 311.448305 207.556503 \r\nL 312.977771 205.843936 \r\nL 314.507236 205.444792 \r\nL 316.036702 207.262933 \r\nL 317.566167 205.551935 \r\nL 319.095633 211.518908 \r\nL 320.625099 201.224138 \r\nL 322.154564 210.493598 \r\nL 323.68403 205.878804 \r\nL 325.213495 210.704409 \r\nL 326.742961 209.317845 \r\nL 328.272426 205.373986 \r\nL 329.801892 211.798447 \r\nL 331.331357 211.060924 \r\nL 332.860823 209.340846 \r\nL 334.390288 205.542223 \r\nL 335.919754 203.610427 \r\nL 337.449219 212.925962 \r\nL 338.978685 212.108604 \r\nL 340.50815 214.756364 \r\nL 342.037616 208.909001 \r\nL 343.567081 208.863322 \r\nL 345.096547 207.932892 \r\nL 346.626012 210.150603 \r\nL 348.155478 214.719259 \r\nL 349.684943 206.782198 \r\nL 349.684943 206.782198 \r\n\" style=\"fill:none;stroke:#1f77b4;stroke-linecap:square;stroke-width:1.5;\"/>\r\n   </g>\r\n   <g id=\"patch_3\">\r\n    <path d=\"M 30.103125 224.64 \r\nL 30.103125 7.2 \r\n\" style=\"fill:none;stroke:#000000;stroke-linecap:square;stroke-linejoin:miter;stroke-width:0.8;\"/>\r\n   </g>\r\n   <g id=\"patch_4\">\r\n    <path d=\"M 364.903125 224.64 \r\nL 364.903125 7.2 \r\n\" style=\"fill:none;stroke:#000000;stroke-linecap:square;stroke-linejoin:miter;stroke-width:0.8;\"/>\r\n   </g>\r\n   <g id=\"patch_5\">\r\n    <path d=\"M 30.103125 224.64 \r\nL 364.903125 224.64 \r\n\" style=\"fill:none;stroke:#000000;stroke-linecap:square;stroke-linejoin:miter;stroke-width:0.8;\"/>\r\n   </g>\r\n   <g id=\"patch_6\">\r\n    <path d=\"M 30.103125 7.2 \r\nL 364.903125 7.2 \r\n\" style=\"fill:none;stroke:#000000;stroke-linecap:square;stroke-linejoin:miter;stroke-width:0.8;\"/>\r\n   </g>\r\n  </g>\r\n </g>\r\n <defs>\r\n  <clipPath id=\"p8037dd6be4\">\r\n   <rect height=\"217.44\" width=\"334.8\" x=\"30.103125\" y=\"7.2\"/>\r\n  </clipPath>\r\n </defs>\r\n</svg>\r\n",
      "image/png": "[encoded data removed]"
     },
     "metadata": {
      "needs_background": "light"
     }
    }
   ],
   "source": [
    "import matplotlib.pyplot as plt\n",
    "%matplotlib inline\n",
    "\n",
    "plt.plot(all_losses)"
   ]
  },
  {
   "cell_type": "markdown",
   "metadata": {},
   "source": [
    "# Sampling the Network"
   ]
  },
  {
   "cell_type": "code",
   "execution_count": 53,
   "metadata": {},
   "outputs": [
    {
     "output_type": "stream",
     "name": "stdout",
     "text": "ana\n"
    }
   ],
   "source": [
    "max_len = 20\n",
    "\n",
    "with torch.no_grad():\n",
    "    cate_emb = category2tensor('Russian')\n",
    "    name_emb = line2input_tensor('S')\n",
    "    li_list = NG.generate(cate_emb, name_emb, n_letters)\n",
    "    print(\"\".join([all_letters[li] for li in li_list]))"
   ]
  },
  {
   "cell_type": "code",
   "execution_count": 54,
   "metadata": {},
   "outputs": [
    {
     "output_type": "execute_result",
     "data": {
      "text/plain": "\"abcdefghijklmnopqrstuvwxyzABCDEFGHIJKLMNOPQRSTUVWXYZ .,;'-\""
     },
     "metadata": {},
     "execution_count": 54
    }
   ],
   "source": [
    "all_letters"
   ]
  },
  {
   "cell_type": "code",
   "execution_count": null,
   "metadata": {},
   "outputs": [],
   "source": []
  }
 ],
 "metadata": {
  "language_info": {
   "codemirror_mode": {
    "name": "ipython",
    "version": 3
   },
   "file_extension": ".py",
   "mimetype": "text/x-python",
   "name": "python",
   "nbconvert_exporter": "python",
   "pygments_lexer": "ipython3",
   "version": "3.7.6-final"
  },
  "orig_nbformat": 2,
  "kernelspec": {
   "name": "python3",
   "display_name": "Python 3"
  }
 },
 "nbformat": 4,
 "nbformat_minor": 2
}