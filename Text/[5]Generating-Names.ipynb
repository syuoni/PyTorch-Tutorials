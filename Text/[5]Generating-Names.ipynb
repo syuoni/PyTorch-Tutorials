{
 "cells": [
  {
   "cell_type": "code",
   "execution_count": 1,
   "metadata": {},
   "outputs": [],
   "source": [
    "import random\n",
    "import numpy as np\n",
    "import torch\n",
    "import torch.nn as nn\n",
    "import torch.nn.functional as F\n",
    "import torch.optim as optim\n",
    "\n",
    "SEED = 515\n",
    "random.seed(SEED)\n",
    "np.random.seed(SEED)\n",
    "torch.manual_seed(SEED)\n",
    "torch.backends.cudnn.deterministic = True"
   ]
  },
  {
   "cell_type": "markdown",
   "metadata": {},
   "source": [
    "# Load Data"
   ]
  },
  {
   "cell_type": "code",
   "execution_count": 2,
   "metadata": {},
   "outputs": [
    {
     "output_type": "execute_result",
     "data": {
      "text/plain": "\"O'Neal\""
     },
     "metadata": {},
     "execution_count": 2
    }
   ],
   "source": [
    "import unicodedata\n",
    "import string\n",
    "import os\n",
    "import glob\n",
    "\n",
    "all_letters = string.ascii_letters + \" .,;'-\"\n",
    "# Plus EOS marker\n",
    "n_letters = len(all_letters) + 1\n",
    "\n",
    "def unicode2ascii(s):\n",
    "    \"\"\"\n",
    "    Mapping unicode characters to ascii characters. \n",
    "    \"\"\"\n",
    "    return ''.join([c for c in unicodedata.normalize('NFD', s) if unicodedata.category(c) != 'Mn' and c in all_letters])\n",
    "\n",
    "unicode2ascii(\"O'Néàl\")"
   ]
  },
  {
   "cell_type": "code",
   "execution_count": 3,
   "metadata": {},
   "outputs": [
    {
     "output_type": "stream",
     "name": "stdout",
     "text": "18\n['Dutch', 'Greek', 'Japanese', 'Portuguese', 'Spanish', 'French', 'Scottish', 'Czech', 'Vietnamese', 'Italian', 'Chinese', 'Polish', 'Irish', 'Korean', 'Arabic', 'Russian', 'English', 'German']\n"
    }
   ],
   "source": [
    "category_lines = {}\n",
    "all_categories = []\n",
    "for fn in glob.iglob(\"../assets/data/names/*.txt\"):\n",
    "    category = os.path.basename(fn).replace('.txt', '')\n",
    "    all_categories.append(category)    \n",
    "    with open(fn, encoding='utf-8') as f:\n",
    "        category_lines[category] = [unicode2ascii(line) for line in f]\n",
    "    \n",
    "n_categories = len(all_categories)\n",
    "\n",
    "print(n_categories)\n",
    "print(all_categories)"
   ]
  },
  {
   "cell_type": "code",
   "execution_count": 4,
   "metadata": {},
   "outputs": [
    {
     "output_type": "execute_result",
     "data": {
      "text/plain": "tensor([[0., 0., 0., 0., 0., 0., 0., 0., 0., 0., 1., 0., 0., 0., 0., 0., 0., 0.]])"
     },
     "metadata": {},
     "execution_count": 4
    }
   ],
   "source": [
    "def category2tensor(category):\n",
    "    tensor = torch.zeros(1, n_categories)\n",
    "    tensor[0][all_categories.index(category)] = 1\n",
    "    return tensor\n",
    "\n",
    "category2tensor('Chinese')"
   ]
  },
  {
   "cell_type": "code",
   "execution_count": 5,
   "metadata": {},
   "outputs": [
    {
     "output_type": "execute_result",
     "data": {
      "text/plain": "tensor([[[0., 0., 0., 0., 0., 0., 0., 0., 0., 0., 0., 0., 0., 0., 0., 0., 0.,\n          0., 0., 0., 0., 0., 0., 0., 0., 0., 0., 0., 0., 0., 0., 0., 0., 0.,\n          0., 1., 0., 0., 0., 0., 0., 0., 0., 0., 0., 0., 0., 0., 0., 0., 0.,\n          0., 0., 0., 0., 0., 0., 0., 0.]],\n\n        [[0., 0., 0., 0., 0., 0., 0., 0., 0., 0., 0., 0., 0., 0., 1., 0., 0.,\n          0., 0., 0., 0., 0., 0., 0., 0., 0., 0., 0., 0., 0., 0., 0., 0., 0.,\n          0., 0., 0., 0., 0., 0., 0., 0., 0., 0., 0., 0., 0., 0., 0., 0., 0.,\n          0., 0., 0., 0., 0., 0., 0., 0.]],\n\n        [[0., 0., 0., 0., 0., 0., 0., 0., 0., 0., 0., 0., 0., 1., 0., 0., 0.,\n          0., 0., 0., 0., 0., 0., 0., 0., 0., 0., 0., 0., 0., 0., 0., 0., 0.,\n          0., 0., 0., 0., 0., 0., 0., 0., 0., 0., 0., 0., 0., 0., 0., 0., 0.,\n          0., 0., 0., 0., 0., 0., 0., 0.]],\n\n        [[0., 0., 0., 0., 1., 0., 0., 0., 0., 0., 0., 0., 0., 0., 0., 0., 0.,\n          0., 0., 0., 0., 0., 0., 0., 0., 0., 0., 0., 0., 0., 0., 0., 0., 0.,\n          0., 0., 0., 0., 0., 0., 0., 0., 0., 0., 0., 0., 0., 0., 0., 0., 0.,\n          0., 0., 0., 0., 0., 0., 0., 0.]],\n\n        [[0., 0., 0., 0., 0., 0., 0., 0., 0., 0., 0., 0., 0., 0., 0., 0., 0.,\n          0., 1., 0., 0., 0., 0., 0., 0., 0., 0., 0., 0., 0., 0., 0., 0., 0.,\n          0., 0., 0., 0., 0., 0., 0., 0., 0., 0., 0., 0., 0., 0., 0., 0., 0.,\n          0., 0., 0., 0., 0., 0., 0., 0.]]])"
     },
     "metadata": {},
     "execution_count": 5
    }
   ],
   "source": [
    "def line2input_tensor(line):\n",
    "    \"\"\"\n",
    "    Transforming a sentence to a <line length x 1 x n_letters> tensor of one-hot embeddings. \n",
    "    From the 1st to the last letter (NOT including EOS). \n",
    "    \"\"\"\n",
    "    tensor = torch.zeros(len(line), 1, n_letters)\n",
    "    for i, letter in enumerate(line):\n",
    "        tensor[i, 0, all_letters.index(letter)] = 1\n",
    "    return tensor\n",
    "\n",
    "line2input_tensor('Jones')"
   ]
  },
  {
   "cell_type": "code",
   "execution_count": 6,
   "metadata": {},
   "outputs": [
    {
     "output_type": "execute_result",
     "data": {
      "text/plain": "tensor([14, 13,  4, 18, 58])"
     },
     "metadata": {},
     "execution_count": 6
    }
   ],
   "source": [
    "def line2target_tensor(line):\n",
    "    \"\"\"\n",
    "    Transforming a sentence to a <line length> tensor of letter-indexes. \n",
    "    From the 2nd letter to the end (EOS). \n",
    "    \"\"\"\n",
    "    letter_indexes = [all_letters.index(letter) for letter in line[1:]]\n",
    "    letter_indexes.append(n_letters - 1) # EOS\n",
    "    return torch.tensor(letter_indexes)\n",
    "\n",
    "line2target_tensor('Jones')"
   ]
  },
  {
   "cell_type": "code",
   "execution_count": 7,
   "metadata": {},
   "outputs": [
    {
     "output_type": "execute_result",
     "data": {
      "text/plain": "('Italian', 'Leoni')"
     },
     "metadata": {},
     "execution_count": 7
    }
   ],
   "source": [
    "def random_cate_name():\n",
    "    cate = np.random.choice(all_categories)\n",
    "    name = np.random.choice(category_lines[cate])\n",
    "    return cate, name\n",
    "\n",
    "random_cate_name()"
   ]
  },
  {
   "cell_type": "markdown",
   "metadata": {},
   "source": [
    "# Define Model"
   ]
  },
  {
   "cell_type": "code",
   "execution_count": 8,
   "metadata": {},
   "outputs": [],
   "source": [
    "class NameGenerator(nn.Module):\n",
    "    def __init__(self, in_size, hidden_size, out_size, n_categories):\n",
    "        super(NameGenerator, self).__init__()\n",
    "        self.hidden_out_size = hidden_size + out_size\n",
    "\n",
    "        # NOTE: Slightly different from the specification in the tutorial, as \n",
    "        # the real hidden size is (hidden_size + out_size) here. \n",
    "        # self.rnn = nn.RNN(n_categories + in_size, hidden_size + out_size)\n",
    "        self.rnn = nn.GRU(n_categories + in_size, hidden_size + out_size)\n",
    "        self.fc = nn.Linear(hidden_size + out_size, out_size)\n",
    "        \n",
    "    def forward(self, cate_emb, name_emb):\n",
    "        \"\"\"\n",
    "        cate_emb: (1 * n_cate)\n",
    "        name_emb: (n_chars * 1 * n_letters)\n",
    "        \"\"\"\n",
    "        hidden_out0 = torch.zeros(1, 1, self.hidden_out_size)\n",
    "\n",
    "        # cate_name_emb: (n_chars * 1 * (n_cate + n_letters))\n",
    "        cate_name_emb = torch.cat([cate_emb.repeat([name_emb.size(0), 1, 1]), name_emb], dim=-1)\n",
    "        # hidden_outs: (n_chars * 1 * (n_hidden + n_letters))\n",
    "        hidden_outs, _ = self.rnn(cate_name_emb, hidden_out0)\n",
    "        # hidden_outs: (n_chars * (n_hidden + n_letters))\n",
    "        hidden_outs = hidden_outs.view(-1, self.hidden_out_size)\n",
    "        # outs: (n_chars * n_letters)\n",
    "        outs = self.fc(hidden_outs)\n",
    "        outs = F.dropout(outs, p=0.1)\n",
    "        return F.log_softmax(outs, dim=-1)\n",
    "\n",
    "    def generate(self, cate_emb, name_emb, n_letters, max_len=20):\n",
    "        \"\"\"\n",
    "        cate_emb: (1 * n_cate)\n",
    "        name_emb: (n_chars * 1 * n_letters)\n",
    "        \"\"\"\n",
    "        hidden_out0 = torch.zeros(1, 1, self.hidden_out_size)\n",
    "\n",
    "        # cate_name_emb: (n_chars * 1 * (n_cate + n_letters))\n",
    "        cate_name_emb = torch.cat([cate_emb.repeat([name_emb.size(0), 1, 1]), name_emb], dim=-1)\n",
    "        # hidden_outs: (n_chars * 1 * (n_hidden + n_letters))\n",
    "        # this_hidden_out: (1 * 1 * (n_hidden + n_letters))\n",
    "        hidden_outs, this_hidden_out = self.rnn(cate_name_emb, hidden_out0)\n",
    "\n",
    "        li_list = []\n",
    "        for i in range(max_len - hidden_outs.size(0)):\n",
    "            # this_out: (1 * n_letters)\n",
    "            this_out = self.fc(this_hidden_out.view(-1, self.hidden_out_size))\n",
    "            # torch.topk: The last dimension is chosen by default. \n",
    "            # torch.argmax: The argmax of the flattened input is returned by default. \n",
    "            _, next_li = F.log_softmax(this_out).topk(1)\n",
    "            next_li = next_li.item()\n",
    "            # EOS\n",
    "            if next_li == n_letters-1:\n",
    "                break\n",
    "            \n",
    "            li_list.append(next_li)\n",
    "\n",
    "            # Create the next tensor\n",
    "            next_l_emb = torch.zeros(1, 1, n_letters)\n",
    "            next_l_emb[0, 0, next_li] = 1\n",
    "            next_cate_l_emb = torch.cat([cate_emb.view(1, 1, -1), next_l_emb], dim=-1)\n",
    "            _, this_hidden_out = self.rnn(next_cate_l_emb, this_hidden_out)\n",
    "            \n",
    "        return li_list"
   ]
  },
  {
   "cell_type": "code",
   "execution_count": 9,
   "metadata": {},
   "outputs": [
    {
     "output_type": "stream",
     "name": "stdout",
     "text": "Polish Sokolsky\n"
    },
    {
     "output_type": "execute_result",
     "data": {
      "text/plain": "torch.Size([8, 59])"
     },
     "metadata": {},
     "execution_count": 9
    }
   ],
   "source": [
    "n_hidden = 128\n",
    "NG = NameGenerator(n_letters, n_hidden, n_letters, n_categories)\n",
    "\n",
    "cate, name = random_cate_name()\n",
    "print(cate, name)\n",
    "\n",
    "cate_emb = category2tensor(cate)\n",
    "name_emb = line2input_tensor(name)\n",
    "scores = NG(cate_emb, name_emb)\n",
    "\n",
    "scores.size()"
   ]
  },
  {
   "cell_type": "code",
   "execution_count": 10,
   "metadata": {},
   "outputs": [
    {
     "output_type": "execute_result",
     "data": {
      "text/plain": "tensor(32.6363, grad_fn=<NllLossBackward>)"
     },
     "metadata": {},
     "execution_count": 10
    }
   ],
   "source": [
    "# NOTE: The default reduction of nn.NLLLoss is \"mean\". \n",
    "# The essence of the NLL-loss in the tutorial has the reduction of \"sum\", actually. \n",
    "loss_func = nn.NLLLoss(reduction='sum')\n",
    "\n",
    "target = line2target_tensor(name)\n",
    "loss_func(scores, target)"
   ]
  },
  {
   "cell_type": "code",
   "execution_count": 11,
   "metadata": {},
   "outputs": [
    {
     "output_type": "execute_result",
     "data": {
      "text/plain": "[38, 38, 38, 38, 30, 45, 45, 36, 36, 36, 36, 36]"
     },
     "metadata": {},
     "execution_count": 11
    }
   ],
   "source": [
    "NG.generate(cate_emb, name_emb, n_letters)"
   ]
  },
  {
   "cell_type": "markdown",
   "metadata": {},
   "source": [
    "# Train Model"
   ]
  },
  {
   "cell_type": "code",
   "execution_count": 12,
   "metadata": {},
   "outputs": [],
   "source": [
    "import time\n",
    "import math\n",
    "\n",
    "def timeSince(since):\n",
    "    now = time.time()\n",
    "    s = now - since\n",
    "    m = math.floor(s / 60)\n",
    "    s -= m * 60\n",
    "    return '%dm %ds' % (m, s)"
   ]
  },
  {
   "cell_type": "code",
   "execution_count": 13,
   "metadata": {},
   "outputs": [
    {
     "output_type": "stream",
     "name": "stdout",
     "text": "0m 20s (5000 5%) 2.3281\n0m 41s (10000 10%) 2.0715\n1m 3s (15000 15%) 2.0058\n1m 24s (20000 20%) 1.8798\n1m 45s (25000 25%) 1.8424\n2m 5s (30000 30%) 1.7423\n2m 26s (35000 35%) 1.7538\n2m 48s (40000 40%) 1.6765\n3m 15s (45000 45%) 1.6546\n3m 42s (50000 50%) 1.6199\n4m 7s (55000 55%) 1.5457\n4m 33s (60000 60%) 1.6211\n4m 59s (65000 65%) 1.5447\n5m 27s (70000 70%) 1.5739\n5m 54s (75000 75%) 1.5720\n6m 20s (80000 80%) 1.4923\n6m 45s (85000 85%) 1.4684\n7m 10s (90000 90%) 1.5174\n7m 36s (95000 95%) 1.4991\n8m 1s (100000 100%) 1.5074\n"
    }
   ],
   "source": [
    "# optimizer = optim.SGD(NG.parameters(), lr=0.0005)\n",
    "optimizer = optim.Adadelta(NG.parameters(), lr=1.0, rho=0.95)\n",
    "\n",
    "n_iters = 100000\n",
    "print_every = 5000\n",
    "plot_every = 500\n",
    "all_losses = []\n",
    "total_loss = 0 # Reset every plot_every iters\n",
    "\n",
    "start = time.time()\n",
    "\n",
    "for i in range(1, n_iters+1):\n",
    "    cate, name = random_cate_name()\n",
    "\n",
    "    # Forward pass\n",
    "    cate_emb = category2tensor(cate)\n",
    "    name_emb = line2input_tensor(name)\n",
    "    target = line2target_tensor(name)\n",
    "    scores = NG(cate_emb, name_emb)\n",
    "\n",
    "    # Calculate loss\n",
    "    loss = loss_func(scores, target)\n",
    "    total_loss += (loss.item() / len(name))\n",
    "\n",
    "    # Backward propagation\n",
    "    optimizer.zero_grad()\n",
    "    loss.backward()\n",
    "\n",
    "    # Update weights\n",
    "    optimizer.step()\n",
    "\n",
    "    if i % print_every == 0:\n",
    "        print('%s (%d %d%%) %.4f' % (timeSince(start), i, i / n_iters * 100, total_loss / plot_every))\n",
    "\n",
    "    if i % plot_every == 0:\n",
    "        all_losses.append(total_loss / plot_every)\n",
    "        total_loss = 0"
   ]
  },
  {
   "cell_type": "code",
   "execution_count": 14,
   "metadata": {},
   "outputs": [
    {
     "output_type": "execute_result",
     "data": {
      "text/plain": "[<matplotlib.lines.Line2D at 0x7f5eac076640>]"
     },
     "metadata": {},
     "execution_count": 14
    },
    {
     "output_type": "display_data",
     "data": {
      "text/plain": "<Figure size 432x288 with 1 Axes>",
      "image/svg+xml": "<?xml version=\"1.0\" encoding=\"utf-8\" standalone=\"no\"?>\n<!DOCTYPE svg PUBLIC \"-//W3C//DTD SVG 1.1//EN\"\n  \"http://www.w3.org/Graphics/SVG/1.1/DTD/svg11.dtd\">\n<!-- Created with matplotlib (https://matplotlib.org/) -->\n<svg height=\"248.518125pt\" version=\"1.1\" viewBox=\"0 0 372.103125 248.518125\" width=\"372.103125pt\" xmlns=\"http://www.w3.org/2000/svg\" xmlns:xlink=\"http://www.w3.org/1999/xlink\">\n <defs>\n  <style type=\"text/css\">\n*{stroke-linecap:butt;stroke-linejoin:round;}\n  </style>\n </defs>\n <g id=\"figure_1\">\n  <g id=\"patch_1\">\n   <path d=\"M 0 248.518125 \nL 372.103125 248.518125 \nL 372.103125 0 \nL 0 0 \nz\n\" style=\"fill:none;\"/>\n  </g>\n  <g id=\"axes_1\">\n   <g id=\"patch_2\">\n    <path d=\"M 30.103125 224.64 \nL 364.903125 224.64 \nL 364.903125 7.2 \nL 30.103125 7.2 \nz\n\" style=\"fill:#ffffff;\"/>\n   </g>\n   <g id=\"matplotlib.axis_1\">\n    <g id=\"xtick_1\">\n     <g id=\"line2d_1\">\n      <defs>\n       <path d=\"M 0 0 \nL 0 3.5 \n\" id=\"m7684527ad8\" style=\"stroke:#000000;stroke-width:0.8;\"/>\n      </defs>\n      <g>\n       <use style=\"stroke:#000000;stroke-width:0.8;\" x=\"45.321307\" xlink:href=\"#m7684527ad8\" y=\"224.64\"/>\n      </g>\n     </g>\n     <g id=\"text_1\">\n      <!-- 0 -->\n      <defs>\n       <path d=\"M 31.78125 66.40625 \nQ 24.171875 66.40625 20.328125 58.90625 \nQ 16.5 51.421875 16.5 36.375 \nQ 16.5 21.390625 20.328125 13.890625 \nQ 24.171875 6.390625 31.78125 6.390625 \nQ 39.453125 6.390625 43.28125 13.890625 \nQ 47.125 21.390625 47.125 36.375 \nQ 47.125 51.421875 43.28125 58.90625 \nQ 39.453125 66.40625 31.78125 66.40625 \nz\nM 31.78125 74.21875 \nQ 44.046875 74.21875 50.515625 64.515625 \nQ 56.984375 54.828125 56.984375 36.375 \nQ 56.984375 17.96875 50.515625 8.265625 \nQ 44.046875 -1.421875 31.78125 -1.421875 \nQ 19.53125 -1.421875 13.0625 8.265625 \nQ 6.59375 17.96875 6.59375 36.375 \nQ 6.59375 54.828125 13.0625 64.515625 \nQ 19.53125 74.21875 31.78125 74.21875 \nz\n\" id=\"DejaVuSans-48\"/>\n      </defs>\n      <g transform=\"translate(42.140057 239.238438)scale(0.1 -0.1)\">\n       <use xlink:href=\"#DejaVuSans-48\"/>\n      </g>\n     </g>\n    </g>\n    <g id=\"xtick_2\">\n     <g id=\"line2d_2\">\n      <g>\n       <use style=\"stroke:#000000;stroke-width:0.8;\" x=\"83.557945\" xlink:href=\"#m7684527ad8\" y=\"224.64\"/>\n      </g>\n     </g>\n     <g id=\"text_2\">\n      <!-- 25 -->\n      <defs>\n       <path d=\"M 19.1875 8.296875 \nL 53.609375 8.296875 \nL 53.609375 0 \nL 7.328125 0 \nL 7.328125 8.296875 \nQ 12.9375 14.109375 22.625 23.890625 \nQ 32.328125 33.6875 34.8125 36.53125 \nQ 39.546875 41.84375 41.421875 45.53125 \nQ 43.3125 49.21875 43.3125 52.78125 \nQ 43.3125 58.59375 39.234375 62.25 \nQ 35.15625 65.921875 28.609375 65.921875 \nQ 23.96875 65.921875 18.8125 64.3125 \nQ 13.671875 62.703125 7.8125 59.421875 \nL 7.8125 69.390625 \nQ 13.765625 71.78125 18.9375 73 \nQ 24.125 74.21875 28.421875 74.21875 \nQ 39.75 74.21875 46.484375 68.546875 \nQ 53.21875 62.890625 53.21875 53.421875 \nQ 53.21875 48.921875 51.53125 44.890625 \nQ 49.859375 40.875 45.40625 35.40625 \nQ 44.1875 33.984375 37.640625 27.21875 \nQ 31.109375 20.453125 19.1875 8.296875 \nz\n\" id=\"DejaVuSans-50\"/>\n       <path d=\"M 10.796875 72.90625 \nL 49.515625 72.90625 \nL 49.515625 64.59375 \nL 19.828125 64.59375 \nL 19.828125 46.734375 \nQ 21.96875 47.46875 24.109375 47.828125 \nQ 26.265625 48.1875 28.421875 48.1875 \nQ 40.625 48.1875 47.75 41.5 \nQ 54.890625 34.8125 54.890625 23.390625 \nQ 54.890625 11.625 47.5625 5.09375 \nQ 40.234375 -1.421875 26.90625 -1.421875 \nQ 22.3125 -1.421875 17.546875 -0.640625 \nQ 12.796875 0.140625 7.71875 1.703125 \nL 7.71875 11.625 \nQ 12.109375 9.234375 16.796875 8.0625 \nQ 21.484375 6.890625 26.703125 6.890625 \nQ 35.15625 6.890625 40.078125 11.328125 \nQ 45.015625 15.765625 45.015625 23.390625 \nQ 45.015625 31 40.078125 35.4375 \nQ 35.15625 39.890625 26.703125 39.890625 \nQ 22.75 39.890625 18.8125 39.015625 \nQ 14.890625 38.140625 10.796875 36.28125 \nz\n\" id=\"DejaVuSans-53\"/>\n      </defs>\n      <g transform=\"translate(77.195445 239.238438)scale(0.1 -0.1)\">\n       <use xlink:href=\"#DejaVuSans-50\"/>\n       <use x=\"63.623047\" xlink:href=\"#DejaVuSans-53\"/>\n      </g>\n     </g>\n    </g>\n    <g id=\"xtick_3\">\n     <g id=\"line2d_3\">\n      <g>\n       <use style=\"stroke:#000000;stroke-width:0.8;\" x=\"121.794582\" xlink:href=\"#m7684527ad8\" y=\"224.64\"/>\n      </g>\n     </g>\n     <g id=\"text_3\">\n      <!-- 50 -->\n      <g transform=\"translate(115.432082 239.238438)scale(0.1 -0.1)\">\n       <use xlink:href=\"#DejaVuSans-53\"/>\n       <use x=\"63.623047\" xlink:href=\"#DejaVuSans-48\"/>\n      </g>\n     </g>\n    </g>\n    <g id=\"xtick_4\">\n     <g id=\"line2d_4\">\n      <g>\n       <use style=\"stroke:#000000;stroke-width:0.8;\" x=\"160.03122\" xlink:href=\"#m7684527ad8\" y=\"224.64\"/>\n      </g>\n     </g>\n     <g id=\"text_4\">\n      <!-- 75 -->\n      <defs>\n       <path d=\"M 8.203125 72.90625 \nL 55.078125 72.90625 \nL 55.078125 68.703125 \nL 28.609375 0 \nL 18.3125 0 \nL 43.21875 64.59375 \nL 8.203125 64.59375 \nz\n\" id=\"DejaVuSans-55\"/>\n      </defs>\n      <g transform=\"translate(153.66872 239.238438)scale(0.1 -0.1)\">\n       <use xlink:href=\"#DejaVuSans-55\"/>\n       <use x=\"63.623047\" xlink:href=\"#DejaVuSans-53\"/>\n      </g>\n     </g>\n    </g>\n    <g id=\"xtick_5\">\n     <g id=\"line2d_5\">\n      <g>\n       <use style=\"stroke:#000000;stroke-width:0.8;\" x=\"198.267858\" xlink:href=\"#m7684527ad8\" y=\"224.64\"/>\n      </g>\n     </g>\n     <g id=\"text_5\">\n      <!-- 100 -->\n      <defs>\n       <path d=\"M 12.40625 8.296875 \nL 28.515625 8.296875 \nL 28.515625 63.921875 \nL 10.984375 60.40625 \nL 10.984375 69.390625 \nL 28.421875 72.90625 \nL 38.28125 72.90625 \nL 38.28125 8.296875 \nL 54.390625 8.296875 \nL 54.390625 0 \nL 12.40625 0 \nz\n\" id=\"DejaVuSans-49\"/>\n      </defs>\n      <g transform=\"translate(188.724108 239.238438)scale(0.1 -0.1)\">\n       <use xlink:href=\"#DejaVuSans-49\"/>\n       <use x=\"63.623047\" xlink:href=\"#DejaVuSans-48\"/>\n       <use x=\"127.246094\" xlink:href=\"#DejaVuSans-48\"/>\n      </g>\n     </g>\n    </g>\n    <g id=\"xtick_6\">\n     <g id=\"line2d_6\">\n      <g>\n       <use style=\"stroke:#000000;stroke-width:0.8;\" x=\"236.504495\" xlink:href=\"#m7684527ad8\" y=\"224.64\"/>\n      </g>\n     </g>\n     <g id=\"text_6\">\n      <!-- 125 -->\n      <g transform=\"translate(226.960745 239.238438)scale(0.1 -0.1)\">\n       <use xlink:href=\"#DejaVuSans-49\"/>\n       <use x=\"63.623047\" xlink:href=\"#DejaVuSans-50\"/>\n       <use x=\"127.246094\" xlink:href=\"#DejaVuSans-53\"/>\n      </g>\n     </g>\n    </g>\n    <g id=\"xtick_7\">\n     <g id=\"line2d_7\">\n      <g>\n       <use style=\"stroke:#000000;stroke-width:0.8;\" x=\"274.741133\" xlink:href=\"#m7684527ad8\" y=\"224.64\"/>\n      </g>\n     </g>\n     <g id=\"text_7\">\n      <!-- 150 -->\n      <g transform=\"translate(265.197383 239.238438)scale(0.1 -0.1)\">\n       <use xlink:href=\"#DejaVuSans-49\"/>\n       <use x=\"63.623047\" xlink:href=\"#DejaVuSans-53\"/>\n       <use x=\"127.246094\" xlink:href=\"#DejaVuSans-48\"/>\n      </g>\n     </g>\n    </g>\n    <g id=\"xtick_8\">\n     <g id=\"line2d_8\">\n      <g>\n       <use style=\"stroke:#000000;stroke-width:0.8;\" x=\"312.977771\" xlink:href=\"#m7684527ad8\" y=\"224.64\"/>\n      </g>\n     </g>\n     <g id=\"text_8\">\n      <!-- 175 -->\n      <g transform=\"translate(303.434021 239.238438)scale(0.1 -0.1)\">\n       <use xlink:href=\"#DejaVuSans-49\"/>\n       <use x=\"63.623047\" xlink:href=\"#DejaVuSans-55\"/>\n       <use x=\"127.246094\" xlink:href=\"#DejaVuSans-53\"/>\n      </g>\n     </g>\n    </g>\n    <g id=\"xtick_9\">\n     <g id=\"line2d_9\">\n      <g>\n       <use style=\"stroke:#000000;stroke-width:0.8;\" x=\"351.214409\" xlink:href=\"#m7684527ad8\" y=\"224.64\"/>\n      </g>\n     </g>\n     <g id=\"text_9\">\n      <!-- 200 -->\n      <g transform=\"translate(341.670659 239.238438)scale(0.1 -0.1)\">\n       <use xlink:href=\"#DejaVuSans-50\"/>\n       <use x=\"63.623047\" xlink:href=\"#DejaVuSans-48\"/>\n       <use x=\"127.246094\" xlink:href=\"#DejaVuSans-48\"/>\n      </g>\n     </g>\n    </g>\n   </g>\n   <g id=\"matplotlib.axis_2\">\n    <g id=\"ytick_1\">\n     <g id=\"line2d_10\">\n      <defs>\n       <path d=\"M 0 0 \nL -3.5 0 \n\" id=\"m65641e505c\" style=\"stroke:#000000;stroke-width:0.8;\"/>\n      </defs>\n      <g>\n       <use style=\"stroke:#000000;stroke-width:0.8;\" x=\"30.103125\" xlink:href=\"#m65641e505c\" y=\"220.20364\"/>\n      </g>\n     </g>\n     <g id=\"text_10\">\n      <!-- 1.4 -->\n      <defs>\n       <path d=\"M 10.6875 12.40625 \nL 21 12.40625 \nL 21 0 \nL 10.6875 0 \nz\n\" id=\"DejaVuSans-46\"/>\n       <path d=\"M 37.796875 64.3125 \nL 12.890625 25.390625 \nL 37.796875 25.390625 \nz\nM 35.203125 72.90625 \nL 47.609375 72.90625 \nL 47.609375 25.390625 \nL 58.015625 25.390625 \nL 58.015625 17.1875 \nL 47.609375 17.1875 \nL 47.609375 0 \nL 37.796875 0 \nL 37.796875 17.1875 \nL 4.890625 17.1875 \nL 4.890625 26.703125 \nz\n\" id=\"DejaVuSans-52\"/>\n      </defs>\n      <g transform=\"translate(7.2 224.002859)scale(0.1 -0.1)\">\n       <use xlink:href=\"#DejaVuSans-49\"/>\n       <use x=\"63.623047\" xlink:href=\"#DejaVuSans-46\"/>\n       <use x=\"95.410156\" xlink:href=\"#DejaVuSans-52\"/>\n      </g>\n     </g>\n    </g>\n    <g id=\"ytick_2\">\n     <g id=\"line2d_11\">\n      <g>\n       <use style=\"stroke:#000000;stroke-width:0.8;\" x=\"30.103125\" xlink:href=\"#m65641e505c\" y=\"192.266751\"/>\n      </g>\n     </g>\n     <g id=\"text_11\">\n      <!-- 1.6 -->\n      <defs>\n       <path d=\"M 33.015625 40.375 \nQ 26.375 40.375 22.484375 35.828125 \nQ 18.609375 31.296875 18.609375 23.390625 \nQ 18.609375 15.53125 22.484375 10.953125 \nQ 26.375 6.390625 33.015625 6.390625 \nQ 39.65625 6.390625 43.53125 10.953125 \nQ 47.40625 15.53125 47.40625 23.390625 \nQ 47.40625 31.296875 43.53125 35.828125 \nQ 39.65625 40.375 33.015625 40.375 \nz\nM 52.59375 71.296875 \nL 52.59375 62.3125 \nQ 48.875 64.0625 45.09375 64.984375 \nQ 41.3125 65.921875 37.59375 65.921875 \nQ 27.828125 65.921875 22.671875 59.328125 \nQ 17.53125 52.734375 16.796875 39.40625 \nQ 19.671875 43.65625 24.015625 45.921875 \nQ 28.375 48.1875 33.59375 48.1875 \nQ 44.578125 48.1875 50.953125 41.515625 \nQ 57.328125 34.859375 57.328125 23.390625 \nQ 57.328125 12.15625 50.6875 5.359375 \nQ 44.046875 -1.421875 33.015625 -1.421875 \nQ 20.359375 -1.421875 13.671875 8.265625 \nQ 6.984375 17.96875 6.984375 36.375 \nQ 6.984375 53.65625 15.1875 63.9375 \nQ 23.390625 74.21875 37.203125 74.21875 \nQ 40.921875 74.21875 44.703125 73.484375 \nQ 48.484375 72.75 52.59375 71.296875 \nz\n\" id=\"DejaVuSans-54\"/>\n      </defs>\n      <g transform=\"translate(7.2 196.06597)scale(0.1 -0.1)\">\n       <use xlink:href=\"#DejaVuSans-49\"/>\n       <use x=\"63.623047\" xlink:href=\"#DejaVuSans-46\"/>\n       <use x=\"95.410156\" xlink:href=\"#DejaVuSans-54\"/>\n      </g>\n     </g>\n    </g>\n    <g id=\"ytick_3\">\n     <g id=\"line2d_12\">\n      <g>\n       <use style=\"stroke:#000000;stroke-width:0.8;\" x=\"30.103125\" xlink:href=\"#m65641e505c\" y=\"164.329862\"/>\n      </g>\n     </g>\n     <g id=\"text_12\">\n      <!-- 1.8 -->\n      <defs>\n       <path d=\"M 31.78125 34.625 \nQ 24.75 34.625 20.71875 30.859375 \nQ 16.703125 27.09375 16.703125 20.515625 \nQ 16.703125 13.921875 20.71875 10.15625 \nQ 24.75 6.390625 31.78125 6.390625 \nQ 38.8125 6.390625 42.859375 10.171875 \nQ 46.921875 13.96875 46.921875 20.515625 \nQ 46.921875 27.09375 42.890625 30.859375 \nQ 38.875 34.625 31.78125 34.625 \nz\nM 21.921875 38.8125 \nQ 15.578125 40.375 12.03125 44.71875 \nQ 8.5 49.078125 8.5 55.328125 \nQ 8.5 64.0625 14.71875 69.140625 \nQ 20.953125 74.21875 31.78125 74.21875 \nQ 42.671875 74.21875 48.875 69.140625 \nQ 55.078125 64.0625 55.078125 55.328125 \nQ 55.078125 49.078125 51.53125 44.71875 \nQ 48 40.375 41.703125 38.8125 \nQ 48.828125 37.15625 52.796875 32.3125 \nQ 56.78125 27.484375 56.78125 20.515625 \nQ 56.78125 9.90625 50.3125 4.234375 \nQ 43.84375 -1.421875 31.78125 -1.421875 \nQ 19.734375 -1.421875 13.25 4.234375 \nQ 6.78125 9.90625 6.78125 20.515625 \nQ 6.78125 27.484375 10.78125 32.3125 \nQ 14.796875 37.15625 21.921875 38.8125 \nz\nM 18.3125 54.390625 \nQ 18.3125 48.734375 21.84375 45.5625 \nQ 25.390625 42.390625 31.78125 42.390625 \nQ 38.140625 42.390625 41.71875 45.5625 \nQ 45.3125 48.734375 45.3125 54.390625 \nQ 45.3125 60.0625 41.71875 63.234375 \nQ 38.140625 66.40625 31.78125 66.40625 \nQ 25.390625 66.40625 21.84375 63.234375 \nQ 18.3125 60.0625 18.3125 54.390625 \nz\n\" id=\"DejaVuSans-56\"/>\n      </defs>\n      <g transform=\"translate(7.2 168.129081)scale(0.1 -0.1)\">\n       <use xlink:href=\"#DejaVuSans-49\"/>\n       <use x=\"63.623047\" xlink:href=\"#DejaVuSans-46\"/>\n       <use x=\"95.410156\" xlink:href=\"#DejaVuSans-56\"/>\n      </g>\n     </g>\n    </g>\n    <g id=\"ytick_4\">\n     <g id=\"line2d_13\">\n      <g>\n       <use style=\"stroke:#000000;stroke-width:0.8;\" x=\"30.103125\" xlink:href=\"#m65641e505c\" y=\"136.392974\"/>\n      </g>\n     </g>\n     <g id=\"text_13\">\n      <!-- 2.0 -->\n      <g transform=\"translate(7.2 140.192192)scale(0.1 -0.1)\">\n       <use xlink:href=\"#DejaVuSans-50\"/>\n       <use x=\"63.623047\" xlink:href=\"#DejaVuSans-46\"/>\n       <use x=\"95.410156\" xlink:href=\"#DejaVuSans-48\"/>\n      </g>\n     </g>\n    </g>\n    <g id=\"ytick_5\">\n     <g id=\"line2d_14\">\n      <g>\n       <use style=\"stroke:#000000;stroke-width:0.8;\" x=\"30.103125\" xlink:href=\"#m65641e505c\" y=\"108.456085\"/>\n      </g>\n     </g>\n     <g id=\"text_14\">\n      <!-- 2.2 -->\n      <g transform=\"translate(7.2 112.255304)scale(0.1 -0.1)\">\n       <use xlink:href=\"#DejaVuSans-50\"/>\n       <use x=\"63.623047\" xlink:href=\"#DejaVuSans-46\"/>\n       <use x=\"95.410156\" xlink:href=\"#DejaVuSans-50\"/>\n      </g>\n     </g>\n    </g>\n    <g id=\"ytick_6\">\n     <g id=\"line2d_15\">\n      <g>\n       <use style=\"stroke:#000000;stroke-width:0.8;\" x=\"30.103125\" xlink:href=\"#m65641e505c\" y=\"80.519196\"/>\n      </g>\n     </g>\n     <g id=\"text_15\">\n      <!-- 2.4 -->\n      <g transform=\"translate(7.2 84.318415)scale(0.1 -0.1)\">\n       <use xlink:href=\"#DejaVuSans-50\"/>\n       <use x=\"63.623047\" xlink:href=\"#DejaVuSans-46\"/>\n       <use x=\"95.410156\" xlink:href=\"#DejaVuSans-52\"/>\n      </g>\n     </g>\n    </g>\n    <g id=\"ytick_7\">\n     <g id=\"line2d_16\">\n      <g>\n       <use style=\"stroke:#000000;stroke-width:0.8;\" x=\"30.103125\" xlink:href=\"#m65641e505c\" y=\"52.582308\"/>\n      </g>\n     </g>\n     <g id=\"text_16\">\n      <!-- 2.6 -->\n      <g transform=\"translate(7.2 56.381526)scale(0.1 -0.1)\">\n       <use xlink:href=\"#DejaVuSans-50\"/>\n       <use x=\"63.623047\" xlink:href=\"#DejaVuSans-46\"/>\n       <use x=\"95.410156\" xlink:href=\"#DejaVuSans-54\"/>\n      </g>\n     </g>\n    </g>\n    <g id=\"ytick_8\">\n     <g id=\"line2d_17\">\n      <g>\n       <use style=\"stroke:#000000;stroke-width:0.8;\" x=\"30.103125\" xlink:href=\"#m65641e505c\" y=\"24.645419\"/>\n      </g>\n     </g>\n     <g id=\"text_17\">\n      <!-- 2.8 -->\n      <g transform=\"translate(7.2 28.444638)scale(0.1 -0.1)\">\n       <use xlink:href=\"#DejaVuSans-50\"/>\n       <use x=\"63.623047\" xlink:href=\"#DejaVuSans-46\"/>\n       <use x=\"95.410156\" xlink:href=\"#DejaVuSans-56\"/>\n      </g>\n     </g>\n    </g>\n   </g>\n   <g id=\"line2d_18\">\n    <path clip-path=\"url(#pb41f934a97)\" d=\"M 45.321307 17.083636 \nL 46.850772 50.959159 \nL 49.909703 70.393431 \nL 51.439169 76.695382 \nL 52.968634 84.613662 \nL 54.4981 86.637904 \nL 56.027565 95.911255 \nL 57.557031 90.935524 \nL 59.086496 90.562787 \nL 60.615962 100.380671 \nL 62.145427 99.924904 \nL 63.674893 104.003856 \nL 65.204358 112.390659 \nL 66.733824 111.494065 \nL 68.263289 107.060963 \nL 69.792755 111.427993 \nL 71.32222 110.77354 \nL 72.851686 118.273439 \nL 74.381151 126.405252 \nL 75.910617 114.699202 \nL 77.440083 126.224036 \nL 78.969548 116.913877 \nL 80.499014 133.342775 \nL 82.028479 125.872029 \nL 83.557945 128.868805 \nL 85.08741 137.642449 \nL 86.616876 131.424724 \nL 88.146341 134.714834 \nL 89.675807 135.576473 \nL 91.205272 145.600986 \nL 92.734738 134.082081 \nL 94.264203 144.11437 \nL 95.793669 138.303275 \nL 97.323134 136.568193 \nL 98.8526 143.987698 \nL 100.382065 148.919411 \nL 101.911531 145.779216 \nL 103.440996 141.142567 \nL 104.970462 153.176162 \nL 106.499927 154.741062 \nL 108.029393 153.700909 \nL 109.558858 153.682461 \nL 111.088324 154.365337 \nL 112.617789 156.747363 \nL 114.147255 160.981435 \nL 115.67672 153.970314 \nL 117.206186 152.120877 \nL 118.735651 160.148961 \nL 120.265117 158.403054 \nL 121.794582 161.670663 \nL 123.324048 164.378444 \nL 124.853513 159.870809 \nL 126.382979 162.46609 \nL 127.912444 169.639566 \nL 129.44191 166.872706 \nL 130.971375 162.486304 \nL 132.500841 162.353779 \nL 135.559772 172.392673 \nL 137.089237 171.896315 \nL 138.618703 170.678829 \nL 140.148168 164.702529 \nL 143.207099 172.977557 \nL 144.736565 170.363992 \nL 146.26603 171.830317 \nL 147.795496 176.671437 \nL 149.324961 182.482707 \nL 150.854427 170.785431 \nL 152.383892 180.996679 \nL 153.913358 174.189417 \nL 155.442823 172.752107 \nL 156.972289 178.502165 \nL 158.501755 176.350697 \nL 160.03122 185.283279 \nL 161.560686 180.092632 \nL 163.090151 178.106499 \nL 164.619617 181.979641 \nL 166.149082 181.586331 \nL 167.678548 182.107039 \nL 169.208013 188.882066 \nL 170.737479 180.974594 \nL 172.266944 189.760633 \nL 173.79641 185.337345 \nL 175.325875 183.301784 \nL 176.855341 177.24713 \nL 178.384806 188.33876 \nL 179.914272 183.563254 \nL 181.443737 184.634572 \nL 182.973203 177.521186 \nL 184.502668 189.024359 \nL 186.032134 188.681295 \nL 187.561599 187.347102 \nL 189.091065 191.693617 \nL 190.62053 184.644312 \nL 192.149996 189.466855 \nL 193.679461 191.66882 \nL 195.208927 197.922484 \nL 196.738392 189.488316 \nL 198.267858 191.442812 \nL 199.797323 185.67468 \nL 201.326789 193.331591 \nL 202.856254 198.370145 \nL 204.38572 190.697266 \nL 205.915185 192.645882 \nL 207.444651 189.139158 \nL 208.974116 194.072664 \nL 210.503582 185.929667 \nL 212.033047 199.850653 \nL 213.562513 191.317835 \nL 215.091978 186.165213 \nL 216.621444 199.133679 \nL 218.150909 184.493857 \nL 219.680375 194.294644 \nL 221.20984 195.827159 \nL 222.739306 193.845718 \nL 224.268771 197.261279 \nL 225.798237 203.670691 \nL 227.327702 189.323846 \nL 228.857168 191.773311 \nL 230.386633 192.300174 \nL 231.916099 190.138162 \nL 233.445564 205.530448 \nL 234.97503 202.318347 \nL 236.504495 194.285146 \nL 238.033961 199.492929 \nL 241.092892 199.643792 \nL 242.622358 199.995413 \nL 244.151823 195.940598 \nL 245.681289 204.134355 \nL 247.210754 193.328672 \nL 248.74022 197.694221 \nL 250.269685 193.543362 \nL 251.799151 194.621861 \nL 253.328616 195.271826 \nL 254.858082 199.005687 \nL 256.387547 192.803972 \nL 257.917013 195.906909 \nL 259.446478 194.882835 \nL 260.975944 201.194152 \nL 262.505409 198.859001 \nL 264.034875 200.112494 \nL 265.56434 201.110238 \nL 267.093806 194.965343 \nL 268.623271 198.509699 \nL 270.152737 197.155712 \nL 271.682202 202.219603 \nL 273.211668 196.18413 \nL 274.741133 203.053959 \nL 276.270599 201.357603 \nL 277.800064 196.916178 \nL 279.32953 200.303235 \nL 280.858995 211.104264 \nL 282.388461 204.593716 \nL 283.917926 201.653746 \nL 285.447392 203.839557 \nL 286.976857 207.645266 \nL 288.506323 207.311684 \nL 290.035788 195.161172 \nL 291.565254 204.361942 \nL 293.094719 205.261666 \nL 294.624185 202.352802 \nL 296.15365 214.756364 \nL 297.683116 199.81009 \nL 299.212581 201.996497 \nL 300.742047 204.816394 \nL 302.271512 209.978775 \nL 303.800978 210.648949 \nL 305.330443 209.442782 \nL 306.859909 209.034128 \nL 308.389374 203.858243 \nL 309.91884 208.857793 \nL 311.448305 205.339827 \nL 312.977771 202.351546 \nL 314.507236 212.048905 \nL 316.036702 214.687914 \nL 317.566167 210.254136 \nL 319.095633 203.801304 \nL 320.625099 206.665269 \nL 322.154564 205.041242 \nL 323.68403 204.268692 \nL 325.213495 209.683651 \nL 326.742961 202.73913 \nL 329.801892 207.284236 \nL 331.331357 209.226664 \nL 332.860823 202.850333 \nL 334.390288 206.355047 \nL 335.919754 208.31192 \nL 337.449219 203.001339 \nL 338.978685 206.832994 \nL 340.50815 209.894394 \nL 342.037616 206.608821 \nL 343.567081 207.970317 \nL 345.096547 211.928132 \nL 346.626012 212.66528 \nL 348.155478 209.191307 \nL 349.684943 205.202411 \nL 349.684943 205.202411 \n\" style=\"fill:none;stroke:#1f77b4;stroke-linecap:square;stroke-width:1.5;\"/>\n   </g>\n   <g id=\"patch_3\">\n    <path d=\"M 30.103125 224.64 \nL 30.103125 7.2 \n\" style=\"fill:none;stroke:#000000;stroke-linecap:square;stroke-linejoin:miter;stroke-width:0.8;\"/>\n   </g>\n   <g id=\"patch_4\">\n    <path d=\"M 364.903125 224.64 \nL 364.903125 7.2 \n\" style=\"fill:none;stroke:#000000;stroke-linecap:square;stroke-linejoin:miter;stroke-width:0.8;\"/>\n   </g>\n   <g id=\"patch_5\">\n    <path d=\"M 30.103125 224.64 \nL 364.903125 224.64 \n\" style=\"fill:none;stroke:#000000;stroke-linecap:square;stroke-linejoin:miter;stroke-width:0.8;\"/>\n   </g>\n   <g id=\"patch_6\">\n    <path d=\"M 30.103125 7.2 \nL 364.903125 7.2 \n\" style=\"fill:none;stroke:#000000;stroke-linecap:square;stroke-linejoin:miter;stroke-width:0.8;\"/>\n   </g>\n  </g>\n </g>\n <defs>\n  <clipPath id=\"pb41f934a97\">\n   <rect height=\"217.44\" width=\"334.8\" x=\"30.103125\" y=\"7.2\"/>\n  </clipPath>\n </defs>\n</svg>\n",
      "image/png": "[encoded data removed]"
     },
     "metadata": {
      "needs_background": "light"
     }
    }
   ],
   "source": [
    "import matplotlib.pyplot as plt\n",
    "%matplotlib inline\n",
    "\n",
    "plt.plot(all_losses)"
   ]
  },
  {
   "cell_type": "markdown",
   "metadata": {},
   "source": [
    "# Sampling the Network"
   ]
  },
  {
   "cell_type": "code",
   "execution_count": 15,
   "metadata": {},
   "outputs": [
    {
     "output_type": "stream",
     "name": "stdout",
     "text": "['Rudamakin', 'Uran', 'Shinov']\n['Grost', 'Est', 'Romen']\n['Santiago', 'Pareio', 'Alves']\n['Essley', 'Nigger', 'Gander']\n['Chu', 'Huo', 'Ins']\n"
    }
   ],
   "source": [
    "def sample(cate, start='A', max_len=20):\n",
    "    with torch.no_grad():\n",
    "        cate_emb = category2tensor(cate)\n",
    "        name_emb = line2input_tensor(start)\n",
    "        li_list = NG.generate(cate_emb, name_emb, n_letters, max_len=max_len)\n",
    "        \n",
    "    return start + \"\".join([all_letters[li] for li in li_list])\n",
    "\n",
    "\n",
    "\n",
    "max_len = 20\n",
    "NG.eval()\n",
    "\n",
    "print([sample('Russian', start) for start in 'RUS'])\n",
    "print([sample('German', start) for start in 'GER'])\n",
    "print([sample('Spanish', start) for start in 'SPA'])\n",
    "print([sample('English', start) for start in 'ENG'])\n",
    "print([sample('Chinese', start) for start in 'CHI'])"
   ]
  },
  {
   "cell_type": "code",
   "execution_count": 16,
   "metadata": {},
   "outputs": [
    {
     "output_type": "stream",
     "name": "stdout",
     "text": "German Knef\ntensor([14,  4,  8, 58])\nKoei<EOS>\n"
    }
   ],
   "source": [
    "with torch.no_grad():\n",
    "    cate, name = random_cate_name()\n",
    "    print(cate, name)\n",
    "\n",
    "    cate_emb = category2tensor(cate)\n",
    "    name_emb = line2input_tensor(name)\n",
    "\n",
    "    li_list = NG(cate_emb, name_emb).argmax(dim=-1)\n",
    "    print(li_list)\n",
    "    print(name[0] + \"\".join([all_letters[li] if li < n_letters-1 else '<EOS>' for li in li_list]))"
   ]
  },
  {
   "cell_type": "code",
   "execution_count": null,
   "metadata": {},
   "outputs": [],
   "source": []
  }
 ],
 "metadata": {
  "language_info": {
   "codemirror_mode": {
    "name": "ipython",
    "version": 3
   },
   "file_extension": ".py",
   "mimetype": "text/x-python",
   "name": "python",
   "nbconvert_exporter": "python",
   "pygments_lexer": "ipython3",
   "version": "3.8.3-final"
  },
  "orig_nbformat": 2,
  "kernelspec": {
   "name": "python3",
   "display_name": "Python 3"
  }
 },
 "nbformat": 4,
 "nbformat_minor": 2
}