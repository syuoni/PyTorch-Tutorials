{
 "cells": [
  {
   "cell_type": "code",
   "execution_count": 1,
   "metadata": {},
   "outputs": [],
   "source": [
    "import random\n",
    "import numpy as np\n",
    "import torch\n",
    "import torch.nn as nn\n",
    "import torch.nn.functional as F\n",
    "import torch.optim as optim\n",
    "\n",
    "SEED = 515\n",
    "random.seed(SEED)\n",
    "np.random.seed(SEED)\n",
    "torch.manual_seed(SEED)\n",
    "torch.backends.cudnn.deterministic = True"
   ]
  },
  {
   "cell_type": "markdown",
   "metadata": {},
   "source": [
    "## Preparing Data"
   ]
  },
  {
   "cell_type": "code",
   "execution_count": 2,
   "metadata": {},
   "outputs": [],
   "source": [
    "from torchtext.data import Field, BucketIterator\n",
    "\n",
    "# Refs: https://github.com/pytorch/text/blob/master/test/sequence_tagging.py\n",
    "TEXT = Field(lower=True, include_lengths=True)\n",
    "# There exist unknown token... (e.g., 'I-PRT')\n",
    "CHUNK_TAGS = Field(include_lengths=True)"
   ]
  },
  {
   "cell_type": "code",
   "execution_count": 3,
   "metadata": {
    "tags": []
   },
   "outputs": [],
   "source": [
    "from torchtext.datasets import CoNLL2000Chunking\n",
    "\n",
    "fields = [('text', TEXT), (None, None), ('tags', CHUNK_TAGS)]\n",
    "train_data, valid_data, test_data = CoNLL2000Chunking.splits(fields=fields, root='data/')"
   ]
  },
  {
   "cell_type": "code",
   "execution_count": 4,
   "metadata": {
    "tags": []
   },
   "outputs": [
    {
     "output_type": "stream",
     "name": "stdout",
     "text": "['construction', 'of', 'apartments', 'and', 'other', 'multi-family', 'dwellings', 'slipped', '2.2', '%', 'to', 'an', 'annual', 'rate', 'of', '1,022,000', 'following', 'a', '3.5', '%', 'decline', 'in', 'august', '.']\n['B-NP', 'B-PP', 'B-NP', 'O', 'B-NP', 'I-NP', 'I-NP', 'B-VP', 'B-NP', 'I-NP', 'B-PP', 'B-NP', 'I-NP', 'I-NP', 'B-PP', 'B-NP', 'B-PP', 'B-NP', 'I-NP', 'I-NP', 'I-NP', 'B-PP', 'B-NP', 'O']\n"
    }
   ],
   "source": [
    "print(train_data[0].text)\n",
    "print(train_data[0].tags)"
   ]
  },
  {
   "cell_type": "code",
   "execution_count": 5,
   "metadata": {
    "tags": []
   },
   "outputs": [
    {
     "output_type": "stream",
     "name": "stdout",
     "text": "8389 23\n['<unk>', '<pad>', 'I-NP', 'B-NP', 'O', 'B-VP', 'B-PP', 'I-VP', 'B-ADVP', 'B-SBAR', 'B-ADJP', 'I-ADJP', 'B-PRT', 'I-ADVP', 'I-PP', 'I-CONJP', 'I-SBAR', 'B-CONJP', 'B-INTJ', 'B-LST', 'I-INTJ', 'I-UCP', 'B-UCP']\n"
    }
   ],
   "source": [
    "TEXT.build_vocab(train_data, min_freq=2, \n",
    "                 vectors=\"glove.6B.100d\", vectors_cache=\"vector_cache\", \n",
    "                 unk_init=torch.Tensor.normal_)\n",
    "\n",
    "CHUNK_TAGS.build_vocab(train_data)\n",
    "\n",
    "print(len(TEXT.vocab), len(CHUNK_TAGS.vocab))\n",
    "print(CHUNK_TAGS.vocab.itos)"
   ]
  },
  {
   "cell_type": "code",
   "execution_count": 6,
   "metadata": {},
   "outputs": [],
   "source": [
    "BATCH_SIZE = 128\n",
    "\n",
    "device = torch.device('cuda:3' if torch.cuda.is_available() else 'cpu')\n",
    "\n",
    "train_iterator, valid_iterator, test_iterator = BucketIterator.splits(\n",
    "    (train_data, valid_data, test_data), \n",
    "    batch_size=BATCH_SIZE, device=device)"
   ]
  },
  {
   "cell_type": "code",
   "execution_count": 7,
   "metadata": {
    "tags": []
   },
   "outputs": [
    {
     "output_type": "stream",
     "name": "stdout",
     "text": "tensor([[   8,   64, 4318,  ...,   80,    8, 2301],\n        [   0, 6733, 2373,  ..., 1133,   32, 2891],\n        [   2, 3291,   32,  ...,    2, 2370,   14],\n        ...,\n        [   1,    1,    1,  ...,    1,    1,    1],\n        [   1,    1,    1,  ...,    1,    1,    1],\n        [   1,    1,    1,  ...,    1,    1,    1]], device='cuda:3')\ntensor([26, 11, 33, 21, 27, 15, 11, 33, 14,  9, 24, 27, 11, 25, 28, 34, 13, 22,\n        31, 31, 32,  5, 14, 42, 17, 24, 29, 32, 37, 21, 14, 23, 26, 29,  3, 10,\n        44, 23, 27, 24, 22, 12, 19, 39, 30, 16, 21, 31, 12, 23, 43, 26, 25, 27,\n        15, 27, 33,  9, 15,  9, 10, 53,  6,  9, 41, 25, 11, 18, 20, 13, 18,  9,\n        20, 51, 14, 16, 13, 28, 22, 29, 24, 32, 18, 17, 18, 31, 34, 32, 26, 10,\n        20,  2, 41,  6, 24, 24, 21, 26, 27, 21, 14, 31, 20, 33, 14, 28, 33, 37,\n        19, 22, 23, 26, 21,  7, 20,  8, 38, 18, 13, 22, 10, 37, 19, 16,  6, 18,\n        27, 31], device='cuda:3')\ntensor([[6, 3, 3,  ..., 3, 6, 3],\n        [3, 2, 5,  ..., 2, 3, 5],\n        [4, 5, 3,  ..., 4, 2, 3],\n        ...,\n        [1, 1, 1,  ..., 1, 1, 1],\n        [1, 1, 1,  ..., 1, 1, 1],\n        [1, 1, 1,  ..., 1, 1, 1]], device='cuda:3')\ntensor([26, 11, 33, 21, 27, 15, 11, 33, 14,  9, 24, 27, 11, 25, 28, 34, 13, 22,\n        31, 31, 32,  5, 14, 42, 17, 24, 29, 32, 37, 21, 14, 23, 26, 29,  3, 10,\n        44, 23, 27, 24, 22, 12, 19, 39, 30, 16, 21, 31, 12, 23, 43, 26, 25, 27,\n        15, 27, 33,  9, 15,  9, 10, 53,  6,  9, 41, 25, 11, 18, 20, 13, 18,  9,\n        20, 51, 14, 16, 13, 28, 22, 29, 24, 32, 18, 17, 18, 31, 34, 32, 26, 10,\n        20,  2, 41,  6, 24, 24, 21, 26, 27, 21, 14, 31, 20, 33, 14, 28, 33, 37,\n        19, 22, 23, 26, 21,  7, 20,  8, 38, 18, 13, 22, 10, 37, 19, 16,  6, 18,\n        27, 31], device='cuda:3')\n"
    }
   ],
   "source": [
    "for batch in train_iterator:\n",
    "    batch_text, batch_text_lens = batch.text\n",
    "    batch_tags, batch_tags_lens = batch.tags\n",
    "    break\n",
    "\n",
    "print(batch_text)\n",
    "print(batch_text_lens)\n",
    "print(batch_tags)\n",
    "print(batch_tags_lens)"
   ]
  },
  {
   "cell_type": "markdown",
   "metadata": {},
   "source": [
    "## Building the Model - BiLSTM"
   ]
  },
  {
   "cell_type": "code",
   "execution_count": 8,
   "metadata": {},
   "outputs": [],
   "source": [
    "class PoSTagger(nn.Module):\n",
    "    def __init__(self, voc_dim, emb_dim, hid_dim, tag_dim, n_layers, bidirect, dropout, pad_idx):\n",
    "        super().__init__()\n",
    "        self.emb = nn.Embedding(voc_dim, emb_dim, padding_idx=pad_idx)\n",
    "        self.rnn = nn.LSTM(emb_dim, hid_dim, num_layers=n_layers, \n",
    "                           bidirectional=bidirect, dropout=dropout)\n",
    "        self.fc = nn.Linear(hid_dim*2 if bidirect else hid_dim, tag_dim)\n",
    "        self.dropout = nn.Dropout(dropout)\n",
    "\n",
    "    def forward(self, text, text_lens):\n",
    "        # text: (step, batch)\n",
    "        embedded = self.dropout(self.emb(text))\n",
    "        # Pack sequence\n",
    "        packed_embedded = nn.utils.rnn.pack_padded_sequence(embedded, text_lens, enforce_sorted=False)\n",
    "        # hidden: (num_layers*num_directions, batch, hid_dim)\n",
    "        packed_outs, (hidden, cell) = self.rnn(packed_embedded)\n",
    "        # Unpack sequence\n",
    "        # outs: (step, batch, hid_dim)\n",
    "        outs, out_lens = nn.utils.rnn.pad_packed_sequence(packed_outs)\n",
    "\n",
    "        # preds: (step, batch, tag_dim)\n",
    "        preds = self.fc(self.dropout(outs))\n",
    "        return preds"
   ]
  },
  {
   "cell_type": "code",
   "execution_count": 9,
   "metadata": {
    "tags": []
   },
   "outputs": [
    {
     "output_type": "stream",
     "name": "stdout",
     "text": "torch.Size([53, 128])\ntorch.Size([53, 128, 23])\n"
    }
   ],
   "source": [
    "VOC_DIM = len(TEXT.vocab)\n",
    "EMB_DIM = 100\n",
    "HID_DIM = 128\n",
    "TAG_DIM = len(CHUNK_TAGS.vocab)\n",
    "\n",
    "N_LAYERS = 2\n",
    "BIDIRECT = True\n",
    "DROPOUT = 0.25\n",
    "TEXT_PAD_IDX = TEXT.vocab.stoi[TEXT.pad_token]\n",
    "TAG_PAD_IDX = CHUNK_TAGS.vocab.stoi[CHUNK_TAGS.pad_token]\n",
    "\n",
    "\n",
    "tagger = PoSTagger(VOC_DIM, EMB_DIM, HID_DIM, TAG_DIM, \n",
    "                   N_LAYERS, BIDIRECT, DROPOUT, TEXT_PAD_IDX).to(device)\n",
    "preds = tagger(batch_text, batch_text_lens)\n",
    "\n",
    "print(batch_text.size())\n",
    "print(preds.size())"
   ]
  },
  {
   "cell_type": "markdown",
   "metadata": {},
   "source": [
    "## Training the Model - BiLSTM"
   ]
  },
  {
   "cell_type": "code",
   "execution_count": 10,
   "metadata": {
    "tags": []
   },
   "outputs": [
    {
     "output_type": "stream",
     "name": "stdout",
     "text": "The model has 1,475,595 trainable parameters\n"
    }
   ],
   "source": [
    "def init_weights(m):\n",
    "    for name, param in m.named_parameters():\n",
    "        nn.init.normal_(param.data, mean=0, std=0.1)\n",
    "\n",
    "def count_parameters(model: nn.Module):\n",
    "    return sum(p.numel() for p in model.parameters() if p.requires_grad)\n",
    "\n",
    "\n",
    "tagger = PoSTagger(VOC_DIM, EMB_DIM, HID_DIM, TAG_DIM, \n",
    "                   N_LAYERS, BIDIRECT, DROPOUT, TEXT_PAD_IDX).to(device)\n",
    "\n",
    "tagger.apply(init_weights)\n",
    "print(f'The model has {count_parameters(tagger):,} trainable parameters')"
   ]
  },
  {
   "cell_type": "code",
   "execution_count": 11,
   "metadata": {
    "tags": []
   },
   "outputs": [
    {
     "output_type": "stream",
     "name": "stdout",
     "text": "torch.Size([8389, 100])\ntorch.Size([8389, 100])\ntensor([[ 0.0000,  0.0000,  0.0000,  0.0000,  0.0000,  0.0000,  0.0000,  0.0000],\n        [ 0.0000,  0.0000,  0.0000,  0.0000,  0.0000,  0.0000,  0.0000,  0.0000],\n        [-0.1077,  0.1105,  0.5981, -0.5436,  0.6740,  0.1066,  0.0389,  0.3548],\n        [-0.0382, -0.2449,  0.7281, -0.3996,  0.0832,  0.0440, -0.3914,  0.3344],\n        [-0.3398,  0.2094,  0.4635, -0.6479, -0.3838,  0.0380,  0.1713,  0.1598]],\n       device='cuda:3', grad_fn=<SliceBackward>)\n"
    }
   ],
   "source": [
    "# Initialize Embeddings with Pre-Trained Vectors\n",
    "print(TEXT.vocab.vectors.size())\n",
    "print(tagger.emb.weight.size())\n",
    "\n",
    "tagger.emb.weight.data.copy_(TEXT.vocab.vectors)\n",
    "\n",
    "TEXT_UNK_IDX = TEXT.vocab.stoi[TEXT.unk_token]\n",
    "tagger.emb.weight.data[TEXT_UNK_IDX].zero_()\n",
    "tagger.emb.weight.data[TEXT_PAD_IDX].zero_()\n",
    "\n",
    "print(tagger.emb.weight[:5, :8])"
   ]
  },
  {
   "cell_type": "code",
   "execution_count": 12,
   "metadata": {},
   "outputs": [],
   "source": [
    "loss_func = nn.CrossEntropyLoss(ignore_index=TAG_PAD_IDX, reduction='mean')\n",
    "optimizer = optim.AdamW(tagger.parameters())"
   ]
  },
  {
   "cell_type": "code",
   "execution_count": 13,
   "metadata": {},
   "outputs": [],
   "source": [
    "def train_epoch(tagger, iterator, optimizer, loss_func):\n",
    "    tagger.train()\n",
    "    epoch_loss = 0\n",
    "    epoch_acc = 0\n",
    "    for batch in iterator:\n",
    "        # Forward pass\n",
    "        text, text_lens = batch.text\n",
    "        tags, tags_lens = batch.tags\n",
    "        preds = tagger(text, text_lens)\n",
    "\n",
    "        # Calculate loss\n",
    "        preds_flattened = preds.view(-1, preds.size(-1))\n",
    "        tags_flattened = tags.flatten()\n",
    "        loss = loss_func(preds_flattened, tags_flattened)\n",
    "\n",
    "        # Backward propagation\n",
    "        optimizer.zero_grad()\n",
    "        loss.backward()\n",
    "        # Update weights\n",
    "        optimizer.step()\n",
    "        # Accumulate loss and acc\n",
    "        epoch_loss += loss.item()\n",
    "        non_padding = (tags_flattened != loss_func.ignore_index)\n",
    "        epoch_acc += (preds_flattened.argmax(dim=-1) == tags_flattened)[non_padding].sum().item() / non_padding.sum().item()\n",
    "    return epoch_loss/len(iterator), epoch_acc/len(iterator)\n",
    "\n",
    "def eval_epoch(tagger, iterator, loss_func):\n",
    "    tagger.eval()\n",
    "    epoch_loss = 0\n",
    "    epoch_acc = 0\n",
    "    with torch.no_grad():\n",
    "        for batch in iterator:\n",
    "            # Forward pass\n",
    "            text, text_lens = batch.text\n",
    "            tags, tags_lens = batch.tags\n",
    "            preds = tagger(text, text_lens)\n",
    "\n",
    "            # Calculate loss\n",
    "            preds_flattened = preds.view(-1, preds.size(-1))\n",
    "            tags_flattened = tags.flatten()\n",
    "            loss = loss_func(preds_flattened, tags_flattened)\n",
    "            \n",
    "            # Accumulate loss and acc\n",
    "            epoch_loss += loss.item()\n",
    "            non_padding = (tags_flattened != loss_func.ignore_index)\n",
    "            epoch_acc += (preds_flattened.argmax(dim=-1) == tags_flattened)[non_padding].sum().item() / non_padding.sum().item()\n",
    "    return epoch_loss/len(iterator), epoch_acc/len(iterator)"
   ]
  },
  {
   "cell_type": "code",
   "execution_count": 14,
   "metadata": {
    "tags": []
   },
   "outputs": [
    {
     "output_type": "stream",
     "name": "stdout",
     "text": "Epoch: 01 | Epoch Time: 0m 3s\n\tTrain Loss: 1.443 | Train Acc: 51.89%\n\t Val. Loss: 0.667 |  Val. Acc: 80.78%\nEpoch: 02 | Epoch Time: 0m 3s\n\tTrain Loss: 0.555 | Train Acc: 83.67%\n\t Val. Loss: 0.393 |  Val. Acc: 88.49%\nEpoch: 03 | Epoch Time: 0m 4s\n\tTrain Loss: 0.388 | Train Acc: 88.65%\n\t Val. Loss: 0.308 |  Val. Acc: 90.93%\nEpoch: 04 | Epoch Time: 0m 3s\n\tTrain Loss: 0.312 | Train Acc: 90.77%\n\t Val. Loss: 0.264 |  Val. Acc: 92.22%\nEpoch: 05 | Epoch Time: 0m 3s\n\tTrain Loss: 0.267 | Train Acc: 92.03%\n\t Val. Loss: 0.237 |  Val. Acc: 93.05%\nEpoch: 06 | Epoch Time: 0m 3s\n\tTrain Loss: 0.237 | Train Acc: 92.89%\n\t Val. Loss: 0.223 |  Val. Acc: 93.36%\nEpoch: 07 | Epoch Time: 0m 4s\n\tTrain Loss: 0.214 | Train Acc: 93.56%\n\t Val. Loss: 0.212 |  Val. Acc: 93.84%\nEpoch: 08 | Epoch Time: 0m 3s\n\tTrain Loss: 0.195 | Train Acc: 94.17%\n\t Val. Loss: 0.200 |  Val. Acc: 94.14%\nEpoch: 09 | Epoch Time: 0m 3s\n\tTrain Loss: 0.177 | Train Acc: 94.66%\n\t Val. Loss: 0.188 |  Val. Acc: 94.27%\nEpoch: 10 | Epoch Time: 0m 4s\n\tTrain Loss: 0.167 | Train Acc: 94.95%\n\t Val. Loss: 0.185 |  Val. Acc: 94.37%\n"
    }
   ],
   "source": [
    "import time\n",
    "N_EPOCHS = 10\n",
    "best_valid_loss = np.inf\n",
    "\n",
    "for epoch in range(N_EPOCHS):\n",
    "    t0 = time.time()\n",
    "    train_loss, train_acc = train_epoch(tagger, train_iterator, optimizer, loss_func)\n",
    "    valid_loss, valid_acc = eval_epoch(tagger, valid_iterator, loss_func)\n",
    "    epoch_secs = time.time() - t0\n",
    "\n",
    "    epoch_mins, epoch_secs = int(epoch_secs // 60), int(epoch_secs % 60)\n",
    "    \n",
    "    if valid_loss < best_valid_loss:\n",
    "        best_valid_loss = valid_loss\n",
    "        torch.save(tagger.state_dict(), 'models/tut5-model-1.pt')\n",
    "    \n",
    "    print(f'Epoch: {epoch+1:02} | Epoch Time: {epoch_mins}m {epoch_secs}s')\n",
    "    print(f'\\tTrain Loss: {train_loss:.3f} | Train Acc: {train_acc*100:.2f}%')\n",
    "    print(f'\\t Val. Loss: {valid_loss:.3f} |  Val. Acc: {valid_acc*100:.2f}%')"
   ]
  },
  {
   "cell_type": "code",
   "execution_count": 15,
   "metadata": {
    "tags": []
   },
   "outputs": [
    {
     "output_type": "stream",
     "name": "stdout",
     "text": "Val. Loss: 0.185 | Val. Acc: 94.37%\nTest Loss: 0.183 | Test Acc: 94.74%\n"
    }
   ],
   "source": [
    "tagger.load_state_dict(torch.load('models/tut5-model-1.pt'))\n",
    "\n",
    "valid_loss, valid_acc = eval_epoch(tagger, valid_iterator, loss_func)\n",
    "test_loss, test_acc = eval_epoch(tagger, test_iterator, loss_func)\n",
    "\n",
    "print(f'Val. Loss: {valid_loss:.3f} | Val. Acc: {valid_acc*100:.2f}%')\n",
    "print(f'Test Loss: {test_loss:.3f} | Test Acc: {test_acc*100:.2f}%')"
   ]
  },
  {
   "cell_type": "markdown",
   "metadata": {},
   "source": [
    "## Building the Model - BiLSTM-CRF"
   ]
  },
  {
   "cell_type": "code",
   "execution_count": 16,
   "metadata": {},
   "outputs": [],
   "source": [
    "from torchcrf import CRF\n",
    "\n",
    "class PoSTagger(nn.Module):\n",
    "    def __init__(self, voc_dim, emb_dim, hid_dim, tag_dim, n_layers, bidirect, dropout, text_pad_idx):\n",
    "        super().__init__()\n",
    "        self.emb = nn.Embedding(voc_dim, emb_dim, padding_idx=text_pad_idx)\n",
    "        self.rnn = nn.LSTM(emb_dim, hid_dim, num_layers=n_layers, \n",
    "                           bidirectional=bidirect, dropout=dropout)\n",
    "        self.hid2tag = nn.Linear(hid_dim*2 if bidirect else hid_dim, tag_dim)\n",
    "        self.crf = CRF(tag_dim)\n",
    "        self.dropout = nn.Dropout(dropout)\n",
    "\n",
    "    def _get_rnn_features(self, text: torch.Tensor, seq_lens: torch.Tensor):\n",
    "        # embedded: (step, batch, emb_dim)\n",
    "        embedded = self.dropout(self.emb(text))\n",
    "        # Pack sequence\n",
    "        packed_embedded = nn.utils.rnn.pack_padded_sequence(embedded, seq_lens, enforce_sorted=False)\n",
    "        # hidden: (num_layers*num_directions, batch, hid_dim)\n",
    "        packed_outs, (hidden, cell) = self.rnn(packed_embedded)\n",
    "        # Unpack sequence\n",
    "        # outs: (step, batch, hid_dim)\n",
    "        outs, out_lens = nn.utils.rnn.pad_packed_sequence(packed_outs)\n",
    "\n",
    "        # feats: (step, batch, tag_dim)\n",
    "        feats = self.hid2tag(self.dropout(outs))\n",
    "        return feats\n",
    "\n",
    "    def forward(self, text: torch.Tensor, seq_lens: torch.Tensor, tags: torch.Tensor):\n",
    "        # text/mask: (step, batch)\n",
    "        mask = (text == self.emb.padding_idx)\n",
    "        feats = self._get_rnn_features(text, seq_lens)\n",
    "        \n",
    "        # losses: (batch)\n",
    "        losses = -self.crf(feats, tags, mask=(~mask).type(torch.uint8), reduction='none')\n",
    "        return losses\n",
    "\n",
    "    def decode(self, text: torch.Tensor, seq_lens: torch.Tensor):\n",
    "        # text/mask: (step, batch)\n",
    "        mask = (text == self.emb.padding_idx)\n",
    "        feats = self._get_rnn_features(text, seq_lens)\n",
    "\n",
    "        best_paths = self.crf.decode(feats, mask=(~mask).type(torch.uint8))\n",
    "        return best_paths"
   ]
  },
  {
   "cell_type": "markdown",
   "metadata": {},
   "source": [
    "## Training the Model - BiLSTM-CRF"
   ]
  },
  {
   "cell_type": "code",
   "execution_count": 17,
   "metadata": {
    "tags": []
   },
   "outputs": [
    {
     "output_type": "stream",
     "name": "stdout",
     "text": "The model has 1,476,170 trainable parameters\n"
    }
   ],
   "source": [
    "def init_weights(m):\n",
    "    for name, param in m.named_parameters():\n",
    "        # NOTE: The CRF parameters have already been initialized. \n",
    "        if not name.startswith('crf'):\n",
    "            nn.init.normal_(param.data, mean=0, std=0.1)\n",
    "\n",
    "def count_parameters(model: nn.Module):\n",
    "    return sum(p.numel() for p in model.parameters() if p.requires_grad)\n",
    "\n",
    "\n",
    "tagger = PoSTagger(VOC_DIM, EMB_DIM, HID_DIM, TAG_DIM, N_LAYERS, \n",
    "                   BIDIRECT, DROPOUT, TEXT_PAD_IDX).to(device)\n",
    "\n",
    "tagger.apply(init_weights)\n",
    "print(f'The model has {count_parameters(tagger):,} trainable parameters')"
   ]
  },
  {
   "cell_type": "code",
   "execution_count": 18,
   "metadata": {
    "tags": []
   },
   "outputs": [
    {
     "output_type": "stream",
     "name": "stdout",
     "text": "torch.Size([8389, 100])\ntorch.Size([8389, 100])\ntensor([[ 0.0000,  0.0000,  0.0000,  0.0000,  0.0000,  0.0000,  0.0000,  0.0000],\n        [ 0.0000,  0.0000,  0.0000,  0.0000,  0.0000,  0.0000,  0.0000,  0.0000],\n        [-0.1077,  0.1105,  0.5981, -0.5436,  0.6740,  0.1066,  0.0389,  0.3548],\n        [-0.0382, -0.2449,  0.7281, -0.3996,  0.0832,  0.0440, -0.3914,  0.3344],\n        [-0.3398,  0.2094,  0.4635, -0.6479, -0.3838,  0.0380,  0.1713,  0.1598]],\n       device='cuda:3', grad_fn=<SliceBackward>)\n"
    }
   ],
   "source": [
    "# Initialize Embeddings with Pre-Trained Vectors\n",
    "print(TEXT.vocab.vectors.size())\n",
    "print(tagger.emb.weight.size())\n",
    "\n",
    "tagger.emb.weight.data.copy_(TEXT.vocab.vectors)\n",
    "\n",
    "TEXT_UNK_IDX = TEXT.vocab.stoi[TEXT.unk_token]\n",
    "tagger.emb.weight.data[TEXT_UNK_IDX].zero_()\n",
    "tagger.emb.weight.data[TEXT_PAD_IDX].zero_()\n",
    "\n",
    "print(tagger.emb.weight[:5, :8])"
   ]
  },
  {
   "cell_type": "code",
   "execution_count": 19,
   "metadata": {},
   "outputs": [],
   "source": [
    "optimizer = optim.AdamW(tagger.parameters())"
   ]
  },
  {
   "cell_type": "code",
   "execution_count": 20,
   "metadata": {},
   "outputs": [],
   "source": [
    "def train_epoch(tagger, iterator, optimizer):\n",
    "    tagger.train()\n",
    "    epoch_loss = 0\n",
    "    epoch_acc = 0\n",
    "    for batch in iterator:\n",
    "        # Forward pass & Calculate loss\n",
    "        text, text_lens = batch.text\n",
    "        tags, tags_lens = batch.tags\n",
    "        losses = tagger(text, text_lens, tags)\n",
    "        loss = losses.mean()\n",
    "\n",
    "        # Backward propagation\n",
    "        optimizer.zero_grad()\n",
    "        loss.backward()\n",
    "        # Update weights\n",
    "        optimizer.step()\n",
    "        # Accumulate loss and acc\n",
    "        epoch_loss += loss.item()\n",
    "\n",
    "        best_paths = tagger.decode(text, text_lens)\n",
    "        best_paths = torch.tensor([path + [TAG_PAD_IDX]*(tags.size(0)-len(path)) for path in best_paths], device=device).T\n",
    "        non_padding = (tags != TAG_PAD_IDX)\n",
    "        epoch_acc += (best_paths == tags)[non_padding].sum().item() / non_padding.sum().item()\n",
    "    return epoch_loss/len(iterator), epoch_acc/len(iterator)\n",
    "\n",
    "def eval_epoch(tagger, iterator):\n",
    "    tagger.eval()\n",
    "    epoch_loss = 0\n",
    "    epoch_acc = 0\n",
    "    with torch.no_grad():\n",
    "        for batch in iterator:\n",
    "            # Forward pass & Calculate loss\n",
    "            text, text_lens = batch.text\n",
    "            tags, tags_lens = batch.tags\n",
    "            losses = tagger(text, text_lens, tags)\n",
    "            loss = losses.mean()\n",
    "            \n",
    "            # Accumulate loss and acc\n",
    "            epoch_loss += loss.item()\n",
    "\n",
    "            best_paths = tagger.decode(text, text_lens)\n",
    "            best_paths = torch.tensor([path + [TAG_PAD_IDX]*(tags.size(0)-len(path)) for path in best_paths], device=device).T\n",
    "            non_padding = (tags != TAG_PAD_IDX)\n",
    "            epoch_acc += (best_paths == tags)[non_padding].sum().item() / non_padding.sum().item()\n",
    "    return epoch_loss/len(iterator), epoch_acc/len(iterator)"
   ]
  },
  {
   "cell_type": "code",
   "execution_count": 21,
   "metadata": {
    "tags": []
   },
   "outputs": [
    {
     "output_type": "stream",
     "name": "stdout",
     "text": "Epoch: 01 | Epoch Time: 0m 19s\n\tTrain Loss: 33.339 | Train Acc: 55.11%\n\t Val. Loss: 15.287 |  Val. Acc: 81.67%\nEpoch: 02 | Epoch Time: 0m 20s\n\tTrain Loss: 12.655 | Train Acc: 84.45%\n\t Val. Loss: 9.080 |  Val. Acc: 88.67%\nEpoch: 03 | Epoch Time: 0m 18s\n\tTrain Loss: 8.909 | Train Acc: 88.95%\n\t Val. Loss: 7.097 |  Val. Acc: 91.06%\nEpoch: 04 | Epoch Time: 0m 17s\n\tTrain Loss: 7.144 | Train Acc: 90.99%\n\t Val. Loss: 6.036 |  Val. Acc: 92.41%\nEpoch: 05 | Epoch Time: 0m 19s\n\tTrain Loss: 6.076 | Train Acc: 92.24%\n\t Val. Loss: 5.463 |  Val. Acc: 92.96%\nEpoch: 06 | Epoch Time: 0m 19s\n\tTrain Loss: 5.355 | Train Acc: 93.18%\n\t Val. Loss: 4.979 |  Val. Acc: 93.66%\nEpoch: 07 | Epoch Time: 0m 19s\n\tTrain Loss: 4.774 | Train Acc: 93.83%\n\t Val. Loss: 4.641 |  Val. Acc: 93.89%\nEpoch: 08 | Epoch Time: 0m 20s\n\tTrain Loss: 4.325 | Train Acc: 94.34%\n\t Val. Loss: 4.422 |  Val. Acc: 94.27%\nEpoch: 09 | Epoch Time: 0m 19s\n\tTrain Loss: 3.978 | Train Acc: 94.80%\n\t Val. Loss: 4.287 |  Val. Acc: 94.38%\nEpoch: 10 | Epoch Time: 0m 18s\n\tTrain Loss: 3.666 | Train Acc: 95.18%\n\t Val. Loss: 4.198 |  Val. Acc: 94.53%\n"
    }
   ],
   "source": [
    "import time\n",
    "N_EPOCHS = 10\n",
    "best_valid_loss = np.inf\n",
    "\n",
    "for epoch in range(N_EPOCHS):\n",
    "    t0 = time.time()\n",
    "    train_loss, train_acc = train_epoch(tagger, train_iterator, optimizer)\n",
    "    valid_loss, valid_acc = eval_epoch(tagger, valid_iterator)\n",
    "    epoch_secs = time.time() - t0\n",
    "\n",
    "    epoch_mins, epoch_secs = int(epoch_secs // 60), int(epoch_secs % 60)\n",
    "    \n",
    "    if valid_loss < best_valid_loss:\n",
    "        best_valid_loss = valid_loss\n",
    "        torch.save(tagger.state_dict(), 'models/tut5-model-2.pt')\n",
    "    \n",
    "    print(f'Epoch: {epoch+1:02} | Epoch Time: {epoch_mins}m {epoch_secs}s')\n",
    "    print(f'\\tTrain Loss: {train_loss:.3f} | Train Acc: {train_acc*100:.2f}%')\n",
    "    print(f'\\t Val. Loss: {valid_loss:.3f} |  Val. Acc: {valid_acc*100:.2f}%')"
   ]
  },
  {
   "cell_type": "code",
   "execution_count": 22,
   "metadata": {
    "tags": []
   },
   "outputs": [
    {
     "output_type": "stream",
     "name": "stdout",
     "text": "Val. Loss: 4.198 | Val. Acc: 94.53%\nTest Loss: 4.082 | Test Acc: 94.80%\n"
    }
   ],
   "source": [
    "tagger.load_state_dict(torch.load('models/tut5-model-2.pt'))\n",
    "\n",
    "valid_loss, valid_acc = eval_epoch(tagger, valid_iterator)\n",
    "test_loss, test_acc = eval_epoch(tagger, test_iterator)\n",
    "\n",
    "print(f'Val. Loss: {valid_loss:.3f} | Val. Acc: {valid_acc*100:.2f}%')\n",
    "print(f'Test Loss: {test_loss:.3f} | Test Acc: {test_acc*100:.2f}%')"
   ]
  },
  {
   "cell_type": "code",
   "execution_count": null,
   "metadata": {},
   "outputs": [],
   "source": []
  }
 ],
 "metadata": {
  "language_info": {
   "codemirror_mode": {
    "name": "ipython",
    "version": 3
   },
   "file_extension": ".py",
   "mimetype": "text/x-python",
   "name": "python",
   "nbconvert_exporter": "python",
   "pygments_lexer": "ipython3",
   "version": "3.7.6-final"
  },
  "orig_nbformat": 2,
  "kernelspec": {
   "name": "python3",
   "display_name": "Python 3"
  }
 },
 "nbformat": 4,
 "nbformat_minor": 2
}