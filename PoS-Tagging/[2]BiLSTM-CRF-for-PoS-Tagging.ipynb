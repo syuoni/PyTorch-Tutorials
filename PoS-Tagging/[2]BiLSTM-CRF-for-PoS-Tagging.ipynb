{
 "cells": [
  {
   "cell_type": "markdown",
   "metadata": {},
   "source": [
    "# BiLSTM for PoS Tagging\n",
    "\n",
    "A multi-layer bi-directional LSTM followed by a Conditional Random Field (CRF) for Part-of-Speech (PoS) Tagging.  "
   ]
  },
  {
   "cell_type": "code",
   "execution_count": 1,
   "metadata": {},
   "outputs": [],
   "source": [
    "import random\n",
    "import numpy as np\n",
    "import torch\n",
    "import torch.nn as nn\n",
    "import torch.nn.functional as F\n",
    "import torch.optim as optim\n",
    "\n",
    "SEED = 515\n",
    "random.seed(SEED)\n",
    "np.random.seed(SEED)\n",
    "torch.manual_seed(SEED)\n",
    "torch.backends.cudnn.deterministic = True"
   ]
  },
  {
   "cell_type": "markdown",
   "metadata": {},
   "source": [
    "## Preparing Data\n",
    "\n",
    "The dataset is Universal Dependencies English Web Treebank (UDPOS).  \n",
    "This dataset actually has two different sets of tags, [universal dependency (UD) tags](https://universaldependencies.org/u/pos/) and [Penn Treebank (PTB) tags](https://www.sketchengine.eu/penn-treebank-tagset/).  "
   ]
  },
  {
   "cell_type": "code",
   "execution_count": 2,
   "metadata": {},
   "outputs": [],
   "source": [
    "from torchtext.data import Field, BucketIterator\n",
    "\n",
    "TEXT = Field(lower=True, include_lengths=True)\n",
    "# Because the set of possible tags is finite, do NOT use unknown token for it. \n",
    "UD_TAGS = Field(unk_token=None, include_lengths=True)\n",
    "PTB_TAGS = Field(unk_token=None, include_lengths=True)"
   ]
  },
  {
   "cell_type": "code",
   "execution_count": 3,
   "metadata": {},
   "outputs": [],
   "source": [
    "from torchtext.datasets import UDPOS\n",
    "\n",
    "fields = [('text', TEXT), ('udtags', UD_TAGS), ('ptbtags', PTB_TAGS)]\n",
    "train_data, valid_data, test_data = UDPOS.splits(fields=fields, root='data/')"
   ]
  },
  {
   "cell_type": "code",
   "execution_count": 4,
   "metadata": {
    "tags": []
   },
   "outputs": [
    {
     "output_type": "stream",
     "name": "stdout",
     "text": "['al', '-', 'zaman', ':', 'american', 'forces', 'killed', 'shaikh', 'abdullah', 'al', '-', 'ani', ',', 'the', 'preacher', 'at', 'the', 'mosque', 'in', 'the', 'town', 'of', 'qaim', ',', 'near', 'the', 'syrian', 'border', '.']\n['PROPN', 'PUNCT', 'PROPN', 'PUNCT', 'ADJ', 'NOUN', 'VERB', 'PROPN', 'PROPN', 'PROPN', 'PUNCT', 'PROPN', 'PUNCT', 'DET', 'NOUN', 'ADP', 'DET', 'NOUN', 'ADP', 'DET', 'NOUN', 'ADP', 'PROPN', 'PUNCT', 'ADP', 'DET', 'ADJ', 'NOUN', 'PUNCT']\n['NNP', 'HYPH', 'NNP', ':', 'JJ', 'NNS', 'VBD', 'NNP', 'NNP', 'NNP', 'HYPH', 'NNP', ',', 'DT', 'NN', 'IN', 'DT', 'NN', 'IN', 'DT', 'NN', 'IN', 'NNP', ',', 'IN', 'DT', 'JJ', 'NN', '.']\n"
    }
   ],
   "source": [
    "print(train_data[0].text)\n",
    "print(train_data[0].udtags)\n",
    "print(train_data[0].ptbtags)"
   ]
  },
  {
   "cell_type": "code",
   "execution_count": 5,
   "metadata": {
    "tags": []
   },
   "outputs": [
    {
     "output_type": "stream",
     "name": "stdout",
     "text": "8866 18 51\n['<pad>', 'NOUN', 'PUNCT', 'VERB', 'PRON', 'ADP', 'DET', 'PROPN', 'ADJ', 'AUX', 'ADV', 'CCONJ', 'PART', 'NUM', 'SCONJ', 'X', 'INTJ', 'SYM']\n"
    }
   ],
   "source": [
    "TEXT.build_vocab(train_data, min_freq=2, \n",
    "                 vectors=\"glove.6B.100d\", vectors_cache=\"vector_cache\", \n",
    "                 unk_init=torch.Tensor.normal_)\n",
    "\n",
    "UD_TAGS.build_vocab(train_data)\n",
    "PTB_TAGS.build_vocab(train_data)\n",
    "\n",
    "print(len(TEXT.vocab), len(UD_TAGS.vocab), len(PTB_TAGS.vocab))\n",
    "print(UD_TAGS.vocab.itos)"
   ]
  },
  {
   "cell_type": "code",
   "execution_count": 6,
   "metadata": {},
   "outputs": [],
   "source": [
    "BATCH_SIZE = 128\n",
    "\n",
    "device = torch.device('cuda' if torch.cuda.is_available() else 'cpu')\n",
    "\n",
    "train_iterator, valid_iterator, test_iterator = BucketIterator.splits(\n",
    "    (train_data, valid_data, test_data), \n",
    "    batch_size=BATCH_SIZE, device=device)"
   ]
  },
  {
   "cell_type": "code",
   "execution_count": 7,
   "metadata": {
    "tags": []
   },
   "outputs": [
    {
     "output_type": "stream",
     "name": "stdout",
     "text": "tensor([[  27,   56,  116,  ...,  127,    9, 3715],\n        [  12,  244,    4,  ...,    4,   76,    1],\n        [  73,   13,    1,  ...,    1, 1904,    1],\n        ...,\n        [   1,    1,    1,  ...,    1,    1,    1],\n        [   1,    1,    1,  ...,    1,    1,    1],\n        [   1,    1,    1,  ...,    1,    1,    1]], device='cuda:0')\ntensor([19, 16,  2, 20, 44, 11, 29, 13, 10, 38, 22, 71, 17,  7, 15, 12,  7, 10,\n        12, 29, 20,  5, 42, 20, 25, 11, 11,  4, 22, 16, 31, 28,  2, 24, 60, 18,\n         4,  7,  4, 17, 26, 38, 34,  5,  2,  6,  1,  4, 23, 24, 33,  9, 16,  1,\n        20, 27, 26, 23, 20, 13, 14, 20, 29, 14,  7, 13,  6, 23, 15, 11, 14, 27,\n        31, 18,  2, 38, 52,  2,  2,  5,  7, 22,  7, 12, 16, 12,  5, 42, 18, 19,\n        15,  8, 11, 13,  3, 33,  7,  4,  7,  1, 25, 48, 20, 11,  2, 26, 22, 19,\n        21,  4, 12,  9, 33, 16, 15, 25, 10, 36,  3,  9,  5, 20, 17, 14,  4,  2,\n        19,  1], device='cuda:0')\ntensor([[14, 13,  8,  ...,  1,  4,  7],\n        [ 4,  1,  2,  ...,  2, 10,  0],\n        [ 3,  4,  0,  ...,  0,  3,  0],\n        ...,\n        [ 0,  0,  0,  ...,  0,  0,  0],\n        [ 0,  0,  0,  ...,  0,  0,  0],\n        [ 0,  0,  0,  ...,  0,  0,  0]], device='cuda:0')\ntensor([19, 16,  2, 20, 44, 11, 29, 13, 10, 38, 22, 71, 17,  7, 15, 12,  7, 10,\n        12, 29, 20,  5, 42, 20, 25, 11, 11,  4, 22, 16, 31, 28,  2, 24, 60, 18,\n         4,  7,  4, 17, 26, 38, 34,  5,  2,  6,  1,  4, 23, 24, 33,  9, 16,  1,\n        20, 27, 26, 23, 20, 13, 14, 20, 29, 14,  7, 13,  6, 23, 15, 11, 14, 27,\n        31, 18,  2, 38, 52,  2,  2,  5,  7, 22,  7, 12, 16, 12,  5, 42, 18, 19,\n        15,  8, 11, 13,  3, 33,  7,  4,  7,  1, 25, 48, 20, 11,  2, 26, 22, 19,\n        21,  4, 12,  9, 33, 16, 15, 25, 10, 36,  3,  9,  5, 20, 17, 14,  4,  2,\n        19,  1], device='cuda:0')\ntensor([True, True, True, True, True, True, True, True, True, True, True, True,\n        True, True, True, True, True, True, True, True, True, True, True, True,\n        True, True, True, True, True, True, True, True, True, True, True, True,\n        True, True, True, True, True, True, True, True, True, True, True, True,\n        True, True, True, True, True, True, True, True, True, True, True, True,\n        True, True, True, True, True, True, True, True, True, True, True, True,\n        True, True, True, True, True, True, True, True, True, True, True, True,\n        True, True, True, True, True, True, True, True, True, True, True, True,\n        True, True, True, True, True, True, True, True, True, True, True, True,\n        True, True, True, True, True, True, True, True, True, True, True, True,\n        True, True, True, True, True, True, True, True], device='cuda:0')\n"
    }
   ],
   "source": [
    "for batch in train_iterator:\n",
    "    batch_text, batch_text_lens = batch.text\n",
    "    batch_tags, batch_tags_lens = batch.udtags\n",
    "    break\n",
    "\n",
    "print(batch_text)\n",
    "print(batch_text_lens)\n",
    "print(batch_tags)\n",
    "print(batch_tags_lens)\n",
    "\n",
    "print(batch_text_lens == batch_tags_lens)"
   ]
  },
  {
   "cell_type": "code",
   "execution_count": 8,
   "metadata": {
    "tags": []
   },
   "outputs": [
    {
     "output_type": "stream",
     "name": "stdout",
     "text": "tensor([   3,    3,    4,    3,    3,   31,    3,    3,    3,    3,    3,    3,\n           3,    3,    3,    3,    3,    3,    3,   48,   51,    3,    3,    3,\n          18,    3,    3, 5557,    3,    3,    3,   48,   16,    3,    3,    3,\n           3,    3,   37,    3,    3,    3,    3,   51,    4,    3,    0,   37,\n           3,    3,    3,   51,    3,  732,    3,    3,    3,    3,    3,    3,\n           3,    3,    3,    3,    3,    3,  777,   51,    3,    3,    3,    3,\n           3,    3,   51,    3,   18, 3211,    0,    3,   31,    3, 3128,   37,\n           3,    3,    3,    3,    3,    3,    3,   37,   51,    3,  154,    3,\n           3,   37,  464,  812,    3,    3,    3,    3,    4,    3,    3,    3,\n           3,    3,    3,    3,    3,   18,    3,    3,    3,    3,   51,   31,\n        2450,    3,    3,    3,  146,    4,    3, 3715], device='cuda:0')\ntensor([ 2,  2,  2,  2,  2,  2,  2,  2,  2,  2,  2,  2,  2,  2,  2,  2,  2,  2,\n         2,  2,  2,  2,  2,  2,  2,  2,  2,  7,  2,  2,  2,  2,  2,  2,  2,  2,\n         2,  2,  2,  2,  2,  2,  2,  2,  2,  2,  7,  2,  2,  2,  2,  2,  2,  7,\n         2,  2,  2,  2,  2,  2,  2,  2,  2,  2,  2,  2,  7,  2,  2,  2,  2,  2,\n         2,  2,  2,  2,  2,  7, 13,  2,  2,  2,  1,  2,  2,  2,  2,  2,  2,  2,\n         2,  2,  2,  2,  1,  2,  2,  2,  8,  7,  2,  2,  2,  2,  2,  2,  2,  2,\n         2,  2,  2,  2,  2,  2,  2,  2,  2,  2,  2,  2,  1,  2,  2,  2,  2,  2,\n         2,  7], device='cuda:0')\n"
    }
   ],
   "source": [
    "# Get the last elments\n",
    "print(batch_text[batch_tags_lens-1, torch.arange(BATCH_SIZE)])\n",
    "print(batch_tags[batch_tags_lens-1, torch.arange(BATCH_SIZE)])"
   ]
  },
  {
   "cell_type": "markdown",
   "metadata": {},
   "source": [
    "## Building the Model\n",
    "\n",
    "A Seq2Seq model  \n",
    "* The elements in two sequences are not matched one by one  \n",
    "* The two sequences may have different lengths  \n",
    "\n",
    "A PoS-tagger  \n",
    "* The elements in two sequences are strictly matched one by one  \n",
    "* The two sequences have definitely the same length  \n",
    "\n",
    "### Conditional Random Field (CRF)"
   ]
  },
  {
   "cell_type": "code",
   "execution_count": 9,
   "metadata": {},
   "outputs": [],
   "source": [
    "class CRF(nn.Module):\n",
    "    def __init__(self, tag_dim: int, pad_idx: int):\n",
    "        super().__init__()\n",
    "        # These special indices all refer to tags, rather than the source sentence\n",
    "        self.pad_idx = pad_idx\n",
    "\n",
    "        # from_sos[j] is the score of transitioning from <sos> to j\n",
    "        self.from_sos = nn.Parameter(torch.randn(tag_dim))\n",
    "        # transitions[i, j] is the score of transitioning from i to j\n",
    "        self.transitions = nn.Parameter(torch.randn(tag_dim, tag_dim))\n",
    "        # to_eos[i] is the score of transitioning from i to <eos>\n",
    "        self.to_eos = nn.Parameter(torch.randn(tag_dim))\n",
    "\n",
    "        # no transitions from/to <pad>\n",
    "        self.transitions.data[pad_idx, :] = -1e4\n",
    "        self.transitions.data[:, pad_idx] = -1e4\n",
    "\n",
    "    def _compute_scores(self, feats: torch.Tensor, seq_lens: torch.Tensor, mask: torch.Tensor, tags: torch.Tensor):\n",
    "        \"\"\"\n",
    "        The result is actually log(scores). \n",
    "        \"\"\"\n",
    "        # feats: (step, batch, tag_dim)\n",
    "        # mask/tags: (step, batch)\n",
    "        # feat_scores: (step, batch) -> (batch)\n",
    "        feat_scores = feats.gather(dim=-1, index=tags.unsqueeze(-1)).squeeze(-1)\n",
    "        feat_scores = feat_scores.masked_fill(mask, 0).sum(dim=0)\n",
    "\n",
    "        # trans_scores: (step-1, batch) -> (batch)\n",
    "        trans_scores = self.transitions[tags[:-1], tags[1:]]\n",
    "        trans_scores = trans_scores.masked_fill(mask[1:], 0).sum(dim=0)\n",
    "        trans_scores += (self.from_sos[tags[0]] + self.to_eos[tags[seq_lens-1, torch.arange(tags.size(1))]])\n",
    "        # scores: (batch)\n",
    "        return feat_scores + trans_scores\n",
    "\n",
    "    def _compute_partitions(self, feats: torch.Tensor, mask: torch.Tensor):\n",
    "        \"\"\"\n",
    "        The result is actually log(partitions)\n",
    "        \"\"\"\n",
    "        # Transition from <sos> -> Emission\n",
    "        # Note: The first element in every sample is assumed to be NOT masked\n",
    "        # alphas: (batch, tag_dim)\n",
    "        alphas = self.from_sos.repeat(feats.size(1), 1) + feats[0]\n",
    "\n",
    "        for t in range(1, feats.size(0)):\n",
    "            # Transition -> Emission\n",
    "            # alphas: (batch, tag_dim) -> (batch, tag_dim, 1)\n",
    "            # feats[t]: (batch, tag_dim) -> (batch, 1, tag_dim)\n",
    "            # next_alphas: (batch, tag_dim)\n",
    "            next_alphas = torch.logsumexp(alphas.unsqueeze(2) + self.transitions + feats[t].unsqueeze(1), dim=1)\n",
    "            # Keep the original alpha-values if masked\n",
    "            # Note: Both the transition and emission at this step rely on mask[t]\n",
    "            alphas = torch.where(mask[t].unsqueeze(-1), alphas, next_alphas)\n",
    "            \n",
    "        # Transition to <eos>\n",
    "        # partitions: (batch)\n",
    "        partitions = torch.logsumexp(alphas + self.to_eos, dim=1)\n",
    "        return partitions\n",
    "\n",
    "    def _viterbi_decode(self, feats: torch.Tensor, mask: torch.Tensor):\n",
    "        # Transition from <sos> -> Emission\n",
    "        # alphas: (batch, tag_dim)\n",
    "        alphas = self.from_sos.repeat(feats.size(1), 1) + feats[0]\n",
    "        # best_paths: (step=1, batch, tag_dim)\n",
    "        best_paths = torch.arange(feats.size(-1), device=feats.device).repeat(feats.size(1), 1).unsqueeze(0)\n",
    "\n",
    "        for t in range(1, feats.size(0)):\n",
    "            # Transition -> Emission\n",
    "            # alphas: (batch, tag_dim) -> (batch, tag_dim, 1)\n",
    "            # feats[t]: (batch, tag_dim) -> (batch, 1, tag_dim)\n",
    "            # next_alphas: (batch, tag_dim)\n",
    "            next_alphas, indices = torch.max(alphas.unsqueeze(2) + self.transitions + feats[t].unsqueeze(1), dim=1)\n",
    "\n",
    "            # Keep the original alpha-values if masked\n",
    "            # Note: Both the transition and emission at this step rely on mask[t]\n",
    "            alphas = torch.where(mask[t].unsqueeze(-1), alphas, next_alphas)\n",
    "\n",
    "            next_best_paths = []\n",
    "            for i in range(feats.size(1)):\n",
    "                if not mask[t, i].item():\n",
    "                    # If NOT masked, select paths according to indices, and this step traverses all tags\n",
    "                    next_best_path = torch.cat([best_paths[:, i, indices[i]], \n",
    "                                                torch.arange(feats.size(-1), device=feats.device).unsqueeze(0)], dim=0)\n",
    "                else:\n",
    "                    # If masked, keep the original paths, and add <pad> at this step\n",
    "                    next_best_path = torch.cat([best_paths[:, i], \n",
    "                                                torch.full((1, feats.size(-1)), fill_value=self.pad_idx, dtype=torch.long, device=feats.device)], dim=0)\n",
    "                # next_best_path: (step, tag_dim) -> (step, 1, tag_dim)\n",
    "                next_best_paths.append(next_best_path.unsqueeze(1))\n",
    "            # best_paths: (step, batch, tag_dim)\n",
    "            best_paths = torch.cat(next_best_paths, dim=1)\n",
    "            \n",
    "        # Transition to <eos>\n",
    "        scores, indices = torch.max(alphas + self.to_eos, dim=1)\n",
    "        # scores: (batch)\n",
    "        # best_paths: (step, batch)\n",
    "        return scores, best_paths[:, torch.arange(feats.size(1)), indices]\n",
    "\n",
    "    def neg_loglikelihood(self, feats: torch.Tensor, seq_lens: torch.Tensor, mask: torch.Tensor, tags: torch.Tensor):\n",
    "        scores = self._compute_scores(feats, seq_lens, mask, tags)\n",
    "        partitions = self._compute_partitions(feats, mask)\n",
    "        return partitions - scores\n",
    "\n",
    "    def forward(self, feats: torch.Tensor, seq_lens: torch.Tensor, mask: torch.Tensor, tags: torch.Tensor):\n",
    "        return self.neg_loglikelihood(feats, seq_lens, mask, tags)"
   ]
  },
  {
   "cell_type": "code",
   "execution_count": 10,
   "metadata": {
    "tags": []
   },
   "outputs": [
    {
     "output_type": "stream",
     "name": "stdout",
     "text": "torch.Size([71, 128])\ntorch.Size([71, 128, 18])\n"
    }
   ],
   "source": [
    "VOC_DIM = len(TEXT.vocab)\n",
    "EMB_DIM = 100\n",
    "HID_DIM = 128\n",
    "TAG_DIM = len(UD_TAGS.vocab)\n",
    "\n",
    "N_LAYERS = 2\n",
    "BIDIRECT = True\n",
    "DROPOUT = 0.25\n",
    "TEXT_PAD_IDX = TEXT.vocab.stoi[TEXT.pad_token]\n",
    "TAG_PAD_IDX = UD_TAGS.vocab.stoi[UD_TAGS.pad_token]\n",
    "\n",
    "\n",
    "emb = nn.Embedding(VOC_DIM, EMB_DIM, padding_idx=TEXT_PAD_IDX).to(device)\n",
    "rnn = nn.LSTM(EMB_DIM, HID_DIM, num_layers=N_LAYERS, bidirectional=BIDIRECT, dropout=DROPOUT).to(device)\n",
    "hid2tag = nn.Linear(HID_DIM*2 if BIDIRECT else HID_DIM, TAG_DIM).to(device)\n",
    "\n",
    "\n",
    "mask = (batch_text == TEXT_PAD_IDX)\n",
    "print(mask.size())\n",
    "embedded = emb(batch_text)\n",
    "# Pack sequence\n",
    "packed_embedded = nn.utils.rnn.pack_padded_sequence(embedded, batch_text_lens, enforce_sorted=False)\n",
    "# hidden: (num_layers*num_directions, batch, hid_dim)\n",
    "packed_outs, (hidden, cell) = rnn(packed_embedded)\n",
    "# Unpack sequence\n",
    "# outs: (step, batch, hid_dim)\n",
    "outs, out_lens = nn.utils.rnn.pad_packed_sequence(packed_outs)\n",
    "\n",
    "# feats: (step, batch, tag_dim)\n",
    "feats = hid2tag(outs)\n",
    "print(feats.size())"
   ]
  },
  {
   "cell_type": "code",
   "execution_count": 11,
   "metadata": {
    "tags": []
   },
   "outputs": [
    {
     "output_type": "stream",
     "name": "stdout",
     "text": "torch.Size([128])\ntorch.Size([128])\ntorch.Size([128])\ntorch.Size([71, 128])\ntorch.Size([128])\n"
    }
   ],
   "source": [
    "crf = CRF(TAG_DIM, TAG_PAD_IDX).to(device)\n",
    "scores = crf._compute_scores(feats, batch_text_lens, mask, batch_tags)\n",
    "print(scores.size())\n",
    "partitions = crf._compute_partitions(feats, mask)\n",
    "print(partitions.size())\n",
    "\n",
    "decoded_scores, best_paths = crf._viterbi_decode(feats, mask)\n",
    "print(decoded_scores.size())\n",
    "print(best_paths.size())\n",
    "\n",
    "losses = crf(feats, batch_text_lens, mask, batch_tags)\n",
    "print(losses.size())"
   ]
  },
  {
   "cell_type": "code",
   "execution_count": 12,
   "metadata": {
    "tags": []
   },
   "outputs": [
    {
     "output_type": "stream",
     "name": "stdout",
     "text": "torch.Size([71, 128, 18])\ntorch.Size([72, 128, 18])\ntensor(True, device='cuda:0')\ntensor(True, device='cuda:0')\ntensor(True, device='cuda:0')\ntensor(True, device='cuda:0')\ntensor(False, device='cuda:0')\ntensor(True, device='cuda:0')\n"
    }
   ],
   "source": [
    "# Check the treatment on padding positions\n",
    "padded_feats = torch.cat([feats, torch.randn(1, BATCH_SIZE, TAG_DIM, device=device)], dim=0)\n",
    "padded_mask = torch.cat([mask, torch.ones(1, BATCH_SIZE, dtype=bool, device=device)], dim=0)\n",
    "padded_tags = torch.cat([batch_tags, torch.full((1, BATCH_SIZE), fill_value=TAG_PAD_IDX, dtype=torch.long, device=device)], dim=0)\n",
    "padded_scores = crf._compute_scores(padded_feats, batch_text_lens, padded_mask, padded_tags)\n",
    "padded_partitions = crf._compute_partitions(padded_feats, padded_mask)\n",
    "padded_decoded_scores, padded_best_paths = crf._viterbi_decode(padded_feats, padded_mask)\n",
    "\n",
    "print(feats.size())\n",
    "print(padded_feats.size())\n",
    "print((padded_scores == scores).all())\n",
    "print((padded_partitions == partitions).all())\n",
    "print((padded_decoded_scores == decoded_scores).all())\n",
    "print((padded_best_paths[:-1] == best_paths).all())\n",
    "\n",
    "print((best_paths[-1] == TAG_PAD_IDX).all())\n",
    "print((padded_best_paths[-1] == TAG_PAD_IDX).all())"
   ]
  },
  {
   "cell_type": "markdown",
   "metadata": {},
   "source": [
    "### BiLSTM-CRF PoS-Tagger"
   ]
  },
  {
   "cell_type": "code",
   "execution_count": 13,
   "metadata": {},
   "outputs": [],
   "source": [
    "class PoSTagger(nn.Module):\n",
    "    def __init__(self, voc_dim, emb_dim, hid_dim, tag_dim, n_layers, bidirect, dropout, text_pad_idx, tag_pad_idx):\n",
    "        super().__init__()\n",
    "        self.emb = nn.Embedding(voc_dim, emb_dim, padding_idx=text_pad_idx)\n",
    "        self.rnn = nn.LSTM(emb_dim, hid_dim, num_layers=n_layers, \n",
    "                           bidirectional=bidirect, dropout=dropout)\n",
    "        self.hid2tag = nn.Linear(hid_dim*2 if bidirect else hid_dim, tag_dim)\n",
    "        self.crf = CRF(tag_dim, tag_pad_idx)\n",
    "        self.dropout = nn.Dropout(dropout)\n",
    "\n",
    "    def _get_rnn_features(self, text: torch.Tensor, seq_lens: torch.Tensor):\n",
    "        # embedded: (step, batch, emb_dim)\n",
    "        embedded = self.dropout(self.emb(text))\n",
    "        # Pack sequence\n",
    "        packed_embedded = nn.utils.rnn.pack_padded_sequence(embedded, seq_lens, enforce_sorted=False)\n",
    "        # hidden: (num_layers*num_directions, batch, hid_dim)\n",
    "        packed_outs, (hidden, cell) = self.rnn(packed_embedded)\n",
    "        # Unpack sequence\n",
    "        # outs: (step, batch, hid_dim)\n",
    "        outs, out_lens = nn.utils.rnn.pad_packed_sequence(packed_outs)\n",
    "\n",
    "        # feats: (step, batch, tag_dim)\n",
    "        feats = self.hid2tag(self.dropout(outs))\n",
    "        return feats\n",
    "\n",
    "    def forward(self, text: torch.Tensor, seq_lens: torch.Tensor, tags: torch.Tensor):\n",
    "        # text/mask: (step, batch)\n",
    "        mask = (text == self.emb.padding_idx)\n",
    "        feats = self._get_rnn_features(text, seq_lens)\n",
    "        \n",
    "        # losses: (batch)\n",
    "        losses = self.crf(feats, seq_lens, mask, tags)\n",
    "        return losses\n",
    "\n",
    "    def decode(self, text: torch.Tensor, seq_lens: torch.Tensor):\n",
    "        # text/mask: (step, batch)\n",
    "        mask = (text == self.emb.padding_idx)\n",
    "        feats = self._get_rnn_features(text, seq_lens)\n",
    "\n",
    "        decoded_scores, best_paths = self.crf._viterbi_decode(feats, mask)\n",
    "        return decoded_scores, best_paths"
   ]
  },
  {
   "cell_type": "code",
   "execution_count": 14,
   "metadata": {
    "tags": []
   },
   "outputs": [
    {
     "output_type": "stream",
     "name": "stdout",
     "text": "torch.Size([128])\n"
    }
   ],
   "source": [
    "tagger = PoSTagger(VOC_DIM, EMB_DIM, HID_DIM, TAG_DIM, N_LAYERS, \n",
    "                   BIDIRECT, DROPOUT, TEXT_PAD_IDX, TAG_PAD_IDX).to(device)\n",
    "losses = tagger(batch_text, batch_text_lens, batch_tags)\n",
    "print(losses.size())"
   ]
  },
  {
   "cell_type": "code",
   "execution_count": 15,
   "metadata": {
    "tags": []
   },
   "outputs": [
    {
     "output_type": "stream",
     "name": "stdout",
     "text": "torch.Size([128])\ntorch.Size([71, 128])\n"
    }
   ],
   "source": [
    "decoded_scores, best_paths = tagger.decode(batch_text, batch_text_lens)\n",
    "print(decoded_scores.size())\n",
    "print(best_paths.size())"
   ]
  },
  {
   "cell_type": "code",
   "execution_count": 16,
   "metadata": {},
   "outputs": [
    {
     "output_type": "execute_result",
     "data": {
      "text/plain": "tensor([0., 0.], device='cuda:0', grad_fn=<SubBackward0>)"
     },
     "metadata": {},
     "execution_count": 16
    }
   ],
   "source": [
    "# Check if data are mixed across different samples in a batch.\n",
    "tagger.eval()\n",
    "max_len_012 = batch_text_lens[0:3].max()\n",
    "losses_012 = tagger(batch_text[:max_len_012, 0:3], batch_text_lens[0:3], batch_tags[:max_len_012, 0:3])\n",
    "max_len_123 = batch_text_lens[1:4].max()\n",
    "losses_123 = tagger(batch_text[:max_len_123, 1:4], batch_text_lens[1:4], batch_tags[:max_len_123, 1:4])\n",
    "\n",
    "losses_012[1:] - losses_123[:2]"
   ]
  },
  {
   "cell_type": "markdown",
   "metadata": {},
   "source": [
    "## Training the Model"
   ]
  },
  {
   "cell_type": "code",
   "execution_count": 16,
   "metadata": {
    "tags": []
   },
   "outputs": [
    {
     "output_type": "stream",
     "name": "stdout",
     "text": "The model has 1,522,370 trainable parameters\n"
    }
   ],
   "source": [
    "def init_weights(m):\n",
    "    for name, param in m.named_parameters():\n",
    "        nn.init.normal_(param.data, mean=0, std=0.1)\n",
    "\n",
    "def count_parameters(model: nn.Module):\n",
    "    return sum(p.numel() for p in model.parameters() if p.requires_grad)\n",
    "\n",
    "\n",
    "tagger = PoSTagger(VOC_DIM, EMB_DIM, HID_DIM, TAG_DIM, N_LAYERS, \n",
    "                   BIDIRECT, DROPOUT, TEXT_PAD_IDX, TAG_PAD_IDX).to(device)\n",
    "\n",
    "tagger.apply(init_weights)\n",
    "print(f'The model has {count_parameters(tagger):,} trainable parameters')"
   ]
  },
  {
   "cell_type": "code",
   "execution_count": 17,
   "metadata": {
    "tags": []
   },
   "outputs": [
    {
     "output_type": "stream",
     "name": "stdout",
     "text": "torch.Size([8866, 100])\ntorch.Size([8866, 100])\ntensor([[ 0.0000,  0.0000,  0.0000,  0.0000,  0.0000,  0.0000,  0.0000,  0.0000],\n        [ 0.0000,  0.0000,  0.0000,  0.0000,  0.0000,  0.0000,  0.0000,  0.0000],\n        [-0.0382, -0.2449,  0.7281, -0.3996,  0.0832,  0.0440, -0.3914,  0.3344],\n        [-0.3398,  0.2094,  0.4635, -0.6479, -0.3838,  0.0380,  0.1713,  0.1598],\n        [-0.1077,  0.1105,  0.5981, -0.5436,  0.6740,  0.1066,  0.0389,  0.3548]],\n       device='cuda:0', grad_fn=<SliceBackward>)\n"
    }
   ],
   "source": [
    "# Initialize Embeddings with Pre-Trained Vectors\n",
    "print(TEXT.vocab.vectors.size())\n",
    "print(tagger.emb.weight.size())\n",
    "\n",
    "tagger.emb.weight.data.copy_(TEXT.vocab.vectors)\n",
    "\n",
    "TEXT_UNK_IDX = TEXT.vocab.stoi[TEXT.unk_token]\n",
    "tagger.emb.weight.data[TEXT_UNK_IDX].zero_()\n",
    "tagger.emb.weight.data[TEXT_PAD_IDX].zero_()\n",
    "\n",
    "print(tagger.emb.weight[:5, :8])"
   ]
  },
  {
   "cell_type": "code",
   "execution_count": 18,
   "metadata": {},
   "outputs": [],
   "source": [
    "optimizer = optim.AdamW(tagger.parameters())"
   ]
  },
  {
   "cell_type": "code",
   "execution_count": 19,
   "metadata": {},
   "outputs": [],
   "source": [
    "def train_epoch(tagger, iterator, optimizer):\n",
    "    tagger.train()\n",
    "    epoch_loss = 0\n",
    "    epoch_acc = 0\n",
    "    for batch in iterator:\n",
    "        # Forward pass & Calculate loss\n",
    "        text, text_lens = batch.text\n",
    "        tags, tags_lens = batch.udtags\n",
    "        losses = tagger(text, text_lens, tags)\n",
    "        loss = losses.mean()\n",
    "\n",
    "        # Backward propagation\n",
    "        optimizer.zero_grad()\n",
    "        loss.backward()\n",
    "        # Update weights\n",
    "        optimizer.step()\n",
    "        # Accumulate loss and acc\n",
    "        epoch_loss += loss.item()\n",
    "\n",
    "        decoded_scores, best_paths = tagger.decode(text, text_lens)\n",
    "        non_padding = (tags != tagger.crf.pad_idx)\n",
    "        epoch_acc += (best_paths == tags)[non_padding].sum().item() / non_padding.sum().item()\n",
    "    return epoch_loss/len(iterator), epoch_acc/len(iterator)\n",
    "\n",
    "def eval_epoch(tagger, iterator):\n",
    "    tagger.eval()\n",
    "    epoch_loss = 0\n",
    "    epoch_acc = 0\n",
    "    with torch.no_grad():\n",
    "        for batch in iterator:\n",
    "            # Forward pass & Calculate loss\n",
    "            text, text_lens = batch.text\n",
    "            tags, tags_lens = batch.udtags\n",
    "            losses = tagger(text, text_lens, tags)\n",
    "            loss = losses.mean()\n",
    "            \n",
    "            # Accumulate loss and acc\n",
    "            epoch_loss += loss.item()\n",
    "\n",
    "            decoded_scores, best_paths = tagger.decode(text, text_lens)\n",
    "            non_padding = (tags != tagger.crf.pad_idx)\n",
    "            epoch_acc += (best_paths == tags)[non_padding].sum().item() / non_padding.sum().item()\n",
    "    return epoch_loss/len(iterator), epoch_acc/len(iterator)"
   ]
  },
  {
   "cell_type": "code",
   "execution_count": 20,
   "metadata": {
    "tags": []
   },
   "outputs": [
    {
     "output_type": "stream",
     "name": "stdout",
     "text": "Epoch: 01 | Epoch Time: 6m 58s\n\tTrain Loss: 21.626 | Train Acc: 59.94%\n\t Val. Loss: 7.016 |  Val. Acc: 81.02%\nEpoch: 02 | Epoch Time: 7m 9s\n\tTrain Loss: 7.661 | Train Acc: 85.35%\n\t Val. Loss: 4.852 |  Val. Acc: 86.72%\nEpoch: 03 | Epoch Time: 6m 56s\n\tTrain Loss: 5.551 | Train Acc: 89.41%\n\t Val. Loss: 4.191 |  Val. Acc: 86.73%\nEpoch: 04 | Epoch Time: 6m 54s\n\tTrain Loss: 4.553 | Train Acc: 91.22%\n\t Val. Loss: 3.834 |  Val. Acc: 87.27%\nEpoch: 05 | Epoch Time: 6m 59s\n\tTrain Loss: 3.953 | Train Acc: 92.42%\n\t Val. Loss: 3.632 |  Val. Acc: 88.01%\nEpoch: 06 | Epoch Time: 6m 57s\n\tTrain Loss: 3.532 | Train Acc: 93.10%\n\t Val. Loss: 3.501 |  Val. Acc: 88.77%\nEpoch: 07 | Epoch Time: 6m 59s\n\tTrain Loss: 3.191 | Train Acc: 93.75%\n\t Val. Loss: 3.326 |  Val. Acc: 88.64%\nEpoch: 08 | Epoch Time: 7m 3s\n\tTrain Loss: 2.972 | Train Acc: 94.19%\n\t Val. Loss: 3.264 |  Val. Acc: 88.92%\nEpoch: 09 | Epoch Time: 6m 49s\n\tTrain Loss: 2.753 | Train Acc: 94.58%\n\t Val. Loss: 3.279 |  Val. Acc: 89.04%\nEpoch: 10 | Epoch Time: 7m 24s\n\tTrain Loss: 2.557 | Train Acc: 94.90%\n\t Val. Loss: 3.126 |  Val. Acc: 89.13%\n"
    }
   ],
   "source": [
    "import time\n",
    "N_EPOCHS = 10\n",
    "best_valid_loss = np.inf\n",
    "\n",
    "for epoch in range(N_EPOCHS):\n",
    "    t0 = time.time()\n",
    "    train_loss, train_acc = train_epoch(tagger, train_iterator, optimizer)\n",
    "    valid_loss, valid_acc = eval_epoch(tagger, valid_iterator)\n",
    "    epoch_secs = time.time() - t0\n",
    "\n",
    "    epoch_mins, epoch_secs = int(epoch_secs // 60), int(epoch_secs % 60)\n",
    "    \n",
    "    if valid_loss < best_valid_loss:\n",
    "        best_valid_loss = valid_loss\n",
    "        torch.save(tagger.state_dict(), 'models/tut2-model.pt')\n",
    "    \n",
    "    print(f'Epoch: {epoch+1:02} | Epoch Time: {epoch_mins}m {epoch_secs}s')\n",
    "    print(f'\\tTrain Loss: {train_loss:.3f} | Train Acc: {train_acc*100:.2f}%')\n",
    "    print(f'\\t Val. Loss: {valid_loss:.3f} |  Val. Acc: {valid_acc*100:.2f}%')"
   ]
  },
  {
   "cell_type": "code",
   "execution_count": 21,
   "metadata": {
    "tags": []
   },
   "outputs": [
    {
     "output_type": "stream",
     "name": "stdout",
     "text": "Val. Loss: 3.126 | Val. Acc: 89.13%\nTest Loss: 3.204 | Test Acc: 89.20%\n"
    }
   ],
   "source": [
    "tagger.load_state_dict(torch.load('models/tut2-model.pt'))\n",
    "\n",
    "valid_loss, valid_acc = eval_epoch(tagger, valid_iterator)\n",
    "test_loss, test_acc = eval_epoch(tagger, test_iterator)\n",
    "\n",
    "print(f'Val. Loss: {valid_loss:.3f} | Val. Acc: {valid_acc*100:.2f}%')\n",
    "print(f'Test Loss: {test_loss:.3f} | Test Acc: {test_acc*100:.2f}%')"
   ]
  },
  {
   "cell_type": "markdown",
   "metadata": {},
   "source": [
    "## Check Embeddings\n",
    "* The Embeddings of `<unk>` and `<pad>` tokens\n",
    "    * Because the `padding_idx` has been passed to `nn.Embedding`, so the `<pad>` embedding will remain zeros throughout training.  \n",
    "    * While the `<unk>` embedding will be learned."
   ]
  },
  {
   "cell_type": "code",
   "execution_count": 22,
   "metadata": {
    "tags": []
   },
   "outputs": [
    {
     "output_type": "stream",
     "name": "stdout",
     "text": "tensor([[-0.1400,  0.1221, -0.0143,  0.0239,  0.0237,  0.1102,  0.1046,  0.1522],\n        [ 0.0000,  0.0000,  0.0000,  0.0000,  0.0000,  0.0000,  0.0000,  0.0000],\n        [-0.2850, -0.3341,  0.7358, -0.4719, -0.0563,  0.0646, -0.4973,  0.3815],\n        [-0.5033,  0.3224,  0.6275, -0.7844, -0.4480, -0.0719,  0.3924,  0.2554],\n        [-0.2419,  0.2174,  0.7135, -0.6660,  0.4973,  0.0330,  0.2495,  0.4371]],\n       device='cuda:0', grad_fn=<SliceBackward>)\n"
    }
   ],
   "source": [
    "print(tagger.emb.weight[:5, :8])"
   ]
  },
  {
   "cell_type": "code",
   "execution_count": null,
   "metadata": {},
   "outputs": [],
   "source": []
  }
 ],
 "metadata": {
  "language_info": {
   "codemirror_mode": {
    "name": "ipython",
    "version": 3
   },
   "file_extension": ".py",
   "mimetype": "text/x-python",
   "name": "python",
   "nbconvert_exporter": "python",
   "pygments_lexer": "ipython3",
   "version": "3.6.5-final"
  },
  "orig_nbformat": 2,
  "kernelspec": {
   "name": "python3",
   "display_name": "Python 3"
  }
 },
 "nbformat": 4,
 "nbformat_minor": 2
}