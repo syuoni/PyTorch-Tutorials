{
 "cells": [
  {
   "cell_type": "markdown",
   "metadata": {},
   "source": [
    "# BiLSTM for PoS Tagging\n",
    "\n",
    "A multi-layer bi-directional LSTM for Part-of-Speech (PoS) Tagging.  "
   ]
  },
  {
   "cell_type": "code",
   "execution_count": 1,
   "metadata": {},
   "outputs": [],
   "source": [
    "import random\n",
    "import numpy as np\n",
    "import torch\n",
    "import torch.nn as nn\n",
    "import torch.nn.functional as F\n",
    "import torch.optim as optim\n",
    "\n",
    "SEED = 515\n",
    "random.seed(SEED)\n",
    "np.random.seed(SEED)\n",
    "torch.manual_seed(SEED)\n",
    "torch.backends.cudnn.deterministic = True"
   ]
  },
  {
   "cell_type": "markdown",
   "metadata": {},
   "source": [
    "## Preparing Data\n",
    "\n",
    "The dataset is Universal Dependencies English Web Treebank (UDPOS).  \n",
    "This dataset actually has two different sets of tags, [universal dependency (UD) tags](https://universaldependencies.org/u/pos/) and [Penn Treebank (PTB) tags](https://www.sketchengine.eu/penn-treebank-tagset/).  "
   ]
  },
  {
   "cell_type": "code",
   "execution_count": 2,
   "metadata": {},
   "outputs": [],
   "source": [
    "from torchtext.data import Field, BucketIterator\n",
    "\n",
    "TEXT = Field(lower=True, include_lengths=True)\n",
    "# Because the set of possible tags is finite, do NOT use unknown token for it. \n",
    "UD_TAGS = Field(unk_token=None, include_lengths=True)\n",
    "PTB_TAGS = Field(unk_token=None, include_lengths=True)"
   ]
  },
  {
   "cell_type": "code",
   "execution_count": 3,
   "metadata": {},
   "outputs": [],
   "source": [
    "from torchtext.datasets import UDPOS\n",
    "\n",
    "fields = [('text', TEXT), ('udtags', UD_TAGS), ('ptbtags', PTB_TAGS)]\n",
    "train_data, valid_data, test_data = UDPOS.splits(fields=fields, root='data/')"
   ]
  },
  {
   "cell_type": "code",
   "execution_count": 4,
   "metadata": {
    "tags": []
   },
   "outputs": [
    {
     "output_type": "stream",
     "name": "stdout",
     "text": "['al', '-', 'zaman', ':', 'american', 'forces', 'killed', 'shaikh', 'abdullah', 'al', '-', 'ani', ',', 'the', 'preacher', 'at', 'the', 'mosque', 'in', 'the', 'town', 'of', 'qaim', ',', 'near', 'the', 'syrian', 'border', '.']\n['PROPN', 'PUNCT', 'PROPN', 'PUNCT', 'ADJ', 'NOUN', 'VERB', 'PROPN', 'PROPN', 'PROPN', 'PUNCT', 'PROPN', 'PUNCT', 'DET', 'NOUN', 'ADP', 'DET', 'NOUN', 'ADP', 'DET', 'NOUN', 'ADP', 'PROPN', 'PUNCT', 'ADP', 'DET', 'ADJ', 'NOUN', 'PUNCT']\n['NNP', 'HYPH', 'NNP', ':', 'JJ', 'NNS', 'VBD', 'NNP', 'NNP', 'NNP', 'HYPH', 'NNP', ',', 'DT', 'NN', 'IN', 'DT', 'NN', 'IN', 'DT', 'NN', 'IN', 'NNP', ',', 'IN', 'DT', 'JJ', 'NN', '.']\n"
    }
   ],
   "source": [
    "print(train_data[0].text)\n",
    "print(train_data[0].udtags)\n",
    "print(train_data[0].ptbtags)"
   ]
  },
  {
   "cell_type": "code",
   "execution_count": 5,
   "metadata": {},
   "outputs": [
    {
     "output_type": "execute_result",
     "data": {
      "text/plain": "(8866, 18, 51)"
     },
     "metadata": {},
     "execution_count": 5
    }
   ],
   "source": [
    "TEXT.build_vocab(train_data, min_freq=2, \n",
    "                 vectors=\"glove.6B.100d\", vectors_cache=\"vector_cache\", \n",
    "                 unk_init=torch.Tensor.normal_)\n",
    "\n",
    "UD_TAGS.build_vocab(train_data)\n",
    "PTB_TAGS.build_vocab(train_data)\n",
    "\n",
    "len(TEXT.vocab), len(UD_TAGS.vocab), len(PTB_TAGS.vocab)"
   ]
  },
  {
   "cell_type": "code",
   "execution_count": 6,
   "metadata": {},
   "outputs": [],
   "source": [
    "BATCH_SIZE = 128\n",
    "\n",
    "device = torch.device('cuda' if torch.cuda.is_available() else 'cpu')\n",
    "\n",
    "train_iterator, valid_iterator, test_iterator = BucketIterator.splits(\n",
    "    (train_data, valid_data, test_data), \n",
    "    batch_size=BATCH_SIZE, device=device)"
   ]
  },
  {
   "cell_type": "code",
   "execution_count": 7,
   "metadata": {
    "tags": []
   },
   "outputs": [
    {
     "output_type": "stream",
     "name": "stdout",
     "text": "tensor([[  27,   56,  116,  ...,  127,    9, 3715],\n        [  12,  244,    4,  ...,    4,   76,    1],\n        [  73,   13,    1,  ...,    1, 1904,    1],\n        ...,\n        [   1,    1,    1,  ...,    1,    1,    1],\n        [   1,    1,    1,  ...,    1,    1,    1],\n        [   1,    1,    1,  ...,    1,    1,    1]], device='cuda:0')\ntensor([19, 16,  2, 20, 44, 11, 29, 13, 10, 38, 22, 71, 17,  7, 15, 12,  7, 10,\n        12, 29, 20,  5, 42, 20, 25, 11, 11,  4, 22, 16, 31, 28,  2, 24, 60, 18,\n         4,  7,  4, 17, 26, 38, 34,  5,  2,  6,  1,  4, 23, 24, 33,  9, 16,  1,\n        20, 27, 26, 23, 20, 13, 14, 20, 29, 14,  7, 13,  6, 23, 15, 11, 14, 27,\n        31, 18,  2, 38, 52,  2,  2,  5,  7, 22,  7, 12, 16, 12,  5, 42, 18, 19,\n        15,  8, 11, 13,  3, 33,  7,  4,  7,  1, 25, 48, 20, 11,  2, 26, 22, 19,\n        21,  4, 12,  9, 33, 16, 15, 25, 10, 36,  3,  9,  5, 20, 17, 14,  4,  2,\n        19,  1], device='cuda:0')\ntensor([[14, 13,  8,  ...,  1,  4,  7],\n        [ 4,  1,  2,  ...,  2, 10,  0],\n        [ 3,  4,  0,  ...,  0,  3,  0],\n        ...,\n        [ 0,  0,  0,  ...,  0,  0,  0],\n        [ 0,  0,  0,  ...,  0,  0,  0],\n        [ 0,  0,  0,  ...,  0,  0,  0]], device='cuda:0')\ntensor([19, 16,  2, 20, 44, 11, 29, 13, 10, 38, 22, 71, 17,  7, 15, 12,  7, 10,\n        12, 29, 20,  5, 42, 20, 25, 11, 11,  4, 22, 16, 31, 28,  2, 24, 60, 18,\n         4,  7,  4, 17, 26, 38, 34,  5,  2,  6,  1,  4, 23, 24, 33,  9, 16,  1,\n        20, 27, 26, 23, 20, 13, 14, 20, 29, 14,  7, 13,  6, 23, 15, 11, 14, 27,\n        31, 18,  2, 38, 52,  2,  2,  5,  7, 22,  7, 12, 16, 12,  5, 42, 18, 19,\n        15,  8, 11, 13,  3, 33,  7,  4,  7,  1, 25, 48, 20, 11,  2, 26, 22, 19,\n        21,  4, 12,  9, 33, 16, 15, 25, 10, 36,  3,  9,  5, 20, 17, 14,  4,  2,\n        19,  1], device='cuda:0')\n"
    }
   ],
   "source": [
    "for batch in train_iterator:\n",
    "    batch_text, batch_text_lens = batch.text\n",
    "    batch_tags, batch_tags_lens = batch.udtags\n",
    "    break\n",
    "\n",
    "print(batch_text)\n",
    "print(batch_text_lens)\n",
    "print(batch_tags)\n",
    "print(batch_tags_lens)"
   ]
  },
  {
   "cell_type": "markdown",
   "metadata": {},
   "source": [
    "## Building the Model\n",
    "\n",
    "A Seq2Seq model  \n",
    "* The elements in two sequences are not matched one by one  \n",
    "* The two sequences may have different lengths  \n",
    "\n",
    "A PoS-tagger  \n",
    "* The elements in two sequences are strictly matched one by one  \n",
    "* The two sequences have definitely the same length  \n",
    "\n",
    "![BiLSTM for PoS Tagging](fig/BiLSTM-for-PoS-Tagging.png)"
   ]
  },
  {
   "cell_type": "code",
   "execution_count": 8,
   "metadata": {},
   "outputs": [],
   "source": [
    "class PoSTagger(nn.Module):\n",
    "    def __init__(self, voc_dim, emb_dim, hid_dim, tag_dim, n_layers, bidirect, dropout, pad_idx):\n",
    "        super().__init__()\n",
    "        self.emb = nn.Embedding(voc_dim, emb_dim, padding_idx=pad_idx)\n",
    "        self.rnn = nn.LSTM(emb_dim, hid_dim, num_layers=n_layers, \n",
    "                           bidirectional=bidirect, dropout=dropout)\n",
    "        self.fc = nn.Linear(hid_dim*2 if bidirect else hid_dim, tag_dim)\n",
    "        self.dropout = nn.Dropout(dropout)\n",
    "\n",
    "    def forward(self, text, text_lens):\n",
    "        # text: (step, batch)\n",
    "        embedded = self.dropout(self.emb(text))\n",
    "        # Pack sequence\n",
    "        packed_embedded = nn.utils.rnn.pack_padded_sequence(embedded, text_lens, enforce_sorted=False)\n",
    "        # hidden: (num_layers*num_directions, batch, hid_dim)\n",
    "        packed_outs, (hidden, cell) = self.rnn(packed_embedded)\n",
    "        # Unpack sequence\n",
    "        # outs: (step, batch, hid_dim)\n",
    "        outs, out_lens = nn.utils.rnn.pad_packed_sequence(packed_outs)\n",
    "\n",
    "        # preds: (step, batch, tag_dim)\n",
    "        preds = self.fc(self.dropout(outs))\n",
    "        return preds"
   ]
  },
  {
   "cell_type": "code",
   "execution_count": 9,
   "metadata": {
    "tags": []
   },
   "outputs": [
    {
     "output_type": "stream",
     "name": "stdout",
     "text": "torch.Size([71, 128])\ntorch.Size([71, 128, 18])\n"
    }
   ],
   "source": [
    "VOC_DIM = len(TEXT.vocab)\n",
    "EMB_DIM = 100\n",
    "HID_DIM = 128\n",
    "TAG_DIM = len(UD_TAGS.vocab)\n",
    "\n",
    "N_LAYERS = 2\n",
    "BIDIRECT = True\n",
    "DROPOUT = 0.25\n",
    "TEXT_PAD_IDX = TEXT.vocab.stoi[TEXT.pad_token]\n",
    "TAG_PAD_IDX = UD_TAGS.vocab.stoi[UD_TAGS.pad_token]\n",
    "\n",
    "\n",
    "tagger = PoSTagger(VOC_DIM, EMB_DIM, HID_DIM, TAG_DIM, \n",
    "                   N_LAYERS, BIDIRECT, DROPOUT, TEXT_PAD_IDX).to(device)\n",
    "preds = tagger(batch_text, batch_text_lens)\n",
    "\n",
    "print(batch_text.size())\n",
    "print(preds.size())"
   ]
  },
  {
   "cell_type": "code",
   "execution_count": 10,
   "metadata": {},
   "outputs": [
    {
     "output_type": "execute_result",
     "data": {
      "text/plain": "tensor([[-0.0345, -0.0701,  0.0183,  ..., -0.0255,  0.0777,  0.0155],\n        [-0.0354, -0.0426, -0.0365,  ...,  0.0001,  0.0534,  0.0074],\n        [-0.0354, -0.0426, -0.0365,  ...,  0.0001,  0.0534,  0.0074],\n        ...,\n        [-0.0354, -0.0426, -0.0365,  ...,  0.0001,  0.0534,  0.0074],\n        [-0.0354, -0.0426, -0.0365,  ...,  0.0001,  0.0534,  0.0074],\n        [-0.0354, -0.0426, -0.0365,  ...,  0.0001,  0.0534,  0.0074]],\n       device='cuda:0', grad_fn=<SelectBackward>)"
     },
     "metadata": {},
     "execution_count": 10
    }
   ],
   "source": [
    "# The padding positions have idential values \n",
    "preds[:, batch_text_lens.argmin()]"
   ]
  },
  {
   "cell_type": "code",
   "execution_count": 11,
   "metadata": {},
   "outputs": [
    {
     "output_type": "execute_result",
     "data": {
      "text/plain": "tensor(1.4901e-08, device='cuda:0', grad_fn=<MaxBackward1>)"
     },
     "metadata": {},
     "execution_count": 11
    }
   ],
   "source": [
    "# Check if data are mixed across different samples in a batch.\n",
    "tagger.eval()\n",
    "preds_012 = tagger(batch_text[:, 0:3], batch_text_lens[0:3])\n",
    "preds_123 = tagger(batch_text[:, 1:4], batch_text_lens[1:4])\n",
    "\n",
    "step = min(preds_012.size(0), preds_123.size(0))\n",
    "(preds_012[:step, 1:] - preds_123[:step, :2]).abs().max()"
   ]
  },
  {
   "cell_type": "markdown",
   "metadata": {},
   "source": [
    "## Training the Model"
   ]
  },
  {
   "cell_type": "code",
   "execution_count": 12,
   "metadata": {
    "tags": []
   },
   "outputs": [
    {
     "output_type": "stream",
     "name": "stdout",
     "text": "The model has 1,522,010 trainable parameters\n"
    }
   ],
   "source": [
    "def init_weights(m):\n",
    "    for name, param in m.named_parameters():\n",
    "        nn.init.normal_(param.data, mean=0, std=0.1)\n",
    "\n",
    "def count_parameters(model: nn.Module):\n",
    "    return sum(p.numel() for p in model.parameters() if p.requires_grad)\n",
    "\n",
    "\n",
    "tagger = PoSTagger(VOC_DIM, EMB_DIM, HID_DIM, TAG_DIM, \n",
    "                   N_LAYERS, BIDIRECT, DROPOUT, TEXT_PAD_IDX).to(device)\n",
    "\n",
    "tagger.apply(init_weights)\n",
    "print(f'The model has {count_parameters(tagger):,} trainable parameters')"
   ]
  },
  {
   "cell_type": "code",
   "execution_count": 13,
   "metadata": {
    "tags": []
   },
   "outputs": [
    {
     "output_type": "stream",
     "name": "stdout",
     "text": "torch.Size([8866, 100])\ntorch.Size([8866, 100])\ntensor([[ 0.0000,  0.0000,  0.0000,  0.0000,  0.0000,  0.0000,  0.0000,  0.0000],\n        [ 0.0000,  0.0000,  0.0000,  0.0000,  0.0000,  0.0000,  0.0000,  0.0000],\n        [-0.0382, -0.2449,  0.7281, -0.3996,  0.0832,  0.0440, -0.3914,  0.3344],\n        [-0.3398,  0.2094,  0.4635, -0.6479, -0.3838,  0.0380,  0.1713,  0.1598],\n        [-0.1077,  0.1105,  0.5981, -0.5436,  0.6740,  0.1066,  0.0389,  0.3548]],\n       device='cuda:0', grad_fn=<SliceBackward>)\n"
    }
   ],
   "source": [
    "# Initialize Embeddings with Pre-Trained Vectors\n",
    "print(TEXT.vocab.vectors.size())\n",
    "print(tagger.emb.weight.size())\n",
    "\n",
    "tagger.emb.weight.data.copy_(TEXT.vocab.vectors)\n",
    "\n",
    "TEXT_UNK_IDX = TEXT.vocab.stoi[TEXT.unk_token]\n",
    "tagger.emb.weight.data[TEXT_UNK_IDX].zero_()\n",
    "tagger.emb.weight.data[TEXT_PAD_IDX].zero_()\n",
    "\n",
    "print(tagger.emb.weight[:5, :8])"
   ]
  },
  {
   "cell_type": "code",
   "execution_count": 14,
   "metadata": {},
   "outputs": [],
   "source": [
    "loss_func = nn.CrossEntropyLoss(ignore_index=TAG_PAD_IDX, reduction='mean')\n",
    "optimizer = optim.AdamW(tagger.parameters())"
   ]
  },
  {
   "cell_type": "code",
   "execution_count": 15,
   "metadata": {},
   "outputs": [],
   "source": [
    "def train_epoch(tagger, iterator, optimizer, loss_func):\n",
    "    tagger.train()\n",
    "    epoch_loss = 0\n",
    "    epoch_acc = 0\n",
    "    for batch in iterator:\n",
    "        # Forward pass\n",
    "        text, text_lens = batch.text\n",
    "        tags, tags_lens = batch.udtags\n",
    "        preds = tagger(text, text_lens)\n",
    "\n",
    "        # Calculate loss\n",
    "        preds_flattened = preds.view(-1, preds.size(-1))\n",
    "        tags_flattened = tags.flatten()\n",
    "        loss = loss_func(preds_flattened, tags_flattened)\n",
    "\n",
    "        # Backward propagation\n",
    "        optimizer.zero_grad()\n",
    "        loss.backward()\n",
    "        # Update weights\n",
    "        optimizer.step()\n",
    "        # Accumulate loss and acc\n",
    "        epoch_loss += loss.item()\n",
    "        non_padding = (tags_flattened != loss_func.ignore_index)\n",
    "        epoch_acc += (preds_flattened.argmax(dim=-1) == tags_flattened)[non_padding].sum().item() / non_padding.sum().item()\n",
    "    return epoch_loss/len(iterator), epoch_acc/len(iterator)\n",
    "\n",
    "def eval_epoch(tagger, iterator, loss_func):\n",
    "    tagger.eval()\n",
    "    epoch_loss = 0\n",
    "    epoch_acc = 0\n",
    "    with torch.no_grad():\n",
    "        for batch in iterator:\n",
    "            # Forward pass\n",
    "            text, text_lens = batch.text\n",
    "            tags, tags_lens = batch.udtags\n",
    "            preds = tagger(text, text_lens)\n",
    "\n",
    "            # Calculate loss\n",
    "            preds_flattened = preds.view(-1, preds.size(-1))\n",
    "            tags_flattened = tags.flatten()\n",
    "            loss = loss_func(preds_flattened, tags_flattened)\n",
    "            \n",
    "            # Accumulate loss and acc\n",
    "            epoch_loss += loss.item()\n",
    "            non_padding = (tags_flattened != loss_func.ignore_index)\n",
    "            epoch_acc += (preds_flattened.argmax(dim=-1) == tags_flattened)[non_padding].sum().item() / non_padding.sum().item()\n",
    "    return epoch_loss/len(iterator), epoch_acc/len(iterator)"
   ]
  },
  {
   "cell_type": "code",
   "execution_count": 16,
   "metadata": {
    "tags": []
   },
   "outputs": [
    {
     "output_type": "stream",
     "name": "stdout",
     "text": "Epoch: 01 | Epoch Time: 0m 6s\n\tTrain Loss: 1.307 | Train Acc: 59.53%\n\t Val. Loss: 0.643 |  Val. Acc: 81.14%\nEpoch: 02 | Epoch Time: 0m 7s\n\tTrain Loss: 0.466 | Train Acc: 85.49%\n\t Val. Loss: 0.470 |  Val. Acc: 85.72%\nEpoch: 03 | Epoch Time: 0m 6s\n\tTrain Loss: 0.340 | Train Acc: 89.29%\n\t Val. Loss: 0.422 |  Val. Acc: 85.75%\nEpoch: 04 | Epoch Time: 0m 6s\n\tTrain Loss: 0.282 | Train Acc: 91.09%\n\t Val. Loss: 0.391 |  Val. Acc: 86.64%\nEpoch: 05 | Epoch Time: 0m 6s\n\tTrain Loss: 0.245 | Train Acc: 92.22%\n\t Val. Loss: 0.372 |  Val. Acc: 88.05%\nEpoch: 06 | Epoch Time: 0m 6s\n\tTrain Loss: 0.218 | Train Acc: 93.07%\n\t Val. Loss: 0.356 |  Val. Acc: 88.34%\nEpoch: 07 | Epoch Time: 0m 6s\n\tTrain Loss: 0.199 | Train Acc: 93.63%\n\t Val. Loss: 0.343 |  Val. Acc: 88.46%\nEpoch: 08 | Epoch Time: 0m 6s\n\tTrain Loss: 0.186 | Train Acc: 94.04%\n\t Val. Loss: 0.335 |  Val. Acc: 88.76%\nEpoch: 09 | Epoch Time: 0m 6s\n\tTrain Loss: 0.172 | Train Acc: 94.51%\n\t Val. Loss: 0.336 |  Val. Acc: 88.78%\nEpoch: 10 | Epoch Time: 0m 6s\n\tTrain Loss: 0.160 | Train Acc: 94.86%\n\t Val. Loss: 0.327 |  Val. Acc: 88.78%\n"
    }
   ],
   "source": [
    "import time\n",
    "N_EPOCHS = 10\n",
    "best_valid_loss = np.inf\n",
    "\n",
    "for epoch in range(N_EPOCHS):\n",
    "    t0 = time.time()\n",
    "    train_loss, train_acc = train_epoch(tagger, train_iterator, optimizer, loss_func)\n",
    "    valid_loss, valid_acc = eval_epoch(tagger, valid_iterator, loss_func)\n",
    "    epoch_secs = time.time() - t0\n",
    "\n",
    "    epoch_mins, epoch_secs = int(epoch_secs // 60), int(epoch_secs % 60)\n",
    "    \n",
    "    if valid_loss < best_valid_loss:\n",
    "        best_valid_loss = valid_loss\n",
    "        torch.save(tagger.state_dict(), 'models/tut1-model.pt')\n",
    "    \n",
    "    print(f'Epoch: {epoch+1:02} | Epoch Time: {epoch_mins}m {epoch_secs}s')\n",
    "    print(f'\\tTrain Loss: {train_loss:.3f} | Train Acc: {train_acc*100:.2f}%')\n",
    "    print(f'\\t Val. Loss: {valid_loss:.3f} |  Val. Acc: {valid_acc*100:.2f}%')"
   ]
  },
  {
   "cell_type": "code",
   "execution_count": 17,
   "metadata": {
    "tags": []
   },
   "outputs": [
    {
     "output_type": "stream",
     "name": "stdout",
     "text": "Val. Loss: 0.327 | Val. Acc: 88.78%\nTest Loss: 0.324 | Test Acc: 89.20%\n"
    }
   ],
   "source": [
    "tagger.load_state_dict(torch.load('models/tut1-model.pt'))\n",
    "\n",
    "valid_loss, valid_acc = eval_epoch(tagger, valid_iterator, loss_func)\n",
    "test_loss, test_acc = eval_epoch(tagger, test_iterator, loss_func)\n",
    "\n",
    "print(f'Val. Loss: {valid_loss:.3f} | Val. Acc: {valid_acc*100:.2f}%')\n",
    "print(f'Test Loss: {test_loss:.3f} | Test Acc: {test_acc*100:.2f}%')"
   ]
  },
  {
   "cell_type": "markdown",
   "metadata": {},
   "source": [
    "## Check Embeddings\n",
    "* The Embeddings of `<unk>` and `<pad>` tokens\n",
    "    * Because the `padding_idx` has been passed to `nn.Embedding`, so the `<pad>` embedding will remain zeros throughout training.  \n",
    "    * While the `<unk>` embedding will be learned."
   ]
  },
  {
   "cell_type": "code",
   "execution_count": 18,
   "metadata": {
    "tags": []
   },
   "outputs": [
    {
     "output_type": "stream",
     "name": "stdout",
     "text": "tensor([[-1.0665e-01,  1.3830e-01,  3.2588e-02,  2.8069e-02,  1.8685e-02,\n          1.3227e-01,  1.1601e-01,  8.0786e-02],\n        [ 0.0000e+00,  0.0000e+00,  0.0000e+00,  0.0000e+00,  0.0000e+00,\n          0.0000e+00,  0.0000e+00,  0.0000e+00],\n        [-2.5757e-01, -1.8532e-01,  7.9732e-01, -5.6174e-01,  3.3207e-02,\n          1.6820e-01, -5.3720e-01,  5.0092e-01],\n        [-5.1804e-01,  9.9945e-02,  6.1691e-01, -7.6312e-01, -2.8021e-01,\n          2.5440e-02,  3.5878e-01,  8.2394e-02],\n        [-2.7172e-01, -2.2799e-04,  7.4437e-01, -6.6373e-01,  5.3565e-01,\n          1.2817e-01,  2.2783e-01,  1.8637e-01]], device='cuda:0',\n       grad_fn=<SliceBackward>)\n"
    }
   ],
   "source": [
    "print(tagger.emb.weight[:5, :8])"
   ]
  },
  {
   "cell_type": "markdown",
   "metadata": {},
   "source": [
    "## Inference"
   ]
  },
  {
   "cell_type": "code",
   "execution_count": 19,
   "metadata": {},
   "outputs": [],
   "source": [
    "import spacy\n",
    "nlp = spacy.load('en')\n",
    "\n",
    "def tag_pos(tagger, sentence):\n",
    "    tagger.eval()\n",
    "    if isinstance(sentence, str):\n",
    "        tokenized = [tok.text for tok in nlp.tokenizer(sentence)]\n",
    "    else:\n",
    "        tokenized = sentence\n",
    "    indexed = [TEXT.vocab.stoi[tok] for tok in tokenized]\n",
    "    lens = len(indexed)\n",
    "\n",
    "    indexed = torch.tensor(indexed, dtype=torch.long).unsqueeze(1).to(device)\n",
    "    lens = torch.tensor(lens, dtype=torch.long).unsqueeze(0).to(device)\n",
    "    pred = tagger(indexed, lens).squeeze(1).argmax(dim=-1)\n",
    "    return [UD_TAGS.vocab.itos[i.item()] for i in pred]"
   ]
  },
  {
   "cell_type": "code",
   "execution_count": 20,
   "metadata": {
    "tags": []
   },
   "outputs": [
    {
     "output_type": "stream",
     "name": "stdout",
     "text": "PROPN\tPROPN\t✔\tal\nPUNCT\tPUNCT\t✔\t-\nPROPN\tPROPN\t✔\tzaman\nPUNCT\tPUNCT\t✔\t:\nADJ\tADJ\t✔\tamerican\nNOUN\tNOUN\t✔\tforces\nVERB\tVERB\t✔\tkilled\nPROPN\tPROPN\t✔\tshaikh\nPROPN\tPROPN\t✔\tabdullah\nPROPN\tPROPN\t✔\tal\nPUNCT\tPUNCT\t✔\t-\nPROPN\tPROPN\t✔\tani\nPUNCT\tPUNCT\t✔\t,\nDET\tDET\t✔\tthe\nNOUN\tNOUN\t✔\tpreacher\nADP\tADP\t✔\tat\nDET\tDET\t✔\tthe\nNOUN\tNOUN\t✔\tmosque\nADP\tADP\t✔\tin\nDET\tDET\t✔\tthe\nNOUN\tNOUN\t✔\ttown\nADP\tADP\t✔\tof\nPROPN\tPROPN\t✔\tqaim\nPUNCT\tPUNCT\t✔\t,\nADP\tADP\t✔\tnear\nDET\tDET\t✔\tthe\nADJ\tADJ\t✔\tsyrian\nNOUN\tNOUN\t✔\tborder\nPUNCT\tPUNCT\t✔\t.\n"
    }
   ],
   "source": [
    "ex_idx = 0\n",
    "tokens = train_data[ex_idx].text\n",
    "real_tags = train_data[ex_idx].udtags\n",
    "pred_tags = tag_pos(tagger, tokens)\n",
    "\n",
    "for tok, rtag, ptag in zip(tokens, real_tags, pred_tags):\n",
    "    correct = '✔' if ptag == rtag else '✘'\n",
    "    print(f\"{ptag}\\t{rtag}\\t{correct}\\t{tok}\")"
   ]
  },
  {
   "cell_type": "code",
   "execution_count": 21,
   "metadata": {
    "tags": []
   },
   "outputs": [
    {
     "output_type": "stream",
     "name": "stdout",
     "text": "PUNCT\tPUNCT\t✔\t[\nDET\tDET\t✔\tthis\nNOUN\tNOUN\t✔\tkilling\nADP\tADP\t✔\tof\nDET\tDET\t✔\ta\nADJ\tADJ\t✔\trespected\nNOUN\tNOUN\t✔\tcleric\nAUX\tAUX\t✔\twill\nAUX\tAUX\t✔\tbe\nVERB\tVERB\t✔\tcausing\nPRON\tPRON\t✔\tus\nNOUN\tNOUN\t✔\ttrouble\nADP\tADP\t✔\tfor\nNOUN\tNOUN\t✔\tyears\nPART\tPART\t✔\tto\nVERB\tVERB\t✔\tcome\nPUNCT\tPUNCT\t✔\t.\nPUNCT\tPUNCT\t✔\t]\n"
    }
   ],
   "source": [
    "ex_idx = 1\n",
    "tokens = train_data[ex_idx].text\n",
    "real_tags = train_data[ex_idx].udtags\n",
    "pred_tags = tag_pos(tagger, tokens)\n",
    "\n",
    "for tok, rtag, ptag in zip(tokens, real_tags, pred_tags):\n",
    "    correct = '✔' if ptag == rtag else '✘'\n",
    "    print(f\"{ptag}\\t{rtag}\\t{correct}\\t{tok}\")"
   ]
  },
  {
   "cell_type": "code",
   "execution_count": null,
   "metadata": {},
   "outputs": [],
   "source": []
  }
 ],
 "metadata": {
  "language_info": {
   "codemirror_mode": {
    "name": "ipython",
    "version": 3
   },
   "file_extension": ".py",
   "mimetype": "text/x-python",
   "name": "python",
   "nbconvert_exporter": "python",
   "pygments_lexer": "ipython3",
   "version": "3.6.5-final"
  },
  "orig_nbformat": 2,
  "kernelspec": {
   "name": "python3",
   "display_name": "Python 3"
  }
 },
 "nbformat": 4,
 "nbformat_minor": 2
}