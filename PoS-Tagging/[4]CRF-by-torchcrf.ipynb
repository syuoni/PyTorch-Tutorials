{
 "cells": [
  {
   "cell_type": "markdown",
   "metadata": {},
   "source": [
    "# BiLSTM-CRF for PoS Tagging\n",
    "\n",
    "Implementing CRF by [pytorch-crf](https://pytorch-crf.readthedocs.io/en/stable/). Install the package:  \n",
    "```Python\n",
    "$ pip install pytorch-crf\n",
    "``` "
   ]
  },
  {
   "cell_type": "code",
   "execution_count": 1,
   "metadata": {},
   "outputs": [],
   "source": [
    "import random\n",
    "import numpy as np\n",
    "import torch\n",
    "import torch.nn as nn\n",
    "import torch.nn.functional as F\n",
    "import torch.optim as optim\n",
    "\n",
    "SEED = 515\n",
    "random.seed(SEED)\n",
    "np.random.seed(SEED)\n",
    "torch.manual_seed(SEED)\n",
    "torch.backends.cudnn.deterministic = True"
   ]
  },
  {
   "cell_type": "markdown",
   "metadata": {},
   "source": [
    "## Preparing Data\n",
    "\n",
    "The dataset is Universal Dependencies English Web Treebank (UDPOS).  \n",
    "This dataset actually has two different sets of tags, [universal dependency (UD) tags](https://universaldependencies.org/u/pos/) and [Penn Treebank (PTB) tags](https://www.sketchengine.eu/penn-treebank-tagset/).  "
   ]
  },
  {
   "cell_type": "code",
   "execution_count": 2,
   "metadata": {},
   "outputs": [],
   "source": [
    "from torchtext.data import Field, BucketIterator\n",
    "\n",
    "TEXT = Field(lower=True, include_lengths=True)\n",
    "# Because the set of possible tags is finite, do NOT use unknown token for it. \n",
    "UD_TAGS = Field(unk_token=None, include_lengths=True)\n",
    "PTB_TAGS = Field(unk_token=None, include_lengths=True)"
   ]
  },
  {
   "cell_type": "code",
   "execution_count": 3,
   "metadata": {},
   "outputs": [],
   "source": [
    "from torchtext.datasets import UDPOS\n",
    "\n",
    "fields = [('text', TEXT), ('udtags', UD_TAGS), ('ptbtags', PTB_TAGS)]\n",
    "train_data, valid_data, test_data = UDPOS.splits(fields=fields, root='data/')"
   ]
  },
  {
   "cell_type": "code",
   "execution_count": 4,
   "metadata": {
    "tags": []
   },
   "outputs": [
    {
     "output_type": "stream",
     "name": "stdout",
     "text": "['al', '-', 'zaman', ':', 'american', 'forces', 'killed', 'shaikh', 'abdullah', 'al', '-', 'ani', ',', 'the', 'preacher', 'at', 'the', 'mosque', 'in', 'the', 'town', 'of', 'qaim', ',', 'near', 'the', 'syrian', 'border', '.']\n['PROPN', 'PUNCT', 'PROPN', 'PUNCT', 'ADJ', 'NOUN', 'VERB', 'PROPN', 'PROPN', 'PROPN', 'PUNCT', 'PROPN', 'PUNCT', 'DET', 'NOUN', 'ADP', 'DET', 'NOUN', 'ADP', 'DET', 'NOUN', 'ADP', 'PROPN', 'PUNCT', 'ADP', 'DET', 'ADJ', 'NOUN', 'PUNCT']\n['NNP', 'HYPH', 'NNP', ':', 'JJ', 'NNS', 'VBD', 'NNP', 'NNP', 'NNP', 'HYPH', 'NNP', ',', 'DT', 'NN', 'IN', 'DT', 'NN', 'IN', 'DT', 'NN', 'IN', 'NNP', ',', 'IN', 'DT', 'JJ', 'NN', '.']\n"
    }
   ],
   "source": [
    "print(train_data[0].text)\n",
    "print(train_data[0].udtags)\n",
    "print(train_data[0].ptbtags)"
   ]
  },
  {
   "cell_type": "code",
   "execution_count": 5,
   "metadata": {
    "tags": []
   },
   "outputs": [
    {
     "output_type": "stream",
     "name": "stdout",
     "text": "8866 18 51\n['<pad>', 'NOUN', 'PUNCT', 'VERB', 'PRON', 'ADP', 'DET', 'PROPN', 'ADJ', 'AUX', 'ADV', 'CCONJ', 'PART', 'NUM', 'SCONJ', 'X', 'INTJ', 'SYM']\n"
    }
   ],
   "source": [
    "TEXT.build_vocab(train_data, min_freq=2, \n",
    "                 vectors=\"glove.6B.100d\", vectors_cache=\"vector_cache\", \n",
    "                 unk_init=torch.Tensor.normal_)\n",
    "\n",
    "UD_TAGS.build_vocab(train_data)\n",
    "PTB_TAGS.build_vocab(train_data)\n",
    "\n",
    "print(len(TEXT.vocab), len(UD_TAGS.vocab), len(PTB_TAGS.vocab))\n",
    "print(UD_TAGS.vocab.itos)"
   ]
  },
  {
   "cell_type": "code",
   "execution_count": 6,
   "metadata": {},
   "outputs": [],
   "source": [
    "BATCH_SIZE = 128\n",
    "\n",
    "device = torch.device('cuda:3' if torch.cuda.is_available() else 'cpu')\n",
    "\n",
    "train_iterator, valid_iterator, test_iterator = BucketIterator.splits(\n",
    "    (train_data, valid_data, test_data), \n",
    "    batch_size=BATCH_SIZE, device=device)"
   ]
  },
  {
   "cell_type": "code",
   "execution_count": 7,
   "metadata": {
    "tags": []
   },
   "outputs": [
    {
     "output_type": "stream",
     "name": "stdout",
     "text": "tensor([[  27,   56,  116,  ...,  127,    9, 3715],\n        [  12,  244,    4,  ...,    4,   76,    1],\n        [  73,   13,    1,  ...,    1, 1904,    1],\n        ...,\n        [   1,    1,    1,  ...,    1,    1,    1],\n        [   1,    1,    1,  ...,    1,    1,    1],\n        [   1,    1,    1,  ...,    1,    1,    1]], device='cuda:3')\ntensor([19, 16,  2, 20, 44, 11, 29, 13, 10, 38, 22, 71, 17,  7, 15, 12,  7, 10,\n        12, 29, 20,  5, 42, 20, 25, 11, 11,  4, 22, 16, 31, 28,  2, 24, 60, 18,\n         4,  7,  4, 17, 26, 38, 34,  5,  2,  6,  1,  4, 23, 24, 33,  9, 16,  1,\n        20, 27, 26, 23, 20, 13, 14, 20, 29, 14,  7, 13,  6, 23, 15, 11, 14, 27,\n        31, 18,  2, 38, 52,  2,  2,  5,  7, 22,  7, 12, 16, 12,  5, 42, 18, 19,\n        15,  8, 11, 13,  3, 33,  7,  4,  7,  1, 25, 48, 20, 11,  2, 26, 22, 19,\n        21,  4, 12,  9, 33, 16, 15, 25, 10, 36,  3,  9,  5, 20, 17, 14,  4,  2,\n        19,  1], device='cuda:3')\ntensor([[14, 13,  8,  ...,  1,  4,  7],\n        [ 4,  1,  2,  ...,  2, 10,  0],\n        [ 3,  4,  0,  ...,  0,  3,  0],\n        ...,\n        [ 0,  0,  0,  ...,  0,  0,  0],\n        [ 0,  0,  0,  ...,  0,  0,  0],\n        [ 0,  0,  0,  ...,  0,  0,  0]], device='cuda:3')\ntensor([19, 16,  2, 20, 44, 11, 29, 13, 10, 38, 22, 71, 17,  7, 15, 12,  7, 10,\n        12, 29, 20,  5, 42, 20, 25, 11, 11,  4, 22, 16, 31, 28,  2, 24, 60, 18,\n         4,  7,  4, 17, 26, 38, 34,  5,  2,  6,  1,  4, 23, 24, 33,  9, 16,  1,\n        20, 27, 26, 23, 20, 13, 14, 20, 29, 14,  7, 13,  6, 23, 15, 11, 14, 27,\n        31, 18,  2, 38, 52,  2,  2,  5,  7, 22,  7, 12, 16, 12,  5, 42, 18, 19,\n        15,  8, 11, 13,  3, 33,  7,  4,  7,  1, 25, 48, 20, 11,  2, 26, 22, 19,\n        21,  4, 12,  9, 33, 16, 15, 25, 10, 36,  3,  9,  5, 20, 17, 14,  4,  2,\n        19,  1], device='cuda:3')\n"
    }
   ],
   "source": [
    "for batch in train_iterator:\n",
    "    batch_text, batch_text_lens = batch.text\n",
    "    batch_tags, batch_tags_lens = batch.udtags\n",
    "    break\n",
    "\n",
    "print(batch_text)\n",
    "print(batch_text_lens)\n",
    "print(batch_tags)\n",
    "print(batch_tags_lens)"
   ]
  },
  {
   "cell_type": "markdown",
   "metadata": {},
   "source": [
    "## Building the Model\n",
    "\n",
    "A Seq2Seq model  \n",
    "* The elements in two sequences are not matched one by one  \n",
    "* The two sequences may have different lengths  \n",
    "\n",
    "A PoS-tagger  \n",
    "* The elements in two sequences are strictly matched one by one  \n",
    "* The two sequences have definitely the same length  \n",
    "\n",
    "### Conditional Random Field (CRF)"
   ]
  },
  {
   "cell_type": "code",
   "execution_count": 8,
   "metadata": {
    "tags": []
   },
   "outputs": [
    {
     "output_type": "stream",
     "name": "stdout",
     "text": "torch.Size([71, 128])\ntorch.Size([71, 128, 18])\n"
    }
   ],
   "source": [
    "VOC_DIM = len(TEXT.vocab)\n",
    "EMB_DIM = 100\n",
    "HID_DIM = 128\n",
    "TAG_DIM = len(UD_TAGS.vocab)\n",
    "\n",
    "N_LAYERS = 2\n",
    "BIDIRECT = True\n",
    "DROPOUT = 0.25\n",
    "TEXT_PAD_IDX = TEXT.vocab.stoi[TEXT.pad_token]\n",
    "TAG_PAD_IDX = UD_TAGS.vocab.stoi[UD_TAGS.pad_token]\n",
    "\n",
    "\n",
    "emb = nn.Embedding(VOC_DIM, EMB_DIM, padding_idx=TEXT_PAD_IDX).to(device)\n",
    "rnn = nn.LSTM(EMB_DIM, HID_DIM, num_layers=N_LAYERS, bidirectional=BIDIRECT, dropout=DROPOUT).to(device)\n",
    "hid2tag = nn.Linear(HID_DIM*2 if BIDIRECT else HID_DIM, TAG_DIM).to(device)\n",
    "\n",
    "\n",
    "mask = (batch_text == TEXT_PAD_IDX)\n",
    "print(mask.size())\n",
    "embedded = emb(batch_text)\n",
    "# Pack sequence\n",
    "packed_embedded = nn.utils.rnn.pack_padded_sequence(embedded, batch_text_lens, enforce_sorted=False)\n",
    "# hidden: (num_layers*num_directions, batch, hid_dim)\n",
    "packed_outs, (hidden, cell) = rnn(packed_embedded)\n",
    "# Unpack sequence\n",
    "# outs: (step, batch, hid_dim)\n",
    "outs, out_lens = nn.utils.rnn.pad_packed_sequence(packed_outs)\n",
    "\n",
    "# feats: (step, batch, tag_dim)\n",
    "feats = hid2tag(outs)\n",
    "print(feats.size())"
   ]
  },
  {
   "cell_type": "code",
   "execution_count": 9,
   "metadata": {
    "tags": []
   },
   "outputs": [
    {
     "output_type": "stream",
     "name": "stdout",
     "text": "torch.Size([128])\n"
    }
   ],
   "source": [
    "from torchcrf import CRF\n",
    "crf = CRF(TAG_DIM).to(device)\n",
    "\n",
    "# The mask and losses accord to https://pytorch-crf.readthedocs.io/en/stable/\n",
    "losses = -crf(feats, batch_tags, mask=(~mask).type(torch.uint8), reduction='none')\n",
    "print(losses.size())"
   ]
  },
  {
   "cell_type": "code",
   "execution_count": 10,
   "metadata": {
    "tags": []
   },
   "outputs": [
    {
     "output_type": "execute_result",
     "data": {
      "text/plain": "tensor([True, True, True, True, True, True, True, True, True, True, True, True,\n        True, True, True, True, True, True, True, True, True, True, True, True,\n        True, True, True, True, True, True, True, True, True, True, True, True,\n        True, True, True, True, True, True, True, True, True, True, True, True,\n        True, True, True, True, True, True, True, True, True, True, True, True,\n        True, True, True, True, True, True, True, True, True, True, True, True,\n        True, True, True, True, True, True, True, True, True, True, True, True,\n        True, True, True, True, True, True, True, True, True, True, True, True,\n        True, True, True, True, True, True, True, True, True, True, True, True,\n        True, True, True, True, True, True, True, True, True, True, True, True,\n        True, True, True, True, True, True, True, True], device='cuda:3')"
     },
     "metadata": {},
     "execution_count": 10
    }
   ],
   "source": [
    "best_paths = crf.decode(feats, mask=(~mask).type(torch.uint8))\n",
    "\n",
    "torch.tensor([len(path) for path in best_paths], device=device) == batch_text_lens"
   ]
  },
  {
   "cell_type": "markdown",
   "metadata": {},
   "source": [
    "### BiLSTM-CRF PoS-Tagger"
   ]
  },
  {
   "cell_type": "code",
   "execution_count": 11,
   "metadata": {},
   "outputs": [],
   "source": [
    "class PoSTagger(nn.Module):\n",
    "    def __init__(self, voc_dim, emb_dim, hid_dim, tag_dim, n_layers, bidirect, dropout, text_pad_idx):\n",
    "        super().__init__()\n",
    "        self.emb = nn.Embedding(voc_dim, emb_dim, padding_idx=text_pad_idx)\n",
    "        self.rnn = nn.LSTM(emb_dim, hid_dim, num_layers=n_layers, \n",
    "                           bidirectional=bidirect, dropout=dropout)\n",
    "        self.hid2tag = nn.Linear(hid_dim*2 if bidirect else hid_dim, tag_dim)\n",
    "        self.crf = CRF(tag_dim)\n",
    "        self.dropout = nn.Dropout(dropout)\n",
    "\n",
    "    def _get_rnn_features(self, text: torch.Tensor, seq_lens: torch.Tensor):\n",
    "        # embedded: (step, batch, emb_dim)\n",
    "        embedded = self.dropout(self.emb(text))\n",
    "        # Pack sequence\n",
    "        packed_embedded = nn.utils.rnn.pack_padded_sequence(embedded, seq_lens, enforce_sorted=False)\n",
    "        # hidden: (num_layers*num_directions, batch, hid_dim)\n",
    "        packed_outs, (hidden, cell) = self.rnn(packed_embedded)\n",
    "        # Unpack sequence\n",
    "        # outs: (step, batch, hid_dim)\n",
    "        outs, out_lens = nn.utils.rnn.pad_packed_sequence(packed_outs)\n",
    "\n",
    "        # feats: (step, batch, tag_dim)\n",
    "        feats = self.hid2tag(self.dropout(outs))\n",
    "        return feats\n",
    "\n",
    "    def forward(self, text: torch.Tensor, seq_lens: torch.Tensor, tags: torch.Tensor):\n",
    "        # text/mask: (step, batch)\n",
    "        mask = (text == self.emb.padding_idx)\n",
    "        feats = self._get_rnn_features(text, seq_lens)\n",
    "        \n",
    "        # losses: (batch)\n",
    "        losses = -self.crf(feats, tags, mask=(~mask).type(torch.uint8), reduction='none')\n",
    "        return losses\n",
    "\n",
    "    def decode(self, text: torch.Tensor, seq_lens: torch.Tensor):\n",
    "        # text/mask: (step, batch)\n",
    "        mask = (text == self.emb.padding_idx)\n",
    "        feats = self._get_rnn_features(text, seq_lens)\n",
    "\n",
    "        best_paths = self.crf.decode(feats, mask=(~mask).type(torch.uint8))\n",
    "        return best_paths"
   ]
  },
  {
   "cell_type": "code",
   "execution_count": 12,
   "metadata": {
    "tags": []
   },
   "outputs": [
    {
     "output_type": "stream",
     "name": "stdout",
     "text": "torch.Size([128])\n"
    }
   ],
   "source": [
    "tagger = PoSTagger(VOC_DIM, EMB_DIM, HID_DIM, TAG_DIM, N_LAYERS, \n",
    "                   BIDIRECT, DROPOUT, TEXT_PAD_IDX).to(device)\n",
    "losses = tagger(batch_text, batch_text_lens, batch_tags)\n",
    "print(losses.size())"
   ]
  },
  {
   "cell_type": "code",
   "execution_count": 13,
   "metadata": {},
   "outputs": [
    {
     "output_type": "execute_result",
     "data": {
      "text/plain": "tensor([True, True, True, True, True, True, True, True, True, True, True, True,\n        True, True, True, True, True, True, True, True, True, True, True, True,\n        True, True, True, True, True, True, True, True, True, True, True, True,\n        True, True, True, True, True, True, True, True, True, True, True, True,\n        True, True, True, True, True, True, True, True, True, True, True, True,\n        True, True, True, True, True, True, True, True, True, True, True, True,\n        True, True, True, True, True, True, True, True, True, True, True, True,\n        True, True, True, True, True, True, True, True, True, True, True, True,\n        True, True, True, True, True, True, True, True, True, True, True, True,\n        True, True, True, True, True, True, True, True, True, True, True, True,\n        True, True, True, True, True, True, True, True], device='cuda:3')"
     },
     "metadata": {},
     "execution_count": 13
    }
   ],
   "source": [
    "best_paths = tagger.decode(batch_text, batch_text_lens)\n",
    "\n",
    "torch.tensor([len(path) for path in best_paths], device=device) == batch_text_lens"
   ]
  },
  {
   "cell_type": "code",
   "execution_count": 14,
   "metadata": {},
   "outputs": [
    {
     "output_type": "execute_result",
     "data": {
      "text/plain": "torch.Size([71, 128])"
     },
     "metadata": {},
     "execution_count": 14
    }
   ],
   "source": [
    "best_paths = torch.tensor([path + [TAG_PAD_IDX]*(batch_tags.size(0)-len(path)) for path in best_paths], device=device).T\n",
    "best_paths.size()"
   ]
  },
  {
   "cell_type": "code",
   "execution_count": 15,
   "metadata": {},
   "outputs": [
    {
     "output_type": "execute_result",
     "data": {
      "text/plain": "tensor([0., 0.], device='cuda:3', grad_fn=<SubBackward0>)"
     },
     "metadata": {},
     "execution_count": 15
    }
   ],
   "source": [
    "# Check if data are mixed across different samples in a batch.\n",
    "tagger.eval()\n",
    "max_len_012 = batch_text_lens[0:3].max()\n",
    "losses_012 = tagger(batch_text[:max_len_012, 0:3], batch_text_lens[0:3], batch_tags[:max_len_012, 0:3])\n",
    "max_len_123 = batch_text_lens[1:4].max()\n",
    "losses_123 = tagger(batch_text[:max_len_123, 1:4], batch_text_lens[1:4], batch_tags[:max_len_123, 1:4])\n",
    "\n",
    "losses_012[1:] - losses_123[:2]"
   ]
  },
  {
   "cell_type": "markdown",
   "metadata": {},
   "source": [
    "## Training the Model"
   ]
  },
  {
   "cell_type": "code",
   "execution_count": 16,
   "metadata": {
    "tags": []
   },
   "outputs": [
    {
     "output_type": "stream",
     "name": "stdout",
     "text": "The model has 1,522,370 trainable parameters\n"
    }
   ],
   "source": [
    "def init_weights(m):\n",
    "    for name, param in m.named_parameters():\n",
    "        # NOTE: The CRF parameters have already been initialized. \n",
    "        if not name.startswith('crf'):\n",
    "            nn.init.normal_(param.data, mean=0, std=0.1)\n",
    "\n",
    "def count_parameters(model: nn.Module):\n",
    "    return sum(p.numel() for p in model.parameters() if p.requires_grad)\n",
    "\n",
    "\n",
    "tagger = PoSTagger(VOC_DIM, EMB_DIM, HID_DIM, TAG_DIM, N_LAYERS, \n",
    "                   BIDIRECT, DROPOUT, TEXT_PAD_IDX).to(device)\n",
    "\n",
    "tagger.apply(init_weights)\n",
    "print(f'The model has {count_parameters(tagger):,} trainable parameters')"
   ]
  },
  {
   "cell_type": "code",
   "execution_count": 17,
   "metadata": {
    "tags": []
   },
   "outputs": [
    {
     "output_type": "stream",
     "name": "stdout",
     "text": "torch.Size([8866, 100])\ntorch.Size([8866, 100])\ntensor([[ 0.0000,  0.0000,  0.0000,  0.0000,  0.0000,  0.0000,  0.0000,  0.0000],\n        [ 0.0000,  0.0000,  0.0000,  0.0000,  0.0000,  0.0000,  0.0000,  0.0000],\n        [-0.0382, -0.2449,  0.7281, -0.3996,  0.0832,  0.0440, -0.3914,  0.3344],\n        [-0.3398,  0.2094,  0.4635, -0.6479, -0.3838,  0.0380,  0.1713,  0.1598],\n        [-0.1077,  0.1105,  0.5981, -0.5436,  0.6740,  0.1066,  0.0389,  0.3548]],\n       device='cuda:3', grad_fn=<SliceBackward>)\n"
    }
   ],
   "source": [
    "# Initialize Embeddings with Pre-Trained Vectors\n",
    "print(TEXT.vocab.vectors.size())\n",
    "print(tagger.emb.weight.size())\n",
    "\n",
    "tagger.emb.weight.data.copy_(TEXT.vocab.vectors)\n",
    "\n",
    "TEXT_UNK_IDX = TEXT.vocab.stoi[TEXT.unk_token]\n",
    "tagger.emb.weight.data[TEXT_UNK_IDX].zero_()\n",
    "tagger.emb.weight.data[TEXT_PAD_IDX].zero_()\n",
    "\n",
    "print(tagger.emb.weight[:5, :8])"
   ]
  },
  {
   "cell_type": "code",
   "execution_count": 18,
   "metadata": {},
   "outputs": [],
   "source": [
    "optimizer = optim.AdamW(tagger.parameters())"
   ]
  },
  {
   "cell_type": "code",
   "execution_count": 19,
   "metadata": {},
   "outputs": [],
   "source": [
    "def train_epoch(tagger, iterator, optimizer):\n",
    "    tagger.train()\n",
    "    epoch_loss = 0\n",
    "    epoch_acc = 0\n",
    "    for batch in iterator:\n",
    "        # Forward pass & Calculate loss\n",
    "        text, text_lens = batch.text\n",
    "        tags, tags_lens = batch.udtags\n",
    "        losses = tagger(text, text_lens, tags)\n",
    "        loss = losses.mean()\n",
    "\n",
    "        # Backward propagation\n",
    "        optimizer.zero_grad()\n",
    "        loss.backward()\n",
    "        # Update weights\n",
    "        optimizer.step()\n",
    "        # Accumulate loss and acc\n",
    "        epoch_loss += loss.item()\n",
    "\n",
    "        best_paths = tagger.decode(text, text_lens)\n",
    "        best_paths = torch.tensor([path + [TAG_PAD_IDX]*(tags.size(0)-len(path)) for path in best_paths], device=device).T\n",
    "        non_padding = (tags != TAG_PAD_IDX)\n",
    "        epoch_acc += (best_paths == tags)[non_padding].sum().item() / non_padding.sum().item()\n",
    "    return epoch_loss/len(iterator), epoch_acc/len(iterator)\n",
    "\n",
    "def eval_epoch(tagger, iterator):\n",
    "    tagger.eval()\n",
    "    epoch_loss = 0\n",
    "    epoch_acc = 0\n",
    "    with torch.no_grad():\n",
    "        for batch in iterator:\n",
    "            # Forward pass & Calculate loss\n",
    "            text, text_lens = batch.text\n",
    "            tags, tags_lens = batch.udtags\n",
    "            losses = tagger(text, text_lens, tags)\n",
    "            loss = losses.mean()\n",
    "            \n",
    "            # Accumulate loss and acc\n",
    "            epoch_loss += loss.item()\n",
    "\n",
    "            best_paths = tagger.decode(text, text_lens)\n",
    "            best_paths = torch.tensor([path + [TAG_PAD_IDX]*(tags.size(0)-len(path)) for path in best_paths], device=device).T\n",
    "            non_padding = (tags != TAG_PAD_IDX)\n",
    "            epoch_acc += (best_paths == tags)[non_padding].sum().item() / non_padding.sum().item()\n",
    "    return epoch_loss/len(iterator), epoch_acc/len(iterator)"
   ]
  },
  {
   "cell_type": "code",
   "execution_count": 20,
   "metadata": {
    "tags": []
   },
   "outputs": [
    {
     "output_type": "stream",
     "name": "stdout",
     "text": "Epoch: 01 | Epoch Time: 0m 30s\n\tTrain Loss: 21.066 | Train Acc: 61.07%\n\t Val. Loss: 6.924 |  Val. Acc: 81.24%\nEpoch: 02 | Epoch Time: 0m 30s\n\tTrain Loss: 7.608 | Train Acc: 85.64%\n\t Val. Loss: 4.829 |  Val. Acc: 85.19%\nEpoch: 03 | Epoch Time: 0m 29s\n\tTrain Loss: 5.519 | Train Acc: 89.43%\n\t Val. Loss: 4.235 |  Val. Acc: 86.47%\nEpoch: 04 | Epoch Time: 0m 30s\n\tTrain Loss: 4.522 | Train Acc: 91.25%\n\t Val. Loss: 3.815 |  Val. Acc: 87.46%\nEpoch: 05 | Epoch Time: 0m 31s\n\tTrain Loss: 3.948 | Train Acc: 92.25%\n\t Val. Loss: 3.659 |  Val. Acc: 88.04%\nEpoch: 06 | Epoch Time: 0m 29s\n\tTrain Loss: 3.508 | Train Acc: 93.13%\n\t Val. Loss: 3.483 |  Val. Acc: 88.44%\nEpoch: 07 | Epoch Time: 0m 31s\n\tTrain Loss: 3.200 | Train Acc: 93.67%\n\t Val. Loss: 3.346 |  Val. Acc: 88.53%\nEpoch: 08 | Epoch Time: 0m 30s\n\tTrain Loss: 2.973 | Train Acc: 94.22%\n\t Val. Loss: 3.256 |  Val. Acc: 88.89%\nEpoch: 09 | Epoch Time: 0m 29s\n\tTrain Loss: 2.730 | Train Acc: 94.59%\n\t Val. Loss: 3.314 |  Val. Acc: 88.86%\nEpoch: 10 | Epoch Time: 0m 29s\n\tTrain Loss: 2.565 | Train Acc: 94.87%\n\t Val. Loss: 3.176 |  Val. Acc: 89.17%\n"
    }
   ],
   "source": [
    "import time\n",
    "N_EPOCHS = 10\n",
    "best_valid_loss = np.inf\n",
    "\n",
    "for epoch in range(N_EPOCHS):\n",
    "    t0 = time.time()\n",
    "    train_loss, train_acc = train_epoch(tagger, train_iterator, optimizer)\n",
    "    valid_loss, valid_acc = eval_epoch(tagger, valid_iterator)\n",
    "    epoch_secs = time.time() - t0\n",
    "\n",
    "    epoch_mins, epoch_secs = int(epoch_secs // 60), int(epoch_secs % 60)\n",
    "    \n",
    "    if valid_loss < best_valid_loss:\n",
    "        best_valid_loss = valid_loss\n",
    "        torch.save(tagger.state_dict(), 'models/tut4-model.pt')\n",
    "    \n",
    "    print(f'Epoch: {epoch+1:02} | Epoch Time: {epoch_mins}m {epoch_secs}s')\n",
    "    print(f'\\tTrain Loss: {train_loss:.3f} | Train Acc: {train_acc*100:.2f}%')\n",
    "    print(f'\\t Val. Loss: {valid_loss:.3f} |  Val. Acc: {valid_acc*100:.2f}%')"
   ]
  },
  {
   "cell_type": "code",
   "execution_count": 21,
   "metadata": {
    "tags": []
   },
   "outputs": [
    {
     "output_type": "stream",
     "name": "stdout",
     "text": "Val. Loss: 3.176 | Val. Acc: 89.17%\nTest Loss: 3.305 | Test Acc: 89.02%\n"
    }
   ],
   "source": [
    "tagger.load_state_dict(torch.load('models/tut4-model.pt'))\n",
    "\n",
    "valid_loss, valid_acc = eval_epoch(tagger, valid_iterator)\n",
    "test_loss, test_acc = eval_epoch(tagger, test_iterator)\n",
    "\n",
    "print(f'Val. Loss: {valid_loss:.3f} | Val. Acc: {valid_acc*100:.2f}%')\n",
    "print(f'Test Loss: {test_loss:.3f} | Test Acc: {test_acc*100:.2f}%')"
   ]
  },
  {
   "cell_type": "markdown",
   "metadata": {},
   "source": [
    "## Check Embeddings\n",
    "* The Embeddings of `<unk>` and `<pad>` tokens\n",
    "    * Because the `padding_idx` has been passed to `nn.Embedding`, so the `<pad>` embedding will remain zeros throughout training.  \n",
    "    * While the `<unk>` embedding will be learned."
   ]
  },
  {
   "cell_type": "code",
   "execution_count": 22,
   "metadata": {
    "tags": []
   },
   "outputs": [
    {
     "output_type": "stream",
     "name": "stdout",
     "text": "tensor([[-0.1086,  0.1216,  0.0154,  0.0478,  0.0463,  0.1025,  0.1454,  0.1421],\n        [ 0.0000,  0.0000,  0.0000,  0.0000,  0.0000,  0.0000,  0.0000,  0.0000],\n        [-0.2705, -0.3767,  0.7898, -0.4855,  0.1201,  0.2157, -0.5363,  0.5170],\n        [-0.5208,  0.2889,  0.5888, -0.7453, -0.4674, -0.0257,  0.3090,  0.2438],\n        [-0.2714,  0.1839,  0.7546, -0.6773,  0.4255, -0.0097,  0.2300,  0.4293]],\n       device='cuda:3', grad_fn=<SliceBackward>)\n"
    }
   ],
   "source": [
    "print(tagger.emb.weight[:5, :8])"
   ]
  },
  {
   "cell_type": "code",
   "execution_count": null,
   "metadata": {},
   "outputs": [],
   "source": []
  }
 ],
 "metadata": {
  "language_info": {
   "codemirror_mode": {
    "name": "ipython",
    "version": 3
   },
   "file_extension": ".py",
   "mimetype": "text/x-python",
   "name": "python",
   "nbconvert_exporter": "python",
   "pygments_lexer": "ipython3",
   "version": "3.7.6-final"
  },
  "orig_nbformat": 2,
  "kernelspec": {
   "name": "python3",
   "display_name": "Python 3"
  }
 },
 "nbformat": 4,
 "nbformat_minor": 2
}