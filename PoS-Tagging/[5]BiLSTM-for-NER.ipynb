{
 "cells": [
  {
   "cell_type": "code",
   "execution_count": 1,
   "metadata": {},
   "outputs": [],
   "source": [
    "import random\n",
    "import numpy as np\n",
    "import torch\n",
    "import torch.nn as nn\n",
    "import torch.nn.functional as F\n",
    "import torch.optim as optim\n",
    "\n",
    "SEED = 515\n",
    "random.seed(SEED)\n",
    "np.random.seed(SEED)\n",
    "torch.manual_seed(SEED)\n",
    "torch.backends.cudnn.deterministic = True"
   ]
  },
  {
   "cell_type": "markdown",
   "metadata": {},
   "source": [
    "## Preparing Data"
   ]
  },
  {
   "cell_type": "code",
   "execution_count": 2,
   "metadata": {},
   "outputs": [],
   "source": [
    "from torchtext.data import Field, BucketIterator\n",
    "\n",
    "# Refs: https://github.com/pytorch/text/blob/master/test/sequence_tagging.py\n",
    "INPUTS = Field(lower=True, include_lengths=True)\n",
    "CHUNK_TAGS = Field(unk_token=None, include_lengths=True)"
   ]
  },
  {
   "cell_type": "code",
   "execution_count": 3,
   "metadata": {
    "tags": []
   },
   "outputs": [],
   "source": [
    "from torchtext.datasets import CoNLL2000Chunking\n",
    "\n",
    "fields = [('inputs', INPUTS), (None, None), ('tags', CHUNK_TAGS)]\n",
    "train_data, valid_data, test_data = CoNLL2000Chunking.splits(fields=fields, root='data/')"
   ]
  },
  {
   "cell_type": "code",
   "execution_count": 4,
   "metadata": {
    "tags": []
   },
   "outputs": [
    {
     "output_type": "stream",
     "name": "stdout",
     "text": "['construction', 'of', 'apartments', 'and', 'other', 'multi-family', 'dwellings', 'slipped', '2.2', '%', 'to', 'an', 'annual', 'rate', 'of', '1,022,000', 'following', 'a', '3.5', '%', 'decline', 'in', 'august', '.']\n['B-NP', 'B-PP', 'B-NP', 'O', 'B-NP', 'I-NP', 'I-NP', 'B-VP', 'B-NP', 'I-NP', 'B-PP', 'B-NP', 'I-NP', 'I-NP', 'B-PP', 'B-NP', 'B-PP', 'B-NP', 'I-NP', 'I-NP', 'I-NP', 'B-PP', 'B-NP', 'O']\n"
    }
   ],
   "source": [
    "print(train_data[0].inputs)\n",
    "print(train_data[0].tags)"
   ]
  },
  {
   "cell_type": "code",
   "execution_count": 5,
   "metadata": {
    "tags": []
   },
   "outputs": [
    {
     "output_type": "stream",
     "name": "stdout",
     "text": "8389 22\n['<pad>', 'I-NP', 'B-NP', 'O', 'B-VP', 'B-PP', 'I-VP', 'B-ADVP', 'B-SBAR', 'B-ADJP', 'I-ADJP', 'B-PRT', 'I-ADVP', 'I-PP', 'I-CONJP', 'I-SBAR', 'B-CONJP', 'B-INTJ', 'B-LST', 'I-INTJ', 'I-UCP', 'B-UCP']\n"
    }
   ],
   "source": [
    "INPUTS.build_vocab(train_data, min_freq=2, \n",
    "                   vectors=\"glove.6B.100d\", vectors_cache=\"vector_cache\", \n",
    "                   unk_init=torch.Tensor.normal_)\n",
    "\n",
    "CHUNK_TAGS.build_vocab(train_data)\n",
    "\n",
    "print(len(INPUTS.vocab), len(CHUNK_TAGS.vocab))\n",
    "print(CHUNK_TAGS.vocab.itos)"
   ]
  },
  {
   "cell_type": "code",
   "execution_count": 6,
   "metadata": {},
   "outputs": [],
   "source": [
    "BATCH_SIZE = 128\n",
    "\n",
    "device = torch.device('cuda' if torch.cuda.is_available() else 'cpu')\n",
    "\n",
    "train_iterator, valid_iterator, test_iterator = BucketIterator.splits(\n",
    "    (train_data, valid_data, test_data), \n",
    "    batch_size=BATCH_SIZE, device=device)"
   ]
  },
  {
   "cell_type": "code",
   "execution_count": 7,
   "metadata": {
    "tags": []
   },
   "outputs": [
    {
     "output_type": "stream",
     "name": "stdout",
     "text": "tensor([[   0,    3,  166,  ...,    3,    3,    8],\n        [  67,  823,  450,  ..., 3203, 2359,   40],\n        [   1,   17,   29,  ..., 3570,  334,  103],\n        ...,\n        [   1,    1,    1,  ...,    1,    1,    1],\n        [   1,    1,    1,  ...,    1,    1,    1],\n        [   1,    1,    1,  ...,    1,    1,    1]], device='cuda:0')\ntensor([ 2, 37, 24, 28, 28, 43, 36, 34, 20, 22, 34, 23, 32, 27, 42,  8, 28, 23,\n         3, 42, 19, 18, 24, 26, 12, 21, 25, 24, 19, 20, 39,  9, 28, 11,  4, 13,\n        19, 40, 26, 26,  7,  9, 30, 26, 21, 35, 18,  8,  9, 25, 12,  6, 40, 18,\n        29,  6, 19, 24, 44, 28, 42, 29, 56, 13, 11, 12, 48, 13, 15, 28, 21, 15,\n        24,  9,  8, 24, 28, 24, 16, 34, 14, 28, 16,  6, 50, 30, 31, 27, 19, 31,\n        10, 19, 16, 19, 28, 22, 18, 14, 32, 14, 29, 11, 28, 13, 29, 55, 37, 14,\n        30, 27, 31, 39, 18, 26, 12, 24, 15, 23, 19, 21, 20,  2, 41, 40, 42, 20,\n        39, 23], device='cuda:0')\ntensor([[2, 2, 2,  ..., 2, 2, 5],\n        [3, 1, 1,  ..., 1, 1, 2],\n        [0, 4, 4,  ..., 4, 1, 1],\n        ...,\n        [0, 0, 0,  ..., 0, 0, 0],\n        [0, 0, 0,  ..., 0, 0, 0],\n        [0, 0, 0,  ..., 0, 0, 0]], device='cuda:0')\ntensor([ 2, 37, 24, 28, 28, 43, 36, 34, 20, 22, 34, 23, 32, 27, 42,  8, 28, 23,\n         3, 42, 19, 18, 24, 26, 12, 21, 25, 24, 19, 20, 39,  9, 28, 11,  4, 13,\n        19, 40, 26, 26,  7,  9, 30, 26, 21, 35, 18,  8,  9, 25, 12,  6, 40, 18,\n        29,  6, 19, 24, 44, 28, 42, 29, 56, 13, 11, 12, 48, 13, 15, 28, 21, 15,\n        24,  9,  8, 24, 28, 24, 16, 34, 14, 28, 16,  6, 50, 30, 31, 27, 19, 31,\n        10, 19, 16, 19, 28, 22, 18, 14, 32, 14, 29, 11, 28, 13, 29, 55, 37, 14,\n        30, 27, 31, 39, 18, 26, 12, 24, 15, 23, 19, 21, 20,  2, 41, 40, 42, 20,\n        39, 23], device='cuda:0')\ntensor([True, True, True, True, True, True, True, True, True, True, True, True,\n        True, True, True, True, True, True, True, True, True, True, True, True,\n        True, True, True, True, True, True, True, True, True, True, True, True,\n        True, True, True, True, True, True, True, True, True, True, True, True,\n        True, True, True, True, True, True, True, True, True, True, True, True,\n        True, True, True, True, True, True, True, True, True, True, True, True,\n        True, True, True, True, True, True, True, True, True, True, True, True,\n        True, True, True, True, True, True, True, True, True, True, True, True,\n        True, True, True, True, True, True, True, True, True, True, True, True,\n        True, True, True, True, True, True, True, True, True, True, True, True,\n        True, True, True, True, True, True, True, True], device='cuda:0')\n"
    }
   ],
   "source": [
    "for batch in train_iterator:\n",
    "    batch_text, batch_text_lens = batch.inputs\n",
    "    batch_tags, batch_tags_lens = batch.tags\n",
    "    break\n",
    "\n",
    "print(batch_text)\n",
    "print(batch_text_lens)\n",
    "print(batch_tags)\n",
    "print(batch_tags_lens)"
   ]
  },
  {
   "cell_type": "markdown",
   "metadata": {},
   "source": [
    "## Building the Model"
   ]
  },
  {
   "cell_type": "code",
   "execution_count": null,
   "metadata": {},
   "outputs": [],
   "source": []
  }
 ],
 "metadata": {
  "language_info": {
   "codemirror_mode": {
    "name": "ipython",
    "version": 3
   },
   "file_extension": ".py",
   "mimetype": "text/x-python",
   "name": "python",
   "nbconvert_exporter": "python",
   "pygments_lexer": "ipython3",
   "version": "3.6.5-final"
  },
  "orig_nbformat": 2,
  "kernelspec": {
   "name": "python3",
   "display_name": "Python 3"
  }
 },
 "nbformat": 4,
 "nbformat_minor": 2
}